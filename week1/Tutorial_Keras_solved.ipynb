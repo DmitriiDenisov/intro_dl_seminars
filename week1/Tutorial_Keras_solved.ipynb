{
 "cells": [
  {
   "cell_type": "markdown",
   "metadata": {
    "colab_type": "text",
    "id": "mPM-aDw0CvNS"
   },
   "source": [
    "# Keras tutorial"
   ]
  },
  {
   "cell_type": "markdown",
   "metadata": {
    "colab_type": "text",
    "id": "y06rlTsXCvNT"
   },
   "source": [
    "Keras - это высокоуровневый API, написанный на Python и способный работать поверх TensorFlow, CNTK или Theano."
   ]
  },
  {
   "cell_type": "markdown",
   "metadata": {
    "colab_type": "text",
    "id": "KtvVRimpCvNV"
   },
   "source": [
    "__Преимущество:__ Переход от идеи к результату с наименьшими затратами по времени"
   ]
  },
  {
   "cell_type": "markdown",
   "metadata": {
    "colab_type": "text",
    "id": "z2_yWJEXCvNX"
   },
   "source": [
    "Вам скорее всего подойдет Keras, если от библиотеки DL вам нужно:\n",
    "\n",
    "- Легко и быстро создавать прототипы (удобство, модульность и расширяемость)\n",
    "- Поддерживать как сверточные сети, так и рекуррентные сети, а также их комбинации\n",
    "- Работать без проблем на CPU или GPU"
   ]
  },
  {
   "cell_type": "markdown",
   "metadata": {
    "colab_type": "text",
    "id": "tvSmjQwUCvNY"
   },
   "source": [
    "Удобство для пользователя: Keras - это API, разработанный для людей, а не для машин"
   ]
  },
  {
   "cell_type": "markdown",
   "metadata": {
    "colab_type": "text",
    "id": "ETqBLxmTCvNZ"
   },
   "source": [
    "## Запускаем Keras за 30 секунд:"
   ]
  },
  {
   "cell_type": "code",
   "execution_count": 0,
   "metadata": {
    "colab": {},
    "colab_type": "code",
    "id": "DDmTIxTUCvNa"
   },
   "outputs": [],
   "source": [
    "from keras.models import Sequential\n",
    "import keras\n",
    "model = Sequential()"
   ]
  },
  {
   "cell_type": "markdown",
   "metadata": {
    "colab_type": "text",
    "id": "J_ISBCy2CvNh"
   },
   "source": [
    "Стакаем слои через .add():"
   ]
  },
  {
   "cell_type": "code",
   "execution_count": 0,
   "metadata": {
    "colab": {},
    "colab_type": "code",
    "id": "C2po5hzDCvNj"
   },
   "outputs": [],
   "source": [
    "from keras.layers import Dense\n",
    "\n",
    "model.add(Dense(units=64, activation='relu', input_dim=100)) # input_dim=100 <=> input_shape=(100, )\n",
    "model.add(Dense(units=10, activation='softmax'))"
   ]
  },
  {
   "cell_type": "code",
   "execution_count": 0,
   "metadata": {
    "colab": {},
    "colab_type": "code",
    "id": "BW5EP1ESCvNo"
   },
   "outputs": [],
   "source": [
    "model.summary()"
   ]
  },
  {
   "cell_type": "markdown",
   "metadata": {
    "colab_type": "text",
    "id": "efyPLJH4CvNy"
   },
   "source": [
    "Для модели необохимо опредеить оптимизируемый лосс, оптимизатор и собираемые метрики качества"
   ]
  },
  {
   "cell_type": "code",
   "execution_count": 0,
   "metadata": {
    "colab": {},
    "colab_type": "code",
    "id": "b_InokBNCvN2"
   },
   "outputs": [],
   "source": [
    "model.compile(loss='categorical_crossentropy',\n",
    "              optimizer='sgd',\n",
    "              metrics=['accuracy'])"
   ]
  },
  {
   "cell_type": "markdown",
   "metadata": {
    "colab_type": "text",
    "id": "ELcKfHQDCvN8"
   },
   "source": [
    "Или альтернативный вариант:"
   ]
  },
  {
   "cell_type": "code",
   "execution_count": 0,
   "metadata": {
    "colab": {},
    "colab_type": "code",
    "id": "J_GrJjgkCvN-"
   },
   "outputs": [],
   "source": [
    "from keras import metrics\n",
    "\n",
    "model.compile(loss=metrics.categorical_crossentropy,\n",
    "              optimizer=keras.optimizers.SGD(lr=0.01, momentum=0.9, nesterov=True),\n",
    "             metrics=[metrics.categorical_accuracy])"
   ]
  },
  {
   "cell_type": "markdown",
   "metadata": {
    "colab_type": "text",
    "id": "9FETcKqtCvOC"
   },
   "source": [
    "Теперь можем запустить процесс обучения, итурируясь по батчам:"
   ]
  },
  {
   "cell_type": "code",
   "execution_count": 0,
   "metadata": {
    "colab": {},
    "colab_type": "code",
    "id": "T6VrFc-8CvOE"
   },
   "outputs": [],
   "source": [
    "# Сначала сгенерируем случайные обучающие данные:\n",
    "import numpy as np\n",
    "from keras.utils import np_utils\n",
    "\n",
    "x_train = np.random.random((1000, 100))\n",
    "y_train = np_utils.to_categorical(np.random.randint(10, size=(1000, 1)))"
   ]
  },
  {
   "cell_type": "code",
   "execution_count": 0,
   "metadata": {
    "colab": {},
    "colab_type": "code",
    "id": "6AuiayBOCvOK"
   },
   "outputs": [],
   "source": [
    "# x_train and y_train are Numpy arrays --just like in the Scikit-Learn API.\n",
    "model.fit(x_train, y_train, epochs=100, batch_size=32, verbose=1)"
   ]
  },
  {
   "cell_type": "markdown",
   "metadata": {
    "colab_type": "text",
    "id": "PfrK854oc7Y8"
   },
   "source": [
    "__Вопрос__: почему модель обучается?"
   ]
  },
  {
   "cell_type": "markdown",
   "metadata": {
    "colab_type": "text",
    "id": "7pHj4UtICvOS"
   },
   "source": [
    "Или можно запустить однократно обучение на одном конкретном батче:"
   ]
  },
  {
   "cell_type": "code",
   "execution_count": 0,
   "metadata": {
    "colab": {},
    "colab_type": "code",
    "id": "e0AwjAv3CvOU"
   },
   "outputs": [],
   "source": [
    "x_batch = x_train[:10]\n",
    "y_batch = y_train[:10]\n",
    "model.train_on_batch(x_batch, y_batch)\n",
    "# возвращает скаляр - лосс на обучающем батче"
   ]
  },
  {
   "cell_type": "markdown",
   "metadata": {
    "colab_type": "text",
    "id": "vrotuiAJCvOY"
   },
   "source": [
    "Оценим модель, это можно сделать в одну строчку."
   ]
  },
  {
   "cell_type": "markdown",
   "metadata": {
    "colab_type": "text",
    "id": "bhgYjxpJc7ZK"
   },
   "source": [
    "__Вопрос__: угадайте какой accuracy даст модель на валидационной выборке? "
   ]
  },
  {
   "cell_type": "code",
   "execution_count": 0,
   "metadata": {
    "colab": {},
    "colab_type": "code",
    "id": "x3FMqsbiCvOZ"
   },
   "outputs": [],
   "source": [
    "test_size = 100\n",
    "x_test = np.random.random((test_size, 100))\n",
    "y_test = np_utils.to_categorical(np.random.randint(10, size=(test_size, 1)))\n",
    "\n",
    "loss_and_metrics = model.evaluate(x_test, y_test, batch_size=128)\n",
    "loss_and_metrics"
   ]
  },
  {
   "cell_type": "markdown",
   "metadata": {
    "colab_type": "text",
    "id": "b0Vj4FJ-CvOe"
   },
   "source": [
    "Или можно сделать предсказание на новом наборе данных:"
   ]
  },
  {
   "cell_type": "code",
   "execution_count": 0,
   "metadata": {
    "colab": {},
    "colab_type": "code",
    "id": "yNMjIEMZCvOf"
   },
   "outputs": [],
   "source": [
    "classes = model.predict(x_test, batch_size=128)\n",
    "classes"
   ]
  },
  {
   "cell_type": "markdown",
   "metadata": {
    "colab_type": "text",
    "id": "yP_VWxA5tXA_"
   },
   "source": [
    "__Итого:__\n",
    "1. Получить данные: x_train, y_train, x_test, y_test\n",
    "2. Объявить модель: слои, их параметры и тд.\n",
    "3. Скомпилировать модель: лосс, оптимизатор, метрики\n",
    "4. fit: обучение\n",
    "5. evaluate: оцениваем качество модели\n",
    "6. predict: предсказываем на отложенной выборке"
   ]
  },
  {
   "cell_type": "markdown",
   "metadata": {
    "colab_type": "text",
    "id": "Qvwc8Y8OCvOn"
   },
   "source": [
    "## Sequential():"
   ]
  },
  {
   "cell_type": "markdown",
   "metadata": {
    "colab_type": "text",
    "id": "bYcNE0iECvOo"
   },
   "source": [
    "Два способа использования Squential.\n",
    "Первый:"
   ]
  },
  {
   "cell_type": "code",
   "execution_count": 0,
   "metadata": {
    "colab": {},
    "colab_type": "code",
    "id": "9OnmWWQ2CvOq"
   },
   "outputs": [],
   "source": [
    "from keras.models import Sequential\n",
    "from keras.layers import Dense, Activation\n",
    "\n",
    "model = Sequential([\n",
    "    Dense(32, input_shape=(784,)),\n",
    "    Activation('relu'),\n",
    "    Dense(10),\n",
    "    Activation('softmax'),\n",
    "])"
   ]
  },
  {
   "cell_type": "markdown",
   "metadata": {
    "colab_type": "text",
    "id": "wgccUmYFCvOw"
   },
   "source": [
    "Второй, с использованием add():"
   ]
  },
  {
   "cell_type": "code",
   "execution_count": 0,
   "metadata": {
    "colab": {},
    "colab_type": "code",
    "id": "hE41598aCvO0"
   },
   "outputs": [],
   "source": [
    "model = Sequential()\n",
    "model.add(Dense(32, input_dim=784))\n",
    "model.add(Activation('relu'))"
   ]
  },
  {
   "cell_type": "markdown",
   "metadata": {
    "colab_type": "text",
    "id": "ksK4QCdKCvO4"
   },
   "source": [
    "Посмотрим внимательнее на объявление модели. \n",
    "\n",
    "Модели требуется указать размерность входных данных. Для этого в первый слой для Sequential (и только первый слой, т.к все последующие слои автоматически считают размернсоти) требуется передать эту информацию. Это можно сделать двумя способами: \n",
    "- Передать в первый слов параметр input_dim (только 1-мерная размерность данных) или input_shape (n мерная размерность). input_shape - tuple целочисленных значений, размерность батча не указывается\n",
    "- В качестве первого слоя передать в Sequential следующий слой: ```Input(shape=(...))```"
   ]
  },
  {
   "cell_type": "code",
   "execution_count": 0,
   "metadata": {
    "colab": {},
    "colab_type": "code",
    "id": "5I04UGB9CvO6"
   },
   "outputs": [],
   "source": [
    "# Следующие объявления эквивалентны:\n",
    "from keras.layers import InputLayer\n",
    "\n",
    "model = Sequential()\n",
    "model.add(Dense(10, input_shape=(100,)))\n",
    "\n",
    "model = Sequential()\n",
    "model.add(Dense(10, input_dim=100))\n",
    "\n",
    "model = Sequential()\n",
    "model.add(InputLayer(input_shape=(100, )))\n",
    "model.add(Dense(10))"
   ]
  },
  {
   "cell_type": "markdown",
   "metadata": {
    "colab_type": "text",
    "id": "zAw6dm3SCvPD"
   },
   "source": [
    "## Compilation"
   ]
  },
  {
   "cell_type": "markdown",
   "metadata": {
    "colab_type": "text",
    "id": "H5pq-SRoCvPG"
   },
   "source": [
    "Перед обучение модели требуется сконфигурировать обучающий процесс. Для этого в метод ```model.complie()``` требуется передать три аргумента: \n",
    "- Optimizer. Это может быть как string, обозначающий один из оптимизаторов, так и instance одного из оптимизаторов\n",
    "https://keras.io/optimizers/\n",
    "\n",
    "- Loss. Функция, которую будет оптимизировать модель в ходе обучения. Это может быть как string (например, 'categorical_crossentropy' или 'mse'), так и instance класса Losses https://keras.io/losses/\n",
    "- Metrics. Список метрик, которые будет собирать модель в ходе обучения. В список можно добавлять как string (напрмиер, ```metrics=['accuracy']```), так и метрики из класса Metrics https://keras.io/metrics/. Также можно добавлять кастомные метрики"
   ]
  },
  {
   "cell_type": "markdown",
   "metadata": {
    "colab_type": "text",
    "id": "4wkUBlhdCvPM"
   },
   "source": [
    "Все примеры можно найти ниже:"
   ]
  },
  {
   "cell_type": "code",
   "execution_count": 0,
   "metadata": {
    "colab": {},
    "colab_type": "code",
    "id": "oQZxfk97CvPP"
   },
   "outputs": [],
   "source": [
    "# Многклассовая классификация\n",
    "model.compile(optimizer='rmsprop',\n",
    "              loss='categorical_crossentropy',\n",
    "              metrics=['accuracy'])\n",
    "\n",
    "# Бинарная классификация\n",
    "model.compile(optimizer='rmsprop',\n",
    "              loss='binary_crossentropy',\n",
    "              metrics=['accuracy'])\n",
    "\n",
    "# Для задачи регрессии\n",
    "model.compile(optimizer='rmsprop',\n",
    "              loss='mse')\n",
    "\n",
    "# Если хотите сделать кастомную функцию:\n",
    "import keras.backend as K\n",
    "\n",
    "def mean_pred(y_true, y_pred):\n",
    "    return K.mean(y_pred)\n",
    "\n",
    "model.compile(optimizer='rmsprop',\n",
    "              loss='binary_crossentropy',\n",
    "              metrics=['accuracy', mean_pred])"
   ]
  },
  {
   "cell_type": "markdown",
   "metadata": {
    "colab_type": "text",
    "id": "60hGFPJdCvPV"
   },
   "source": [
    "## Training:"
   ]
  },
  {
   "cell_type": "markdown",
   "metadata": {
    "colab_type": "text",
    "id": "4FL-3_sTCvPX"
   },
   "source": [
    "На обучение модели подаются данные для обучения: ```x_train``` и ```y_train```. Оба объекта - numpy массивы. Для обучения модели используется метод ```model.fit(...) ```\n",
    "В fit подаются следующие аргументы:\n",
    "- x: обучающая выборка\n",
    "- y: ответы для обучающей выборки\n",
    "- batch_size: размерность батча\n",
    "- epochs: число эпох\n",
    "- verbose: Integer. 0, 1, или 2. Режим оповещений в ходе обучения. 0 = тихий режим, 1 = progress bar, 2 = одна запись на одну эпоху\n",
    "\n",
    "и т.д, см подробнее: https://keras.io/models/model/"
   ]
  },
  {
   "cell_type": "code",
   "execution_count": 0,
   "metadata": {
    "colab": {},
    "colab_type": "code",
    "id": "g-W-UEC2CvPj"
   },
   "outputs": [],
   "source": [
    "# Пример: Задача бинарной классификации\n",
    "\n",
    "# Как и описали выше, сначала объявляем Sequential() модель и накидываем слоев:\n",
    "model = Sequential()\n",
    "model.add(Dense(32, activation='relu', input_dim=100))\n",
    "model.add(Dense(1, activation='sigmoid')) # на выходе одно число, так как задача бинарной классификации\n",
    "\n",
    "# Теперь делаем compile()\n",
    "model.compile(optimizer='rmsprop',\n",
    "              loss='binary_crossentropy',\n",
    "              metrics=['accuracy'])\n",
    "\n",
    "# Как обычно, сгенерируем рандомно данные\n",
    "import numpy as np\n",
    "data = np.random.random((1000, 100))\n",
    "labels = np.random.randint(2, size=(1000, 1))\n",
    "\n",
    "# И, наконец, запустим обучение на данных. Данные подаются батчами по 32\n",
    "model.fit(data, labels, epochs=3, batch_size=32, verbose=1)"
   ]
  },
  {
   "cell_type": "markdown",
   "metadata": {
    "colab_type": "text",
    "id": "xXyAXz9eCvPx"
   },
   "source": [
    "Чтобы оценить качество модели, воспользуемся методом ```model.evaluate(...)```\n",
    "Для этого метода подаются аргументы: \n",
    "- x: тествоая выборка\n",
    "- y: ответы на тестовую выборку\n",
    "- batch_size: размер батча"
   ]
  },
  {
   "cell_type": "code",
   "execution_count": 0,
   "metadata": {
    "colab": {},
    "colab_type": "code",
    "id": "e_euKGVdCvPz"
   },
   "outputs": [],
   "source": [
    "data_test = np.random.random((1000, 100))\n",
    "labels_test = np.random.randint(2, size=(1000, 1))\n",
    "model.evaluate(x=data_test, y=labels_test)"
   ]
  },
  {
   "cell_type": "markdown",
   "metadata": {
    "colab_type": "text",
    "id": "y_3-rKyFtXB1"
   },
   "source": [
    "__Вопрос__: в случае многоклассовой классификации какая функции активации будет использоваться в последнем слое?"
   ]
  },
  {
   "cell_type": "code",
   "execution_count": 0,
   "metadata": {
    "colab": {},
    "colab_type": "code",
    "id": "o2QTnb2cCvP6"
   },
   "outputs": [],
   "source": [
    "# теперь многоклассовая задача:\n",
    "\n",
    "model = Sequential()\n",
    "model.add(Dense(32, activation='relu', input_dim=100))\n",
    "model.add(Dense(10, activation='softmax'))\n",
    "\n",
    "model.compile(optimizer='rmsprop',\n",
    "              loss='categorical_crossentropy',\n",
    "              metrics=['accuracy'])\n",
    "\n",
    "# Генерируем данные:\n",
    "data = np.random.random((1000, 100))\n",
    "labels = np.random.randint(10, size=(1000, 1))\n",
    "\n",
    "# Ответы переводим в one-hot вектора\n",
    "one_hot_labels = keras.utils.to_categorical(labels, num_classes=10)\n",
    "\n",
    "# Train the model, iterating on the data in batches of 32 samples\n",
    "model.fit(data, one_hot_labels, epochs=2, batch_size=32, verbose=1)"
   ]
  },
  {
   "cell_type": "markdown",
   "metadata": {
    "colab_type": "text",
    "id": "CQoaHyVDtXB9"
   },
   "source": [
    "__Вопрос:__ зачем мы применяем np_utils.to_categorical для задачи многоклассовой классификации?"
   ]
  },
  {
   "cell_type": "markdown",
   "metadata": {
    "colab_type": "text",
    "id": "EbOe5yc8CvQC"
   },
   "source": [
    "Снова оценим качество нашей модели:"
   ]
  },
  {
   "cell_type": "code",
   "execution_count": 0,
   "metadata": {
    "colab": {},
    "colab_type": "code",
    "id": "8qmPfLDYCvQD"
   },
   "outputs": [],
   "source": [
    "data_test = np.random.random((1000, 100))\n",
    "labels_test = np.random.randint(10, size=(1000, 1))\n",
    "labels_test = keras.utils.to_categorical(labels_test, num_classes=10)\n",
    "model.evaluate(x=data_test, y=labels_test)"
   ]
  },
  {
   "cell_type": "markdown",
   "metadata": {
    "colab_type": "text",
    "id": "t8v8TPyGCvQO"
   },
   "source": [
    "## Модуль Model()"
   ]
  },
  {
   "cell_type": "markdown",
   "metadata": {
    "colab_type": "text",
    "id": "Nex1AR_ACvQQ"
   },
   "source": [
    "Это альтернативный вариант построения модели, вместо Sequential()\n",
    "Чтобы построить модель с помощью Model пользуйтесь следующим паттерном:\n",
    "```\n",
    "int = Input(...)\n",
    "x = Dense(...)(int)\n",
    "x = Dense(...)(x)\n",
    "x = Conv2D(...)(x)\n",
    "...\n",
    "x = Dense(...)(x)\n",
    "model = Model(inputs=inp, outputs=x)\n",
    "```"
   ]
  },
  {
   "cell_type": "markdown",
   "metadata": {
    "colab_type": "text",
    "id": "xsGyDcHgCvQR"
   },
   "source": [
    "После объявления модели идут стандартные: compile и fit"
   ]
  },
  {
   "cell_type": "code",
   "execution_count": 0,
   "metadata": {
    "colab": {},
    "colab_type": "code",
    "id": "W2LHKQ2lCvQS",
    "scrolled": true
   },
   "outputs": [],
   "source": [
    "# Модуль Model:\n",
    "from keras.layers import Input, Dense\n",
    "from keras.models import Model\n",
    "data = np.random.random((1000, 100))\n",
    "labels = np.random.randint(10, size=(1000, 10))\n",
    "\n",
    "inputs = Input(shape=(100,))\n",
    "\n",
    "# Теперь мы применяем последовательно\n",
    "x = Dense(64, activation='relu')(inputs)\n",
    "x = Dense(64, activation='relu')(x)\n",
    "predictions = Dense(10, activation='softmax')(x)\n",
    "\n",
    "# Теперь объединми всё вышенаписанное в модель:\n",
    "model = Model(inputs=inputs, outputs=predictions)\n",
    "\n",
    "# Далее всё стандарно - compile и fit\n",
    "model.compile(optimizer='rmsprop',\n",
    "              loss='categorical_crossentropy',\n",
    "              metrics=['accuracy'])\n",
    "model.fit(data, labels, epochs=2)"
   ]
  },
  {
   "cell_type": "markdown",
   "metadata": {
    "colab_type": "text",
    "id": "nALOk9TdCvQX"
   },
   "source": [
    "__Основное премущество такого подхода:__ он позволяет \"склеить\" две разных модели. Или скачать существующую модель и поменять в ней некоторые слои. Пример ниже:"
   ]
  },
  {
   "cell_type": "code",
   "execution_count": 0,
   "metadata": {
    "colab": {},
    "colab_type": "code",
    "id": "9YF345JaCvQY"
   },
   "outputs": [],
   "source": [
    "# С помощью Model() можно к существующей модели добавить слои, делается это так:\n",
    "from keras.applications.mobilenet import MobileNet\n",
    "model = MobileNet(weights='imagenet', include_top=True)\n",
    "# model.summary()\n",
    "\n",
    "# Для начала покажем как удалить верхний слой сети:\n",
    "model.layers.pop()\n",
    "# model.summary()\n",
    "\n",
    "x = model.layers[-1].output\n",
    "x = Dense(200, activation='relu')(x)\n",
    "x = Dense(100, activation='softmax')(x)\n",
    "\n",
    "M = Model(inputs=model.input, outputs=x)\n",
    "# M.summary()"
   ]
  },
  {
   "cell_type": "markdown",
   "metadata": {
    "colab_type": "text",
    "id": "saaS59oYCvQb"
   },
   "source": [
    "## Ещё немного про Keras models"
   ]
  },
  {
   "cell_type": "markdown",
   "metadata": {
    "colab_type": "text",
    "id": "zhNIQQGQCvQc"
   },
   "source": [
    "Модели Keras имеют следующий набор методов и аттрибутов:\n",
    "- ```model.layers``` - список слоёв. К каждому элементу из списка можно обратиться\n",
    "- ```model.inputs``` - тезор входных данных\n",
    "- ```input_shape``` - размерность входных данных\n",
    "- ```output_shape``` - размерность выходных данных\n",
    "- ```model.outputs``` - тензор output\n",
    "- ```model.summary()``` - печаатет информацию по вашей модели: слои, их параметры, число обучаемых параметров и т.д\n",
    "- ```model.get_layer(layer_name)``` - возвращает слой по его имени\n",
    "- ```model.get_config()``` - возвращает словарь: конфиг модели. Модель может быть из него собрана, пример будет ниже\n",
    "- ```model.get_weights() ``` - возвращает список всех вессов модели, как  numpy массивы\n",
    "- ```model.set_weights(weights)``` - устанавливает веса в модели"
   ]
  },
  {
   "cell_type": "markdown",
   "metadata": {
    "colab_type": "text",
    "id": "WzGODcPfCvQd"
   },
   "source": [
    "Ниже показаны примеры методов и аттрибутов, описанных выше:"
   ]
  },
  {
   "cell_type": "code",
   "execution_count": 0,
   "metadata": {
    "colab": {},
    "colab_type": "code",
    "id": "PTLR27HYCvQe"
   },
   "outputs": [],
   "source": [
    "model.layers"
   ]
  },
  {
   "cell_type": "code",
   "execution_count": 0,
   "metadata": {
    "colab": {},
    "colab_type": "code",
    "id": "QFLrrI-CCvQi"
   },
   "outputs": [],
   "source": [
    "print(model.inputs)\n",
    "print(model.outputs)\n",
    "print(model.input_shape)\n",
    "print(model.output_shape)"
   ]
  },
  {
   "cell_type": "code",
   "execution_count": 0,
   "metadata": {
    "colab": {},
    "colab_type": "code",
    "id": "rd5gV8IoCvQl"
   },
   "outputs": [],
   "source": [
    "#model.summary()"
   ]
  },
  {
   "cell_type": "code",
   "execution_count": 0,
   "metadata": {
    "colab": {},
    "colab_type": "code",
    "id": "mDZqp1IDCvQr"
   },
   "outputs": [],
   "source": [
    "model.get_layer(model.layers[1].name)"
   ]
  },
  {
   "cell_type": "code",
   "execution_count": 0,
   "metadata": {
    "colab": {},
    "colab_type": "code",
    "id": "SYrrbD1DCvQ1"
   },
   "outputs": [],
   "source": [
    "model = Sequential()\n",
    "model.add(Dense(200, input_shape=(100,)))\n",
    "\n",
    "config = model.get_config()\n",
    "model1 = model.from_config(config)\n",
    "model2 = Sequential.from_config(config)"
   ]
  },
  {
   "cell_type": "code",
   "execution_count": 0,
   "metadata": {
    "colab": {},
    "colab_type": "code",
    "id": "Sfw_vS2vw32F"
   },
   "outputs": [],
   "source": [
    "model2.summary()"
   ]
  },
  {
   "cell_type": "code",
   "execution_count": 0,
   "metadata": {
    "colab": {},
    "colab_type": "code",
    "id": "wVS4W1uxCvQ6"
   },
   "outputs": [],
   "source": [
    "model1.set_weights( model.get_weights() )"
   ]
  },
  {
   "cell_type": "code",
   "execution_count": 0,
   "metadata": {
    "colab": {},
    "colab_type": "code",
    "id": "tTyJZNmgtXC-"
   },
   "outputs": [],
   "source": [
    "model.layers[0].output_shape"
   ]
  },
  {
   "cell_type": "markdown",
   "metadata": {
    "colab_type": "text",
    "collapsed": true,
    "id": "LwQRgpHICvQ9"
   },
   "source": [
    "##  Keras layers"
   ]
  },
  {
   "cell_type": "markdown",
   "metadata": {
    "colab_type": "text",
    "id": "f1vw9p75CvQ_"
   },
   "source": [
    "Все слои в Keras имеют ряд общих методов и аттрибутов:\n",
    "- ```layer.input``` - тензор входных данных\n",
    "- ```layer.output``` - тензор выходных данных\n",
    "- ```layer.input_shape``` - размерность входных данных\n",
    "- ```layer.output_shape``` - размерность выходных данных\n",
    "\n",
    "- ```layer.get_weights()``` - возвращает веса слоя\n",
    "- ``` layer.set_weights(weights)``` - устанавливает веса слоя\n",
    "- ```layer.get_config()``` - возвращает конфиг слоя"
   ]
  },
  {
   "cell_type": "markdown",
   "metadata": {
    "colab_type": "text",
    "id": "Tyx4y3dCCvRB"
   },
   "source": [
    "Ниже показаны примеры методов и аттрибутов, описанных выше:"
   ]
  },
  {
   "cell_type": "code",
   "execution_count": 0,
   "metadata": {
    "colab": {},
    "colab_type": "code",
    "id": "pjwidcJoCvRE"
   },
   "outputs": [],
   "source": [
    "layer = model.layers[0]\n",
    "print(layer.input)\n",
    "print(layer.output)\n",
    "print(layer.input_shape)\n",
    "print(layer.output_shape)"
   ]
  },
  {
   "cell_type": "code",
   "execution_count": 0,
   "metadata": {
    "colab": {},
    "colab_type": "code",
    "id": "Heoyopn5CvRL",
    "scrolled": true
   },
   "outputs": [],
   "source": [
    "layer.get_weights()"
   ]
  },
  {
   "cell_type": "code",
   "execution_count": 0,
   "metadata": {
    "colab": {},
    "colab_type": "code",
    "id": "Auq-gpNrCvRO"
   },
   "outputs": [],
   "source": [
    "layer = Dense(32)\n",
    "config = layer.get_config()\n",
    "reconstructed_layer = Dense.from_config(config)"
   ]
  },
  {
   "cell_type": "markdown",
   "metadata": {
    "colab_type": "text",
    "id": "5lexmlyACvRS"
   },
   "source": [
    "### Далее поговорим про каждый тип слоя отдельно:"
   ]
  },
  {
   "cell_type": "markdown",
   "metadata": {
    "colab_type": "text",
    "id": "WhY8HvNsCvR0"
   },
   "source": [
    "### InputLayer"
   ]
  },
  {
   "cell_type": "markdown",
   "metadata": {
    "colab_type": "text",
    "id": "pwZPfedCCvR1"
   },
   "source": [
    "Может пригодиться ровно один раз, для передачи информации нейронной сети о размерности входных данных"
   ]
  },
  {
   "cell_type": "code",
   "execution_count": 0,
   "metadata": {
    "colab": {},
    "colab_type": "code",
    "id": "LY4OtOfDCvR1"
   },
   "outputs": [],
   "source": [
    "from keras.layers import InputLayer\n",
    "model = Sequential()\n",
    "model.add(InputLayer(input_shape=(1,)))\n",
    "model.add(Dense(100))\n",
    "model.summary()"
   ]
  },
  {
   "cell_type": "markdown",
   "metadata": {
    "colab_type": "text",
    "id": "7tEHoz_bCvRS"
   },
   "source": [
    "### Dense:"
   ]
  },
  {
   "cell_type": "markdown",
   "metadata": {
    "colab_type": "text",
    "id": "Rw1cL5XTCvRT"
   },
   "source": [
    "Ниже представлены две картинки. На одной как обычно рисуют нейронные сети с линейными слоями, на второй - как реализовывать линейные слои через умножение матриц. Такая реализация позволяет эффективно подавать элементы батчами (т.е в одном этапе обучения участвуют сразу несколько элементов)"
   ]
  },
  {
   "cell_type": "markdown",
   "metadata": {
    "colab_type": "text",
    "id": "G79WrvsYCvRU"
   },
   "source": [
    "На данной картинке обучающая выборка состоит из 3 элементов, каждый из которых имеет одну фичу:"
   ]
  },
  {
   "cell_type": "markdown",
   "metadata": {
    "colab_type": "text",
    "id": "g9GJYp0XCvRV"
   },
   "source": [
    "<img src=\"https://ml-cheatsheet.readthedocs.io/en/latest/_images/nn_with_matrices_displayed.png\" alt=\"Drawing\" style=\"width: 700px;\"/>"
   ]
  },
  {
   "cell_type": "code",
   "execution_count": 0,
   "metadata": {
    "colab": {},
    "colab_type": "code",
    "id": "kuWQXL26CvRW"
   },
   "outputs": [],
   "source": [
    "# Пример\n",
    "model = Sequential()\n",
    "model.add(Dense(32, input_shape=(16,)))\n",
    "# Модель принимает на вход данные размерностью (*, 16), где * - размер батча\n",
    "# На выходе модель выдает матрицу размерностью (*, 32), где * - размер батча"
   ]
  },
  {
   "cell_type": "markdown",
   "metadata": {
    "colab_type": "text",
    "id": "5BblhC6BCvRZ"
   },
   "source": [
    "Также слой Dense имеет полезный параметр ```activation```, отвечающий за функцию активации. Она применяется поэлементно сразу после Dense слоя "
   ]
  },
  {
   "cell_type": "markdown",
   "metadata": {
    "colab_type": "text",
    "id": "IpAoe8uQtXDm"
   },
   "source": [
    "__Вопрос:__ Пусть i-ый слой имеет выходную размерность (n,m), а i+1-ый слой: Dense(100). Сколько обучаемых параметров у такого слоя?"
   ]
  },
  {
   "cell_type": "markdown",
   "metadata": {
    "colab_type": "text",
    "id": "cGKDT5B9CvRn"
   },
   "source": [
    "### Dropout"
   ]
  },
  {
   "cell_type": "markdown",
   "metadata": {
    "colab_type": "text",
    "id": "flCOZPGqCvRo"
   },
   "source": [
    "<img src=\"https://mlblr.com/images/dropout.gif\" alt=\"Drawing\" style=\"width: 600px;\"/>"
   ]
  },
  {
   "cell_type": "code",
   "execution_count": 0,
   "metadata": {
    "colab": {},
    "colab_type": "code",
    "id": "mHigowf6CvRq"
   },
   "outputs": [],
   "source": [
    "from keras.layers import Dropout\n",
    "model.add(Dropout(rate=0.2))\n",
    "# rate - вероятность, с короторой выключается каждый из нейронов при обучении "
   ]
  },
  {
   "cell_type": "markdown",
   "metadata": {
    "colab_type": "text",
    "id": "UKFzj1jNtXDv"
   },
   "source": [
    "__Вопрос:__ Добавляет ли Dropuot слой обучаемых параметров?"
   ]
  },
  {
   "cell_type": "markdown",
   "metadata": {
    "colab_type": "text",
    "id": "rm2kyecwCvRu"
   },
   "source": [
    "### Flatten:"
   ]
  },
  {
   "cell_type": "markdown",
   "metadata": {
    "colab_type": "text",
    "id": "7VmBw6xgCvRv"
   },
   "source": [
    "Разворачивает весь тензор в одномерный вектор. \n",
    "Например, матрица размера ```(n, m)``` превратится в вектор размера ``` n*m```"
   ]
  },
  {
   "cell_type": "code",
   "execution_count": 0,
   "metadata": {
    "colab": {},
    "colab_type": "code",
    "id": "2MEdtFGaCvRx"
   },
   "outputs": [],
   "source": [
    "from keras.layers import Flatten\n",
    "model = Sequential()\n",
    "model.add(Flatten())"
   ]
  },
  {
   "cell_type": "markdown",
   "metadata": {
    "colab_type": "text",
    "id": "SNYu-3_ZCvSG"
   },
   "source": [
    "### Conv2D"
   ]
  },
  {
   "cell_type": "markdown",
   "metadata": {
    "colab_type": "text",
    "collapsed": true,
    "id": "yz-6yyiNCvSI"
   },
   "source": [
    "<img src=\"https://www.cntk.ai/jup/cntk103d_conv2d_final.gif\" alt=\"Drawing\" style=\"width: 400px;\"/>"
   ]
  },
  {
   "cell_type": "markdown",
   "metadata": {
    "colab_type": "text",
    "id": "PQ-X_58CCvSJ"
   },
   "source": [
    "<img src=\"https://i.stack.imgur.com/FjvuN.gif\" alt=\"Drawing\" style=\"width: 400px;\"/>"
   ]
  },
  {
   "cell_type": "markdown",
   "metadata": {
    "colab_type": "text",
    "id": "3DfMRAHUCvSK"
   },
   "source": [
    "Сonv2D - свертка, предназначенная только для тензоров размерности 3. Обычно размерность обозначают ```(a, b, num_channels)```. ```num_channels``` - канальность изображения. \n",
    "Kernel (окно) свертки имеет размерность ```(m, k, num_channels)```, где ```num_channels``` - число каналов (третья размерность) входного тензора. Она обязательно совпадает с ```num_channels``` входного изображения. \n"
   ]
  },
  {
   "cell_type": "markdown",
   "metadata": {
    "colab_type": "text",
    "id": "xK-SYV_VCvSL"
   },
   "source": [
    "Слой Conv2D в Keras имеет следующие параметры: \n",
    "- ```filters:int``` - число фильтров. Иными словами, сколько разных Kernel мы применим к нашей картинке. Каждый Kernel имеет размерность ```(m, k, num_channels)```, у каждого ```m*k*num_channels``` параметров обучаются\n",
    "\n",
    "- ```kernel_size:int or tuple/list of 2 int``` - tuple из двух int. В наших обозначениях это (m, k)\n",
    "\n",
    "- ```activation:str``` - функция активации, которая применяется сразу после применения слоя Conv2D\n",
    "- ```strides: int or tuple/list of 2 int``` - отвечает за stride по вектрикали и горизонтали\n",
    "- ```padding:str``` - принимает значение либо 'valid', либо 'same',  разница показана на каритнке: \n",
    "<img src=\"https://pp.userapi.com/c849532/v849532680/135e57/Eijj-dicj7o.jpg\" alt=\"Drawing\" style=\"width: 500px;\"/>"
   ]
  },
  {
   "cell_type": "markdown",
   "metadata": {
    "colab_type": "text",
    "id": "IvlF4vNhCvSM"
   },
   "source": [
    "#### Немного про размерности:\n",
    "Предположим, что мы добавили слой Conv2D с дефолтными параметрами. Мы установили только ```Conv2D(filters=num_filters, kernel_size=(k, k))```. Тогда если входная размерность ```(a,b,num_channels)```, то наш слой выдаст тензор размерностью ```(a-k+1, b-k+1, num_filters)``` \n",
    "\n",
    "Число обучаемых параметров при этом: ```k*k*num_channels*num_filters + num_filters```\n",
    "\n",
    "В последней формуле второе слагаемое означает bias, который применяется для каждого фильтра отдельно"
   ]
  },
  {
   "cell_type": "code",
   "execution_count": 0,
   "metadata": {
    "colab": {},
    "colab_type": "code",
    "id": "eqx4PtgXCvSN"
   },
   "outputs": [],
   "source": [
    "from keras.layers import Conv2D\n",
    "model = Sequential()\n",
    "# В Conv2D можно подавать параметр input_shape, если это первый слой\n",
    "model.add(Conv2D(20, kernel_size=(3, 3), activation='relu', input_shape=(32, 28, 3)))\n",
    "\n",
    "# Запись выше эквивалентна следующей записи:\n",
    "model = Sequential()\n",
    "model.add(InputLayer(input_shape=(32, 28, 3)))\n",
    "model.add(Conv2D(1, kernel_size=(3, 3), activation='relu'))\n",
    "model.summary()"
   ]
  },
  {
   "cell_type": "markdown",
   "metadata": {
    "colab_type": "text",
    "id": "JWtYjQfbtXEC"
   },
   "source": [
    "__Вопрос:__ Нужна ли активация после Conv2D слоя? Или можно обойтись без неё?"
   ]
  },
  {
   "cell_type": "markdown",
   "metadata": {
    "colab_type": "text",
    "id": "Lw3NZJceCvR6"
   },
   "source": [
    "### Reshape"
   ]
  },
  {
   "cell_type": "markdown",
   "metadata": {
    "colab_type": "text",
    "id": "dDUfdVtACvR7"
   },
   "source": [
    "Позволяет поменять размерность тензора. \n",
    "\n",
    "Например:\n",
    "\n",
    "$(n, m) \\rightarrow (m, n)$\n",
    "\n",
    "$(n, m, k) \\rightarrow (k, m, n)$\n",
    "\n",
    "$(n, m, k) \\rightarrow (n, m \\cdot k)$"
   ]
  },
  {
   "cell_type": "code",
   "execution_count": 0,
   "metadata": {
    "colab": {},
    "colab_type": "code",
    "id": "r0681t7SCvR8"
   },
   "outputs": [],
   "source": [
    "model = Sequential()\n",
    "model.add(Dense(40, input_shape=(32, 28)))\n",
    "model.summary()"
   ]
  },
  {
   "cell_type": "code",
   "execution_count": 0,
   "metadata": {
    "colab": {},
    "colab_type": "code",
    "id": "OCd68oz4CvR_"
   },
   "outputs": [],
   "source": [
    "from keras.layers import Reshape\n",
    "# Примеры:\n",
    "model.add(Reshape((8, 160)))\n",
    "# теперь: model.output_shape == (None, 8, 160)\n",
    "\n",
    "# также вы можете попросить Keras за вас посчитать оставшуюся размерность, просто подав -1\n",
    "model.add(Reshape((-1, 4, 4)))\n",
    "# теперт: model.output_shape == (None, 80, 4, 4)"
   ]
  },
  {
   "cell_type": "code",
   "execution_count": 0,
   "metadata": {
    "colab": {},
    "colab_type": "code",
    "id": "GBAPl4zfCvSC"
   },
   "outputs": [],
   "source": [
    "model.summary()"
   ]
  },
  {
   "cell_type": "markdown",
   "metadata": {
    "colab_type": "text",
    "id": "vC222XAXtXEM"
   },
   "source": [
    "__Вопрос:__ Слой Conv2D работает только с тензорами размерности 3. Иногда черно-белые картинки представляются в виде двумерной матрицы со значениями в каждой ячейке. Как в этом случае может помочь Reshape слой?"
   ]
  },
  {
   "cell_type": "markdown",
   "metadata": {
    "colab_type": "text",
    "id": "TY9EF9OqCvSR"
   },
   "source": [
    "### MaxPooling2D"
   ]
  },
  {
   "cell_type": "markdown",
   "metadata": {
    "colab_type": "text",
    "id": "rZAfVA3PCvSS"
   },
   "source": [
    "<img src=\"https://developers.google.com/machine-learning/practica/image-classification/images/maxpool_animation.gif\" alt=\"Drawing\" style=\"width: 500px;\"/>"
   ]
  },
  {
   "cell_type": "markdown",
   "metadata": {
    "colab_type": "text",
    "id": "GmoDYvszCvST"
   },
   "source": [
    "Параметры MaxPool2D:\n",
    "- ```pool_size:int or tuple/list of 2 int``` - tuple из двух int. Размерность окна, в котором выбирается максимальный элемент. На гифке выше pool_size=(2,2)\n",
    "- ```strides: int or tuple/list of 2 int``` - отвечает за stride по вектрикали и горизонтали\n",
    "- ```padding:str``` - принимает значение либо 'valid', либо 'same',  разница показана в блоке с Conv2D"
   ]
  },
  {
   "cell_type": "code",
   "execution_count": 0,
   "metadata": {
    "colab": {},
    "colab_type": "code",
    "id": "wUXC09VeCvSU"
   },
   "outputs": [],
   "source": [
    "# Пример:\n",
    "from keras.layers import MaxPool2D\n",
    "model = Sequential()\n",
    "model.add(InputLayer(input_shape=(32, 28, 3)))\n",
    "model.add(MaxPool2D())\n",
    "model.summary()"
   ]
  },
  {
   "cell_type": "markdown",
   "metadata": {
    "colab_type": "text",
    "id": "XD4UHbFMCvSa"
   },
   "source": [
    "Слой MaxPool2D не имеет обучающих параметров"
   ]
  },
  {
   "cell_type": "markdown",
   "metadata": {
    "colab_type": "text",
    "id": "9DBLHs7pCvSb"
   },
   "source": [
    "### AveragePooling2D"
   ]
  },
  {
   "cell_type": "markdown",
   "metadata": {
    "colab_type": "text",
    "id": "Jr8IXKxOCvSc"
   },
   "source": [
    "AveragePooling2D - аналогичный с MaxPool2D слой, только в окне выбирается не максимальный элемент, а среднее из всех элементов. Ниже приведен пример сравнения двух подходов:"
   ]
  },
  {
   "cell_type": "markdown",
   "metadata": {
    "colab_type": "text",
    "id": "_eau5yYjCvSd"
   },
   "source": [
    "<img src=\"https://qph.fs.quoracdn.net/main-qimg-cf2833a40f946faf04163bc28517959c\" alt=\"Drawing\" style=\"width: 500px;\"/>"
   ]
  },
  {
   "cell_type": "markdown",
   "metadata": {
    "colab_type": "text",
    "collapsed": true,
    "id": "8Skss0veCvSe"
   },
   "source": [
    "AveragePooling2D имеет те же аргументы, что и MaxPool2D. Он также не имеет обучающих параметров"
   ]
  },
  {
   "cell_type": "markdown",
   "metadata": {
    "colab_type": "text",
    "id": "LUXvksVZCvSg"
   },
   "source": [
    "### Activations:"
   ]
  },
  {
   "cell_type": "markdown",
   "metadata": {
    "colab_type": "text",
    "id": "Q7MoSfK1CvSh"
   },
   "source": [
    "Наиболее популярные функции активации:\n",
    "\n",
    "<img src=\"https://cdn-images-1.medium.com/max/1200/1*ZafDv3VUm60Eh10OeJu1vw.png\" alt=\"Drawing\" style=\"width: 500px;\"/>\n",
    "\n",
    "Более подробно про функции активации в Keras:\n",
    "https://keras.io/activations/"
   ]
  },
  {
   "cell_type": "code",
   "execution_count": 0,
   "metadata": {
    "colab": {},
    "colab_type": "code",
    "id": "drndzCbuCvSj"
   },
   "outputs": [],
   "source": [
    "# Два способа добавить активацию:\n",
    "from keras.layers import ReLU\n",
    "\n",
    "# Первый\n",
    "model = Sequential()\n",
    "model.add(Conv2D(32, (3, 3), activation='relu' ,input_shape=(32, 28, 3)))\n",
    "\n",
    "# Второй\n",
    "model = Sequential()\n",
    "model.add(Conv2D(32, (3, 3),input_shape=(32, 28, 3)))\n",
    "model.add(ReLU())"
   ]
  },
  {
   "cell_type": "code",
   "execution_count": 0,
   "metadata": {
    "colab": {},
    "colab_type": "code",
    "id": "DloGcP-sCvSm"
   },
   "outputs": [],
   "source": [
    "# Другие возможные функции активации:\n",
    "keras.layers.ReLU()\n",
    "keras.layers.LeakyReLU()\n",
    "keras.layers.ELU()\n",
    "keras.layers.Softmax()"
   ]
  },
  {
   "cell_type": "markdown",
   "metadata": {
    "colab_type": "text",
    "id": "Y8vmSV7vtXEb"
   },
   "source": [
    "__Вопрос:__ В чем проблема функции sigmoid? А в чем проблема функции relu? Когда используется softmax?"
   ]
  },
  {
   "cell_type": "markdown",
   "metadata": {
    "colab_type": "text",
    "id": "HK-2pRD5CvSo"
   },
   "source": [
    "### BatchNorm"
   ]
  },
  {
   "cell_type": "markdown",
   "metadata": {
    "colab_type": "text",
    "id": "I4u2ZZaZCvSp"
   },
   "source": [
    "Обычно вставляется между Dense слоем и функцией активации. \n",
    "Для каждого нейрона $h_i$ выполняется нормировка по формуле: \n",
    "$$ \\large{ h_i = \\gamma_i \\frac{h_i-\\mu_i}{\\sqrt{\\sigma^2_i}}+ \\beta_i }$$\n",
    "Где: \n",
    "- $\\gamma_i, \\beta_i$ - тренируемые параметры\n",
    "- $\\mu_i, \\sigma^2_i$ - среднее и оценочная дисперсия батча. При предсказании на тестовой выборке $\\mu_i, \\sigma^2_i$ считаются как скользящее среднее по train выборке"
   ]
  },
  {
   "cell_type": "code",
   "execution_count": 0,
   "metadata": {
    "colab": {},
    "colab_type": "code",
    "id": "dbMz_NDuCvSr"
   },
   "outputs": [],
   "source": [
    "from keras.layers import BatchNormalization\n",
    "model = Sequential()\n",
    "model.add(Dense(5, input_dim=100))\n",
    "model.add(BatchNormalization())\n",
    "model.summary()"
   ]
  },
  {
   "cell_type": "markdown",
   "metadata": {
    "colab_type": "text",
    "id": "dWh4BLr1CvSw"
   },
   "source": [
    "## Callbacks:"
   ]
  },
  {
   "cell_type": "markdown",
   "metadata": {
    "colab_type": "text",
    "id": "uWGe9sJECvS1"
   },
   "source": [
    "Callback - это набор функций, которые должны применяться на определенных этапах обучения. Вы можете использовать Callbacks, чтобы получить представление о модели во время обучения. Вы можете передать список Callbacks методу .fit ()"
   ]
  },
  {
   "cell_type": "markdown",
   "metadata": {
    "colab_type": "text",
    "id": "XJEwn_roCvS3"
   },
   "source": [
    "Callback имеет следующие методы: ```on_train_begin(), on_train_end(), on_epoch_begin(), on_epoch_end(), on_batch_begin(), on_batch_end()```, каждый из которых автоматически вызывается в соответсвующий момент времени. Например, метод ```on_epoch_end()``` вызывается в момент, когда прошла одна эпоха. Метод ```on_batch_end()``` вызывается в момент, когда через сеть прошел один батч."
   ]
  },
  {
   "cell_type": "markdown",
   "metadata": {
    "colab_type": "text",
    "id": "h7_5tIP7CvS4"
   },
   "source": [
    "Как использовать Callbacks? Надо просто передать список коллбеков в метод fit.\n",
    "Пример: ```model.fit(x, y, callbacks=[early_stopping])```"
   ]
  },
  {
   "cell_type": "code",
   "execution_count": 0,
   "metadata": {
    "colab": {},
    "colab_type": "code",
    "id": "ugm6CPBxCvS5"
   },
   "outputs": [],
   "source": [
    "# ниже приведен пример кастомного Коллбека. Единственное, что он делает - в конце эпохи записывает в переменную losses метрику \n",
    "# При этом в каждый из методов автоматически прокидывается словарь метрик logs. Например, logs={'loss': 2.5, 'acc': 0.87}\n",
    "# Ниже - шаблон для кастомного коллбека, можете использовать его для создания своего коллбека\n",
    "class My_Callback(keras.callbacks.Callback):\n",
    "    def on_train_begin(self, logs={}):\n",
    "        return\n",
    " \n",
    "    def on_train_end(self, logs={}):\n",
    "        return\n",
    " \n",
    "    def on_epoch_begin(self, logs={}):\n",
    "        return\n",
    " \n",
    "    def on_epoch_end(self, epoch, logs={}):\n",
    "        return\n",
    " \n",
    "    def on_batch_begin(self, batch, logs={}):\n",
    "        return\n",
    " \n",
    "    def on_batch_end(self, batch, logs={}):\n",
    "        self.losses.append(logs.get('loss'))\n",
    "        return"
   ]
  },
  {
   "cell_type": "markdown",
   "metadata": {
    "colab_type": "text",
    "id": "_ycjQ8CXCvTB"
   },
   "source": [
    "В Keras уже есть несколько реализованных коллбеков:"
   ]
  },
  {
   "cell_type": "code",
   "execution_count": 0,
   "metadata": {
    "colab": {},
    "colab_type": "code",
    "id": "7uZremveCvTD"
   },
   "outputs": [],
   "source": [
    "# Сохраняет модель в конце каждой эпохи\n",
    "keras.callbacks.ModelCheckpoint(filepath='', monitor='val_loss', verbose=0, save_best_only=False, save_weights_only=False, mode='auto', period=1)"
   ]
  },
  {
   "cell_type": "code",
   "execution_count": 0,
   "metadata": {
    "colab": {},
    "colab_type": "code",
    "id": "K8d19Y1ACvTJ"
   },
   "outputs": [],
   "source": [
    "# Останавливает обучение по какому либо критерию. Например, loss не уменьшается две эпохи подряд\n",
    "keras.callbacks.EarlyStopping(monitor='val_loss', patience=2)"
   ]
  },
  {
   "cell_type": "code",
   "execution_count": 0,
   "metadata": {
    "colab": {},
    "colab_type": "code",
    "id": "J68KNm3DCvTQ"
   },
   "outputs": [],
   "source": [
    "# пишет в директорию log_dir все логи в формате, который читает TensorBoard\n",
    "keras.callbacks.TensorBoard(log_dir='./logs', histogram_freq=0, batch_size=32, write_graph=True, write_grads=False, write_images=False, embeddings_freq=0, embeddings_layer_names=None, embeddings_metadata=None, embeddings_data=None, update_freq='epoch')"
   ]
  },
  {
   "cell_type": "code",
   "execution_count": 0,
   "metadata": {
    "colab": {},
    "colab_type": "code",
    "id": "xjszCSl-CvTU"
   },
   "outputs": [],
   "source": [
    "# Скоращает learning rate, когда loss не уменьшается несколько эпох подряд:\n",
    "keras.callbacks.ReduceLROnPlateau(monitor='val_loss', factor=0.1, patience=10, verbose=0, mode='auto', min_delta=0.0001, cooldown=0, min_lr=0)"
   ]
  },
  {
   "cell_type": "markdown",
   "metadata": {
    "colab_type": "text",
    "id": "eV86ZptsCvTY"
   },
   "source": [
    "Вы можете написать свой собственный коллбек, который будет отправлять метрики обучения в телеграмм/на почту после каждой эпохи/батча"
   ]
  },
  {
   "cell_type": "markdown",
   "metadata": {
    "colab_type": "text",
    "id": "tsjMnYFTCvTg"
   },
   "source": [
    "## Losses:"
   ]
  },
  {
   "cell_type": "markdown",
   "metadata": {
    "colab_type": "text",
    "id": "5nLHxHRPEiAu"
   },
   "source": [
    "Различные функции потерь, которые будет оптимизировать модель\n",
    "https://keras.io/losses/"
   ]
  },
  {
   "cell_type": "code",
   "execution_count": 0,
   "metadata": {
    "colab": {},
    "colab_type": "code",
    "id": "jpLvpUNzCvTg"
   },
   "outputs": [],
   "source": [
    "from keras import losses\n",
    "\n",
    "# Функция потерь передается в модель на этапе компилирования. Следующие две записи эквивалентны:\n",
    "model.compile(loss='mean_squared_error', optimizer='sgd')\n",
    "model.compile(loss=losses.mean_squared_error, optimizer='sgd')\n",
    "\n",
    "# Для задачи регрессии наиболее популярные функции:\n",
    "keras.losses.mean_squared_error(y_true, y_pred)\n",
    "keras.losses.mean_absolute_error(y_true, y_pred)\n",
    "keras.losses.mean_absolute_percentage_error(y_true, y_pred)\n",
    "keras.losses.logcosh(y_true, y_pred)\n",
    "\n",
    "# Для задачи многоклассовой классификации:\n",
    "keras.losses.categorical_crossentropy(y_true, y_pred)\n",
    "# Для задачи бинарной классификации:\n",
    "keras.losses.binary_crossentropy(y_true, y_pred)"
   ]
  },
  {
   "cell_type": "markdown",
   "metadata": {
    "colab_type": "text",
    "id": "DwFGS5sFpt-_"
   },
   "source": [
    "Или вы можете добавить кастомный лосс, который будет оптимизироваться в ходе обучения. Делать его придется при помощи backend Кераса. "
   ]
  },
  {
   "cell_type": "code",
   "execution_count": 0,
   "metadata": {
    "colab": {},
    "colab_type": "code",
    "id": "kXKb68F-ptLZ"
   },
   "outputs": [],
   "source": [
    "def customLoss(yTrue,yPred):\n",
    "    return K.sum(K.log(yTrue) - K.log(yPred))\n",
    "\n",
    "model = Sequential()\n",
    "model.add(Dense(10, input_dim=100))\n",
    "\n",
    "\n",
    "model.compile(loss=customLoss,\n",
    "              optimizer='sgd',\n",
    "              metrics=['acc'])\n",
    "\n",
    "model.fit(x_train, y_train, epochs=3)"
   ]
  },
  {
   "cell_type": "markdown",
   "metadata": {
    "colab_type": "text",
    "id": "exMDKiA0CvTl"
   },
   "source": [
    "## Metrics:"
   ]
  },
  {
   "cell_type": "markdown",
   "metadata": {
    "colab_type": "text",
    "id": "fqHq0ykEEol9"
   },
   "source": [
    "Метрика отличается от loss function тем, что результаты метрик никак не используются в ходе обучения. Лосс - функция, которую модель оптимизирует. Метрики - показатели перфоманса модели для человека. В то же время любую из loss функций можно использовать как метрику\n",
    "https://keras.io/metrics/"
   ]
  },
  {
   "cell_type": "markdown",
   "metadata": {
    "colab_type": "text",
    "id": "ArHpxBGuFLlD"
   },
   "source": [
    "Метрики, как и лосс функция, подаются на жтапе компилирования модели через аргумент metrics:"
   ]
  },
  {
   "cell_type": "code",
   "execution_count": 0,
   "metadata": {
    "colab": {},
    "colab_type": "code",
    "id": "e1HaGZtbCvTn"
   },
   "outputs": [],
   "source": [
    "model.compile(loss='mean_squared_error',\n",
    "              optimizer='sgd',\n",
    "              metrics=['mae', 'acc'])\n",
    "# Другой вариант:\n",
    "from keras import metrics\n",
    "\n",
    "model.compile(loss='mean_squared_error',\n",
    "              optimizer='sgd',\n",
    "              metrics=[metrics.mae, metrics.categorical_accuracy])\n",
    "\n",
    "\n",
    "# Или для задачи многоклассовой классификации:\n",
    "model.compile(loss='categorical_crossentropy',\n",
    "              optimizer='sgd',\n",
    "              metrics=['acc'])\n"
   ]
  },
  {
   "cell_type": "markdown",
   "metadata": {
    "colab_type": "text",
    "id": "zfHCbfq1FX20"
   },
   "source": [
    "Также можно сделать кастомную метрику. Делать её придется снова при помощи backend Кераса. Пример:"
   ]
  },
  {
   "cell_type": "code",
   "execution_count": 0,
   "metadata": {
    "colab": {},
    "colab_type": "code",
    "id": "kOa_eiFcCvTp"
   },
   "outputs": [],
   "source": [
    "# Custom metrics:\n",
    "import keras.backend as K\n",
    "\n",
    "def mean_pred(y_true, y_pred):\n",
    "    return K.mean(y_pred)\n",
    "\n",
    "model.compile(optimizer='rmsprop',\n",
    "              loss='binary_crossentropy',\n",
    "              metrics=['acc', mean_pred])"
   ]
  },
  {
   "cell_type": "markdown",
   "metadata": {
    "colab_type": "text",
    "id": "Vm1-VMF_CvTt"
   },
   "source": [
    "## Optimizers:"
   ]
  },
  {
   "cell_type": "markdown",
   "metadata": {
    "colab_type": "text",
    "id": "dAvy2da2GdBZ"
   },
   "source": [
    "https://keras.io/optimizers/"
   ]
  },
  {
   "cell_type": "code",
   "execution_count": 0,
   "metadata": {
    "colab": {},
    "colab_type": "code",
    "id": "SFpIllUyCvTt"
   },
   "outputs": [],
   "source": [
    "# Как обычно, можно передать через строковую переменную:\n",
    "model.compile(loss='mean_squared_error', optimizer='sgd')\n",
    "\n",
    "# а можно и через инстанс класса:\n",
    "from keras import optimizers\n",
    "model.compile(loss='mean_squared_error', optimizer=keras.optimizers.SGD(lr=0.01, momentum=0.0, decay=0.0, nesterov=False))\n",
    "\n",
    "# Другие популярные оптимизаторы:\n",
    "keras.optimizers.SGD(lr=0.01, momentum=0.0, decay=0.0, nesterov=False)\n",
    "keras.optimizers.RMSprop(lr=0.001, rho=0.9, epsilon=None, decay=0.0)\n",
    "keras.optimizers.Adagrad(lr=0.01, epsilon=None, decay=0.0)\n",
    "keras.optimizers.Adadelta(lr=1.0, rho=0.95, epsilon=None, decay=0.0)\n",
    "keras.optimizers.Adam(lr=0.001, beta_1=0.9, beta_2=0.999, epsilon=None, decay=0.0, amsgrad=False)"
   ]
  },
  {
   "cell_type": "markdown",
   "metadata": {
    "colab_type": "text",
    "id": "Cb03-6jxtXE_"
   },
   "source": [
    "## Задача:"
   ]
  },
  {
   "cell_type": "markdown",
   "metadata": {
    "colab_type": "text",
    "id": "BpP3BZjptXE_"
   },
   "source": [
    "Создать свою нейронную сеть с:\n",
    "- На вход подается черно-белое изображение размером (28, 28) \n",
    "- В сеть добавить 3 блока Свертка-MaxPool. Каждый из MaxPool имеет окно (2, 2), Число фильтров для сверток: (16, 32, 64), размеры окна для сверток во всех случаях (3, 3)\n",
    "- После первого блока Conv-MaxPool добавить Dropout слой с rate=0.3\n",
    "- В конце сети добавить 2 слоя Dense, первый размерность выхода (batch_size, 32). Пусть число возможных классов 10, поэтому второй Dense слой имеет размерность на выходе (batch_size, 10)\n",
    "- Не забудьте добавить softmax как функция активации для последнего слоя"
   ]
  },
  {
   "cell_type": "code",
   "execution_count": 0,
   "metadata": {
    "colab": {},
    "colab_type": "code",
    "id": "VzOzZbswtXFA"
   },
   "outputs": [],
   "source": [
    "# <Your Code>\n",
    "model = Sequential()\n",
    "model.add(InputLayer((28, 28)))\n",
    "model.add(Reshape((28, 28, -1)))\n",
    "model.add(Conv2D(16, (3, 3), activation='relu'))\n",
    "model.add(MaxPool2D())\n",
    "model.add(Dropout(0.3))\n",
    "\n",
    "model.add(Conv2D(32, (3, 3), activation='relu'))\n",
    "model.add(MaxPool2D())\n",
    "\n",
    "model.add(Conv2D(64, (3, 3), activation='relu'))\n",
    "model.add(MaxPool2D())\n",
    "\n",
    "model.add(Flatten())\n",
    "model.add(Dense(32, activation='relu'))\n",
    "model.add(Dense(10, activation='softmax'))\n",
    "model.summary()"
   ]
  },
  {
   "cell_type": "code",
   "execution_count": 0,
   "metadata": {
    "colab": {},
    "colab_type": "code",
    "id": "RuX0zL2NtXFC"
   },
   "outputs": [],
   "source": [
    "# Проверьте правильно ли вы построили модель:\n",
    "assert model.count_params() == 25706"
   ]
  },
  {
   "cell_type": "markdown",
   "metadata": {
    "colab_type": "text",
    "id": "vxw-hLkPtXFH"
   },
   "source": [
    "Теперь скомпилируем модель. Задача многоклассовой классификации, какую функцию потерь будем использовать?\n",
    "В качестве оптимизатора можете выбрать свой. Метрики - accuracy"
   ]
  },
  {
   "cell_type": "code",
   "execution_count": 0,
   "metadata": {
    "colab": {},
    "colab_type": "code",
    "id": "wRifIsegtXFI"
   },
   "outputs": [],
   "source": [
    "# <Your Code>\n",
    "model.compile(loss='categorical_crossentropy',\n",
    "              optimizer='adam',\n",
    "              metrics=['acc'])"
   ]
  },
  {
   "cell_type": "markdown",
   "metadata": {
    "colab_type": "text",
    "id": "WqLTDDk9tXFO"
   },
   "source": [
    "Сделайте model.fit() с следующими параметрами:\n",
    "1. Размер батча: 64\n",
    "2. Число эпох: 3\n",
    "3. Отведите под валдиацию 10% выборки\n",
    "4. Подайте в fit Callback: TQDMNotebookCallback() (чтобы установить pip install keras-tqdm, импорт: from keras_tqdm import TQDMNotebookCallback)\n",
    "5. Подайте в fit Callback Tensorboard'a (чуть ниже будет объяснено про это подробнее)"
   ]
  },
  {
   "cell_type": "code",
   "execution_count": 0,
   "metadata": {
    "colab": {},
    "colab_type": "code",
    "id": "Sn3uQQTdzsej"
   },
   "outputs": [],
   "source": [
    "# Импортим CallBack tqdm'a. Если не работает импорт - установить через !pip install keras-tqdm\n",
    "from keras_tqdm import TQDMNotebookCallback\n",
    "# В fit() подайте инстанс объекта TQDMNotebookCallback\n",
    "# Теперь делаем импорт Callback'a для визуализации в TensorBoard:\n",
    "from tensorboardcolab import *\n",
    "tbc=TensorBoardColab() # генерирует URL\n",
    "# В fit же передайте объект TensorBoardColabCallback(tbc)"
   ]
  },
  {
   "cell_type": "markdown",
   "metadata": {
    "colab_type": "text",
    "id": "ua-tNrPvmQKp"
   },
   "source": [
    "Если не открывается URL, то нужно включить VPN. Например, через opera vpn или установить на Chrome расширение (например, Browsec https://chrome.google.com/webstore/detail/browsec-vpn-free-and-unli/omghfjlpggmjjaagoclmmobgdodcjboh)"
   ]
  },
  {
   "cell_type": "code",
   "execution_count": 0,
   "metadata": {
    "colab": {},
    "colab_type": "code",
    "id": "z_uHoT5YtXFP"
   },
   "outputs": [],
   "source": [
    "# Загружаем MNIST датасет:\n",
    "from keras.datasets import mnist\n",
    "(x_train, y_train), (x_test, y_test) = mnist.load_data()\n",
    "x_train = x_train / 255.0\n",
    "x_test = x_test / 255.0\n",
    "\n",
    "x_train.shape"
   ]
  },
  {
   "cell_type": "code",
   "execution_count": 0,
   "metadata": {
    "colab": {},
    "colab_type": "code",
    "id": "4-KXl1xZtXFU"
   },
   "outputs": [],
   "source": [
    "# Визуализация датасета:\n",
    "from matplotlib import pyplot as plt\n",
    "%matplotlib inline\n",
    "# preview the images first\n",
    "plt.figure(figsize=(12,10))\n",
    "x, y = 10, 4\n",
    "for i in range(40):  \n",
    "    plt.subplot(y, x, i+1)\n",
    "    plt.imshow(x_train[i].reshape((28,28)),interpolation='nearest')\n",
    "plt.show()"
   ]
  },
  {
   "cell_type": "code",
   "execution_count": 0,
   "metadata": {
    "colab": {},
    "colab_type": "code",
    "id": "hUVJ3giPtXFZ"
   },
   "outputs": [],
   "source": [
    "# Здесь сделайте fit\n",
    "# <Your Code>\n",
    "model.fit(x=x_train, y=keras.utils.to_categorical(y_train), epochs=1, verbose=1,\n",
    "          batch_size=64, validation_split=0.1, callbacks=[TB, TQDMNotebookCallback(leave_inner=True)])"
   ]
  },
  {
   "cell_type": "code",
   "execution_count": 0,
   "metadata": {
    "colab": {},
    "colab_type": "code",
    "id": "I8L6WpTBtXFf"
   },
   "outputs": [],
   "source": [
    "# оценим итоговое качество модели на отложенной выборке: \n",
    "model.evaluate(x_test, keras.utils.to_categorical(y_test))"
   ]
  },
  {
   "cell_type": "markdown",
   "metadata": {
    "colab_type": "text",
    "id": "zDilsla7tXFj"
   },
   "source": [
    "Ниже визуализация верных/неверных предсказаний:"
   ]
  },
  {
   "cell_type": "code",
   "execution_count": 0,
   "metadata": {
    "colab": {},
    "colab_type": "code",
    "id": "4hCjiL5atXFl"
   },
   "outputs": [],
   "source": [
    "import numpy as np\n",
    "predicted_classes = model.predict_classes(x_test)\n",
    "\n",
    "# see which we predicted correctly and which not\n",
    "correct_indices = np.nonzero(predicted_classes == y_test)[0]\n",
    "incorrect_indices = np.nonzero(predicted_classes != y_test)[0]\n",
    "print()\n",
    "print(len(correct_indices),\" classified correctly\")\n",
    "print(len(incorrect_indices),\" classified incorrectly\")\n",
    "\n",
    "# adapt figure size to accomodate 18 subplots\n",
    "plt.rcParams['figure.figsize'] = (7,14)\n",
    "\n",
    "figure_evaluation = plt.figure()\n",
    "\n",
    "# plot 9 correct predictions\n",
    "for i, correct in enumerate(correct_indices[:9]):\n",
    "    plt.subplot(6,3,i+1)\n",
    "    plt.imshow(x_test[correct].reshape(28,28), cmap='gray', interpolation='none')\n",
    "    plt.title(\n",
    "      \"Predicted: {}, Truth: {}\".format(predicted_classes[correct],\n",
    "                                        y_test[correct]))\n",
    "    plt.xticks([])\n",
    "    plt.yticks([])\n",
    "\n",
    "# plot 9 incorrect predictions\n",
    "for i, incorrect in enumerate(incorrect_indices[:9]):\n",
    "    plt.subplot(6,3,i+10)\n",
    "    plt.imshow(x_test[incorrect].reshape(28,28), cmap='gray', interpolation='none')\n",
    "    plt.title(\n",
    "      \"Predicted {}, Truth: {}\".format(predicted_classes[incorrect], \n",
    "                                       y_test[incorrect]))\n",
    "    plt.xticks([])\n",
    "    plt.yticks([])\n",
    "\n",
    "figure_evaluation"
   ]
  },
  {
   "cell_type": "markdown",
   "metadata": {
    "colab_type": "text",
    "id": "7K15cxLiCvTx"
   },
   "source": [
    "## Visualization:"
   ]
  },
  {
   "cell_type": "markdown",
   "metadata": {
    "colab_type": "text",
    "id": "XFpqvEhvG2Pf"
   },
   "source": [
    "```model.fit()``` автоматически сохраняет историю обучения, которую можно визуализировать следующим образом:"
   ]
  },
  {
   "cell_type": "code",
   "execution_count": 0,
   "metadata": {
    "colab": {},
    "colab_type": "code",
    "id": "-8g-nO2fCvT0"
   },
   "outputs": [],
   "source": [
    "import matplotlib.pyplot as plt\n",
    "\n",
    "x_train = np.random.random((1000, 100))\n",
    "y_train = np_utils.to_categorical(np.random.randint(10, size=(1000, 1)))\n",
    "\n",
    "model = Sequential()\n",
    "model.add(InputLayer(input_shape=(100, )))\n",
    "#model.add(Flatten())\n",
    "model.add(Dense(10, activation='softmax'))\n",
    "\n",
    "model.compile(loss='categorical_crossentropy', optimizer='sgd', metrics=['acc'])\n",
    "\n",
    "history = model.fit(x_train, y_train, validation_split=0.25, epochs=50, batch_size=16, verbose=1)\n",
    "\n",
    "# Plot training & validation accuracy values\n",
    "plt.plot(history.history['acc'])\n",
    "plt.plot(history.history['val_acc'])\n",
    "plt.title('Model accuracy')\n",
    "plt.ylabel('Accuracy')\n",
    "plt.xlabel('Epoch')\n",
    "plt.legend(['Train', 'Test'], loc='upper left')\n",
    "plt.show()\n",
    "\n",
    "# Plot training & validation loss values\n",
    "plt.plot(history.history['loss'])\n",
    "plt.plot(history.history['val_loss'])\n",
    "plt.title('Model loss')\n",
    "plt.ylabel('Loss')\n",
    "plt.xlabel('Epoch')\n",
    "plt.legend(['Train', 'Test'], loc='upper left')\n",
    "plt.show()"
   ]
  },
  {
   "cell_type": "markdown",
   "metadata": {
    "colab_type": "text",
    "id": "UEm38jpQCvTZ"
   },
   "source": [
    "## Image Preprocessing"
   ]
  },
  {
   "cell_type": "markdown",
   "metadata": {
    "colab_type": "text",
    "id": "WKZEotvfCvTa"
   },
   "source": [
    "Для аугментации изображений можно использовать ImageDataGenerator"
   ]
  },
  {
   "cell_type": "code",
   "execution_count": 0,
   "metadata": {
    "colab": {},
    "colab_type": "code",
    "id": "ArUQ5XbcCvTb"
   },
   "outputs": [],
   "source": [
    "# Объявляем объект из класса ImageDataGenerator.\n",
    "datagen = ImageDataGenerator(\n",
    "    featurewise_center=True,\n",
    "    featurewise_std_normalization=True,\n",
    "    rotation_range=20,\n",
    "    width_shift_range=0.2,\n",
    "    height_shift_range=0.2,\n",
    "    horizontal_flip=True)\n",
    "\n",
    "# фитим его на данные\n",
    "datagen.fit(x_train)\n",
    "\n",
    "# делаем fit модели с аугментацией данных\n",
    "model.fit_generator(datagen.flow(x_train, y_train, batch_size=16),\n",
    "                    steps_per_epoch=len(x_train) / 32, epochs=5)\n",
    "\n",
    "# или можно то же самое в цикле:\n",
    "for e in range(5):\n",
    "    print('Epoch', e)\n",
    "    batches = 0\n",
    "    for x_batch, y_batch in datagen.flow(x_train, y_train, batch_size=16):\n",
    "        model.fit(x_batch, y_batch)\n",
    "        batches += 1\n",
    "        if batches >= len(x_train) / 32:\n",
    "            break"
   ]
  },
  {
   "cell_type": "markdown",
   "metadata": {
    "colab_type": "text",
    "collapsed": true,
    "id": "ygM1ZR8vCvT6"
   },
   "source": [
    "## Некоторые вопросы из FAQ:"
   ]
  },
  {
   "cell_type": "markdown",
   "metadata": {
    "colab_type": "text",
    "id": "H4s0j2iVCvT6"
   },
   "source": [
    "1.Как можно импортировать обученные модели в Keras?"
   ]
  },
  {
   "cell_type": "code",
   "execution_count": 0,
   "metadata": {
    "colab": {},
    "colab_type": "code",
    "id": "A3XzQsI5CvT7"
   },
   "outputs": [],
   "source": [
    "from keras.applications.xception import Xception\n",
    "from keras.applications.vgg16 import VGG16\n",
    "from keras.applications.vgg19 import VGG19\n",
    "from keras.applications.resnet50 import ResNet50\n",
    "from keras.applications.inception_v3 import InceptionV3\n",
    "from keras.applications.inception_resnet_v2 import InceptionResNetV2\n",
    "from keras.applications.mobilenet import MobileNet\n",
    "from keras.applications.densenet import DenseNet121\n",
    "from keras.applications.densenet import DenseNet169\n",
    "from keras.applications.densenet import DenseNet201\n",
    "from keras.applications.nasnet import NASNetLarge\n",
    "from keras.applications.nasnet import NASNetMobile\n",
    "from keras.applications.mobilenet_v2 import MobileNetV2\n",
    "\n",
    "model = VGG16(weights='imagenet', include_top=True)"
   ]
  },
  {
   "cell_type": "markdown",
   "metadata": {
    "colab_type": "text",
    "id": "lGA3uxqmCvUA"
   },
   "source": [
    " 2.Как заморозить обучение некоторых слоев в нейронной сети?"
   ]
  },
  {
   "cell_type": "code",
   "execution_count": 0,
   "metadata": {
    "colab": {},
    "colab_type": "code",
    "id": "gNChP8ctCvUA"
   },
   "outputs": [],
   "source": [
    "# у каждого слоя есть параметр trainable, по умолчанию он true\n",
    "for layer in model.layers[:1]:\n",
    "    layer.trainable = False"
   ]
  },
  {
   "cell_type": "markdown",
   "metadata": {
    "colab_type": "text",
    "id": "18nRMXe_CvUC"
   },
   "source": [
    "3.Как мне удалить слой из модели Sequential?"
   ]
  },
  {
   "cell_type": "code",
   "execution_count": 0,
   "metadata": {
    "colab": {},
    "colab_type": "code",
    "id": "3v-kUBlECvUC"
   },
   "outputs": [],
   "source": [
    "model = Sequential()\n",
    "model.add(Dense(32, activation='relu', input_dim=784))\n",
    "model.add(Dense(32, activation='relu'))\n",
    "\n",
    "print(len(model.layers))  # \"2\"\n",
    "\n",
    "model.pop()\n",
    "print(len(model.layers))  # \"1\""
   ]
  },
  {
   "cell_type": "code",
   "execution_count": 0,
   "metadata": {
    "colab": {},
    "colab_type": "code",
    "id": "8AzqVsXc2QWY"
   },
   "outputs": [],
   "source": [
    "model.summary()\n"
   ]
  },
  {
   "cell_type": "code",
   "execution_count": 0,
   "metadata": {
    "colab": {},
    "colab_type": "code",
    "id": "nkleGWDb4DFt"
   },
   "outputs": [],
   "source": [
    "model.input_shape"
   ]
  },
  {
   "cell_type": "markdown",
   "metadata": {
    "colab_type": "text",
    "id": "BbZY07kICvUE"
   },
   "source": [
    "4.Как мне получить output некоторого слоя нейронной сети?"
   ]
  },
  {
   "cell_type": "code",
   "execution_count": 0,
   "metadata": {
    "colab": {},
    "colab_type": "code",
    "id": "dCqnaLsOCvUG"
   },
   "outputs": [],
   "source": [
    "from keras.models import Model\n",
    "\n",
    "#model = ...  # объявите модель\n",
    "\n",
    "# random data:\n",
    "data = np.random.randint(low=1, high=10, size=(100, model.input_shape[1]))\n",
    "\n",
    "layer_name = model.layers[0].name\n",
    "intermediate_layer_model = Model(inputs=model.input,\n",
    "                                 outputs=model.get_layer(layer_name).output)\n",
    "intermediate_output = intermediate_layer_model.predict(data)"
   ]
  },
  {
   "cell_type": "markdown",
   "metadata": {
    "colab_type": "text",
    "id": "aeGE79JICvUI"
   },
   "source": [
    "5.Как мне обучать модель, если данные не помещаются в оперативную память?\n"
   ]
  },
  {
   "cell_type": "markdown",
   "metadata": {
    "colab_type": "text",
    "id": "eW0LVBV-CvUJ"
   },
   "source": [
    "Можно использовать метод model.train_on_batch(x, y), итерируясь по батчам. Метод model.test_on_batch(x, y) позволит итерируясь по тестовым данным получить оценку качества модели\n"
   ]
  },
  {
   "cell_type": "markdown",
   "metadata": {
    "colab_type": "text",
    "id": "sXIkTRSkIQn2"
   },
   "source": [
    "Либо можно использовать метод fit_generator(), в который передается генератор данных:"
   ]
  },
  {
   "cell_type": "code",
   "execution_count": 0,
   "metadata": {
    "colab": {},
    "colab_type": "code",
    "id": "7NvYD6uzCvUK"
   },
   "outputs": [],
   "source": [
    "model.fit_generator(data_generator, steps_per_epoch, epochs)"
   ]
  },
  {
   "cell_type": "markdown",
   "metadata": {
    "colab_type": "text",
    "id": "DBw_3o6ICvUY"
   },
   "source": [
    "6.Как сохранять модель из Кераса?"
   ]
  },
  {
   "cell_type": "code",
   "execution_count": 0,
   "metadata": {
    "colab": {},
    "colab_type": "code",
    "id": "7tN_yeAeCvUY"
   },
   "outputs": [],
   "source": [
    "model.save(filepath) # architecture, weights, loss, the state of the optimizer, allowing to resume training exactly where you left off.\n",
    "keras.models.load_model(filepath)"
   ]
  },
  {
   "cell_type": "markdown",
   "metadata": {
    "colab_type": "text",
    "id": "P1G2YhIiIhU8"
   },
   "source": [
    "7.Как мне запустить обучение модели на GPU? Ответ: Keras это сделает за вас автоматически\n",
    "Чтобы узнать список используемых GPU и првоерить видит ли их Keras:"
   ]
  },
  {
   "cell_type": "code",
   "execution_count": 0,
   "metadata": {
    "colab": {},
    "colab_type": "code",
    "id": "NhJDBGk4I7MD"
   },
   "outputs": [],
   "source": [
    "from keras import backend as K\n",
    "K.tensorflow_backend._get_available_gpus()"
   ]
  },
  {
   "cell_type": "markdown",
   "metadata": {
    "colab_type": "text",
    "id": "eVtz5oZHCvUa"
   },
   "source": [
    "8.Как запустить обучение модели на нескольких GPU?"
   ]
  },
  {
   "cell_type": "code",
   "execution_count": 0,
   "metadata": {
    "colab": {},
    "colab_type": "code",
    "id": "wiQ9e2eGCvUa"
   },
   "outputs": [],
   "source": [
    "from keras.utils import multi_gpu_model\n",
    "\n",
    "# Replicates `model` on 8 GPUs.\n",
    "# This assumes that your machine has 8 available GPUs.\n",
    "parallel_model = multi_gpu_model(model, gpus=8)\n",
    "parallel_model.compile(loss='categorical_crossentropy',\n",
    "                       optimizer='rmsprop')\n",
    "\n",
    "# This `fit` call will be distributed on 8 GPUs.\n",
    "# Since the batch size is 256, each GPU will process 32 samples.\n",
    "parallel_model.fit(x, y, epochs=20, batch_size=256)"
   ]
  },
  {
   "cell_type": "code",
   "execution_count": 0,
   "metadata": {
    "colab": {},
    "colab_type": "code",
    "id": "vjJIQoSFc7fk"
   },
   "outputs": [],
   "source": []
  }
 ],
 "metadata": {
  "accelerator": "GPU",
  "colab": {
   "collapsed_sections": [
    "ETqBLxmTCvNZ",
    "Qvwc8Y8OCvOn",
    "zAw6dm3SCvPD",
    "60hGFPJdCvPV",
    "t8v8TPyGCvQO",
    "saaS59oYCvQb",
    "WhY8HvNsCvR0",
    "cGKDT5B9CvRn",
    "rm2kyecwCvRu",
    "SNYu-3_ZCvSG",
    "IvlF4vNhCvSM",
    "Lw3NZJceCvR6",
    "TY9EF9OqCvSR",
    "9DBLHs7pCvSb",
    "LUXvksVZCvSg",
    "HK-2pRD5CvSo",
    "dWh4BLr1CvSw",
    "tsjMnYFTCvTg",
    "exMDKiA0CvTl",
    "Vm1-VMF_CvTt",
    "7K15cxLiCvTx",
    "UEm38jpQCvTZ",
    "ygM1ZR8vCvT6"
   ],
   "name": "Copy of Tutorial_Keras.ipynb",
   "provenance": [],
   "version": "0.3.2"
  },
  "kernelspec": {
   "display_name": "Python 3",
   "language": "python",
   "name": "python3"
  },
  "language_info": {
   "codemirror_mode": {
    "name": "ipython",
    "version": 3
   },
   "file_extension": ".py",
   "mimetype": "text/x-python",
   "name": "python",
   "nbconvert_exporter": "python",
   "pygments_lexer": "ipython3",
   "version": "3.6.4"
  }
 },
 "nbformat": 4,
 "nbformat_minor": 1
}
