{
 "cells": [
  {
   "cell_type": "code",
   "execution_count": 3,
   "metadata": {
    "collapsed": true
   },
   "outputs": [
    {
     "ename": "ModuleNotFoundError",
     "evalue": "No module named 'keras'",
     "traceback": [
      "\u001b[1;31m---------------------------------------------------------------------------\u001b[0m",
      "\u001b[1;31mModuleNotFoundError\u001b[0m                       Traceback (most recent call last)",
      "\u001b[1;32m<ipython-input-3-36c2212623f1>\u001b[0m in \u001b[0;36m<module>\u001b[1;34m\u001b[0m\n\u001b[0;32m      2\u001b[0m \u001b[1;32mimport\u001b[0m \u001b[0msys\u001b[0m\u001b[1;33m\u001b[0m\u001b[1;33m\u001b[0m\u001b[0m\n\u001b[0;32m      3\u001b[0m \u001b[1;32mimport\u001b[0m \u001b[0margparse\u001b[0m\u001b[1;33m\u001b[0m\u001b[1;33m\u001b[0m\u001b[0m\n\u001b[1;32m----> 4\u001b[1;33m \u001b[1;32mimport\u001b[0m \u001b[0mkeras\u001b[0m\u001b[1;33m\u001b[0m\u001b[1;33m\u001b[0m\u001b[0m\n\u001b[0m\u001b[0;32m      5\u001b[0m \u001b[1;32mfrom\u001b[0m \u001b[0mkeras\u001b[0m\u001b[1;33m.\u001b[0m\u001b[0mapplications\u001b[0m \u001b[1;32mimport\u001b[0m \u001b[0mvgg16\u001b[0m\u001b[1;33m,\u001b[0m \u001b[0minception_v3\u001b[0m\u001b[1;33m,\u001b[0m \u001b[0mresnet50\u001b[0m\u001b[1;33m,\u001b[0m \u001b[0mmobilenet\u001b[0m\u001b[1;33m,\u001b[0m \u001b[0mxception\u001b[0m\u001b[1;33m,\u001b[0m \u001b[0mvgg19\u001b[0m\u001b[1;33m,\u001b[0m \u001b[0mInceptionResNetV2\u001b[0m\u001b[1;33m,\u001b[0m \u001b[0mmobilenetv2\u001b[0m\u001b[1;33m\u001b[0m\u001b[1;33m\u001b[0m\u001b[0m\n\u001b[0;32m      6\u001b[0m \u001b[1;32mfrom\u001b[0m \u001b[0mkeras\u001b[0m\u001b[1;33m.\u001b[0m\u001b[0mapplications\u001b[0m\u001b[1;33m.\u001b[0m\u001b[0mdensenet\u001b[0m \u001b[1;32mimport\u001b[0m \u001b[0mDenseNet121\u001b[0m\u001b[1;33m\u001b[0m\u001b[1;33m\u001b[0m\u001b[0m\n",
      "\u001b[1;31mModuleNotFoundError\u001b[0m: No module named 'keras'"
     ],
     "output_type": "error"
    }
   ],
   "source": [
    "import os\n",
    "import sys\n",
    "import argparse\n",
    "import keras\n",
    "from keras.applications import vgg16, inception_v3, resnet50, mobilenet, xception, vgg19, InceptionResNetV2, mobilenetv2\n",
    "from keras.applications.densenet import DenseNet121\n",
    "from keras.applications.nasnet import NASNetMobile\n",
    "from keras.models import Sequential\n",
    "from keras.preprocessing import image\n",
    "from keras.layers.core import Activation, Reshape, Dense, Flatten\n",
    "from keras.layers import Conv2D\n",
    "from keras.models import Model\n",
    "from keras import optimizers\n",
    "from keras.callbacks import ModelCheckpoint\n",
    "from keras.layers import DepthwiseConv2D\n",
    "#from keras.applications.mobilenet import relu6\n",
    "from keras.utils.generic_utils import CustomObjectScope\n",
    "from PIL import ImageFile\n",
    "ImageFile.LOAD_TRUNCATED_IMAGES = True\n",
    "PROJECT_PATH = os.path.dirname(os.path.dirname(os.path.abspath(__file__)))\n",
    "sys.path.append(PROJECT_PATH)\n",
    "from engine.tools.calculate_usage_memory import get_model_memory_usage\n",
    "from engine.logger import TFLogger\n",
    "from engine.tools.filesystem_functions import count_folders, get_barcode_class\n",
    "from engine.tools.add_metrics import precision, recall\n",
    "\n",
    "args = {'batch_size': 64, 'data_path': os.path.join(PROJECT_PATH, 'data', 'TEMP_CODE'), 'previous_model': ''}\n",
    "\n",
    "\n",
    "\n",
    "\"\"\" Define barcode class and underlying classes number from file structure \"\"\"\n",
    "NUM_CLASSES = count_folders(os.path.join(args['data_path'], 'train'))\n",
    "BARCODE = get_barcode_class(args['data_path'])\n",
    "SUPPORT_FILES_PATH = os.path.join(PROJECT_PATH, 'resource', BARCODE, 'support_files')\n",
    "\n",
    "\"\"\" Check if previously trained model is used \"\"\"\n",
    "if args['previous_model'] == '':\n",
    "    TRAIN_FROM_ZERO = True\n",
    "else:\n",
    "    TRAIN_FROM_ZERO = False\n"
   ]
  },
  {
   "cell_type": "code",
   "execution_count": 4,
   "metadata": {},
   "outputs": [],
   "source": [
    "!pip install keras"
   ]
  },
  {
   "cell_type": "code",
   "execution_count": 6,
   "metadata": {},
   "outputs": [
    {
     "name": "stdout",
     "output_type": "stream",
     "text": [
      "Requirement already satisfied: keras in c:\\users\\ddenisov\\appdata\\local\\continuum\\anaconda3\\lib\\site-packages (2.2.4)\nRequirement already satisfied: pyyaml in c:\\users\\ddenisov\\appdata\\local\\continuum\\anaconda3\\lib\\site-packages (from keras) (3.13)\nRequirement already satisfied: six>=1.9.0 in c:\\users\\ddenisov\\appdata\\local\\continuum\\anaconda3\\lib\\site-packages (from keras) (1.12.0)\nRequirement already satisfied: scipy>=0.14 in c:\\users\\ddenisov\\appdata\\local\\continuum\\anaconda3\\lib\\site-packages (from keras) (1.1.0)\nRequirement already satisfied: numpy>=1.9.1 in c:\\users\\ddenisov\\appdata\\local\\continuum\\anaconda3\\lib\\site-packages (from keras) (1.15.4)\nRequirement already satisfied: h5py in c:\\users\\ddenisov\\appdata\\local\\continuum\\anaconda3\\lib\\site-packages (from keras) (2.8.0)\nRequirement already satisfied: keras-applications>=1.0.6 in c:\\users\\ddenisov\\appdata\\local\\continuum\\anaconda3\\lib\\site-packages (from keras) (1.0.7)\nRequirement already satisfied: keras-preprocessing>=1.0.5 in c:\\users\\ddenisov\\appdata\\local\\continuum\\anaconda3\\lib\\site-packages (from keras) (1.0.6)\n"
     ]
    }
   ],
   "source": [
    "!pip install keras --proxy http://rumos0800:3128"
   ]
  },
  {
   "cell_type": "code",
   "execution_count": null,
   "metadata": {},
   "outputs": [],
   "source": []
  }
 ],
 "metadata": {
  "kernelspec": {
   "display_name": "Python 2",
   "language": "python",
   "name": "python2"
  },
  "language_info": {
   "codemirror_mode": {
    "name": "ipython",
    "version": 2
   },
   "file_extension": ".py",
   "mimetype": "text/x-python",
   "name": "python",
   "nbconvert_exporter": "python",
   "pygments_lexer": "ipython2",
   "version": "2.7.6"
  }
 },
 "nbformat": 4,
 "nbformat_minor": 0
}
