{
  "nbformat": 4,
  "nbformat_minor": 0,
  "metadata": {
    "colab": {
      "name": "Copy of Tutorial_Keras.ipynb",
      "version": "0.3.2",
      "provenance": [],
      "collapsed_sections": [
        "ETqBLxmTCvNZ",
        "Qvwc8Y8OCvOn",
        "zAw6dm3SCvPD",
        "60hGFPJdCvPV",
        "t8v8TPyGCvQO",
        "saaS59oYCvQb",
        "WhY8HvNsCvR0",
        "cGKDT5B9CvRn",
        "rm2kyecwCvRu",
        "SNYu-3_ZCvSG",
        "IvlF4vNhCvSM",
        "Lw3NZJceCvR6",
        "TY9EF9OqCvSR",
        "9DBLHs7pCvSb",
        "LUXvksVZCvSg",
        "HK-2pRD5CvSo",
        "dWh4BLr1CvSw",
        "tsjMnYFTCvTg",
        "exMDKiA0CvTl",
        "Vm1-VMF_CvTt",
        "7K15cxLiCvTx",
        "UEm38jpQCvTZ",
        "ygM1ZR8vCvT6"
      ]
    },
    "kernelspec": {
      "name": "python3",
      "display_name": "Python 3"
    },
    "accelerator": "GPU"
  },
  "cells": [
    {
      "metadata": {
        "colab_type": "text",
        "deletable": true,
        "editable": true,
        "id": "mPM-aDw0CvNS"
      },
      "cell_type": "markdown",
      "source": [
        "# Keras tutorial"
      ]
    },
    {
      "metadata": {
        "colab_type": "text",
        "deletable": true,
        "editable": true,
        "id": "y06rlTsXCvNT"
      },
      "cell_type": "markdown",
      "source": [
        "Keras - это высокоуровневый API, написанный на Python и способный работать поверх TensorFlow, CNTK или Theano."
      ]
    },
    {
      "metadata": {
        "colab_type": "text",
        "deletable": true,
        "editable": true,
        "id": "KtvVRimpCvNV"
      },
      "cell_type": "markdown",
      "source": [
        "__Преимущество:__ Переход от идеи к результату с наименьшими затратами по времени"
      ]
    },
    {
      "metadata": {
        "colab_type": "text",
        "deletable": true,
        "editable": true,
        "id": "z2_yWJEXCvNX"
      },
      "cell_type": "markdown",
      "source": [
        "Вам скорее всего подойдет Keras, если от библиотеки DL вам нужно:\n",
        "\n",
        "- Легко и быстро создавать прототипы (удобство, модульность и расширяемость)\n",
        "- Поддерживать как сверточные сети, так и рекуррентные сети, а также их комбинации\n",
        "- Работать без проблем на CPU или GPU"
      ]
    },
    {
      "metadata": {
        "colab_type": "text",
        "deletable": true,
        "editable": true,
        "id": "tvSmjQwUCvNY"
      },
      "cell_type": "markdown",
      "source": [
        "Удобство для пользователя: Keras - это API, разработанный для людей, а не для машин"
      ]
    },
    {
      "metadata": {
        "colab_type": "text",
        "deletable": true,
        "editable": true,
        "id": "ETqBLxmTCvNZ"
      },
      "cell_type": "markdown",
      "source": [
        "## Запускаем Keras за 30 секунд:"
      ]
    },
    {
      "metadata": {
        "colab_type": "code",
        "deletable": true,
        "editable": true,
        "id": "DDmTIxTUCvNa",
        "colab": {}
      },
      "cell_type": "code",
      "source": [
        "from keras.models import Sequential\n",
        "import keras\n",
        "model = Sequential()"
      ],
      "execution_count": 0,
      "outputs": []
    },
    {
      "metadata": {
        "colab_type": "text",
        "deletable": true,
        "editable": true,
        "id": "J_ISBCy2CvNh"
      },
      "cell_type": "markdown",
      "source": [
        "Стакаем слои через .add():"
      ]
    },
    {
      "metadata": {
        "colab_type": "code",
        "deletable": true,
        "editable": true,
        "id": "C2po5hzDCvNj",
        "colab": {}
      },
      "cell_type": "code",
      "source": [
        "from keras.layers import Dense\n",
        "\n",
        "model.add(Dense(units=64, activation='relu', input_dim=100)) # input_dim=100 <=> input_shape=(100, )\n",
        "model.add(Dense(units=10, activation='softmax'))"
      ],
      "execution_count": 0,
      "outputs": []
    },
    {
      "metadata": {
        "colab_type": "code",
        "deletable": true,
        "editable": true,
        "id": "BW5EP1ESCvNo",
        "colab": {}
      },
      "cell_type": "code",
      "source": [
        "model.summary()"
      ],
      "execution_count": 0,
      "outputs": []
    },
    {
      "metadata": {
        "colab_type": "text",
        "deletable": true,
        "editable": true,
        "id": "efyPLJH4CvNy"
      },
      "cell_type": "markdown",
      "source": [
        "Для модели необохимо опредеить оптимизируемый лосс, оптимизатор и собираемые метрики качества"
      ]
    },
    {
      "metadata": {
        "colab_type": "code",
        "deletable": true,
        "editable": true,
        "id": "b_InokBNCvN2",
        "colab": {}
      },
      "cell_type": "code",
      "source": [
        "model.compile(loss='categorical_crossentropy',\n",
        "              optimizer='sgd',\n",
        "              metrics=['accuracy'])"
      ],
      "execution_count": 0,
      "outputs": []
    },
    {
      "metadata": {
        "colab_type": "text",
        "deletable": true,
        "editable": true,
        "id": "ELcKfHQDCvN8"
      },
      "cell_type": "markdown",
      "source": [
        "Или альтернативный вариант:"
      ]
    },
    {
      "metadata": {
        "colab_type": "code",
        "deletable": true,
        "editable": true,
        "id": "J_GrJjgkCvN-",
        "colab": {}
      },
      "cell_type": "code",
      "source": [
        "from keras import metrics\n",
        "\n",
        "model.compile(loss=metrics.categorical_crossentropy,\n",
        "              optimizer=keras.optimizers.SGD(lr=0.01, momentum=0.9, nesterov=True),\n",
        "             metrics=[metrics.categorical_accuracy])"
      ],
      "execution_count": 0,
      "outputs": []
    },
    {
      "metadata": {
        "colab_type": "text",
        "deletable": true,
        "editable": true,
        "id": "9FETcKqtCvOC"
      },
      "cell_type": "markdown",
      "source": [
        "Теперь можем запустить процесс обучения, итурируясь по батчам:"
      ]
    },
    {
      "metadata": {
        "colab_type": "code",
        "deletable": true,
        "editable": true,
        "id": "T6VrFc-8CvOE",
        "colab": {}
      },
      "cell_type": "code",
      "source": [
        "# Сначала сгенерируем случайные обучающие данные:\n",
        "import numpy as np\n",
        "from keras.utils import np_utils\n",
        "\n",
        "x_train = np.random.random((1000, 100))\n",
        "y_train = np_utils.to_categorical(np.random.randint(10, size=(1000, 1)))"
      ],
      "execution_count": 0,
      "outputs": []
    },
    {
      "metadata": {
        "colab_type": "code",
        "deletable": true,
        "editable": true,
        "id": "6AuiayBOCvOK",
        "colab": {}
      },
      "cell_type": "code",
      "source": [
        "# x_train and y_train are Numpy arrays --just like in the Scikit-Learn API.\n",
        "model.fit(x_train, y_train, epochs=100, batch_size=32, verbose=1)"
      ],
      "execution_count": 0,
      "outputs": []
    },
    {
      "metadata": {
        "colab_type": "text",
        "deletable": true,
        "editable": true,
        "id": "PfrK854oc7Y8"
      },
      "cell_type": "markdown",
      "source": [
        "__Вопрос__: почему модель обучается?"
      ]
    },
    {
      "metadata": {
        "colab_type": "text",
        "deletable": true,
        "editable": true,
        "id": "7pHj4UtICvOS"
      },
      "cell_type": "markdown",
      "source": [
        "Или можно запустить однократно обучение на одном конкретном батче:"
      ]
    },
    {
      "metadata": {
        "colab_type": "code",
        "deletable": true,
        "editable": true,
        "id": "e0AwjAv3CvOU",
        "colab": {}
      },
      "cell_type": "code",
      "source": [
        "x_batch = x_train[:10]\n",
        "y_batch = y_train[:10]\n",
        "model.train_on_batch(x_batch, y_batch)\n",
        "# возвращает скаляр - лосс на обучающем батче"
      ],
      "execution_count": 0,
      "outputs": []
    },
    {
      "metadata": {
        "colab_type": "text",
        "deletable": true,
        "editable": true,
        "id": "vrotuiAJCvOY"
      },
      "cell_type": "markdown",
      "source": [
        "Оценим модель, это можно сделать в одну строчку."
      ]
    },
    {
      "metadata": {
        "colab_type": "text",
        "deletable": true,
        "editable": true,
        "id": "bhgYjxpJc7ZK"
      },
      "cell_type": "markdown",
      "source": [
        "__Вопрос__: угадайте какой accuracy даст модель на валидационной выборке? "
      ]
    },
    {
      "metadata": {
        "colab_type": "code",
        "deletable": true,
        "editable": true,
        "id": "x3FMqsbiCvOZ",
        "colab": {}
      },
      "cell_type": "code",
      "source": [
        "test_size = 100\n",
        "x_test = np.random.random((test_size, 100))\n",
        "y_test = np_utils.to_categorical(np.random.randint(10, size=(test_size, 1)))\n",
        "\n",
        "loss_and_metrics = model.evaluate(x_test, y_test, batch_size=128)\n",
        "loss_and_metrics"
      ],
      "execution_count": 0,
      "outputs": []
    },
    {
      "metadata": {
        "colab_type": "text",
        "deletable": true,
        "editable": true,
        "id": "b0Vj4FJ-CvOe"
      },
      "cell_type": "markdown",
      "source": [
        "Или можно сделать предсказание на новом наборе данных:"
      ]
    },
    {
      "metadata": {
        "colab_type": "code",
        "deletable": true,
        "editable": true,
        "id": "yNMjIEMZCvOf",
        "colab": {}
      },
      "cell_type": "code",
      "source": [
        "classes = model.predict(x_test, batch_size=128)\n",
        "classes"
      ],
      "execution_count": 0,
      "outputs": []
    },
    {
      "metadata": {
        "deletable": true,
        "editable": true,
        "id": "yP_VWxA5tXA_",
        "colab_type": "text"
      },
      "cell_type": "markdown",
      "source": [
        "__Итого:__\n",
        "1. Получить данные: x_train, y_train, x_test, y_test\n",
        "2. Объявить модель: слои, их параметры и тд.\n",
        "3. Скомпилировать модель: лосс, оптимизатор, метрики\n",
        "4. fit: обучение\n",
        "5. evaluate: оцениваем качество модели\n",
        "6. predict: предсказываем на отложенной выборке"
      ]
    },
    {
      "metadata": {
        "colab_type": "text",
        "deletable": true,
        "editable": true,
        "id": "Qvwc8Y8OCvOn"
      },
      "cell_type": "markdown",
      "source": [
        "## Sequential():"
      ]
    },
    {
      "metadata": {
        "colab_type": "text",
        "deletable": true,
        "editable": true,
        "id": "bYcNE0iECvOo"
      },
      "cell_type": "markdown",
      "source": [
        "Два способа использования Squential.\n",
        "Первый:"
      ]
    },
    {
      "metadata": {
        "colab_type": "code",
        "deletable": true,
        "editable": true,
        "id": "9OnmWWQ2CvOq",
        "colab": {}
      },
      "cell_type": "code",
      "source": [
        "from keras.models import Sequential\n",
        "from keras.layers import Dense, Activation\n",
        "\n",
        "model = Sequential([\n",
        "    Dense(32, input_shape=(784,)),\n",
        "    Activation('relu'),\n",
        "    Dense(10),\n",
        "    Activation('softmax'),\n",
        "])"
      ],
      "execution_count": 0,
      "outputs": []
    },
    {
      "metadata": {
        "colab_type": "text",
        "deletable": true,
        "editable": true,
        "id": "wgccUmYFCvOw"
      },
      "cell_type": "markdown",
      "source": [
        "Второй, с использованием add():"
      ]
    },
    {
      "metadata": {
        "colab_type": "code",
        "deletable": true,
        "editable": true,
        "id": "hE41598aCvO0",
        "colab": {}
      },
      "cell_type": "code",
      "source": [
        "model = Sequential()\n",
        "model.add(Dense(32, input_dim=784))\n",
        "model.add(Activation('relu'))"
      ],
      "execution_count": 0,
      "outputs": []
    },
    {
      "metadata": {
        "colab_type": "text",
        "deletable": true,
        "editable": true,
        "id": "ksK4QCdKCvO4"
      },
      "cell_type": "markdown",
      "source": [
        "Посмотрим внимательнее на объявление модели. \n",
        "\n",
        "Модели требуется указать размерность входных данных. Для этого в первый слой для Sequential (и только первый слой, т.к все последующие слои автоматически считают размернсоти) требуется передать эту информацию. Это можно сделать двумя способами: \n",
        "- Передать в первый слов параметр input_dim (только 1-мерная размерность данных) или input_shape (n мерная размерность). input_shape - tuple целочисленных значений, размерность батча не указывается\n",
        "- В качестве первого слоя передать в Sequential следующий слой: ```Input(shape=(...))```"
      ]
    },
    {
      "metadata": {
        "colab_type": "code",
        "deletable": true,
        "editable": true,
        "id": "5I04UGB9CvO6",
        "colab": {}
      },
      "cell_type": "code",
      "source": [
        "# Следующие объявления эквивалентны:\n",
        "from keras.layers import InputLayer\n",
        "\n",
        "model = Sequential()\n",
        "model.add(Dense(10, input_shape=(100,)))\n",
        "\n",
        "model = Sequential()\n",
        "model.add(Dense(10, input_dim=100))\n",
        "\n",
        "model = Sequential()\n",
        "model.add(InputLayer(input_shape=(100, )))\n",
        "model.add(Dense(10))"
      ],
      "execution_count": 0,
      "outputs": []
    },
    {
      "metadata": {
        "colab_type": "text",
        "deletable": true,
        "editable": true,
        "id": "zAw6dm3SCvPD"
      },
      "cell_type": "markdown",
      "source": [
        "## Compilation"
      ]
    },
    {
      "metadata": {
        "colab_type": "text",
        "deletable": true,
        "editable": true,
        "id": "H5pq-SRoCvPG"
      },
      "cell_type": "markdown",
      "source": [
        "Перед обучение модели требуется сконфигурировать обучающий процесс. Для этого в метод ```model.complie()``` требуется передать три аргумента: \n",
        "- Optimizer. Это может быть как string, обозначающий один из оптимизаторов, так и instance одного из оптимизаторов\n",
        "https://keras.io/optimizers/\n",
        "\n",
        "- Loss. Функция, которую будет оптимизировать модель в ходе обучения. Это может быть как string (например, 'categorical_crossentropy' или 'mse'), так и instance класса Losses https://keras.io/losses/\n",
        "- Metrics. Список метрик, которые будет собирать модель в ходе обучения. В список можно добавлять как string (напрмиер, ```metrics=['accuracy']```), так и метрики из класса Metrics https://keras.io/metrics/. Также можно добавлять кастомные метрики"
      ]
    },
    {
      "metadata": {
        "colab_type": "text",
        "deletable": true,
        "editable": true,
        "id": "4wkUBlhdCvPM"
      },
      "cell_type": "markdown",
      "source": [
        "Все примеры можно найти ниже:"
      ]
    },
    {
      "metadata": {
        "colab_type": "code",
        "deletable": true,
        "editable": true,
        "id": "oQZxfk97CvPP",
        "colab": {}
      },
      "cell_type": "code",
      "source": [
        "# Многклассовая классификация\n",
        "model.compile(optimizer='rmsprop',\n",
        "              loss='categorical_crossentropy',\n",
        "              metrics=['accuracy'])\n",
        "\n",
        "# Бинарная классификация\n",
        "model.compile(optimizer='rmsprop',\n",
        "              loss='binary_crossentropy',\n",
        "              metrics=['accuracy'])\n",
        "\n",
        "# Для задачи регрессии\n",
        "model.compile(optimizer='rmsprop',\n",
        "              loss='mse')\n",
        "\n",
        "# Если хотите сделать кастомную функцию:\n",
        "import keras.backend as K\n",
        "\n",
        "def mean_pred(y_true, y_pred):\n",
        "    return K.mean(y_pred)\n",
        "\n",
        "model.compile(optimizer='rmsprop',\n",
        "              loss='binary_crossentropy',\n",
        "              metrics=['accuracy', mean_pred])"
      ],
      "execution_count": 0,
      "outputs": []
    },
    {
      "metadata": {
        "colab_type": "text",
        "deletable": true,
        "editable": true,
        "id": "60hGFPJdCvPV"
      },
      "cell_type": "markdown",
      "source": [
        "## Training:"
      ]
    },
    {
      "metadata": {
        "colab_type": "text",
        "deletable": true,
        "editable": true,
        "id": "4FL-3_sTCvPX"
      },
      "cell_type": "markdown",
      "source": [
        "На обучение модели подаются данные для обучения: ```x_train``` и ```y_train```. Оба объекта - numpy массивы. Для обучения модели используется метод ```model.fit(...) ```\n",
        "В fit подаются следующие аргументы:\n",
        "- x: обучающая выборка\n",
        "- y: ответы для обучающей выборки\n",
        "- batch_size: размерность батча\n",
        "- epochs: число эпох\n",
        "- verbose: Integer. 0, 1, или 2. Режим оповещений в ходе обучения. 0 = тихий режим, 1 = progress bar, 2 = одна запись на одну эпоху\n",
        "\n",
        "и т.д, см подробнее: https://keras.io/models/model/"
      ]
    },
    {
      "metadata": {
        "colab_type": "code",
        "deletable": true,
        "editable": true,
        "id": "g-W-UEC2CvPj",
        "colab": {}
      },
      "cell_type": "code",
      "source": [
        "# Пример: Задача бинарной классификации\n",
        "\n",
        "# Как и описали выше, сначала объявляем Sequential() модель и накидываем слоев:\n",
        "model = Sequential()\n",
        "model.add(Dense(32, activation='relu', input_dim=100))\n",
        "model.add(Dense(1, activation='sigmoid')) # на выходе одно число, так как задача бинарной классификации\n",
        "\n",
        "# Теперь делаем compile()\n",
        "model.compile(optimizer='rmsprop',\n",
        "              loss='binary_crossentropy',\n",
        "              metrics=['accuracy'])\n",
        "\n",
        "# Как обычно, сгенерируем рандомно данные\n",
        "import numpy as np\n",
        "data = np.random.random((1000, 100))\n",
        "labels = np.random.randint(2, size=(1000, 1))\n",
        "\n",
        "# И, наконец, запустим обучение на данных. Данные подаются батчами по 32\n",
        "model.fit(data, labels, epochs=3, batch_size=32, verbose=1)"
      ],
      "execution_count": 0,
      "outputs": []
    },
    {
      "metadata": {
        "colab_type": "text",
        "deletable": true,
        "editable": true,
        "id": "xXyAXz9eCvPx"
      },
      "cell_type": "markdown",
      "source": [
        "Чтобы оценить качество модели, воспользуемся методом ```model.evaluate(...)```\n",
        "Для этого метода подаются аргументы: \n",
        "- x: тествоая выборка\n",
        "- y: ответы на тестовую выборку\n",
        "- batch_size: размер батча"
      ]
    },
    {
      "metadata": {
        "colab_type": "code",
        "deletable": true,
        "editable": true,
        "id": "e_euKGVdCvPz",
        "colab": {}
      },
      "cell_type": "code",
      "source": [
        "data_test = np.random.random((1000, 100))\n",
        "labels_test = np.random.randint(2, size=(1000, 1))\n",
        "model.evaluate(x=data_test, y=labels_test)"
      ],
      "execution_count": 0,
      "outputs": []
    },
    {
      "metadata": {
        "deletable": true,
        "editable": true,
        "id": "y_3-rKyFtXB1",
        "colab_type": "text"
      },
      "cell_type": "markdown",
      "source": [
        "__Вопрос__: в случае многоклассовой классификации какая функции активации будет использоваться в последнем слое?"
      ]
    },
    {
      "metadata": {
        "colab_type": "code",
        "deletable": true,
        "editable": true,
        "id": "o2QTnb2cCvP6",
        "colab": {}
      },
      "cell_type": "code",
      "source": [
        "# теперь многоклассовая задача:\n",
        "\n",
        "model = Sequential()\n",
        "model.add(Dense(32, activation='relu', input_dim=100))\n",
        "model.add(Dense(10, activation='softmax'))\n",
        "\n",
        "model.compile(optimizer='rmsprop',\n",
        "              loss='categorical_crossentropy',\n",
        "              metrics=['accuracy'])\n",
        "\n",
        "# Генерируем данные:\n",
        "data = np.random.random((1000, 100))\n",
        "labels = np.random.randint(10, size=(1000, 1))\n",
        "\n",
        "# Ответы переводим в one-hot вектора\n",
        "one_hot_labels = keras.utils.to_categorical(labels, num_classes=10)\n",
        "\n",
        "# Train the model, iterating on the data in batches of 32 samples\n",
        "model.fit(data, one_hot_labels, epochs=2, batch_size=32, verbose=1)"
      ],
      "execution_count": 0,
      "outputs": []
    },
    {
      "metadata": {
        "deletable": true,
        "editable": true,
        "id": "CQoaHyVDtXB9",
        "colab_type": "text"
      },
      "cell_type": "markdown",
      "source": [
        "__Вопрос:__ зачем мы применяем np_utils.to_categorical для задачи многоклассовой классификации?"
      ]
    },
    {
      "metadata": {
        "colab_type": "text",
        "deletable": true,
        "editable": true,
        "id": "EbOe5yc8CvQC"
      },
      "cell_type": "markdown",
      "source": [
        "Снова оценим качество нашей модели:"
      ]
    },
    {
      "metadata": {
        "colab_type": "code",
        "deletable": true,
        "editable": true,
        "id": "8qmPfLDYCvQD",
        "colab": {}
      },
      "cell_type": "code",
      "source": [
        "data_test = np.random.random((1000, 100))\n",
        "labels_test = np.random.randint(10, size=(1000, 1))\n",
        "labels_test = keras.utils.to_categorical(labels_test, num_classes=10)\n",
        "model.evaluate(x=data_test, y=labels_test)"
      ],
      "execution_count": 0,
      "outputs": []
    },
    {
      "metadata": {
        "colab_type": "text",
        "deletable": true,
        "editable": true,
        "id": "t8v8TPyGCvQO"
      },
      "cell_type": "markdown",
      "source": [
        "## Модуль Model()"
      ]
    },
    {
      "metadata": {
        "colab_type": "text",
        "deletable": true,
        "editable": true,
        "id": "Nex1AR_ACvQQ"
      },
      "cell_type": "markdown",
      "source": [
        "Это альтернативный вариант построения модели, вместо Sequential()\n",
        "Чтобы построить модель с помощью Model пользуйтесь следующим паттерном:\n",
        "```\n",
        "int = Input(...)\n",
        "x = Dense(...)(int)\n",
        "x = Dense(...)(x)\n",
        "x = Conv2D(...)(x)\n",
        "...\n",
        "x = Dense(...)(x)\n",
        "model = Model(inputs=inp, outputs=x)\n",
        "```"
      ]
    },
    {
      "metadata": {
        "colab_type": "text",
        "deletable": true,
        "editable": true,
        "id": "xsGyDcHgCvQR"
      },
      "cell_type": "markdown",
      "source": [
        "После объявления модели идут стандартные: compile и fit"
      ]
    },
    {
      "metadata": {
        "colab_type": "code",
        "deletable": true,
        "editable": true,
        "id": "W2LHKQ2lCvQS",
        "scrolled": true,
        "colab": {}
      },
      "cell_type": "code",
      "source": [
        "# Модуль Model:\n",
        "from keras.layers import Input, Dense\n",
        "from keras.models import Model\n",
        "data = np.random.random((1000, 100))\n",
        "labels = np.random.randint(10, size=(1000, 10))\n",
        "\n",
        "inputs = Input(shape=(100,))\n",
        "\n",
        "# Теперь мы применяем последовательно\n",
        "x = Dense(64, activation='relu')(inputs)\n",
        "x = Dense(64, activation='relu')(x)\n",
        "predictions = Dense(10, activation='softmax')(x)\n",
        "\n",
        "# Теперь объединми всё вышенаписанное в модель:\n",
        "model = Model(inputs=inputs, outputs=predictions)\n",
        "\n",
        "# Далее всё стандарно - compile и fit\n",
        "model.compile(optimizer='rmsprop',\n",
        "              loss='categorical_crossentropy',\n",
        "              metrics=['accuracy'])\n",
        "model.fit(data, labels, epochs=2)"
      ],
      "execution_count": 0,
      "outputs": []
    },
    {
      "metadata": {
        "colab_type": "text",
        "deletable": true,
        "editable": true,
        "id": "nALOk9TdCvQX"
      },
      "cell_type": "markdown",
      "source": [
        "__Основное премущество такого подхода:__ он позволяет \"склеить\" две разных модели. Или скачать существующую модель и поменять в ней некоторые слои. Пример ниже:"
      ]
    },
    {
      "metadata": {
        "colab_type": "code",
        "deletable": true,
        "editable": true,
        "id": "9YF345JaCvQY",
        "colab": {}
      },
      "cell_type": "code",
      "source": [
        "# С помощью Model() можно к существующей модели добавить слои, делается это так:\n",
        "from keras.applications.mobilenet import MobileNet\n",
        "model = MobileNet(weights='imagenet', include_top=True)\n",
        "# model.summary()\n",
        "\n",
        "# Для начала покажем как удалить верхний слой сети:\n",
        "model.layers.pop()\n",
        "# model.summary()\n",
        "\n",
        "x = model.layers[-1].output\n",
        "x = Dense(200, activation='relu')(x)\n",
        "x = Dense(100, activation='softmax')(x)\n",
        "\n",
        "M = Model(inputs=model.input, outputs=x)\n",
        "# M.summary()"
      ],
      "execution_count": 0,
      "outputs": []
    },
    {
      "metadata": {
        "colab_type": "text",
        "deletable": true,
        "editable": true,
        "id": "saaS59oYCvQb"
      },
      "cell_type": "markdown",
      "source": [
        "## Ещё немного про Keras models"
      ]
    },
    {
      "metadata": {
        "colab_type": "text",
        "deletable": true,
        "editable": true,
        "id": "zhNIQQGQCvQc"
      },
      "cell_type": "markdown",
      "source": [
        "Модели Keras имеют следующий набор методов и аттрибутов:\n",
        "- ```model.layers``` - список слоёв. К каждому элементу из списка можно обратиться\n",
        "- ```model.inputs``` - тезор входных данных\n",
        "- ```input_shape``` - размерность входных данных\n",
        "- ```output_shape``` - размерность выходных данных\n",
        "- ```model.outputs``` - тензор output\n",
        "- ```model.summary()``` - печаатет информацию по вашей модели: слои, их параметры, число обучаемых параметров и т.д\n",
        "- ```model.get_layer(layer_name)``` - возвращает слой по его имени\n",
        "- ```model.get_config()``` - возвращает словарь: конфиг модели. Модель может быть из него собрана, пример будет ниже\n",
        "- ```model.get_weights() ``` - возвращает список всех вессов модели, как  numpy массивы\n",
        "- ```model.set_weights(weights)``` - устанавливает веса в модели"
      ]
    },
    {
      "metadata": {
        "colab_type": "text",
        "deletable": true,
        "editable": true,
        "id": "WzGODcPfCvQd"
      },
      "cell_type": "markdown",
      "source": [
        "Ниже показаны примеры методов и аттрибутов, описанных выше:"
      ]
    },
    {
      "metadata": {
        "colab_type": "code",
        "deletable": true,
        "editable": true,
        "id": "PTLR27HYCvQe",
        "colab": {}
      },
      "cell_type": "code",
      "source": [
        "model.layers"
      ],
      "execution_count": 0,
      "outputs": []
    },
    {
      "metadata": {
        "colab_type": "code",
        "deletable": true,
        "editable": true,
        "id": "QFLrrI-CCvQi",
        "colab": {}
      },
      "cell_type": "code",
      "source": [
        "print(model.inputs)\n",
        "print(model.outputs)\n",
        "print(model.input_shape)\n",
        "print(model.output_shape)"
      ],
      "execution_count": 0,
      "outputs": []
    },
    {
      "metadata": {
        "colab_type": "code",
        "deletable": true,
        "editable": true,
        "id": "rd5gV8IoCvQl",
        "colab": {}
      },
      "cell_type": "code",
      "source": [
        "#model.summary()"
      ],
      "execution_count": 0,
      "outputs": []
    },
    {
      "metadata": {
        "colab_type": "code",
        "deletable": true,
        "editable": true,
        "id": "mDZqp1IDCvQr",
        "colab": {}
      },
      "cell_type": "code",
      "source": [
        "model.get_layer(model.layers[1].name)"
      ],
      "execution_count": 0,
      "outputs": []
    },
    {
      "metadata": {
        "colab_type": "code",
        "deletable": true,
        "editable": true,
        "id": "SYrrbD1DCvQ1",
        "colab": {}
      },
      "cell_type": "code",
      "source": [
        "model = Sequential()\n",
        "model.add(Dense(200, input_shape=(100,)))\n",
        "\n",
        "config = model.get_config()\n",
        "model1 = model.from_config(config)\n",
        "model2 = Sequential.from_config(config)"
      ],
      "execution_count": 0,
      "outputs": []
    },
    {
      "metadata": {
        "id": "Sfw_vS2vw32F",
        "colab_type": "code",
        "colab": {}
      },
      "cell_type": "code",
      "source": [
        "model2.summary()"
      ],
      "execution_count": 0,
      "outputs": []
    },
    {
      "metadata": {
        "colab_type": "code",
        "deletable": true,
        "editable": true,
        "id": "wVS4W1uxCvQ6",
        "colab": {}
      },
      "cell_type": "code",
      "source": [
        "model1.set_weights( model.get_weights() )"
      ],
      "execution_count": 0,
      "outputs": []
    },
    {
      "metadata": {
        "deletable": true,
        "editable": true,
        "id": "tTyJZNmgtXC-",
        "colab_type": "code",
        "colab": {}
      },
      "cell_type": "code",
      "source": [
        "model.layers[0].output_shape"
      ],
      "execution_count": 0,
      "outputs": []
    },
    {
      "metadata": {
        "colab_type": "text",
        "collapsed": true,
        "deletable": true,
        "editable": true,
        "id": "LwQRgpHICvQ9"
      },
      "cell_type": "markdown",
      "source": [
        "##  Keras layers"
      ]
    },
    {
      "metadata": {
        "colab_type": "text",
        "deletable": true,
        "editable": true,
        "id": "f1vw9p75CvQ_"
      },
      "cell_type": "markdown",
      "source": [
        "Все слои в Keras имеют ряд общих методов и аттрибутов:\n",
        "- ```layer.input``` - тензор входных данных\n",
        "- ```layer.output``` - тензор выходных данных\n",
        "- ```layer.input_shape``` - размерность входных данных\n",
        "- ```layer.output_shape``` - размерность выходных данных\n",
        "\n",
        "- ```layer.get_weights()``` - возвращает веса слоя\n",
        "- ``` layer.set_weights(weights)``` - устанавливает веса слоя\n",
        "- ```layer.get_config()``` - возвращает конфиг слоя"
      ]
    },
    {
      "metadata": {
        "colab_type": "text",
        "deletable": true,
        "editable": true,
        "id": "Tyx4y3dCCvRB"
      },
      "cell_type": "markdown",
      "source": [
        "Ниже показаны примеры методов и аттрибутов, описанных выше:"
      ]
    },
    {
      "metadata": {
        "colab_type": "code",
        "deletable": true,
        "editable": true,
        "id": "pjwidcJoCvRE",
        "colab": {}
      },
      "cell_type": "code",
      "source": [
        "layer = model.layers[0]\n",
        "print(layer.input)\n",
        "print(layer.output)\n",
        "print(layer.input_shape)\n",
        "print(layer.output_shape)"
      ],
      "execution_count": 0,
      "outputs": []
    },
    {
      "metadata": {
        "colab_type": "code",
        "deletable": true,
        "editable": true,
        "id": "Heoyopn5CvRL",
        "scrolled": true,
        "colab": {}
      },
      "cell_type": "code",
      "source": [
        "layer.get_weights()"
      ],
      "execution_count": 0,
      "outputs": []
    },
    {
      "metadata": {
        "colab_type": "code",
        "deletable": true,
        "editable": true,
        "id": "Auq-gpNrCvRO",
        "colab": {}
      },
      "cell_type": "code",
      "source": [
        "layer = Dense(32)\n",
        "config = layer.get_config()\n",
        "reconstructed_layer = Dense.from_config(config)"
      ],
      "execution_count": 0,
      "outputs": []
    },
    {
      "metadata": {
        "colab_type": "text",
        "deletable": true,
        "editable": true,
        "id": "5lexmlyACvRS"
      },
      "cell_type": "markdown",
      "source": [
        "### Далее поговорим про каждый тип слоя отдельно:"
      ]
    },
    {
      "metadata": {
        "colab_type": "text",
        "deletable": true,
        "editable": true,
        "id": "WhY8HvNsCvR0"
      },
      "cell_type": "markdown",
      "source": [
        "### InputLayer"
      ]
    },
    {
      "metadata": {
        "colab_type": "text",
        "deletable": true,
        "editable": true,
        "id": "pwZPfedCCvR1"
      },
      "cell_type": "markdown",
      "source": [
        "Может пригодиться ровно один раз, для передачи информации нейронной сети о размерности входных данных"
      ]
    },
    {
      "metadata": {
        "colab_type": "code",
        "deletable": true,
        "editable": true,
        "id": "LY4OtOfDCvR1",
        "colab": {}
      },
      "cell_type": "code",
      "source": [
        "from keras.layers import InputLayer\n",
        "model = Sequential()\n",
        "model.add(InputLayer(input_shape=(1,)))\n",
        "model.add(Dense(100))\n",
        "model.summary()"
      ],
      "execution_count": 0,
      "outputs": []
    },
    {
      "metadata": {
        "colab_type": "text",
        "deletable": true,
        "editable": true,
        "id": "7tEHoz_bCvRS"
      },
      "cell_type": "markdown",
      "source": [
        "### Dense:"
      ]
    },
    {
      "metadata": {
        "colab_type": "text",
        "deletable": true,
        "editable": true,
        "id": "Rw1cL5XTCvRT"
      },
      "cell_type": "markdown",
      "source": [
        "Ниже представлены две картинки. На одной как обычно рисуют нейронные сети с линейными слоями, на второй - как реализовывать линейные слои через умножение матриц. Такая реализация позволяет эффективно подавать элементы батчами (т.е в одном этапе обучения участвуют сразу несколько элементов)"
      ]
    },
    {
      "metadata": {
        "colab_type": "text",
        "deletable": true,
        "editable": true,
        "id": "G79WrvsYCvRU"
      },
      "cell_type": "markdown",
      "source": [
        "На данной картинке обучающая выборка состоит из 3 элементов, каждый из которых имеет одну фичу:"
      ]
    },
    {
      "metadata": {
        "colab_type": "text",
        "deletable": true,
        "editable": true,
        "id": "g9GJYp0XCvRV"
      },
      "cell_type": "markdown",
      "source": [
        "<img src=\"https://ml-cheatsheet.readthedocs.io/en/latest/_images/nn_with_matrices_displayed.png\" alt=\"Drawing\" style=\"width: 700px;\"/>"
      ]
    },
    {
      "metadata": {
        "colab_type": "code",
        "deletable": true,
        "editable": true,
        "id": "kuWQXL26CvRW",
        "colab": {}
      },
      "cell_type": "code",
      "source": [
        "# Пример\n",
        "model = Sequential()\n",
        "model.add(Dense(32, input_shape=(16,)))\n",
        "# Модель принимает на вход данные размерностью (*, 16), где * - размер батча\n",
        "# На выходе модель выдает матрицу размерностью (*, 32), где * - размер батча"
      ],
      "execution_count": 0,
      "outputs": []
    },
    {
      "metadata": {
        "colab_type": "text",
        "deletable": true,
        "editable": true,
        "id": "5BblhC6BCvRZ"
      },
      "cell_type": "markdown",
      "source": [
        "Также слой Dense имеет полезный параметр ```activation```, отвечающий за функцию активации. Она применяется поэлементно сразу после Dense слоя "
      ]
    },
    {
      "metadata": {
        "deletable": true,
        "editable": true,
        "id": "IpAoe8uQtXDm",
        "colab_type": "text"
      },
      "cell_type": "markdown",
      "source": [
        "__Вопрос:__ Пусть i-ый слой имеет выходную размерность (n,m), а i+1-ый слой: Dense(100). Сколько обучаемых параметров у такого слоя?"
      ]
    },
    {
      "metadata": {
        "colab_type": "text",
        "deletable": true,
        "editable": true,
        "id": "cGKDT5B9CvRn"
      },
      "cell_type": "markdown",
      "source": [
        "### Dropout"
      ]
    },
    {
      "metadata": {
        "colab_type": "text",
        "deletable": true,
        "editable": true,
        "id": "flCOZPGqCvRo"
      },
      "cell_type": "markdown",
      "source": [
        "<img src=\"https://mlblr.com/images/dropout.gif\" alt=\"Drawing\" style=\"width: 600px;\"/>"
      ]
    },
    {
      "metadata": {
        "colab_type": "code",
        "deletable": true,
        "editable": true,
        "id": "mHigowf6CvRq",
        "colab": {}
      },
      "cell_type": "code",
      "source": [
        "from keras.layers import Dropout\n",
        "model.add(Dropout(rate=0.2))\n",
        "# rate - вероятность, с короторой выключается каждый из нейронов при обучении "
      ],
      "execution_count": 0,
      "outputs": []
    },
    {
      "metadata": {
        "deletable": true,
        "editable": true,
        "id": "UKFzj1jNtXDv",
        "colab_type": "text"
      },
      "cell_type": "markdown",
      "source": [
        "__Вопрос:__ Добавляет ли Dropuot слой обучаемых параметров?"
      ]
    },
    {
      "metadata": {
        "colab_type": "text",
        "deletable": true,
        "editable": true,
        "id": "rm2kyecwCvRu"
      },
      "cell_type": "markdown",
      "source": [
        "### Flatten:"
      ]
    },
    {
      "metadata": {
        "colab_type": "text",
        "deletable": true,
        "editable": true,
        "id": "7VmBw6xgCvRv"
      },
      "cell_type": "markdown",
      "source": [
        "Разворачивает весь тензор в одномерный вектор. \n",
        "Например, матрица размера ```(n, m)``` превратится в вектор размера ``` n*m```"
      ]
    },
    {
      "metadata": {
        "colab_type": "code",
        "deletable": true,
        "editable": true,
        "id": "2MEdtFGaCvRx",
        "colab": {}
      },
      "cell_type": "code",
      "source": [
        "from keras.layers import Flatten\n",
        "model = Sequential()\n",
        "model.add(Flatten())"
      ],
      "execution_count": 0,
      "outputs": []
    },
    {
      "metadata": {
        "colab_type": "text",
        "deletable": true,
        "editable": true,
        "id": "SNYu-3_ZCvSG"
      },
      "cell_type": "markdown",
      "source": [
        "### Conv2D"
      ]
    },
    {
      "metadata": {
        "colab_type": "text",
        "collapsed": true,
        "deletable": true,
        "editable": true,
        "id": "yz-6yyiNCvSI"
      },
      "cell_type": "markdown",
      "source": [
        "<img src=\"https://www.cntk.ai/jup/cntk103d_conv2d_final.gif\" alt=\"Drawing\" style=\"width: 400px;\"/>"
      ]
    },
    {
      "metadata": {
        "colab_type": "text",
        "deletable": true,
        "editable": true,
        "id": "PQ-X_58CCvSJ"
      },
      "cell_type": "markdown",
      "source": [
        "<img src=\"https://i.stack.imgur.com/FjvuN.gif\" alt=\"Drawing\" style=\"width: 400px;\"/>"
      ]
    },
    {
      "metadata": {
        "colab_type": "text",
        "deletable": true,
        "editable": true,
        "id": "3DfMRAHUCvSK"
      },
      "cell_type": "markdown",
      "source": [
        "Сonv2D - свертка, предназначенная только для тензоров размерности 3. Обычно размерность обозначают ```(a, b, num_channels)```. ```num_channels``` - канальность изображения. \n",
        "Kernel (окно) свертки имеет размерность ```(m, k, num_channels)```, где ```num_channels``` - число каналов (третья размерность) входного тензора. Она обязательно совпадает с ```num_channels``` входного изображения. \n"
      ]
    },
    {
      "metadata": {
        "colab_type": "text",
        "deletable": true,
        "editable": true,
        "id": "xK-SYV_VCvSL"
      },
      "cell_type": "markdown",
      "source": [
        "Слой Conv2D в Keras имеет следующие параметры: \n",
        "- ```filters:int``` - число фильтров. Иными словами, сколько разных Kernel мы применим к нашей картинке. Каждый Kernel имеет размерность ```(m, k, num_channels)```, у каждого ```m*k*num_channels``` параметров обучаются\n",
        "\n",
        "- ```kernel_size:int or tuple/list of 2 int``` - tuple из двух int. В наших обозначениях это (m, k)\n",
        "\n",
        "- ```activation:str``` - функция активации, которая применяется сразу после применения слоя Conv2D\n",
        "- ```strides: int or tuple/list of 2 int``` - отвечает за stride по вектрикали и горизонтали\n",
        "- ```padding:str``` - принимает значение либо 'valid', либо 'same',  разница показана на каритнке: \n",
        "<img src=\"https://pp.userapi.com/c849532/v849532680/135e57/Eijj-dicj7o.jpg\" alt=\"Drawing\" style=\"width: 500px;\"/>"
      ]
    },
    {
      "metadata": {
        "colab_type": "text",
        "deletable": true,
        "editable": true,
        "id": "IvlF4vNhCvSM"
      },
      "cell_type": "markdown",
      "source": [
        "#### Немного про размерности:\n",
        "Предположим, что мы добавили слой Conv2D с дефолтными параметрами. Мы установили только ```Conv2D(filters=num_filters, kernel_size=(k, k))```. Тогда если входная размерность ```(a,b,num_channels)```, то наш слой выдаст тензор размерностью ```(a-k+1, b-k+1, num_filters)``` \n",
        "\n",
        "Число обучаемых параметров при этом: ```k*k*num_channels*num_filters + num_filters```\n",
        "\n",
        "В последней формуле второе слагаемое означает bias, который применяется для каждого фильтра отдельно"
      ]
    },
    {
      "metadata": {
        "colab_type": "code",
        "deletable": true,
        "editable": true,
        "id": "eqx4PtgXCvSN",
        "colab": {}
      },
      "cell_type": "code",
      "source": [
        "from keras.layers import Conv2D\n",
        "model = Sequential()\n",
        "# В Conv2D можно подавать параметр input_shape, если это первый слой\n",
        "model.add(Conv2D(20, kernel_size=(3, 3), activation='relu', input_shape=(32, 28, 3)))\n",
        "\n",
        "# Запись выше эквивалентна следующей записи:\n",
        "model = Sequential()\n",
        "model.add(InputLayer(input_shape=(32, 28, 3)))\n",
        "model.add(Conv2D(1, kernel_size=(3, 3), activation='relu'))\n",
        "model.summary()"
      ],
      "execution_count": 0,
      "outputs": []
    },
    {
      "metadata": {
        "deletable": true,
        "editable": true,
        "id": "JWtYjQfbtXEC",
        "colab_type": "text"
      },
      "cell_type": "markdown",
      "source": [
        "__Вопрос:__ Нужна ли активация после Conv2D слоя? Или можно обойтись без неё?"
      ]
    },
    {
      "metadata": {
        "colab_type": "text",
        "deletable": true,
        "editable": true,
        "id": "Lw3NZJceCvR6"
      },
      "cell_type": "markdown",
      "source": [
        "### Reshape"
      ]
    },
    {
      "metadata": {
        "colab_type": "text",
        "deletable": true,
        "editable": true,
        "id": "dDUfdVtACvR7"
      },
      "cell_type": "markdown",
      "source": [
        "Позволяет поменять размерность тензора. \n",
        "\n",
        "Например:\n",
        "\n",
        "$(n, m) \\rightarrow (m, n)$\n",
        "\n",
        "$(n, m, k) \\rightarrow (k, m, n)$\n",
        "\n",
        "$(n, m, k) \\rightarrow (n, m \\cdot k)$"
      ]
    },
    {
      "metadata": {
        "colab_type": "code",
        "deletable": true,
        "editable": true,
        "id": "r0681t7SCvR8",
        "colab": {}
      },
      "cell_type": "code",
      "source": [
        "model = Sequential()\n",
        "model.add(Dense(40, input_shape=(32, 28)))\n",
        "model.summary()"
      ],
      "execution_count": 0,
      "outputs": []
    },
    {
      "metadata": {
        "colab_type": "code",
        "deletable": true,
        "editable": true,
        "id": "OCd68oz4CvR_",
        "colab": {}
      },
      "cell_type": "code",
      "source": [
        "from keras.layers import Reshape\n",
        "# Примеры:\n",
        "model.add(Reshape((8, 160)))\n",
        "# теперь: model.output_shape == (None, 8, 160)\n",
        "\n",
        "# также вы можете попросить Keras за вас посчитать оставшуюся размерность, просто подав -1\n",
        "model.add(Reshape((-1, 4, 4)))\n",
        "# теперт: model.output_shape == (None, 80, 4, 4)"
      ],
      "execution_count": 0,
      "outputs": []
    },
    {
      "metadata": {
        "colab_type": "code",
        "deletable": true,
        "editable": true,
        "id": "GBAPl4zfCvSC",
        "colab": {}
      },
      "cell_type": "code",
      "source": [
        "model.summary()"
      ],
      "execution_count": 0,
      "outputs": []
    },
    {
      "metadata": {
        "deletable": true,
        "editable": true,
        "id": "vC222XAXtXEM",
        "colab_type": "text"
      },
      "cell_type": "markdown",
      "source": [
        "__Вопрос:__ Слой Conv2D работает только с тензорами размерности 3. Иногда черно-белые картинки представляются в виде двумерной матрицы со значениями в каждой ячейке. Как в этом случае может помочь Reshape слой?"
      ]
    },
    {
      "metadata": {
        "colab_type": "text",
        "deletable": true,
        "editable": true,
        "id": "TY9EF9OqCvSR"
      },
      "cell_type": "markdown",
      "source": [
        "### MaxPooling2D"
      ]
    },
    {
      "metadata": {
        "colab_type": "text",
        "deletable": true,
        "editable": true,
        "id": "rZAfVA3PCvSS"
      },
      "cell_type": "markdown",
      "source": [
        "<img src=\"https://developers.google.com/machine-learning/practica/image-classification/images/maxpool_animation.gif\" alt=\"Drawing\" style=\"width: 500px;\"/>"
      ]
    },
    {
      "metadata": {
        "colab_type": "text",
        "deletable": true,
        "editable": true,
        "id": "GmoDYvszCvST"
      },
      "cell_type": "markdown",
      "source": [
        "Параметры MaxPool2D:\n",
        "- ```pool_size:int or tuple/list of 2 int``` - tuple из двух int. Размерность окна, в котором выбирается максимальный элемент. На гифке выше pool_size=(2,2)\n",
        "- ```strides: int or tuple/list of 2 int``` - отвечает за stride по вектрикали и горизонтали\n",
        "- ```padding:str``` - принимает значение либо 'valid', либо 'same',  разница показана в блоке с Conv2D"
      ]
    },
    {
      "metadata": {
        "colab_type": "code",
        "deletable": true,
        "editable": true,
        "id": "wUXC09VeCvSU",
        "colab": {}
      },
      "cell_type": "code",
      "source": [
        "# Пример:\n",
        "from keras.layers import MaxPool2D\n",
        "model = Sequential()\n",
        "model.add(InputLayer(input_shape=(32, 28, 3)))\n",
        "model.add(MaxPool2D())\n",
        "model.summary()"
      ],
      "execution_count": 0,
      "outputs": []
    },
    {
      "metadata": {
        "colab_type": "text",
        "deletable": true,
        "editable": true,
        "id": "XD4UHbFMCvSa"
      },
      "cell_type": "markdown",
      "source": [
        "Слой MaxPool2D не имеет обучающих параметров"
      ]
    },
    {
      "metadata": {
        "colab_type": "text",
        "deletable": true,
        "editable": true,
        "id": "9DBLHs7pCvSb"
      },
      "cell_type": "markdown",
      "source": [
        "### AveragePooling2D"
      ]
    },
    {
      "metadata": {
        "colab_type": "text",
        "deletable": true,
        "editable": true,
        "id": "Jr8IXKxOCvSc"
      },
      "cell_type": "markdown",
      "source": [
        "AveragePooling2D - аналогичный с MaxPool2D слой, только в окне выбирается не максимальный элемент, а среднее из всех элементов. Ниже приведен пример сравнения двух подходов:"
      ]
    },
    {
      "metadata": {
        "colab_type": "text",
        "deletable": true,
        "editable": true,
        "id": "_eau5yYjCvSd"
      },
      "cell_type": "markdown",
      "source": [
        "<img src=\"https://qph.fs.quoracdn.net/main-qimg-cf2833a40f946faf04163bc28517959c\" alt=\"Drawing\" style=\"width: 500px;\"/>"
      ]
    },
    {
      "metadata": {
        "colab_type": "text",
        "collapsed": true,
        "deletable": true,
        "editable": true,
        "id": "8Skss0veCvSe"
      },
      "cell_type": "markdown",
      "source": [
        "AveragePooling2D имеет те же аргументы, что и MaxPool2D. Он также не имеет обучающих параметров"
      ]
    },
    {
      "metadata": {
        "colab_type": "text",
        "deletable": true,
        "editable": true,
        "id": "LUXvksVZCvSg"
      },
      "cell_type": "markdown",
      "source": [
        "### Activations:"
      ]
    },
    {
      "metadata": {
        "colab_type": "text",
        "deletable": true,
        "editable": true,
        "id": "Q7MoSfK1CvSh"
      },
      "cell_type": "markdown",
      "source": [
        "Наиболее популярные функции активации:\n",
        "\n",
        "<img src=\"https://cdn-images-1.medium.com/max/1200/1*ZafDv3VUm60Eh10OeJu1vw.png\" alt=\"Drawing\" style=\"width: 500px;\"/>\n",
        "\n",
        "Более подробно про функции активации в Keras:\n",
        "https://keras.io/activations/"
      ]
    },
    {
      "metadata": {
        "colab_type": "code",
        "deletable": true,
        "editable": true,
        "id": "drndzCbuCvSj",
        "colab": {}
      },
      "cell_type": "code",
      "source": [
        "# Два способа добавить активацию:\n",
        "from keras.layers import ReLU\n",
        "\n",
        "# Первый\n",
        "model = Sequential()\n",
        "model.add(Conv2D(32, (3, 3), activation='relu' ,input_shape=(32, 28, 3)))\n",
        "\n",
        "# Второй\n",
        "model = Sequential()\n",
        "model.add(Conv2D(32, (3, 3),input_shape=(32, 28, 3)))\n",
        "model.add(ReLU())"
      ],
      "execution_count": 0,
      "outputs": []
    },
    {
      "metadata": {
        "colab_type": "code",
        "deletable": true,
        "editable": true,
        "id": "DloGcP-sCvSm",
        "colab": {}
      },
      "cell_type": "code",
      "source": [
        "# Другие возможные функции активации:\n",
        "keras.layers.ReLU()\n",
        "keras.layers.LeakyReLU()\n",
        "keras.layers.ELU()\n",
        "keras.layers.Softmax()"
      ],
      "execution_count": 0,
      "outputs": []
    },
    {
      "metadata": {
        "deletable": true,
        "editable": true,
        "id": "Y8vmSV7vtXEb",
        "colab_type": "text"
      },
      "cell_type": "markdown",
      "source": [
        "__Вопрос:__ В чем проблема функции sigmoid? А в чем проблема функции relu? Когда используется softmax?"
      ]
    },
    {
      "metadata": {
        "colab_type": "text",
        "deletable": true,
        "editable": true,
        "id": "HK-2pRD5CvSo"
      },
      "cell_type": "markdown",
      "source": [
        "### BatchNorm"
      ]
    },
    {
      "metadata": {
        "colab_type": "text",
        "deletable": true,
        "editable": true,
        "id": "I4u2ZZaZCvSp"
      },
      "cell_type": "markdown",
      "source": [
        "Обычно вставляется между Dense слоем и функцией активации. \n",
        "Для каждого нейрона $h_i$ выполняется нормировка по формуле: \n",
        "$$ \\large{ h_i = \\gamma_i \\frac{h_i-\\mu_i}{\\sqrt{\\sigma^2_i}}+ \\beta_i }$$\n",
        "Где: \n",
        "- $\\gamma_i, \\beta_i$ - тренируемые параметры\n",
        "- $\\mu_i, \\sigma^2_i$ - среднее и оценочная дисперсия батча. При предсказании на тестовой выборке $\\mu_i, \\sigma^2_i$ считаются как скользящее среднее по train выборке"
      ]
    },
    {
      "metadata": {
        "colab_type": "code",
        "deletable": true,
        "editable": true,
        "id": "dbMz_NDuCvSr",
        "colab": {}
      },
      "cell_type": "code",
      "source": [
        "from keras.layers import BatchNormalization\n",
        "model = Sequential()\n",
        "model.add(Dense(5, input_dim=100))\n",
        "model.add(BatchNormalization())\n",
        "model.summary()"
      ],
      "execution_count": 0,
      "outputs": []
    },
    {
      "metadata": {
        "colab_type": "text",
        "deletable": true,
        "editable": true,
        "id": "dWh4BLr1CvSw"
      },
      "cell_type": "markdown",
      "source": [
        "## Callbacks:"
      ]
    },
    {
      "metadata": {
        "colab_type": "text",
        "deletable": true,
        "editable": true,
        "id": "uWGe9sJECvS1"
      },
      "cell_type": "markdown",
      "source": [
        "Callback - это набор функций, которые должны применяться на определенных этапах обучения. Вы можете использовать Callbacks, чтобы получить представление о модели во время обучения. Вы можете передать список Callbacks методу .fit ()"
      ]
    },
    {
      "metadata": {
        "colab_type": "text",
        "deletable": true,
        "editable": true,
        "id": "XJEwn_roCvS3"
      },
      "cell_type": "markdown",
      "source": [
        "Callback имеет следующие методы: ```on_train_begin(), on_train_end(), on_epoch_begin(), on_epoch_end(), on_batch_begin(), on_batch_end()```, каждый из которых автоматически вызывается в соответсвующий момент времени. Например, метод ```on_epoch_end()``` вызывается в момент, когда прошла одна эпоха. Метод ```on_batch_end()``` вызывается в момент, когда через сеть прошел один батч."
      ]
    },
    {
      "metadata": {
        "colab_type": "text",
        "deletable": true,
        "editable": true,
        "id": "h7_5tIP7CvS4"
      },
      "cell_type": "markdown",
      "source": [
        "Как использовать Callbacks? Надо просто передать список коллбеков в метод fit.\n",
        "Пример: ```model.fit(x, y, callbacks=[early_stopping])```"
      ]
    },
    {
      "metadata": {
        "colab_type": "code",
        "deletable": true,
        "editable": true,
        "id": "ugm6CPBxCvS5",
        "colab": {}
      },
      "cell_type": "code",
      "source": [
        "# ниже приведен пример кастомного Коллбека. Единственное, что он делает - в конце эпохи записывает в переменную losses метрику \n",
        "# При этом в каждый из методов автоматически прокидывается словарь метрик logs. Например, logs={'loss': 2.5, 'acc': 0.87}\n",
        "# Ниже - шаблон для кастомного коллбека, можете использовать его для создания своего коллбека\n",
        "class My_Callback(keras.callbacks.Callback):\n",
        "    def on_train_begin(self, logs={}):\n",
        "        return\n",
        " \n",
        "    def on_train_end(self, logs={}):\n",
        "        return\n",
        " \n",
        "    def on_epoch_begin(self, logs={}):\n",
        "        return\n",
        " \n",
        "    def on_epoch_end(self, epoch, logs={}):\n",
        "        return\n",
        " \n",
        "    def on_batch_begin(self, batch, logs={}):\n",
        "        return\n",
        " \n",
        "    def on_batch_end(self, batch, logs={}):\n",
        "        self.losses.append(logs.get('loss'))\n",
        "        return"
      ],
      "execution_count": 0,
      "outputs": []
    },
    {
      "metadata": {
        "colab_type": "text",
        "deletable": true,
        "editable": true,
        "id": "_ycjQ8CXCvTB"
      },
      "cell_type": "markdown",
      "source": [
        "В Keras уже есть несколько реализованных коллбеков:"
      ]
    },
    {
      "metadata": {
        "colab_type": "code",
        "deletable": true,
        "editable": true,
        "id": "7uZremveCvTD",
        "colab": {}
      },
      "cell_type": "code",
      "source": [
        "# Сохраняет модель в конце каждой эпохи\n",
        "keras.callbacks.ModelCheckpoint(filepath='', monitor='val_loss', verbose=0, save_best_only=False, save_weights_only=False, mode='auto', period=1)"
      ],
      "execution_count": 0,
      "outputs": []
    },
    {
      "metadata": {
        "colab_type": "code",
        "deletable": true,
        "editable": true,
        "id": "K8d19Y1ACvTJ",
        "colab": {}
      },
      "cell_type": "code",
      "source": [
        "# Останавливает обучение по какому либо критерию. Например, loss не уменьшается две эпохи подряд\n",
        "keras.callbacks.EarlyStopping(monitor='val_loss', patience=2)"
      ],
      "execution_count": 0,
      "outputs": []
    },
    {
      "metadata": {
        "colab_type": "code",
        "deletable": true,
        "editable": true,
        "id": "J68KNm3DCvTQ",
        "colab": {}
      },
      "cell_type": "code",
      "source": [
        "# пишет в директорию log_dir все логи в формате, который читает TensorBoard\n",
        "keras.callbacks.TensorBoard(log_dir='./logs', histogram_freq=0, batch_size=32, write_graph=True, write_grads=False, write_images=False, embeddings_freq=0, embeddings_layer_names=None, embeddings_metadata=None, embeddings_data=None, update_freq='epoch')"
      ],
      "execution_count": 0,
      "outputs": []
    },
    {
      "metadata": {
        "colab_type": "code",
        "deletable": true,
        "editable": true,
        "id": "xjszCSl-CvTU",
        "colab": {}
      },
      "cell_type": "code",
      "source": [
        "# Скоращает learning rate, когда loss не уменьшается несколько эпох подряд:\n",
        "keras.callbacks.ReduceLROnPlateau(monitor='val_loss', factor=0.1, patience=10, verbose=0, mode='auto', min_delta=0.0001, cooldown=0, min_lr=0)"
      ],
      "execution_count": 0,
      "outputs": []
    },
    {
      "metadata": {
        "colab_type": "text",
        "deletable": true,
        "editable": true,
        "id": "eV86ZptsCvTY"
      },
      "cell_type": "markdown",
      "source": [
        "Вы можете написать свой собственный коллбек, который будет отправлять метрики обучения в телеграмм/на почту после каждой эпохи/батча"
      ]
    },
    {
      "metadata": {
        "colab_type": "text",
        "deletable": true,
        "editable": true,
        "id": "tsjMnYFTCvTg"
      },
      "cell_type": "markdown",
      "source": [
        "## Losses:"
      ]
    },
    {
      "metadata": {
        "colab_type": "text",
        "deletable": true,
        "editable": true,
        "id": "5nLHxHRPEiAu"
      },
      "cell_type": "markdown",
      "source": [
        "Различные функции потерь, которые будет оптимизировать модель\n",
        "https://keras.io/losses/"
      ]
    },
    {
      "metadata": {
        "colab_type": "code",
        "deletable": true,
        "editable": true,
        "id": "jpLvpUNzCvTg",
        "colab": {}
      },
      "cell_type": "code",
      "source": [
        "from keras import losses\n",
        "\n",
        "# Функция потерь передается в модель на этапе компилирования. Следующие две записи эквивалентны:\n",
        "model.compile(loss='mean_squared_error', optimizer='sgd')\n",
        "model.compile(loss=losses.mean_squared_error, optimizer='sgd')\n",
        "\n",
        "# Для задачи регрессии наиболее популярные функции:\n",
        "keras.losses.mean_squared_error(y_true, y_pred)\n",
        "keras.losses.mean_absolute_error(y_true, y_pred)\n",
        "keras.losses.mean_absolute_percentage_error(y_true, y_pred)\n",
        "keras.losses.logcosh(y_true, y_pred)\n",
        "\n",
        "# Для задачи многоклассовой классификации:\n",
        "keras.losses.categorical_crossentropy(y_true, y_pred)\n",
        "# Для задачи бинарной классификации:\n",
        "keras.losses.binary_crossentropy(y_true, y_pred)"
      ],
      "execution_count": 0,
      "outputs": []
    },
    {
      "metadata": {
        "id": "DwFGS5sFpt-_",
        "colab_type": "text"
      },
      "cell_type": "markdown",
      "source": [
        "Или вы можете добавить кастомный лосс, который будет оптимизироваться в ходе обучения. Делать его придется при помощи backend Кераса. "
      ]
    },
    {
      "metadata": {
        "id": "kXKb68F-ptLZ",
        "colab_type": "code",
        "colab": {}
      },
      "cell_type": "code",
      "source": [
        "def customLoss(yTrue,yPred):\n",
        "    return K.sum(K.log(yTrue) - K.log(yPred))\n",
        "\n",
        "model = Sequential()\n",
        "model.add(Dense(10, input_dim=100))\n",
        "\n",
        "\n",
        "model.compile(loss=customLoss,\n",
        "              optimizer='sgd',\n",
        "              metrics=['acc'])\n",
        "\n",
        "model.fit(x_train, y_train, epochs=3)"
      ],
      "execution_count": 0,
      "outputs": []
    },
    {
      "metadata": {
        "colab_type": "text",
        "deletable": true,
        "editable": true,
        "id": "exMDKiA0CvTl"
      },
      "cell_type": "markdown",
      "source": [
        "## Metrics:"
      ]
    },
    {
      "metadata": {
        "colab_type": "text",
        "deletable": true,
        "editable": true,
        "id": "fqHq0ykEEol9"
      },
      "cell_type": "markdown",
      "source": [
        "Метрика отличается от loss function тем, что результаты метрик никак не используются в ходе обучения. Лосс - функция, которую модель оптимизирует. Метрики - показатели перфоманса модели для человека. В то же время любую из loss функций можно использовать как метрику\n",
        "https://keras.io/metrics/"
      ]
    },
    {
      "metadata": {
        "colab_type": "text",
        "deletable": true,
        "editable": true,
        "id": "ArHpxBGuFLlD"
      },
      "cell_type": "markdown",
      "source": [
        "Метрики, как и лосс функция, подаются на жтапе компилирования модели через аргумент metrics:"
      ]
    },
    {
      "metadata": {
        "colab_type": "code",
        "deletable": true,
        "editable": true,
        "id": "e1HaGZtbCvTn",
        "colab": {}
      },
      "cell_type": "code",
      "source": [
        "model.compile(loss='mean_squared_error',\n",
        "              optimizer='sgd',\n",
        "              metrics=['mae', 'acc'])\n",
        "# Другой вариант:\n",
        "from keras import metrics\n",
        "\n",
        "model.compile(loss='mean_squared_error',\n",
        "              optimizer='sgd',\n",
        "              metrics=[metrics.mae, metrics.categorical_accuracy])\n",
        "\n",
        "\n",
        "# Или для задачи многоклассовой классификации:\n",
        "model.compile(loss='categorical_crossentropy',\n",
        "              optimizer='sgd',\n",
        "              metrics=['acc'])\n"
      ],
      "execution_count": 0,
      "outputs": []
    },
    {
      "metadata": {
        "colab_type": "text",
        "deletable": true,
        "editable": true,
        "id": "zfHCbfq1FX20"
      },
      "cell_type": "markdown",
      "source": [
        "Также можно сделать кастомную метрику. Делать её придется снова при помощи backend Кераса. Пример:"
      ]
    },
    {
      "metadata": {
        "colab_type": "code",
        "deletable": true,
        "editable": true,
        "id": "kOa_eiFcCvTp",
        "colab": {}
      },
      "cell_type": "code",
      "source": [
        "# Custom metrics:\n",
        "import keras.backend as K\n",
        "\n",
        "def mean_pred(y_true, y_pred):\n",
        "    return K.mean(y_pred)\n",
        "\n",
        "model.compile(optimizer='rmsprop',\n",
        "              loss='binary_crossentropy',\n",
        "              metrics=['acc', mean_pred])"
      ],
      "execution_count": 0,
      "outputs": []
    },
    {
      "metadata": {
        "colab_type": "text",
        "deletable": true,
        "editable": true,
        "id": "Vm1-VMF_CvTt"
      },
      "cell_type": "markdown",
      "source": [
        "## Optimizers:"
      ]
    },
    {
      "metadata": {
        "colab_type": "text",
        "deletable": true,
        "editable": true,
        "id": "dAvy2da2GdBZ"
      },
      "cell_type": "markdown",
      "source": [
        "https://keras.io/optimizers/"
      ]
    },
    {
      "metadata": {
        "colab_type": "code",
        "deletable": true,
        "editable": true,
        "id": "SFpIllUyCvTt",
        "colab": {}
      },
      "cell_type": "code",
      "source": [
        "# Как обычно, можно передать через строковую переменную:\n",
        "model.compile(loss='mean_squared_error', optimizer='sgd')\n",
        "\n",
        "# а можно и через инстанс класса:\n",
        "from keras import optimizers\n",
        "model.compile(loss='mean_squared_error', optimizer=keras.optimizers.SGD(lr=0.01, momentum=0.0, decay=0.0, nesterov=False))\n",
        "\n",
        "# Другие популярные оптимизаторы:\n",
        "keras.optimizers.SGD(lr=0.01, momentum=0.0, decay=0.0, nesterov=False)\n",
        "keras.optimizers.RMSprop(lr=0.001, rho=0.9, epsilon=None, decay=0.0)\n",
        "keras.optimizers.Adagrad(lr=0.01, epsilon=None, decay=0.0)\n",
        "keras.optimizers.Adadelta(lr=1.0, rho=0.95, epsilon=None, decay=0.0)\n",
        "keras.optimizers.Adam(lr=0.001, beta_1=0.9, beta_2=0.999, epsilon=None, decay=0.0, amsgrad=False)"
      ],
      "execution_count": 0,
      "outputs": []
    },
    {
      "metadata": {
        "deletable": true,
        "editable": true,
        "id": "Cb03-6jxtXE_",
        "colab_type": "text"
      },
      "cell_type": "markdown",
      "source": [
        "## Задача:"
      ]
    },
    {
      "metadata": {
        "deletable": true,
        "editable": true,
        "id": "BpP3BZjptXE_",
        "colab_type": "text"
      },
      "cell_type": "markdown",
      "source": [
        "Создать свою нейронную сеть с:\n",
        "- На вход подается черно-белое изображение размером (28, 28) \n",
        "- В сеть добавить 3 блока Свертка-MaxPool. Каждый из MaxPool имеет окно (2, 2), Число фильтров для сверток: (16, 32, 64), размеры окна для сверток во всех случаях (3, 3)\n",
        "- После первого блока Conv-MaxPool добавить Dropout слой с rate=0.3\n",
        "- В конце сети добавить 2 слоя Dense, первый размерность выхода (batch_size, 32). Пусть число возможных классов 10, поэтому второй Dense слой имеет размерность на выходе (batch_size, 10)\n",
        "- Не забудьте добавить softmax как функция активации для последнего слоя"
      ]
    },
    {
      "metadata": {
        "deletable": true,
        "editable": true,
        "id": "VzOzZbswtXFA",
        "colab_type": "code",
        "colab": {}
      },
      "cell_type": "code",
      "source": [
        "# <Your Code>"
      ],
      "execution_count": 0,
      "outputs": []
    },
    {
      "metadata": {
        "deletable": true,
        "editable": true,
        "id": "RuX0zL2NtXFC",
        "colab_type": "code",
        "colab": {}
      },
      "cell_type": "code",
      "source": [
        "# Проверьте правильно ли вы построили модель:\n",
        "assert model.count_params() == 25706"
      ],
      "execution_count": 0,
      "outputs": []
    },
    {
      "metadata": {
        "deletable": true,
        "editable": true,
        "id": "vxw-hLkPtXFH",
        "colab_type": "text"
      },
      "cell_type": "markdown",
      "source": [
        "Теперь скомпилируем модель. Задача многоклассовой классификации, какую функцию потерь будем использовать?\n",
        "В качестве оптимизатора можете выбрать свой. Метрики - accuracy"
      ]
    },
    {
      "metadata": {
        "deletable": true,
        "editable": true,
        "id": "wRifIsegtXFI",
        "colab_type": "code",
        "colab": {}
      },
      "cell_type": "code",
      "source": [
        "# <Your Code>"
      ],
      "execution_count": 0,
      "outputs": []
    },
    {
      "metadata": {
        "deletable": true,
        "editable": true,
        "id": "WqLTDDk9tXFO",
        "colab_type": "text"
      },
      "cell_type": "markdown",
      "source": [
        "Сделайте model.fit() с следующими параметрами:\n",
        "1. Размер батча: 64\n",
        "2. Число эпох: 3\n",
        "3. Отведите под валдиацию 10% выборки\n",
        "4. Подайте в fit Callback: TQDMNotebookCallback() (чтобы установить pip install keras-tqdm, импорт: from keras_tqdm import TQDMNotebookCallback)\n",
        "5. Подайте в fit Callback Tensorboard'a (чуть ниже будет объяснено про это подробнее)"
      ]
    },
    {
      "metadata": {
        "id": "Sn3uQQTdzsej",
        "colab_type": "code",
        "colab": {}
      },
      "cell_type": "code",
      "source": [
        "# Импортим CallBack tqdm'a. Если не работает импорт - установить через !pip install keras-tqdm\n",
        "from keras_tqdm import TQDMNotebookCallback\n",
        "# В fit() подайте инстанс объекта TQDMNotebookCallback\n",
        "# Теперь делаем импорт Callback'a для визуализации в TensorBoard:\n",
        "from tensorboardcolab import *\n",
        "tbc=TensorBoardColab() # генерирует URL\n",
        "# В fit же передайте объект TensorBoardColabCallback(tbc)"
      ],
      "execution_count": 0,
      "outputs": []
    },
    {
      "metadata": {
        "id": "ua-tNrPvmQKp",
        "colab_type": "text"
      },
      "cell_type": "markdown",
      "source": [
        "Если не открывается URL, то нужно включить VPN. Например, через opera vpn или установить на Chrome расширение (например, Browsec https://chrome.google.com/webstore/detail/browsec-vpn-free-and-unli/omghfjlpggmjjaagoclmmobgdodcjboh)"
      ]
    },
    {
      "metadata": {
        "deletable": true,
        "editable": true,
        "id": "z_uHoT5YtXFP",
        "colab_type": "code",
        "colab": {}
      },
      "cell_type": "code",
      "source": [
        "# Загружаем MNIST датасет:\n",
        "from keras.datasets import mnist\n",
        "(x_train, y_train), (x_test, y_test) = mnist.load_data()\n",
        "x_train = x_train / 255.0\n",
        "x_test = x_test / 255.0\n",
        "\n",
        "x_train.shape"
      ],
      "execution_count": 0,
      "outputs": []
    },
    {
      "metadata": {
        "id": "4-KXl1xZtXFU",
        "colab_type": "code",
        "colab": {}
      },
      "cell_type": "code",
      "source": [
        "# Визуализация датасета:\n",
        "from matplotlib import pyplot as plt\n",
        "%matplotlib inline\n",
        "# preview the images first\n",
        "plt.figure(figsize=(12,10))\n",
        "x, y = 10, 4\n",
        "for i in range(40):  \n",
        "    plt.subplot(y, x, i+1)\n",
        "    plt.imshow(x_train[i].reshape((28,28)),interpolation='nearest')\n",
        "plt.show()"
      ],
      "execution_count": 0,
      "outputs": []
    },
    {
      "metadata": {
        "deletable": true,
        "editable": true,
        "id": "hUVJ3giPtXFZ",
        "colab_type": "code",
        "colab": {}
      },
      "cell_type": "code",
      "source": [
        "# Здесь сделайте fit\n",
        "# <Your Code>"
      ],
      "execution_count": 0,
      "outputs": []
    },
    {
      "metadata": {
        "id": "I8L6WpTBtXFf",
        "colab_type": "code",
        "colab": {}
      },
      "cell_type": "code",
      "source": [
        "# оценим итоговое качество модели на отложенной выборке: \n",
        "model.evaluate(x_test, keras.utils.to_categorical(y_test))"
      ],
      "execution_count": 0,
      "outputs": []
    },
    {
      "metadata": {
        "id": "zDilsla7tXFj",
        "colab_type": "text"
      },
      "cell_type": "markdown",
      "source": [
        "Ниже визуализация верных/неверных предсказаний:"
      ]
    },
    {
      "metadata": {
        "id": "4hCjiL5atXFl",
        "colab_type": "code",
        "colab": {}
      },
      "cell_type": "code",
      "source": [
        "import numpy as np\n",
        "predicted_classes = model.predict_classes(x_test)\n",
        "\n",
        "# see which we predicted correctly and which not\n",
        "correct_indices = np.nonzero(predicted_classes == y_test)[0]\n",
        "incorrect_indices = np.nonzero(predicted_classes != y_test)[0]\n",
        "print()\n",
        "print(len(correct_indices),\" classified correctly\")\n",
        "print(len(incorrect_indices),\" classified incorrectly\")\n",
        "\n",
        "# adapt figure size to accomodate 18 subplots\n",
        "plt.rcParams['figure.figsize'] = (7,14)\n",
        "\n",
        "figure_evaluation = plt.figure()\n",
        "\n",
        "# plot 9 correct predictions\n",
        "for i, correct in enumerate(correct_indices[:9]):\n",
        "    plt.subplot(6,3,i+1)\n",
        "    plt.imshow(x_test[correct].reshape(28,28), cmap='gray', interpolation='none')\n",
        "    plt.title(\n",
        "      \"Predicted: {}, Truth: {}\".format(predicted_classes[correct],\n",
        "                                        y_test[correct]))\n",
        "    plt.xticks([])\n",
        "    plt.yticks([])\n",
        "\n",
        "# plot 9 incorrect predictions\n",
        "for i, incorrect in enumerate(incorrect_indices[:9]):\n",
        "    plt.subplot(6,3,i+10)\n",
        "    plt.imshow(x_test[incorrect].reshape(28,28), cmap='gray', interpolation='none')\n",
        "    plt.title(\n",
        "      \"Predicted {}, Truth: {}\".format(predicted_classes[incorrect], \n",
        "                                       y_test[incorrect]))\n",
        "    plt.xticks([])\n",
        "    plt.yticks([])\n",
        "\n",
        "figure_evaluation"
      ],
      "execution_count": 0,
      "outputs": []
    },
    {
      "metadata": {
        "colab_type": "text",
        "deletable": true,
        "editable": true,
        "id": "7K15cxLiCvTx"
      },
      "cell_type": "markdown",
      "source": [
        "## Visualization:"
      ]
    },
    {
      "metadata": {
        "colab_type": "text",
        "deletable": true,
        "editable": true,
        "id": "XFpqvEhvG2Pf"
      },
      "cell_type": "markdown",
      "source": [
        "```model.fit()``` автоматически сохраняет историю обучения, которую можно визуализировать следующим образом:"
      ]
    },
    {
      "metadata": {
        "colab_type": "code",
        "deletable": true,
        "editable": true,
        "id": "-8g-nO2fCvT0",
        "colab": {}
      },
      "cell_type": "code",
      "source": [
        "import matplotlib.pyplot as plt\n",
        "\n",
        "x_train = np.random.random((1000, 100))\n",
        "y_train = np_utils.to_categorical(np.random.randint(10, size=(1000, 1)))\n",
        "\n",
        "model = Sequential()\n",
        "model.add(InputLayer(input_shape=(100, )))\n",
        "#model.add(Flatten())\n",
        "model.add(Dense(10, activation='softmax'))\n",
        "\n",
        "model.compile(loss='categorical_crossentropy', optimizer='sgd', metrics=['acc'])\n",
        "\n",
        "history = model.fit(x_train, y_train, validation_split=0.25, epochs=50, batch_size=16, verbose=1)\n",
        "\n",
        "# Plot training & validation accuracy values\n",
        "plt.plot(history.history['acc'])\n",
        "plt.plot(history.history['val_acc'])\n",
        "plt.title('Model accuracy')\n",
        "plt.ylabel('Accuracy')\n",
        "plt.xlabel('Epoch')\n",
        "plt.legend(['Train', 'Test'], loc='upper left')\n",
        "plt.show()\n",
        "\n",
        "# Plot training & validation loss values\n",
        "plt.plot(history.history['loss'])\n",
        "plt.plot(history.history['val_loss'])\n",
        "plt.title('Model loss')\n",
        "plt.ylabel('Loss')\n",
        "plt.xlabel('Epoch')\n",
        "plt.legend(['Train', 'Test'], loc='upper left')\n",
        "plt.show()"
      ],
      "execution_count": 0,
      "outputs": []
    },
    {
      "metadata": {
        "colab_type": "text",
        "deletable": true,
        "editable": true,
        "id": "UEm38jpQCvTZ"
      },
      "cell_type": "markdown",
      "source": [
        "## Image Preprocessing"
      ]
    },
    {
      "metadata": {
        "colab_type": "text",
        "deletable": true,
        "editable": true,
        "id": "WKZEotvfCvTa"
      },
      "cell_type": "markdown",
      "source": [
        "Для аугментации изображений можно использовать ImageDataGenerator"
      ]
    },
    {
      "metadata": {
        "colab_type": "code",
        "deletable": true,
        "editable": true,
        "id": "ArUQ5XbcCvTb",
        "colab": {}
      },
      "cell_type": "code",
      "source": [
        "# Объявляем объект из класса ImageDataGenerator.\n",
        "datagen = ImageDataGenerator(\n",
        "    featurewise_center=True,\n",
        "    featurewise_std_normalization=True,\n",
        "    rotation_range=20,\n",
        "    width_shift_range=0.2,\n",
        "    height_shift_range=0.2,\n",
        "    horizontal_flip=True)\n",
        "\n",
        "# фитим его на данные\n",
        "datagen.fit(x_train)\n",
        "\n",
        "# делаем fit модели с аугментацией данных\n",
        "model.fit_generator(datagen.flow(x_train, y_train, batch_size=16),\n",
        "                    steps_per_epoch=len(x_train) / 32, epochs=5)\n",
        "\n",
        "# или можно то же самое в цикле:\n",
        "for e in range(5):\n",
        "    print('Epoch', e)\n",
        "    batches = 0\n",
        "    for x_batch, y_batch in datagen.flow(x_train, y_train, batch_size=16):\n",
        "        model.fit(x_batch, y_batch)\n",
        "        batches += 1\n",
        "        if batches >= len(x_train) / 32:\n",
        "            break"
      ],
      "execution_count": 0,
      "outputs": []
    },
    {
      "metadata": {
        "colab_type": "text",
        "collapsed": true,
        "deletable": true,
        "editable": true,
        "id": "ygM1ZR8vCvT6"
      },
      "cell_type": "markdown",
      "source": [
        "## Некоторые вопросы из FAQ:"
      ]
    },
    {
      "metadata": {
        "colab_type": "text",
        "deletable": true,
        "editable": true,
        "id": "H4s0j2iVCvT6"
      },
      "cell_type": "markdown",
      "source": [
        "1.Как можно импортировать обученные модели в Keras?"
      ]
    },
    {
      "metadata": {
        "colab_type": "code",
        "deletable": true,
        "editable": true,
        "id": "A3XzQsI5CvT7",
        "colab": {}
      },
      "cell_type": "code",
      "source": [
        "from keras.applications.xception import Xception\n",
        "from keras.applications.vgg16 import VGG16\n",
        "from keras.applications.vgg19 import VGG19\n",
        "from keras.applications.resnet50 import ResNet50\n",
        "from keras.applications.inception_v3 import InceptionV3\n",
        "from keras.applications.inception_resnet_v2 import InceptionResNetV2\n",
        "from keras.applications.mobilenet import MobileNet\n",
        "from keras.applications.densenet import DenseNet121\n",
        "from keras.applications.densenet import DenseNet169\n",
        "from keras.applications.densenet import DenseNet201\n",
        "from keras.applications.nasnet import NASNetLarge\n",
        "from keras.applications.nasnet import NASNetMobile\n",
        "from keras.applications.mobilenet_v2 import MobileNetV2\n",
        "\n",
        "model = VGG16(weights='imagenet', include_top=True)"
      ],
      "execution_count": 0,
      "outputs": []
    },
    {
      "metadata": {
        "colab_type": "text",
        "deletable": true,
        "editable": true,
        "id": "lGA3uxqmCvUA"
      },
      "cell_type": "markdown",
      "source": [
        " 2.Как заморозить обучение некоторых слоев в нейронной сети?"
      ]
    },
    {
      "metadata": {
        "colab_type": "code",
        "deletable": true,
        "editable": true,
        "id": "gNChP8ctCvUA",
        "colab": {}
      },
      "cell_type": "code",
      "source": [
        "# у каждого слоя есть параметр trainable, по умолчанию он true\n",
        "for layer in model.layers[:1]:\n",
        "    layer.trainable = False"
      ],
      "execution_count": 0,
      "outputs": []
    },
    {
      "metadata": {
        "colab_type": "text",
        "deletable": true,
        "editable": true,
        "id": "18nRMXe_CvUC"
      },
      "cell_type": "markdown",
      "source": [
        "3.Как мне удалить слой из модели Sequential?"
      ]
    },
    {
      "metadata": {
        "colab_type": "code",
        "deletable": true,
        "editable": true,
        "id": "3v-kUBlECvUC",
        "colab": {}
      },
      "cell_type": "code",
      "source": [
        "model = Sequential()\n",
        "model.add(Dense(32, activation='relu', input_dim=784))\n",
        "model.add(Dense(32, activation='relu'))\n",
        "\n",
        "print(len(model.layers))  # \"2\"\n",
        "\n",
        "model.pop()\n",
        "print(len(model.layers))  # \"1\""
      ],
      "execution_count": 0,
      "outputs": []
    },
    {
      "metadata": {
        "colab_type": "code",
        "deletable": true,
        "editable": true,
        "id": "8AzqVsXc2QWY",
        "colab": {}
      },
      "cell_type": "code",
      "source": [
        "model.summary()\n"
      ],
      "execution_count": 0,
      "outputs": []
    },
    {
      "metadata": {
        "colab_type": "code",
        "deletable": true,
        "editable": true,
        "id": "nkleGWDb4DFt",
        "colab": {}
      },
      "cell_type": "code",
      "source": [
        "model.input_shape"
      ],
      "execution_count": 0,
      "outputs": []
    },
    {
      "metadata": {
        "colab_type": "text",
        "deletable": true,
        "editable": true,
        "id": "BbZY07kICvUE"
      },
      "cell_type": "markdown",
      "source": [
        "4.Как мне получить output некоторого слоя нейронной сети?"
      ]
    },
    {
      "metadata": {
        "colab_type": "code",
        "deletable": true,
        "editable": true,
        "id": "dCqnaLsOCvUG",
        "colab": {}
      },
      "cell_type": "code",
      "source": [
        "from keras.models import Model\n",
        "\n",
        "#model = ...  # объявите модель\n",
        "\n",
        "# random data:\n",
        "data = np.random.randint(low=1, high=10, size=(100, model.input_shape[1]))\n",
        "\n",
        "layer_name = model.layers[0].name\n",
        "intermediate_layer_model = Model(inputs=model.input,\n",
        "                                 outputs=model.get_layer(layer_name).output)\n",
        "intermediate_output = intermediate_layer_model.predict(data)"
      ],
      "execution_count": 0,
      "outputs": []
    },
    {
      "metadata": {
        "colab_type": "text",
        "deletable": true,
        "editable": true,
        "id": "aeGE79JICvUI"
      },
      "cell_type": "markdown",
      "source": [
        "5.Как мне обучать модель, если данные не помещаются в оперативную память?\n"
      ]
    },
    {
      "metadata": {
        "colab_type": "text",
        "deletable": true,
        "editable": true,
        "id": "eW0LVBV-CvUJ"
      },
      "cell_type": "markdown",
      "source": [
        "Можно использовать метод model.train_on_batch(x, y), итерируясь по батчам. Метод model.test_on_batch(x, y) позволит итерируясь по тестовым данным получить оценку качества модели\n"
      ]
    },
    {
      "metadata": {
        "colab_type": "text",
        "deletable": true,
        "editable": true,
        "id": "sXIkTRSkIQn2"
      },
      "cell_type": "markdown",
      "source": [
        "Либо можно использовать метод fit_generator(), в который передается генератор данных:"
      ]
    },
    {
      "metadata": {
        "colab_type": "code",
        "deletable": true,
        "editable": true,
        "id": "7NvYD6uzCvUK",
        "colab": {}
      },
      "cell_type": "code",
      "source": [
        "model.fit_generator(data_generator, steps_per_epoch, epochs)"
      ],
      "execution_count": 0,
      "outputs": []
    },
    {
      "metadata": {
        "colab_type": "text",
        "deletable": true,
        "editable": true,
        "id": "DBw_3o6ICvUY"
      },
      "cell_type": "markdown",
      "source": [
        "6.Как сохранять модель из Кераса?"
      ]
    },
    {
      "metadata": {
        "colab_type": "code",
        "deletable": true,
        "editable": true,
        "id": "7tN_yeAeCvUY",
        "colab": {}
      },
      "cell_type": "code",
      "source": [
        "model.save(filepath) # architecture, weights, loss, the state of the optimizer, allowing to resume training exactly where you left off.\n",
        "keras.models.load_model(filepath)"
      ],
      "execution_count": 0,
      "outputs": []
    },
    {
      "metadata": {
        "colab_type": "text",
        "deletable": true,
        "editable": true,
        "id": "P1G2YhIiIhU8"
      },
      "cell_type": "markdown",
      "source": [
        "7.Как мне запустить обучение модели на GPU? Ответ: Keras это сделает за вас автоматически\n",
        "Чтобы узнать список используемых GPU и првоерить видит ли их Keras:"
      ]
    },
    {
      "metadata": {
        "colab_type": "code",
        "deletable": true,
        "editable": true,
        "id": "NhJDBGk4I7MD",
        "colab": {}
      },
      "cell_type": "code",
      "source": [
        "from keras import backend as K\n",
        "K.tensorflow_backend._get_available_gpus()"
      ],
      "execution_count": 0,
      "outputs": []
    },
    {
      "metadata": {
        "colab_type": "text",
        "deletable": true,
        "editable": true,
        "id": "eVtz5oZHCvUa"
      },
      "cell_type": "markdown",
      "source": [
        "8.Как запустить обучение модели на нескольких GPU?"
      ]
    },
    {
      "metadata": {
        "colab_type": "code",
        "deletable": true,
        "editable": true,
        "id": "wiQ9e2eGCvUa",
        "colab": {}
      },
      "cell_type": "code",
      "source": [
        "from keras.utils import multi_gpu_model\n",
        "\n",
        "# Replicates `model` on 8 GPUs.\n",
        "# This assumes that your machine has 8 available GPUs.\n",
        "parallel_model = multi_gpu_model(model, gpus=8)\n",
        "parallel_model.compile(loss='categorical_crossentropy',\n",
        "                       optimizer='rmsprop')\n",
        "\n",
        "# This `fit` call will be distributed on 8 GPUs.\n",
        "# Since the batch size is 256, each GPU will process 32 samples.\n",
        "parallel_model.fit(x, y, epochs=20, batch_size=256)"
      ],
      "execution_count": 0,
      "outputs": []
    },
    {
      "metadata": {
        "colab_type": "code",
        "deletable": true,
        "editable": true,
        "id": "vjJIQoSFc7fk",
        "colab": {}
      },
      "cell_type": "code",
      "source": [
        ""
      ],
      "execution_count": 0,
      "outputs": []
    }
  ]
}