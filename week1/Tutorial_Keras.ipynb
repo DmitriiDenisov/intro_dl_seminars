{
 "cells": [
  {
   "cell_type": "markdown",
   "metadata": {
    "colab_type": "text",
    "deletable": true,
    "editable": true,
    "id": "mPM-aDw0CvNS"
   },
   "source": [
    "# Keras tutorial"
   ]
  },
  {
   "cell_type": "markdown",
   "metadata": {
    "colab_type": "text",
    "deletable": true,
    "editable": true,
    "id": "y06rlTsXCvNT"
   },
   "source": [
    "Keras - это высокоуровневый API, написанный на Python и способный работать поверх TensorFlow, CNTK или Theano."
   ]
  },
  {
   "cell_type": "markdown",
   "metadata": {
    "colab_type": "text",
    "deletable": true,
    "editable": true,
    "id": "KtvVRimpCvNV"
   },
   "source": [
    "__Преимущество:__ Переход от идеи к результату с наименьшими затратами по времени"
   ]
  },
  {
   "cell_type": "markdown",
   "metadata": {
    "colab_type": "text",
    "deletable": true,
    "editable": true,
    "id": "z2_yWJEXCvNX"
   },
   "source": [
    "Вам скорее всего подойдет Keras, если от библиотеки DL вам нужно:\n",
    "\n",
    "- Легко и быстро создавать прототипы (удобство, модульность и расширяемость)\n",
    "- Поддерживать как сверточные сети, так и рекуррентные сети, а также их комбинации\n",
    "- Работать без проблем на CPU или GPU"
   ]
  },
  {
   "cell_type": "markdown",
   "metadata": {
    "colab_type": "text",
    "deletable": true,
    "editable": true,
    "id": "tvSmjQwUCvNY"
   },
   "source": [
    "Удобство для пользователя: Keras - это API, разработанный для людей, а не для машин"
   ]
  },
  {
   "cell_type": "markdown",
   "metadata": {
    "colab_type": "text",
    "deletable": true,
    "editable": true,
    "id": "ETqBLxmTCvNZ"
   },
   "source": [
    "## Запускаем Keras за 30 секунд:"
   ]
  },
  {
   "cell_type": "code",
   "execution_count": 1,
   "metadata": {
    "colab": {},
    "colab_type": "code",
    "collapsed": false,
    "deletable": true,
    "editable": true,
    "id": "DDmTIxTUCvNa"
   },
   "outputs": [
    {
     "name": "stderr",
     "output_type": "stream",
     "text": [
      "Using TensorFlow backend.\n"
     ]
    }
   ],
   "source": [
    "from keras.models import Sequential\n",
    "import keras\n",
    "model = Sequential()"
   ]
  },
  {
   "cell_type": "markdown",
   "metadata": {
    "colab_type": "text",
    "deletable": true,
    "editable": true,
    "id": "J_ISBCy2CvNh"
   },
   "source": [
    "Стакаем слои через .add():"
   ]
  },
  {
   "cell_type": "code",
   "execution_count": 2,
   "metadata": {
    "colab": {},
    "colab_type": "code",
    "collapsed": true,
    "deletable": true,
    "editable": true,
    "id": "C2po5hzDCvNj"
   },
   "outputs": [],
   "source": [
    "from keras.layers import Dense\n",
    "\n",
    "model.add(Dense(units=64, activation='relu', input_dim=100)) # input_dim=100 <=> input_shape=(100, )\n",
    "model.add(Dense(units=10, activation='softmax'))"
   ]
  },
  {
   "cell_type": "code",
   "execution_count": 3,
   "metadata": {
    "colab": {},
    "colab_type": "code",
    "collapsed": false,
    "deletable": true,
    "editable": true,
    "id": "BW5EP1ESCvNo"
   },
   "outputs": [
    {
     "name": "stdout",
     "output_type": "stream",
     "text": [
      "_________________________________________________________________\n",
      "Layer (type)                 Output Shape              Param #   \n",
      "=================================================================\n",
      "dense_1 (Dense)              (None, 64)                6464      \n",
      "_________________________________________________________________\n",
      "dense_2 (Dense)              (None, 10)                650       \n",
      "=================================================================\n",
      "Total params: 7,114\n",
      "Trainable params: 7,114\n",
      "Non-trainable params: 0\n",
      "_________________________________________________________________\n"
     ]
    }
   ],
   "source": [
    "model.summary()"
   ]
  },
  {
   "cell_type": "markdown",
   "metadata": {
    "colab_type": "text",
    "deletable": true,
    "editable": true,
    "id": "efyPLJH4CvNy"
   },
   "source": [
    "Для модели необохимо опредеить оптимизируемый лосс, оптимизатор и собираемые метрики качества"
   ]
  },
  {
   "cell_type": "code",
   "execution_count": 4,
   "metadata": {
    "colab": {},
    "colab_type": "code",
    "collapsed": true,
    "deletable": true,
    "editable": true,
    "id": "b_InokBNCvN2"
   },
   "outputs": [],
   "source": [
    "model.compile(loss='categorical_crossentropy',\n",
    "              optimizer='sgd',\n",
    "              metrics=['accuracy'])"
   ]
  },
  {
   "cell_type": "markdown",
   "metadata": {
    "colab_type": "text",
    "deletable": true,
    "editable": true,
    "id": "ELcKfHQDCvN8"
   },
   "source": [
    "Или альтернативный вариант:"
   ]
  },
  {
   "cell_type": "code",
   "execution_count": 29,
   "metadata": {
    "colab": {},
    "colab_type": "code",
    "collapsed": false,
    "deletable": true,
    "editable": true,
    "id": "J_GrJjgkCvN-"
   },
   "outputs": [],
   "source": [
    "from keras import metrics\n",
    "\n",
    "model.compile(loss=metrics.categorical_crossentropy,\n",
    "              optimizer=keras.optimizers.SGD(lr=0.01, momentum=0.9, nesterov=True),\n",
    "             metrics=[metrics.categorical_accuracy])"
   ]
  },
  {
   "cell_type": "markdown",
   "metadata": {
    "colab_type": "text",
    "deletable": true,
    "editable": true,
    "id": "9FETcKqtCvOC"
   },
   "source": [
    "Теперь можем запустить процесс обучения, итурируясь по батчам:"
   ]
  },
  {
   "cell_type": "code",
   "execution_count": 30,
   "metadata": {
    "colab": {},
    "colab_type": "code",
    "collapsed": true,
    "deletable": true,
    "editable": true,
    "id": "T6VrFc-8CvOE"
   },
   "outputs": [],
   "source": [
    "# Сначала сгенерируем случайные обучающие данные:\n",
    "import numpy as np\n",
    "from keras.utils import np_utils\n",
    "\n",
    "x_train = np.random.random((1000, 100))\n",
    "y_train = np_utils.to_categorical(np.random.randint(10, size=(1000, 1)))"
   ]
  },
  {
   "cell_type": "code",
   "execution_count": 31,
   "metadata": {
    "colab": {},
    "colab_type": "code",
    "collapsed": false,
    "deletable": true,
    "editable": true,
    "id": "6AuiayBOCvOK"
   },
   "outputs": [
    {
     "name": "stdout",
     "output_type": "stream",
     "text": [
      "Epoch 1/100\n",
      "1000/1000 [==============================] - 0s 314us/step - loss: 2.5866 - categorical_accuracy: 0.1060\b\b\b\b\b\b\b\b\b\b\b\b\b\b\b\b\b\b\b\b\b\b\b\b\b\b\b\b\b\b\b\b\b\b\b\b\b\b\b\b\b\b\b\b\b\b\b\b\b\b\b\b\b\b\b\b\b\b\b\b\b\b\b\b\b\b\b\b\b\b\b\b\b\b\b\b\b\b\b\b\b\b\b\b\b\b\b\b\b\b\b\b\n",
      "Epoch 2/100\n",
      "1000/1000 [==============================] - 0s 40us/step - loss: 2.3630 - categorical_accuracy: 0.1190\b\b\b\b\b\b\b\b\b\b\b\b\b\b\b\b\b\b\b\b\b\b\b\b\b\b\b\b\b\b\b\b\b\b\b\b\b\b\b\b\b\b\b\b\b\b\b\b\b\b\b\b\b\b\b\b\b\b\b\b\b\b\b\b\b\b\b\b\b\b\b\b\b\b\b\b\b\b\b\b\b\b\b\b\b\b\b\b\b\b\b\b\b\n",
      "Epoch 3/100\n",
      "1000/1000 [==============================] - 0s 42us/step - loss: 2.3149 - categorical_accuracy: 0.1320\b\b\b\b\b\b\b\b\b\b\b\b\b\b\b\b\b\b\b\b\b\b\b\b\b\b\b\b\b\b\b\b\b\b\b\b\b\b\b\b\b\b\b\b\b\b\b\b\b\b\b\b\b\b\b\b\b\b\b\b\b\b\b\b\b\b\b\b\b\b\b\b\b\b\b\b\b\b\b\b\b\b\b\b\b\b\b\b\b\b\b\b\b\n",
      "Epoch 4/100\n",
      "1000/1000 [==============================] - 0s 43us/step - loss: 2.2915 - categorical_accuracy: 0.1230\b\b\b\b\b\b\b\b\b\b\b\b\b\b\b\b\b\b\b\b\b\b\b\b\b\b\b\b\b\b\b\b\b\b\b\b\b\b\b\b\b\b\b\b\b\b\b\b\b\b\b\b\b\b\b\b\b\b\b\b\b\b\b\b\b\b\b\b\b\b\b\b\b\b\b\b\b\b\b\b\b\b\b\b\b\b\b\b\b\b\b\b\b\n",
      "Epoch 5/100\n",
      "1000/1000 [==============================] - 0s 66us/step - loss: 2.2786 - categorical_accuracy: 0.1290\b\b\b\b\b\b\b\b\b\b\b\b\b\b\b\b\b\b\b\b\b\b\b\b\b\b\b\b\b\b\b\b\b\b\b\b\b\b\b\b\b\b\b\b\b\b\b\b\b\b\b\b\b\b\b\b\b\b\b\b\b\b\b\b\b\b\b\b\b\b\b\b\b\b\b\b\b\b\b\b\b\b\b\b\b\b\b\b\b\b\b\b\b\b\b\b\b\b\b\b\b\b\b\b\b\b\b\b\b\b\b\b\b\b\b\b\b\b\b\b\b\b\b\b\b\b\b\b\b\b\b\b\b\b\b\b\b\b\b\b\b\b\b\b\b\b\b\b\b\b\b\b\b\b\b\b\b\b\b\b\b\b\b\b\b\b\b\b\b\b\b\b\b\b\b\b\b\b\b\b\b\b\b\b\b\b\b\b\b\b\b\n",
      "Epoch 6/100\n",
      "1000/1000 [==============================] - 0s 38us/step - loss: 2.2682 - categorical_accuracy: 0.1350\b\b\b\b\b\b\b\b\b\b\b\b\b\b\b\b\b\b\b\b\b\b\b\b\b\b\b\b\b\b\b\b\b\b\b\b\b\b\b\b\b\b\b\b\b\b\b\b\b\b\b\b\b\b\b\b\b\b\b\b\b\b\b\b\b\b\b\b\b\b\b\b\b\b\b\b\b\b\b\b\b\b\b\b\b\b\b\b\b\b\b\b\b\n",
      "Epoch 7/100\n",
      "1000/1000 [==============================] - 0s 46us/step - loss: 2.2605 - categorical_accuracy: 0.1540\b\b\b\b\b\b\b\b\b\b\b\b\b\b\b\b\b\b\b\b\b\b\b\b\b\b\b\b\b\b\b\b\b\b\b\b\b\b\b\b\b\b\b\b\b\b\b\b\b\b\b\b\b\b\b\b\b\b\b\b\b\b\b\b\b\b\b\b\b\b\b\b\b\b\b\b\b\b\b\b\b\b\b\b\b\b\b\b\b\b\b\b\b\n",
      "Epoch 8/100\n",
      "1000/1000 [==============================] - 0s 51us/step - loss: 2.2525 - categorical_accuracy: 0.1370\b\b\b\b\b\b\b\b\b\b\b\b\b\b\b\b\b\b\b\b\b\b\b\b\b\b\b\b\b\b\b\b\b\b\b\b\b\b\b\b\b\b\b\b\b\b\b\b\b\b\b\b\b\b\b\b\b\b\b\b\b\b\b\b\b\b\b\b\b\b\b\b\b\b\b\b\b\b\b\b\b\b\b\b\b\b\b\b\b\b\b\b\b\n",
      "Epoch 9/100\n",
      "1000/1000 [==============================] - 0s 50us/step - loss: 2.2463 - categorical_accuracy: 0.1450\b\b\b\b\b\b\b\b\b\b\b\b\b\b\b\b\b\b\b\b\b\b\b\b\b\b\b\b\b\b\b\b\b\b\b\b\b\b\b\b\b\b\b\b\b\b\b\b\b\b\b\b\b\b\b\b\b\b\b\b\b\b\b\b\b\b\b\b\b\b\b\b\b\b\b\b\b\b\b\b\b\b\b\b\b\b\b\b\b\b\b\b\b\n",
      "Epoch 10/100\n",
      "1000/1000 [==============================] - 0s 44us/step - loss: 2.2417 - categorical_accuracy: 0.1430\b\b\b\b\b\b\b\b\b\b\b\b\b\b\b\b\b\b\b\b\b\b\b\b\b\b\b\b\b\b\b\b\b\b\b\b\b\b\b\b\b\b\b\b\b\b\b\b\b\b\b\b\b\b\b\b\b\b\b\b\b\b\b\b\b\b\b\b\b\b\b\b\b\b\b\b\b\b\b\b\b\b\b\b\b\b\b\b\b\b\b\b\b\n",
      "Epoch 11/100\n",
      "1000/1000 [==============================] - 0s 57us/step - loss: 2.2343 - categorical_accuracy: 0.1400\b\b\b\b\b\b\b\b\b\b\b\b\b\b\b\b\b\b\b\b\b\b\b\b\b\b\b\b\b\b\b\b\b\b\b\b\b\b\b\b\b\b\b\b\b\b\b\b\b\b\b\b\b\b\b\b\b\b\b\b\b\b\b\b\b\b\b\b\b\b\b\b\b\b\b\b\b\b\b\b\b\b\b\b\b\b\b\b\b\b\b\b\b\b\b\b\b\b\b\b\b\b\b\b\b\b\b\b\b\b\b\b\b\b\b\b\b\b\b\b\b\b\b\b\b\b\b\b\b\b\b\b\b\b\b\b\b\b\b\b\b\b\b\b\b\b\b\b\b\b\b\b\b\b\b\b\b\b\b\b\b\b\b\b\b\b\b\b\b\b\b\b\b\b\b\b\b\b\b\b\b\b\b\b\b\b\b\b\b\b\b\n",
      "Epoch 12/100\n",
      "1000/1000 [==============================] - 0s 42us/step - loss: 2.2297 - categorical_accuracy: 0.1630\b\b\b\b\b\b\b\b\b\b\b\b\b\b\b\b\b\b\b\b\b\b\b\b\b\b\b\b\b\b\b\b\b\b\b\b\b\b\b\b\b\b\b\b\b\b\b\b\b\b\b\b\b\b\b\b\b\b\b\b\b\b\b\b\b\b\b\b\b\b\b\b\b\b\b\b\b\b\b\b\b\b\b\b\b\b\b\b\b\b\b\b\b\n",
      "Epoch 13/100\n",
      "1000/1000 [==============================] - 0s 45us/step - loss: 2.2258 - categorical_accuracy: 0.1520\b\b\b\b\b\b\b\b\b\b\b\b\b\b\b\b\b\b\b\b\b\b\b\b\b\b\b\b\b\b\b\b\b\b\b\b\b\b\b\b\b\b\b\b\b\b\b\b\b\b\b\b\b\b\b\b\b\b\b\b\b\b\b\b\b\b\b\b\b\b\b\b\b\b\b\b\b\b\b\b\b\b\b\b\b\b\b\b\b\b\b\b\b\n",
      "Epoch 14/100\n",
      "1000/1000 [==============================] - 0s 46us/step - loss: 2.2145 - categorical_accuracy: 0.1560\b\b\b\b\b\b\b\b\b\b\b\b\b\b\b\b\b\b\b\b\b\b\b\b\b\b\b\b\b\b\b\b\b\b\b\b\b\b\b\b\b\b\b\b\b\b\b\b\b\b\b\b\b\b\b\b\b\b\b\b\b\b\b\b\b\b\b\b\b\b\b\b\b\b\b\b\b\b\b\b\b\b\b\b\b\b\b\b\b\b\b\b\b\n",
      "Epoch 15/100\n",
      "1000/1000 [==============================] - 0s 46us/step - loss: 2.2137 - categorical_accuracy: 0.1560\b\b\b\b\b\b\b\b\b\b\b\b\b\b\b\b\b\b\b\b\b\b\b\b\b\b\b\b\b\b\b\b\b\b\b\b\b\b\b\b\b\b\b\b\b\b\b\b\b\b\b\b\b\b\b\b\b\b\b\b\b\b\b\b\b\b\b\b\b\b\b\b\b\b\b\b\b\b\b\b\b\b\b\b\b\b\b\b\b\b\b\b\b\n",
      "Epoch 16/100\n",
      "1000/1000 [==============================] - 0s 60us/step - loss: 2.2068 - categorical_accuracy: 0.1680\b\b\b\b\b\b\b\b\b\b\b\b\b\b\b\b\b\b\b\b\b\b\b\b\b\b\b\b\b\b\b\b\b\b\b\b\b\b\b\b\b\b\b\b\b\b\b\b\b\b\b\b\b\b\b\b\b\b\b\b\b\b\b\b\b\b\b\b\b\b\b\b\b\b\b\b\b\b\b\b\b\b\b\b\b\b\b\b\b\b\b\b\b\b\b\b\b\b\b\b\b\b\b\b\b\b\b\b\b\b\b\b\b\b\b\b\b\b\b\b\b\b\b\b\b\b\b\b\b\b\b\b\b\b\b\b\b\b\b\b\b\b\b\b\b\b\b\b\b\b\b\b\b\b\b\b\b\b\b\b\b\b\b\b\b\b\b\b\b\b\b\b\b\b\b\b\b\b\b\b\b\b\b\b\b\b\b\b\b\b\b\n",
      "Epoch 17/100\n",
      "1000/1000 [==============================] - 0s 41us/step - loss: 2.2017 - categorical_accuracy: 0.1560\b\b\b\b\b\b\b\b\b\b\b\b\b\b\b\b\b\b\b\b\b\b\b\b\b\b\b\b\b\b\b\b\b\b\b\b\b\b\b\b\b\b\b\b\b\b\b\b\b\b\b\b\b\b\b\b\b\b\b\b\b\b\b\b\b\b\b\b\b\b\b\b\b\b\b\b\b\b\b\b\b\b\b\b\b\b\b\b\b\b\b\b\b\n",
      "Epoch 18/100\n",
      "1000/1000 [==============================] - 0s 41us/step - loss: 2.1937 - categorical_accuracy: 0.1710\b\b\b\b\b\b\b\b\b\b\b\b\b\b\b\b\b\b\b\b\b\b\b\b\b\b\b\b\b\b\b\b\b\b\b\b\b\b\b\b\b\b\b\b\b\b\b\b\b\b\b\b\b\b\b\b\b\b\b\b\b\b\b\b\b\b\b\b\b\b\b\b\b\b\b\b\b\b\b\b\b\b\b\b\b\b\b\b\b\b\b\b\b\n",
      "Epoch 19/100\n",
      "1000/1000 [==============================] - 0s 43us/step - loss: 2.1905 - categorical_accuracy: 0.1670\b\b\b\b\b\b\b\b\b\b\b\b\b\b\b\b\b\b\b\b\b\b\b\b\b\b\b\b\b\b\b\b\b\b\b\b\b\b\b\b\b\b\b\b\b\b\b\b\b\b\b\b\b\b\b\b\b\b\b\b\b\b\b\b\b\b\b\b\b\b\b\b\b\b\b\b\b\b\b\b\b\b\b\b\b\b\b\b\b\b\b\b\b\n",
      "Epoch 20/100\n",
      "1000/1000 [==============================] - 0s 47us/step - loss: 2.1876 - categorical_accuracy: 0.1730\b\b\b\b\b\b\b\b\b\b\b\b\b\b\b\b\b\b\b\b\b\b\b\b\b\b\b\b\b\b\b\b\b\b\b\b\b\b\b\b\b\b\b\b\b\b\b\b\b\b\b\b\b\b\b\b\b\b\b\b\b\b\b\b\b\b\b\b\b\b\b\b\b\b\b\b\b\b\b\b\b\b\b\b\b\b\b\b\b\b\b\b\b\n",
      "Epoch 21/100\n",
      "1000/1000 [==============================] - 0s 42us/step - loss: 2.1827 - categorical_accuracy: 0.1780\b\b\b\b\b\b\b\b\b\b\b\b\b\b\b\b\b\b\b\b\b\b\b\b\b\b\b\b\b\b\b\b\b\b\b\b\b\b\b\b\b\b\b\b\b\b\b\b\b\b\b\b\b\b\b\b\b\b\b\b\b\b\b\b\b\b\b\b\b\b\b\b\b\b\b\b\b\b\b\b\b\b\b\b\b\b\b\b\b\b\b\b\b\n",
      "Epoch 22/100\n",
      "1000/1000 [==============================] - 0s 42us/step - loss: 2.1777 - categorical_accuracy: 0.1750\b\b\b\b\b\b\b\b\b\b\b\b\b\b\b\b\b\b\b\b\b\b\b\b\b\b\b\b\b\b\b\b\b\b\b\b\b\b\b\b\b\b\b\b\b\b\b\b\b\b\b\b\b\b\b\b\b\b\b\b\b\b\b\b\b\b\b\b\b\b\b\b\b\b\b\b\b\b\b\b\b\b\b\b\b\b\b\b\b\b\b\b\b\n",
      "Epoch 23/100\n",
      "1000/1000 [==============================] - 0s 42us/step - loss: 2.1757 - categorical_accuracy: 0.1780\b\b\b\b\b\b\b\b\b\b\b\b\b\b\b\b\b\b\b\b\b\b\b\b\b\b\b\b\b\b\b\b\b\b\b\b\b\b\b\b\b\b\b\b\b\b\b\b\b\b\b\b\b\b\b\b\b\b\b\b\b\b\b\b\b\b\b\b\b\b\b\b\b\b\b\b\b\b\b\b\b\b\b\b\b\b\b\b\b\b\b\b\b\n",
      "Epoch 24/100\n",
      "1000/1000 [==============================] - 0s 42us/step - loss: 2.1662 - categorical_accuracy: 0.1750\b\b\b\b\b\b\b\b\b\b\b\b\b\b\b\b\b\b\b\b\b\b\b\b\b\b\b\b\b\b\b\b\b\b\b\b\b\b\b\b\b\b\b\b\b\b\b\b\b\b\b\b\b\b\b\b\b\b\b\b\b\b\b\b\b\b\b\b\b\b\b\b\b\b\b\b\b\b\b\b\b\b\b\b\b\b\b\b\b\b\b\b\b\n",
      "Epoch 25/100\n",
      "1000/1000 [==============================] - 0s 42us/step - loss: 2.1610 - categorical_accuracy: 0.1780\b\b\b\b\b\b\b\b\b\b\b\b\b\b\b\b\b\b\b\b\b\b\b\b\b\b\b\b\b\b\b\b\b\b\b\b\b\b\b\b\b\b\b\b\b\b\b\b\b\b\b\b\b\b\b\b\b\b\b\b\b\b\b\b\b\b\b\b\b\b\b\b\b\b\b\b\b\b\b\b\b\b\b\b\b\b\b\b\b\b\b\b\b\n",
      "Epoch 26/100\n",
      "1000/1000 [==============================] - 0s 52us/step - loss: 2.1549 - categorical_accuracy: 0.1790\b\b\b\b\b\b\b\b\b\b\b\b\b\b\b\b\b\b\b\b\b\b\b\b\b\b\b\b\b\b\b\b\b\b\b\b\b\b\b\b\b\b\b\b\b\b\b\b\b\b\b\b\b\b\b\b\b\b\b\b\b\b\b\b\b\b\b\b\b\b\b\b\b\b\b\b\b\b\b\b\b\b\b\b\b\b\b\b\b\b\b\b\b\n",
      "Epoch 27/100\n",
      "1000/1000 [==============================] - 0s 52us/step - loss: 2.1502 - categorical_accuracy: 0.1740\b\b\b\b\b\b\b\b\b\b\b\b\b\b\b\b\b\b\b\b\b\b\b\b\b\b\b\b\b\b\b\b\b\b\b\b\b\b\b\b\b\b\b\b\b\b\b\b\b\b\b\b\b\b\b\b\b\b\b\b\b\b\b\b\b\b\b\b\b\b\b\b\b\b\b\b\b\b\b\b\b\b\b\b\b\b\b\b\b\b\b\b\b\n",
      "Epoch 28/100\n",
      "1000/1000 [==============================] - 0s 50us/step - loss: 2.1507 - categorical_accuracy: 0.1800\b\b\b\b\b\b\b\b\b\b\b\b\b\b\b\b\b\b\b\b\b\b\b\b\b\b\b\b\b\b\b\b\b\b\b\b\b\b\b\b\b\b\b\b\b\b\b\b\b\b\b\b\b\b\b\b\b\b\b\b\b\b\b\b\b\b\b\b\b\b\b\b\b\b\b\b\b\b\b\b\b\b\b\b\b\b\b\b\b\b\b\b\b\n",
      "Epoch 29/100\n",
      "1000/1000 [==============================] - 0s 53us/step - loss: 2.1448 - categorical_accuracy: 0.1840\b\b\b\b\b\b\b\b\b\b\b\b\b\b\b\b\b\b\b\b\b\b\b\b\b\b\b\b\b\b\b\b\b\b\b\b\b\b\b\b\b\b\b\b\b\b\b\b\b\b\b\b\b\b\b\b\b\b\b\b\b\b\b\b\b\b\b\b\b\b\b\b\b\b\b\b\b\b\b\b\b\b\b\b\b\b\b\b\b\b\b\b\b\n",
      "Epoch 30/100\n",
      "1000/1000 [==============================] - 0s 45us/step - loss: 2.1352 - categorical_accuracy: 0.1870\b\b\b\b\b\b\b\b\b\b\b\b\b\b\b\b\b\b\b\b\b\b\b\b\b\b\b\b\b\b\b\b\b\b\b\b\b\b\b\b\b\b\b\b\b\b\b\b\b\b\b\b\b\b\b\b\b\b\b\b\b\b\b\b\b\b\b\b\b\b\b\b\b\b\b\b\b\b\b\b\b\b\b\b\b\b\b\b\b\b\b\b\b\n",
      "Epoch 31/100\n",
      "1000/1000 [==============================] - 0s 42us/step - loss: 2.1356 - categorical_accuracy: 0.1840\b\b\b\b\b\b\b\b\b\b\b\b\b\b\b\b\b\b\b\b\b\b\b\b\b\b\b\b\b\b\b\b\b\b\b\b\b\b\b\b\b\b\b\b\b\b\b\b\b\b\b\b\b\b\b\b\b\b\b\b\b\b\b\b\b\b\b\b\b\b\b\b\b\b\b\b\b\b\b\b\b\b\b\b\b\b\b\b\b\b\b\b\b\n",
      "Epoch 32/100\n",
      "1000/1000 [==============================] - 0s 44us/step - loss: 2.1316 - categorical_accuracy: 0.1970\b\b\b\b\b\b\b\b\b\b\b\b\b\b\b\b\b\b\b\b\b\b\b\b\b\b\b\b\b\b\b\b\b\b\b\b\b\b\b\b\b\b\b\b\b\b\b\b\b\b\b\b\b\b\b\b\b\b\b\b\b\b\b\b\b\b\b\b\b\b\b\b\b\b\b\b\b\b\b\b\b\b\b\b\b\b\b\b\b\b\b\b\b\n",
      "Epoch 33/100\n",
      "1000/1000 [==============================] - 0s 60us/step - loss: 2.1249 - categorical_accuracy: 0.2000\b\b\b\b\b\b\b\b\b\b\b\b\b\b\b\b\b\b\b\b\b\b\b\b\b\b\b\b\b\b\b\b\b\b\b\b\b\b\b\b\b\b\b\b\b\b\b\b\b\b\b\b\b\b\b\b\b\b\b\b\b\b\b\b\b\b\b\b\b\b\b\b\b\b\b\b\b\b\b\b\b\b\b\b\b\b\b\b\b\b\b\b\b\b\b\b\b\b\b\b\b\b\b\b\b\b\b\b\b\b\b\b\b\b\b\b\b\b\b\b\b\b\b\b\b\b\b\b\b\b\b\b\b\b\b\b\b\b\b\b\b\b\b\b\b\b\b\b\b\b\b\b\b\b\b\b\b\b\b\b\b\b\b\b\b\b\b\b\b\b\b\b\b\b\b\b\b\b\b\b\b\b\b\b\b\b\b\b\b\b\b\n",
      "Epoch 34/100\n",
      "1000/1000 [==============================] - 0s 74us/step - loss: 2.1182 - categorical_accuracy: 0.1990\b\b\b\b\b\b\b\b\b\b\b\b\b\b\b\b\b\b\b\b\b\b\b\b\b\b\b\b\b\b\b\b\b\b\b\b\b\b\b\b\b\b\b\b\b\b\b\b\b\b\b\b\b\b\b\b\b\b\b\b\b\b\b\b\b\b\b\b\b\b\b\b\b\b\b\b\b\b\b\b\b\b\b\b\b\b\b\b\b\b\b\b\b\b\b\b\b\b\b\b\b\b\b\b\b\b\b\b\b\b\b\b\b\b\b\b\b\b\b\b\b\b\b\b\b\b\b\b\b\b\b\b\b\b\b\b\b\b\b\b\b\b\b\b\b\b\b\b\b\b\b\b\b\b\b\b\b\b\b\b\b\b\b\b\b\b\b\b\b\b\b\b\b\b\b\b\b\b\b\b\b\b\b\b\b\b\b\b\b\b\b\n",
      "Epoch 35/100\n",
      "1000/1000 [==============================] - 0s 46us/step - loss: 2.1199 - categorical_accuracy: 0.1890\b\b\b\b\b\b\b\b\b\b\b\b\b\b\b\b\b\b\b\b\b\b\b\b\b\b\b\b\b\b\b\b\b\b\b\b\b\b\b\b\b\b\b\b\b\b\b\b\b\b\b\b\b\b\b\b\b\b\b\b\b\b\b\b\b\b\b\b\b\b\b\b\b\b\b\b\b\b\b\b\b\b\b\b\b\b\b\b\b\b\b\b\b\n",
      "Epoch 36/100\n",
      "1000/1000 [==============================] - 0s 60us/step - loss: 2.1094 - categorical_accuracy: 0.2050\b\b\b\b\b\b\b\b\b\b\b\b\b\b\b\b\b\b\b\b\b\b\b\b\b\b\b\b\b\b\b\b\b\b\b\b\b\b\b\b\b\b\b\b\b\b\b\b\b\b\b\b\b\b\b\b\b\b\b\b\b\b\b\b\b\b\b\b\b\b\b\b\b\b\b\b\b\b\b\b\b\b\b\b\b\b\b\b\b\b\b\b\b\b\b\b\b\b\b\b\b\b\b\b\b\b\b\b\b\b\b\b\b\b\b\b\b\b\b\b\b\b\b\b\b\b\b\b\b\b\b\b\b\b\b\b\b\b\b\b\b\b\b\b\b\b\b\b\b\b\b\b\b\b\b\b\b\b\b\b\b\b\b\b\b\b\b\b\b\b\b\b\b\b\b\b\b\b\b\b\b\b\b\b\b\b\b\b\b\b\b\n",
      "Epoch 37/100\n",
      "1000/1000 [==============================] - 0s 62us/step - loss: 2.1040 - categorical_accuracy: 0.2090\b\b\b\b\b\b\b\b\b\b\b\b\b\b\b\b\b\b\b\b\b\b\b\b\b\b\b\b\b\b\b\b\b\b\b\b\b\b\b\b\b\b\b\b\b\b\b\b\b\b\b\b\b\b\b\b\b\b\b\b\b\b\b\b\b\b\b\b\b\b\b\b\b\b\b\b\b\b\b\b\b\b\b\b\b\b\b\b\b\b\b\b\b\b\b\b\b\b\b\b\b\b\b\b\b\b\b\b\b\b\b\b\b\b\b\b\b\b\b\b\b\b\b\b\b\b\b\b\b\b\b\b\b\b\b\b\b\b\b\b\b\b\b\b\b\b\b\b\b\b\b\b\b\b\b\b\b\b\b\b\b\b\b\b\b\b\b\b\b\b\b\b\b\b\b\b\b\b\b\b\b\b\b\b\b\b\b\b\b\b\b\n",
      "Epoch 38/100\n",
      "1000/1000 [==============================] - 0s 63us/step - loss: 2.0997 - categorical_accuracy: 0.2060\b\b\b\b\b\b\b\b\b\b\b\b\b\b\b\b\b\b\b\b\b\b\b\b\b\b\b\b\b\b\b\b\b\b\b\b\b\b\b\b\b\b\b\b\b\b\b\b\b\b\b\b\b\b\b\b\b\b\b\b\b\b\b\b\b\b\b\b\b\b\b\b\b\b\b\b\b\b\b\b\b\b\b\b\b\b\b\b\b\b\b\b\b\b\b\b\b\b\b\b\b\b\b\b\b\b\b\b\b\b\b\b\b\b\b\b\b\b\b\b\b\b\b\b\b\b\b\b\b\b\b\b\b\b\b\b\b\b\b\b\b\b\b\b\b\b\b\b\b\b\b\b\b\b\b\b\b\b\b\b\b\b\b\b\b\b\b\b\b\b\b\b\b\b\b\b\b\b\b\b\b\b\b\b\b\b\b\b\b\b\b\n",
      "Epoch 39/100\n",
      "1000/1000 [==============================] - 0s 52us/step - loss: 2.0961 - categorical_accuracy: 0.2040\b\b\b\b\b\b\b\b\b\b\b\b\b\b\b\b\b\b\b\b\b\b\b\b\b\b\b\b\b\b\b\b\b\b\b\b\b\b\b\b\b\b\b\b\b\b\b\b\b\b\b\b\b\b\b\b\b\b\b\b\b\b\b\b\b\b\b\b\b\b\b\b\b\b\b\b\b\b\b\b\b\b\b\b\b\b\b\b\b\b\b\b\b\n",
      "Epoch 40/100\n",
      "1000/1000 [==============================] - 0s 63us/step - loss: 2.0872 - categorical_accuracy: 0.2040\b\b\b\b\b\b\b\b\b\b\b\b\b\b\b\b\b\b\b\b\b\b\b\b\b\b\b\b\b\b\b\b\b\b\b\b\b\b\b\b\b\b\b\b\b\b\b\b\b\b\b\b\b\b\b\b\b\b\b\b\b\b\b\b\b\b\b\b\b\b\b\b\b\b\b\b\b\b\b\b\b\b\b\b\b\b\b\b\b\b\b\b\b\b\b\b\b\b\b\b\b\b\b\b\b\b\b\b\b\b\b\b\b\b\b\b\b\b\b\b\b\b\b\b\b\b\b\b\b\b\b\b\b\b\b\b\b\b\b\b\b\b\b\b\b\b\b\b\b\b\b\b\b\b\b\b\b\b\b\b\b\b\b\b\b\b\b\b\b\b\b\b\b\b\b\b\b\b\b\b\b\b\b\b\b\b\b\b\b\b\b\n",
      "Epoch 41/100\n",
      "1000/1000 [==============================] - 0s 58us/step - loss: 2.0881 - categorical_accuracy: 0.2050\b\b\b\b\b\b\b\b\b\b\b\b\b\b\b\b\b\b\b\b\b\b\b\b\b\b\b\b\b\b\b\b\b\b\b\b\b\b\b\b\b\b\b\b\b\b\b\b\b\b\b\b\b\b\b\b\b\b\b\b\b\b\b\b\b\b\b\b\b\b\b\b\b\b\b\b\b\b\b\b\b\b\b\b\b\b\b\b\b\b\b\b\b\b\b\b\b\b\b\b\b\b\b\b\b\b\b\b\b\b\b\b\b\b\b\b\b\b\b\b\b\b\b\b\b\b\b\b\b\b\b\b\b\b\b\b\b\b\b\b\b\b\b\b\b\b\b\b\b\b\b\b\b\b\b\b\b\b\b\b\b\b\b\b\b\b\b\b\b\b\b\b\b\b\b\b\b\b\b\b\b\b\b\b\b\b\b\b\b\b\b\n",
      "Epoch 42/100\n",
      "1000/1000 [==============================] - 0s 56us/step - loss: 2.0792 - categorical_accuracy: 0.2170\b\b\b\b\b\b\b\b\b\b\b\b\b\b\b\b\b\b\b\b\b\b\b\b\b\b\b\b\b\b\b\b\b\b\b\b\b\b\b\b\b\b\b\b\b\b\b\b\b\b\b\b\b\b\b\b\b\b\b\b\b\b\b\b\b\b\b\b\b\b\b\b\b\b\b\b\b\b\b\b\b\b\b\b\b\b\b\b\b\b\b\b\b\b\b\b\b\b\b\b\b\b\b\b\b\b\b\b\b\b\b\b\b\b\b\b\b\b\b\b\b\b\b\b\b\b\b\b\b\b\b\b\b\b\b\b\b\b\b\b\b\b\b\b\b\b\b\b\b\b\b\b\b\b\b\b\b\b\b\b\b\b\b\b\b\b\b\b\b\b\b\b\b\b\b\b\b\b\b\b\b\b\b\b\b\b\b\b\b\b\b\n",
      "Epoch 43/100\n",
      "1000/1000 [==============================] - 0s 47us/step - loss: 2.0741 - categorical_accuracy: 0.2280\b\b\b\b\b\b\b\b\b\b\b\b\b\b\b\b\b\b\b\b\b\b\b\b\b\b\b\b\b\b\b\b\b\b\b\b\b\b\b\b\b\b\b\b\b\b\b\b\b\b\b\b\b\b\b\b\b\b\b\b\b\b\b\b\b\b\b\b\b\b\b\b\b\b\b\b\b\b\b\b\b\b\b\b\b\b\b\b\b\b\b\b\b\n",
      "Epoch 44/100\n",
      "1000/1000 [==============================] - 0s 49us/step - loss: 2.0683 - categorical_accuracy: 0.2070\b\b\b\b\b\b\b\b\b\b\b\b\b\b\b\b\b\b\b\b\b\b\b\b\b\b\b\b\b\b\b\b\b\b\b\b\b\b\b\b\b\b\b\b\b\b\b\b\b\b\b\b\b\b\b\b\b\b\b\b\b\b\b\b\b\b\b\b\b\b\b\b\b\b\b\b\b\b\b\b\b\b\b\b\b\b\b\b\b\b\b\b\b\n",
      "Epoch 45/100\n",
      "1000/1000 [==============================] - 0s 50us/step - loss: 2.0678 - categorical_accuracy: 0.2110\b\b\b\b\b\b\b\b\b\b\b\b\b\b\b\b\b\b\b\b\b\b\b\b\b\b\b\b\b\b\b\b\b\b\b\b\b\b\b\b\b\b\b\b\b\b\b\b\b\b\b\b\b\b\b\b\b\b\b\b\b\b\b\b\b\b\b\b\b\b\b\b\b\b\b\b\b\b\b\b\b\b\b\b\b\b\b\b\b\b\b\b\b\n",
      "Epoch 46/100\n",
      "1000/1000 [==============================] - 0s 60us/step - loss: 2.0604 - categorical_accuracy: 0.2230\b\b\b\b\b\b\b\b\b\b\b\b\b\b\b\b\b\b\b\b\b\b\b\b\b\b\b\b\b\b\b\b\b\b\b\b\b\b\b\b\b\b\b\b\b\b\b\b\b\b\b\b\b\b\b\b\b\b\b\b\b\b\b\b\b\b\b\b\b\b\b\b\b\b\b\b\b\b\b\b\b\b\b\b\b\b\b\b\b\b\b\b\b\b\b\b\b\b\b\b\b\b\b\b\b\b\b\b\b\b\b\b\b\b\b\b\b\b\b\b\b\b\b\b\b\b\b\b\b\b\b\b\b\b\b\b\b\b\b\b\b\b\b\b\b\b\b\b\b\b\b\b\b\b\b\b\b\b\b\b\b\b\b\b\b\b\b\b\b\b\b\b\b\b\b\b\b\b\b\b\b\b\b\b\b\b\b\b\b\b\b\n",
      "Epoch 47/100\n",
      "1000/1000 [==============================] - 0s 52us/step - loss: 2.0600 - categorical_accuracy: 0.2120\b\b\b\b\b\b\b\b\b\b\b\b\b\b\b\b\b\b\b\b\b\b\b\b\b\b\b\b\b\b\b\b\b\b\b\b\b\b\b\b\b\b\b\b\b\b\b\b\b\b\b\b\b\b\b\b\b\b\b\b\b\b\b\b\b\b\b\b\b\b\b\b\b\b\b\b\b\b\b\b\b\b\b\b\b\b\b\b\b\b\b\b\b\n",
      "Epoch 48/100\n",
      "1000/1000 [==============================] - 0s 49us/step - loss: 2.0520 - categorical_accuracy: 0.2270\b\b\b\b\b\b\b\b\b\b\b\b\b\b\b\b\b\b\b\b\b\b\b\b\b\b\b\b\b\b\b\b\b\b\b\b\b\b\b\b\b\b\b\b\b\b\b\b\b\b\b\b\b\b\b\b\b\b\b\b\b\b\b\b\b\b\b\b\b\b\b\b\b\b\b\b\b\b\b\b\b\b\b\b\b\b\b\b\b\b\b\b\b\n",
      "Epoch 49/100\n",
      "1000/1000 [==============================] - 0s 53us/step - loss: 2.0484 - categorical_accuracy: 0.2260\b\b\b\b\b\b\b\b\b\b\b\b\b\b\b\b\b\b\b\b\b\b\b\b\b\b\b\b\b\b\b\b\b\b\b\b\b\b\b\b\b\b\b\b\b\b\b\b\b\b\b\b\b\b\b\b\b\b\b\b\b\b\b\b\b\b\b\b\b\b\b\b\b\b\b\b\b\b\b\b\b\b\b\b\b\b\b\b\b\b\b\b\b\n",
      "Epoch 50/100\n",
      "1000/1000 [==============================] - 0s 53us/step - loss: 2.0479 - categorical_accuracy: 0.2230\b\b\b\b\b\b\b\b\b\b\b\b\b\b\b\b\b\b\b\b\b\b\b\b\b\b\b\b\b\b\b\b\b\b\b\b\b\b\b\b\b\b\b\b\b\b\b\b\b\b\b\b\b\b\b\b\b\b\b\b\b\b\b\b\b\b\b\b\b\b\b\b\b\b\b\b\b\b\b\b\b\b\b\b\b\b\b\b\b\b\b\b\b\n",
      "Epoch 51/100\n",
      "1000/1000 [==============================] - 0s 49us/step - loss: 2.0428 - categorical_accuracy: 0.2260\b\b\b\b\b\b\b\b\b\b\b\b\b\b\b\b\b\b\b\b\b\b\b\b\b\b\b\b\b\b\b\b\b\b\b\b\b\b\b\b\b\b\b\b\b\b\b\b\b\b\b\b\b\b\b\b\b\b\b\b\b\b\b\b\b\b\b\b\b\b\b\b\b\b\b\b\b\b\b\b\b\b\b\b\b\b\b\b\b\b\b\b\b\n",
      "Epoch 52/100\n",
      "1000/1000 [==============================] - 0s 48us/step - loss: 2.0389 - categorical_accuracy: 0.2220\b\b\b\b\b\b\b\b\b\b\b\b\b\b\b\b\b\b\b\b\b\b\b\b\b\b\b\b\b\b\b\b\b\b\b\b\b\b\b\b\b\b\b\b\b\b\b\b\b\b\b\b\b\b\b\b\b\b\b\b\b\b\b\b\b\b\b\b\b\b\b\b\b\b\b\b\b\b\b\b\b\b\b\b\b\b\b\b\b\b\b\b\b\n",
      "Epoch 53/100\n",
      "1000/1000 [==============================] - 0s 50us/step - loss: 2.0308 - categorical_accuracy: 0.2310\b\b\b\b\b\b\b\b\b\b\b\b\b\b\b\b\b\b\b\b\b\b\b\b\b\b\b\b\b\b\b\b\b\b\b\b\b\b\b\b\b\b\b\b\b\b\b\b\b\b\b\b\b\b\b\b\b\b\b\b\b\b\b\b\b\b\b\b\b\b\b\b\b\b\b\b\b\b\b\b\b\b\b\b\b\b\b\b\b\b\b\b\b\n",
      "Epoch 54/100\n",
      "1000/1000 [==============================] - 0s 45us/step - loss: 2.0245 - categorical_accuracy: 0.2350\b\b\b\b\b\b\b\b\b\b\b\b\b\b\b\b\b\b\b\b\b\b\b\b\b\b\b\b\b\b\b\b\b\b\b\b\b\b\b\b\b\b\b\b\b\b\b\b\b\b\b\b\b\b\b\b\b\b\b\b\b\b\b\b\b\b\b\b\b\b\b\b\b\b\b\b\b\b\b\b\b\b\b\b\b\b\b\b\b\b\b\b\b\n",
      "Epoch 55/100\n",
      "1000/1000 [==============================] - 0s 49us/step - loss: 2.0264 - categorical_accuracy: 0.2290\b\b\b\b\b\b\b\b\b\b\b\b\b\b\b\b\b\b\b\b\b\b\b\b\b\b\b\b\b\b\b\b\b\b\b\b\b\b\b\b\b\b\b\b\b\b\b\b\b\b\b\b\b\b\b\b\b\b\b\b\b\b\b\b\b\b\b\b\b\b\b\b\b\b\b\b\b\b\b\b\b\b\b\b\b\b\b\b\b\b\b\b\b\n",
      "Epoch 56/100\n",
      "1000/1000 [==============================] - 0s 45us/step - loss: 2.0222 - categorical_accuracy: 0.2380\b\b\b\b\b\b\b\b\b\b\b\b\b\b\b\b\b\b\b\b\b\b\b\b\b\b\b\b\b\b\b\b\b\b\b\b\b\b\b\b\b\b\b\b\b\b\b\b\b\b\b\b\b\b\b\b\b\b\b\b\b\b\b\b\b\b\b\b\b\b\b\b\b\b\b\b\b\b\b\b\b\b\b\b\b\b\b\b\b\b\b\b\b\n",
      "Epoch 57/100\n",
      "1000/1000 [==============================] - 0s 50us/step - loss: 2.0147 - categorical_accuracy: 0.2240\b\b\b\b\b\b\b\b\b\b\b\b\b\b\b\b\b\b\b\b\b\b\b\b\b\b\b\b\b\b\b\b\b\b\b\b\b\b\b\b\b\b\b\b\b\b\b\b\b\b\b\b\b\b\b\b\b\b\b\b\b\b\b\b\b\b\b\b\b\b\b\b\b\b\b\b\b\b\b\b\b\b\b\b\b\b\b\b\b\b\b\b\b\n",
      "Epoch 58/100\n",
      "1000/1000 [==============================] - 0s 45us/step - loss: 2.0057 - categorical_accuracy: 0.2360\b\b\b\b\b\b\b\b\b\b\b\b\b\b\b\b\b\b\b\b\b\b\b\b\b\b\b\b\b\b\b\b\b\b\b\b\b\b\b\b\b\b\b\b\b\b\b\b\b\b\b\b\b\b\b\b\b\b\b\b\b\b\b\b\b\b\b\b\b\b\b\b\b\b\b\b\b\b\b\b\b\b\b\b\b\b\b\b\b\b\b\b\b\n",
      "Epoch 59/100\n",
      "1000/1000 [==============================] - 0s 50us/step - loss: 2.0094 - categorical_accuracy: 0.2380\b\b\b\b\b\b\b\b\b\b\b\b\b\b\b\b\b\b\b\b\b\b\b\b\b\b\b\b\b\b\b\b\b\b\b\b\b\b\b\b\b\b\b\b\b\b\b\b\b\b\b\b\b\b\b\b\b\b\b\b\b\b\b\b\b\b\b\b\b\b\b\b\b\b\b\b\b\b\b\b\b\b\b\b\b\b\b\b\b\b\b\b\b\n",
      "Epoch 60/100\n",
      "1000/1000 [==============================] - 0s 58us/step - loss: 2.0068 - categorical_accuracy: 0.2420\b\b\b\b\b\b\b\b\b\b\b\b\b\b\b\b\b\b\b\b\b\b\b\b\b\b\b\b\b\b\b\b\b\b\b\b\b\b\b\b\b\b\b\b\b\b\b\b\b\b\b\b\b\b\b\b\b\b\b\b\b\b\b\b\b\b\b\b\b\b\b\b\b\b\b\b\b\b\b\b\b\b\b\b\b\b\b\b\b\b\b\b\b\b\b\b\b\b\b\b\b\b\b\b\b\b\b\b\b\b\b\b\b\b\b\b\b\b\b\b\b\b\b\b\b\b\b\b\b\b\b\b\b\b\b\b\b\b\b\b\b\b\b\b\b\b\b\b\b\b\b\b\b\b\b\b\b\b\b\b\b\b\b\b\b\b\b\b\b\b\b\b\b\b\b\b\b\b\b\b\b\b\b\b\b\b\b\b\b\b\b\n",
      "Epoch 61/100\n",
      "1000/1000 [==============================] - 0s 56us/step - loss: 1.9959 - categorical_accuracy: 0.2400\b\b\b\b\b\b\b\b\b\b\b\b\b\b\b\b\b\b\b\b\b\b\b\b\b\b\b\b\b\b\b\b\b\b\b\b\b\b\b\b\b\b\b\b\b\b\b\b\b\b\b\b\b\b\b\b\b\b\b\b\b\b\b\b\b\b\b\b\b\b\b\b\b\b\b\b\b\b\b\b\b\b\b\b\b\b\b\b\b\b\b\b\b\b\b\b\b\b\b\b\b\b\b\b\b\b\b\b\b\b\b\b\b\b\b\b\b\b\b\b\b\b\b\b\b\b\b\b\b\b\b\b\b\b\b\b\b\b\b\b\b\b\b\b\b\b\b\b\b\b\b\b\b\b\b\b\b\b\b\b\b\b\b\b\b\b\b\b\b\b\b\b\b\b\b\b\b\b\b\b\b\b\b\b\b\b\b\b\b\b\b\n",
      "Epoch 62/100\n",
      "1000/1000 [==============================] - 0s 53us/step - loss: 1.9939 - categorical_accuracy: 0.2430\b\b\b\b\b\b\b\b\b\b\b\b\b\b\b\b\b\b\b\b\b\b\b\b\b\b\b\b\b\b\b\b\b\b\b\b\b\b\b\b\b\b\b\b\b\b\b\b\b\b\b\b\b\b\b\b\b\b\b\b\b\b\b\b\b\b\b\b\b\b\b\b\b\b\b\b\b\b\b\b\b\b\b\b\b\b\b\b\b\b\b\b\b\n",
      "Epoch 63/100\n",
      "1000/1000 [==============================] - 0s 51us/step - loss: 1.9944 - categorical_accuracy: 0.2410\b\b\b\b\b\b\b\b\b\b\b\b\b\b\b\b\b\b\b\b\b\b\b\b\b\b\b\b\b\b\b\b\b\b\b\b\b\b\b\b\b\b\b\b\b\b\b\b\b\b\b\b\b\b\b\b\b\b\b\b\b\b\b\b\b\b\b\b\b\b\b\b\b\b\b\b\b\b\b\b\b\b\b\b\b\b\b\b\b\b\b\b\b\n",
      "Epoch 64/100\n",
      "1000/1000 [==============================] - 0s 41us/step - loss: 1.9875 - categorical_accuracy: 0.2470\b\b\b\b\b\b\b\b\b\b\b\b\b\b\b\b\b\b\b\b\b\b\b\b\b\b\b\b\b\b\b\b\b\b\b\b\b\b\b\b\b\b\b\b\b\b\b\b\b\b\b\b\b\b\b\b\b\b\b\b\b\b\b\b\b\b\b\b\b\b\b\b\b\b\b\b\b\b\b\b\b\b\b\b\b\b\b\b\b\b\b\b\b\n",
      "Epoch 65/100\n",
      "1000/1000 [==============================] - 0s 42us/step - loss: 1.9827 - categorical_accuracy: 0.2420\b\b\b\b\b\b\b\b\b\b\b\b\b\b\b\b\b\b\b\b\b\b\b\b\b\b\b\b\b\b\b\b\b\b\b\b\b\b\b\b\b\b\b\b\b\b\b\b\b\b\b\b\b\b\b\b\b\b\b\b\b\b\b\b\b\b\b\b\b\b\b\b\b\b\b\b\b\b\b\b\b\b\b\b\b\b\b\b\b\b\b\b\b\n",
      "Epoch 66/100\n",
      "1000/1000 [==============================] - 0s 46us/step - loss: 1.9761 - categorical_accuracy: 0.2460\b\b\b\b\b\b\b\b\b\b\b\b\b\b\b\b\b\b\b\b\b\b\b\b\b\b\b\b\b\b\b\b\b\b\b\b\b\b\b\b\b\b\b\b\b\b\b\b\b\b\b\b\b\b\b\b\b\b\b\b\b\b\b\b\b\b\b\b\b\b\b\b\b\b\b\b\b\b\b\b\b\b\b\b\b\b\b\b\b\b\b\b\b\n",
      "Epoch 67/100\n",
      "1000/1000 [==============================] - 0s 41us/step - loss: 1.9754 - categorical_accuracy: 0.2470\b\b\b\b\b\b\b\b\b\b\b\b\b\b\b\b\b\b\b\b\b\b\b\b\b\b\b\b\b\b\b\b\b\b\b\b\b\b\b\b\b\b\b\b\b\b\b\b\b\b\b\b\b\b\b\b\b\b\b\b\b\b\b\b\b\b\b\b\b\b\b\b\b\b\b\b\b\b\b\b\b\b\b\b\b\b\b\b\b\b\b\b\b\n",
      "Epoch 68/100\n",
      "1000/1000 [==============================] - 0s 47us/step - loss: 1.9681 - categorical_accuracy: 0.2450\b\b\b\b\b\b\b\b\b\b\b\b\b\b\b\b\b\b\b\b\b\b\b\b\b\b\b\b\b\b\b\b\b\b\b\b\b\b\b\b\b\b\b\b\b\b\b\b\b\b\b\b\b\b\b\b\b\b\b\b\b\b\b\b\b\b\b\b\b\b\b\b\b\b\b\b\b\b\b\b\b\b\b\b\b\b\b\b\b\b\b\b\b\n",
      "Epoch 69/100\n",
      "1000/1000 [==============================] - 0s 45us/step - loss: 1.9749 - categorical_accuracy: 0.2430\b\b\b\b\b\b\b\b\b\b\b\b\b\b\b\b\b\b\b\b\b\b\b\b\b\b\b\b\b\b\b\b\b\b\b\b\b\b\b\b\b\b\b\b\b\b\b\b\b\b\b\b\b\b\b\b\b\b\b\b\b\b\b\b\b\b\b\b\b\b\b\b\b\b\b\b\b\b\b\b\b\b\b\b\b\b\b\b\b\b\b\b\b\n",
      "Epoch 70/100\n",
      "1000/1000 [==============================] - 0s 43us/step - loss: 1.9598 - categorical_accuracy: 0.2440\b\b\b\b\b\b\b\b\b\b\b\b\b\b\b\b\b\b\b\b\b\b\b\b\b\b\b\b\b\b\b\b\b\b\b\b\b\b\b\b\b\b\b\b\b\b\b\b\b\b\b\b\b\b\b\b\b\b\b\b\b\b\b\b\b\b\b\b\b\b\b\b\b\b\b\b\b\b\b\b\b\b\b\b\b\b\b\b\b\b\b\b\b\n",
      "Epoch 71/100\n",
      "1000/1000 [==============================] - 0s 42us/step - loss: 1.9533 - categorical_accuracy: 0.2560\b\b\b\b\b\b\b\b\b\b\b\b\b\b\b\b\b\b\b\b\b\b\b\b\b\b\b\b\b\b\b\b\b\b\b\b\b\b\b\b\b\b\b\b\b\b\b\b\b\b\b\b\b\b\b\b\b\b\b\b\b\b\b\b\b\b\b\b\b\b\b\b\b\b\b\b\b\b\b\b\b\b\b\b\b\b\b\b\b\b\b\b\b\n",
      "Epoch 72/100\n",
      "1000/1000 [==============================] - 0s 43us/step - loss: 1.9508 - categorical_accuracy: 0.2510\b\b\b\b\b\b\b\b\b\b\b\b\b\b\b\b\b\b\b\b\b\b\b\b\b\b\b\b\b\b\b\b\b\b\b\b\b\b\b\b\b\b\b\b\b\b\b\b\b\b\b\b\b\b\b\b\b\b\b\b\b\b\b\b\b\b\b\b\b\b\b\b\b\b\b\b\b\b\b\b\b\b\b\b\b\b\b\b\b\b\b\b\b\n",
      "Epoch 73/100\n",
      "1000/1000 [==============================] - 0s 60us/step - loss: 1.9419 - categorical_accuracy: 0.2550\b\b\b\b\b\b\b\b\b\b\b\b\b\b\b\b\b\b\b\b\b\b\b\b\b\b\b\b\b\b\b\b\b\b\b\b\b\b\b\b\b\b\b\b\b\b\b\b\b\b\b\b\b\b\b\b\b\b\b\b\b\b\b\b\b\b\b\b\b\b\b\b\b\b\b\b\b\b\b\b\b\b\b\b\b\b\b\b\b\b\b\b\b\b\b\b\b\b\b\b\b\b\b\b\b\b\b\b\b\b\b\b\b\b\b\b\b\b\b\b\b\b\b\b\b\b\b\b\b\b\b\b\b\b\b\b\b\b\b\b\b\b\b\b\b\b\b\b\b\b\b\b\b\b\b\b\b\b\b\b\b\b\b\b\b\b\b\b\b\b\b\b\b\b\b\b\b\b\b\b\b\b\b\b\b\b\b\b\b\b\b\n",
      "Epoch 74/100\n",
      "1000/1000 [==============================] - 0s 64us/step - loss: 1.9407 - categorical_accuracy: 0.2640\b\b\b\b\b\b\b\b\b\b\b\b\b\b\b\b\b\b\b\b\b\b\b\b\b\b\b\b\b\b\b\b\b\b\b\b\b\b\b\b\b\b\b\b\b\b\b\b\b\b\b\b\b\b\b\b\b\b\b\b\b\b\b\b\b\b\b\b\b\b\b\b\b\b\b\b\b\b\b\b\b\b\b\b\b\b\b\b\b\b\b\b\b\b\b\b\b\b\b\b\b\b\b\b\b\b\b\b\b\b\b\b\b\b\b\b\b\b\b\b\b\b\b\b\b\b\b\b\b\b\b\b\b\b\b\b\b\b\b\b\b\b\b\b\b\b\b\b\b\b\b\b\b\b\b\b\b\b\b\b\b\b\b\b\b\b\b\b\b\b\b\b\b\b\b\b\b\b\b\b\b\b\b\b\b\b\b\b\b\b\b\n",
      "Epoch 75/100\n",
      "1000/1000 [==============================] - 0s 48us/step - loss: 1.9367 - categorical_accuracy: 0.2530\b\b\b\b\b\b\b\b\b\b\b\b\b\b\b\b\b\b\b\b\b\b\b\b\b\b\b\b\b\b\b\b\b\b\b\b\b\b\b\b\b\b\b\b\b\b\b\b\b\b\b\b\b\b\b\b\b\b\b\b\b\b\b\b\b\b\b\b\b\b\b\b\b\b\b\b\b\b\b\b\b\b\b\b\b\b\b\b\b\b\b\b\b\n",
      "Epoch 76/100\n",
      "1000/1000 [==============================] - 0s 49us/step - loss: 1.9317 - categorical_accuracy: 0.2600\b\b\b\b\b\b\b\b\b\b\b\b\b\b\b\b\b\b\b\b\b\b\b\b\b\b\b\b\b\b\b\b\b\b\b\b\b\b\b\b\b\b\b\b\b\b\b\b\b\b\b\b\b\b\b\b\b\b\b\b\b\b\b\b\b\b\b\b\b\b\b\b\b\b\b\b\b\b\b\b\b\b\b\b\b\b\b\b\b\b\b\b\b\n",
      "Epoch 77/100\n",
      "1000/1000 [==============================] - 0s 47us/step - loss: 1.9262 - categorical_accuracy: 0.2650\b\b\b\b\b\b\b\b\b\b\b\b\b\b\b\b\b\b\b\b\b\b\b\b\b\b\b\b\b\b\b\b\b\b\b\b\b\b\b\b\b\b\b\b\b\b\b\b\b\b\b\b\b\b\b\b\b\b\b\b\b\b\b\b\b\b\b\b\b\b\b\b\b\b\b\b\b\b\b\b\b\b\b\b\b\b\b\b\b\b\b\b\b\n",
      "Epoch 78/100\n",
      "1000/1000 [==============================] - 0s 70us/step - loss: 1.9220 - categorical_accuracy: 0.2640\b\b\b\b\b\b\b\b\b\b\b\b\b\b\b\b\b\b\b\b\b\b\b\b\b\b\b\b\b\b\b\b\b\b\b\b\b\b\b\b\b\b\b\b\b\b\b\b\b\b\b\b\b\b\b\b\b\b\b\b\b\b\b\b\b\b\b\b\b\b\b\b\b\b\b\b\b\b\b\b\b\b\b\b\b\b\b\b\b\b\b\b\b\b\b\b\b\b\b\b\b\b\b\b\b\b\b\b\b\b\b\b\b\b\b\b\b\b\b\b\b\b\b\b\b\b\b\b\b\b\b\b\b\b\b\b\b\b\b\b\b\b\b\b\b\b\b\b\b\b\b\b\b\b\b\b\b\b\b\b\b\b\b\b\b\b\b\b\b\b\b\b\b\b\b\b\b\b\b\b\b\b\b\b\b\b\b\b\b\b\b\n",
      "Epoch 79/100\n",
      "1000/1000 [==============================] - 0s 62us/step - loss: 1.9166 - categorical_accuracy: 0.2700\b\b\b\b\b\b\b\b\b\b\b\b\b\b\b\b\b\b\b\b\b\b\b\b\b\b\b\b\b\b\b\b\b\b\b\b\b\b\b\b\b\b\b\b\b\b\b\b\b\b\b\b\b\b\b\b\b\b\b\b\b\b\b\b\b\b\b\b\b\b\b\b\b\b\b\b\b\b\b\b\b\b\b\b\b\b\b\b\b\b\b\b\b\b\b\b\b\b\b\b\b\b\b\b\b\b\b\b\b\b\b\b\b\b\b\b\b\b\b\b\b\b\b\b\b\b\b\b\b\b\b\b\b\b\b\b\b\b\b\b\b\b\b\b\b\b\b\b\b\b\b\b\b\b\b\b\b\b\b\b\b\b\b\b\b\b\b\b\b\b\b\b\b\b\b\b\b\b\b\b\b\b\b\b\b\b\b\b\b\b\b\n",
      "Epoch 80/100\n",
      "1000/1000 [==============================] - 0s 51us/step - loss: 1.9132 - categorical_accuracy: 0.2670\b\b\b\b\b\b\b\b\b\b\b\b\b\b\b\b\b\b\b\b\b\b\b\b\b\b\b\b\b\b\b\b\b\b\b\b\b\b\b\b\b\b\b\b\b\b\b\b\b\b\b\b\b\b\b\b\b\b\b\b\b\b\b\b\b\b\b\b\b\b\b\b\b\b\b\b\b\b\b\b\b\b\b\b\b\b\b\b\b\b\b\b\b\n",
      "Epoch 81/100\n",
      "1000/1000 [==============================] - 0s 58us/step - loss: 1.9101 - categorical_accuracy: 0.2700\b\b\b\b\b\b\b\b\b\b\b\b\b\b\b\b\b\b\b\b\b\b\b\b\b\b\b\b\b\b\b\b\b\b\b\b\b\b\b\b\b\b\b\b\b\b\b\b\b\b\b\b\b\b\b\b\b\b\b\b\b\b\b\b\b\b\b\b\b\b\b\b\b\b\b\b\b\b\b\b\b\b\b\b\b\b\b\b\b\b\b\b\b\b\b\b\b\b\b\b\b\b\b\b\b\b\b\b\b\b\b\b\b\b\b\b\b\b\b\b\b\b\b\b\b\b\b\b\b\b\b\b\b\b\b\b\b\b\b\b\b\b\b\b\b\b\b\b\b\b\b\b\b\b\b\b\b\b\b\b\b\b\b\b\b\b\b\b\b\b\b\b\b\b\b\b\b\b\b\b\b\b\b\b\b\b\b\b\b\b\b\n",
      "Epoch 82/100\n",
      "1000/1000 [==============================] - 0s 52us/step - loss: 1.9108 - categorical_accuracy: 0.2730\b\b\b\b\b\b\b\b\b\b\b\b\b\b\b\b\b\b\b\b\b\b\b\b\b\b\b\b\b\b\b\b\b\b\b\b\b\b\b\b\b\b\b\b\b\b\b\b\b\b\b\b\b\b\b\b\b\b\b\b\b\b\b\b\b\b\b\b\b\b\b\b\b\b\b\b\b\b\b\b\b\b\b\b\b\b\b\b\b\b\b\b\b\n",
      "Epoch 83/100\n",
      "1000/1000 [==============================] - 0s 57us/step - loss: 1.9005 - categorical_accuracy: 0.2760\b\b\b\b\b\b\b\b\b\b\b\b\b\b\b\b\b\b\b\b\b\b\b\b\b\b\b\b\b\b\b\b\b\b\b\b\b\b\b\b\b\b\b\b\b\b\b\b\b\b\b\b\b\b\b\b\b\b\b\b\b\b\b\b\b\b\b\b\b\b\b\b\b\b\b\b\b\b\b\b\b\b\b\b\b\b\b\b\b\b\b\b\b\b\b\b\b\b\b\b\b\b\b\b\b\b\b\b\b\b\b\b\b\b\b\b\b\b\b\b\b\b\b\b\b\b\b\b\b\b\b\b\b\b\b\b\b\b\b\b\b\b\b\b\b\b\b\b\b\b\b\b\b\b\b\b\b\b\b\b\b\b\b\b\b\b\b\b\b\b\b\b\b\b\b\b\b\b\b\b\b\b\b\b\b\b\b\b\b\b\b\n",
      "Epoch 84/100\n",
      "1000/1000 [==============================] - 0s 65us/step - loss: 1.8980 - categorical_accuracy: 0.2700\b\b\b\b\b\b\b\b\b\b\b\b\b\b\b\b\b\b\b\b\b\b\b\b\b\b\b\b\b\b\b\b\b\b\b\b\b\b\b\b\b\b\b\b\b\b\b\b\b\b\b\b\b\b\b\b\b\b\b\b\b\b\b\b\b\b\b\b\b\b\b\b\b\b\b\b\b\b\b\b\b\b\b\b\b\b\b\b\b\b\b\b\b\b\b\b\b\b\b\b\b\b\b\b\b\b\b\b\b\b\b\b\b\b\b\b\b\b\b\b\b\b\b\b\b\b\b\b\b\b\b\b\b\b\b\b\b\b\b\b\b\b\b\b\b\b\b\b\b\b\b\b\b\b\b\b\b\b\b\b\b\b\b\b\b\b\b\b\b\b\b\b\b\b\b\b\b\b\b\b\b\b\b\b\b\b\b\b\b\b\b\n",
      "Epoch 85/100\n",
      "1000/1000 [==============================] - 0s 54us/step - loss: 1.8930 - categorical_accuracy: 0.2760\b\b\b\b\b\b\b\b\b\b\b\b\b\b\b\b\b\b\b\b\b\b\b\b\b\b\b\b\b\b\b\b\b\b\b\b\b\b\b\b\b\b\b\b\b\b\b\b\b\b\b\b\b\b\b\b\b\b\b\b\b\b\b\b\b\b\b\b\b\b\b\b\b\b\b\b\b\b\b\b\b\b\b\b\b\b\b\b\b\b\b\b\b\n",
      "Epoch 86/100\n",
      "1000/1000 [==============================] - 0s 59us/step - loss: 1.8877 - categorical_accuracy: 0.2870\b\b\b\b\b\b\b\b\b\b\b\b\b\b\b\b\b\b\b\b\b\b\b\b\b\b\b\b\b\b\b\b\b\b\b\b\b\b\b\b\b\b\b\b\b\b\b\b\b\b\b\b\b\b\b\b\b\b\b\b\b\b\b\b\b\b\b\b\b\b\b\b\b\b\b\b\b\b\b\b\b\b\b\b\b\b\b\b\b\b\b\b\b\b\b\b\b\b\b\b\b\b\b\b\b\b\b\b\b\b\b\b\b\b\b\b\b\b\b\b\b\b\b\b\b\b\b\b\b\b\b\b\b\b\b\b\b\b\b\b\b\b\b\b\b\b\b\b\b\b\b\b\b\b\b\b\b\b\b\b\b\b\b\b\b\b\b\b\b\b\b\b\b\b\b\b\b\b\b\b\b\b\b\b\b\b\b\b\b\b\b\n",
      "Epoch 87/100\n",
      "1000/1000 [==============================] - 0s 45us/step - loss: 1.8824 - categorical_accuracy: 0.2740\b\b\b\b\b\b\b\b\b\b\b\b\b\b\b\b\b\b\b\b\b\b\b\b\b\b\b\b\b\b\b\b\b\b\b\b\b\b\b\b\b\b\b\b\b\b\b\b\b\b\b\b\b\b\b\b\b\b\b\b\b\b\b\b\b\b\b\b\b\b\b\b\b\b\b\b\b\b\b\b\b\b\b\b\b\b\b\b\b\b\b\b\b\n",
      "Epoch 88/100\n",
      "1000/1000 [==============================] - 0s 47us/step - loss: 1.8818 - categorical_accuracy: 0.2750\b\b\b\b\b\b\b\b\b\b\b\b\b\b\b\b\b\b\b\b\b\b\b\b\b\b\b\b\b\b\b\b\b\b\b\b\b\b\b\b\b\b\b\b\b\b\b\b\b\b\b\b\b\b\b\b\b\b\b\b\b\b\b\b\b\b\b\b\b\b\b\b\b\b\b\b\b\b\b\b\b\b\b\b\b\b\b\b\b\b\b\b\b\n",
      "Epoch 89/100\n",
      "1000/1000 [==============================] - 0s 49us/step - loss: 1.8683 - categorical_accuracy: 0.2890\b\b\b\b\b\b\b\b\b\b\b\b\b\b\b\b\b\b\b\b\b\b\b\b\b\b\b\b\b\b\b\b\b\b\b\b\b\b\b\b\b\b\b\b\b\b\b\b\b\b\b\b\b\b\b\b\b\b\b\b\b\b\b\b\b\b\b\b\b\b\b\b\b\b\b\b\b\b\b\b\b\b\b\b\b\b\b\b\b\b\b\b\b\n",
      "Epoch 90/100\n",
      "1000/1000 [==============================] - 0s 48us/step - loss: 1.8654 - categorical_accuracy: 0.2890\b\b\b\b\b\b\b\b\b\b\b\b\b\b\b\b\b\b\b\b\b\b\b\b\b\b\b\b\b\b\b\b\b\b\b\b\b\b\b\b\b\b\b\b\b\b\b\b\b\b\b\b\b\b\b\b\b\b\b\b\b\b\b\b\b\b\b\b\b\b\b\b\b\b\b\b\b\b\b\b\b\b\b\b\b\b\b\b\b\b\b\b\b\n",
      "Epoch 91/100\n",
      "1000/1000 [==============================] - 0s 54us/step - loss: 1.8654 - categorical_accuracy: 0.2900\b\b\b\b\b\b\b\b\b\b\b\b\b\b\b\b\b\b\b\b\b\b\b\b\b\b\b\b\b\b\b\b\b\b\b\b\b\b\b\b\b\b\b\b\b\b\b\b\b\b\b\b\b\b\b\b\b\b\b\b\b\b\b\b\b\b\b\b\b\b\b\b\b\b\b\b\b\b\b\b\b\b\b\b\b\b\b\b\b\b\b\b\b\n",
      "Epoch 92/100\n",
      "1000/1000 [==============================] - 0s 51us/step - loss: 1.8637 - categorical_accuracy: 0.3020\b\b\b\b\b\b\b\b\b\b\b\b\b\b\b\b\b\b\b\b\b\b\b\b\b\b\b\b\b\b\b\b\b\b\b\b\b\b\b\b\b\b\b\b\b\b\b\b\b\b\b\b\b\b\b\b\b\b\b\b\b\b\b\b\b\b\b\b\b\b\b\b\b\b\b\b\b\b\b\b\b\b\b\b\b\b\b\b\b\b\b\b\b\n",
      "Epoch 93/100\n",
      "1000/1000 [==============================] - 0s 65us/step - loss: 1.8607 - categorical_accuracy: 0.2980\b\b\b\b\b\b\b\b\b\b\b\b\b\b\b\b\b\b\b\b\b\b\b\b\b\b\b\b\b\b\b\b\b\b\b\b\b\b\b\b\b\b\b\b\b\b\b\b\b\b\b\b\b\b\b\b\b\b\b\b\b\b\b\b\b\b\b\b\b\b\b\b\b\b\b\b\b\b\b\b\b\b\b\b\b\b\b\b\b\b\b\b\b\b\b\b\b\b\b\b\b\b\b\b\b\b\b\b\b\b\b\b\b\b\b\b\b\b\b\b\b\b\b\b\b\b\b\b\b\b\b\b\b\b\b\b\b\b\b\b\b\b\b\b\b\b\b\b\b\b\b\b\b\b\b\b\b\b\b\b\b\b\b\b\b\b\b\b\b\b\b\b\b\b\b\b\b\b\b\b\b\b\b\b\b\b\b\b\b\b\b\n",
      "Epoch 94/100\n",
      "1000/1000 [==============================] - 0s 53us/step - loss: 1.8512 - categorical_accuracy: 0.2910\b\b\b\b\b\b\b\b\b\b\b\b\b\b\b\b\b\b\b\b\b\b\b\b\b\b\b\b\b\b\b\b\b\b\b\b\b\b\b\b\b\b\b\b\b\b\b\b\b\b\b\b\b\b\b\b\b\b\b\b\b\b\b\b\b\b\b\b\b\b\b\b\b\b\b\b\b\b\b\b\b\b\b\b\b\b\b\b\b\b\b\b\b\n",
      "Epoch 95/100\n",
      "1000/1000 [==============================] - 0s 49us/step - loss: 1.8500 - categorical_accuracy: 0.2840\b\b\b\b\b\b\b\b\b\b\b\b\b\b\b\b\b\b\b\b\b\b\b\b\b\b\b\b\b\b\b\b\b\b\b\b\b\b\b\b\b\b\b\b\b\b\b\b\b\b\b\b\b\b\b\b\b\b\b\b\b\b\b\b\b\b\b\b\b\b\b\b\b\b\b\b\b\b\b\b\b\b\b\b\b\b\b\b\b\b\b\b\b\n",
      "Epoch 96/100\n",
      "1000/1000 [==============================] - 0s 61us/step - loss: 1.8423 - categorical_accuracy: 0.2990\b\b\b\b\b\b\b\b\b\b\b\b\b\b\b\b\b\b\b\b\b\b\b\b\b\b\b\b\b\b\b\b\b\b\b\b\b\b\b\b\b\b\b\b\b\b\b\b\b\b\b\b\b\b\b\b\b\b\b\b\b\b\b\b\b\b\b\b\b\b\b\b\b\b\b\b\b\b\b\b\b\b\b\b\b\b\b\b\b\b\b\b\b\b\b\b\b\b\b\b\b\b\b\b\b\b\b\b\b\b\b\b\b\b\b\b\b\b\b\b\b\b\b\b\b\b\b\b\b\b\b\b\b\b\b\b\b\b\b\b\b\b\b\b\b\b\b\b\b\b\b\b\b\b\b\b\b\b\b\b\b\b\b\b\b\b\b\b\b\b\b\b\b\b\b\b\b\b\b\b\b\b\b\b\b\b\b\b\b\b\b\n",
      "Epoch 97/100\n",
      "1000/1000 [==============================] - 0s 62us/step - loss: 1.8422 - categorical_accuracy: 0.3030\b\b\b\b\b\b\b\b\b\b\b\b\b\b\b\b\b\b\b\b\b\b\b\b\b\b\b\b\b\b\b\b\b\b\b\b\b\b\b\b\b\b\b\b\b\b\b\b\b\b\b\b\b\b\b\b\b\b\b\b\b\b\b\b\b\b\b\b\b\b\b\b\b\b\b\b\b\b\b\b\b\b\b\b\b\b\b\b\b\b\b\b\b\b\b\b\b\b\b\b\b\b\b\b\b\b\b\b\b\b\b\b\b\b\b\b\b\b\b\b\b\b\b\b\b\b\b\b\b\b\b\b\b\b\b\b\b\b\b\b\b\b\b\b\b\b\b\b\b\b\b\b\b\b\b\b\b\b\b\b\b\b\b\b\b\b\b\b\b\b\b\b\b\b\b\b\b\b\b\b\b\b\b\b\b\b\b\b\b\b\b\n",
      "Epoch 98/100\n",
      "1000/1000 [==============================] - 0s 63us/step - loss: 1.8345 - categorical_accuracy: 0.2980\b\b\b\b\b\b\b\b\b\b\b\b\b\b\b\b\b\b\b\b\b\b\b\b\b\b\b\b\b\b\b\b\b\b\b\b\b\b\b\b\b\b\b\b\b\b\b\b\b\b\b\b\b\b\b\b\b\b\b\b\b\b\b\b\b\b\b\b\b\b\b\b\b\b\b\b\b\b\b\b\b\b\b\b\b\b\b\b\b\b\b\b\b\b\b\b\b\b\b\b\b\b\b\b\b\b\b\b\b\b\b\b\b\b\b\b\b\b\b\b\b\b\b\b\b\b\b\b\b\b\b\b\b\b\b\b\b\b\b\b\b\b\b\b\b\b\b\b\b\b\b\b\b\b\b\b\b\b\b\b\b\b\b\b\b\b\b\b\b\b\b\b\b\b\b\b\b\b\b\b\b\b\b\b\b\b\b\b\b\b\b\n",
      "Epoch 99/100\n",
      "1000/1000 [==============================] - 0s 64us/step - loss: 1.8313 - categorical_accuracy: 0.3110\b\b\b\b\b\b\b\b\b\b\b\b\b\b\b\b\b\b\b\b\b\b\b\b\b\b\b\b\b\b\b\b\b\b\b\b\b\b\b\b\b\b\b\b\b\b\b\b\b\b\b\b\b\b\b\b\b\b\b\b\b\b\b\b\b\b\b\b\b\b\b\b\b\b\b\b\b\b\b\b\b\b\b\b\b\b\b\b\b\b\b\b\b\b\b\b\b\b\b\b\b\b\b\b\b\b\b\b\b\b\b\b\b\b\b\b\b\b\b\b\b\b\b\b\b\b\b\b\b\b\b\b\b\b\b\b\b\b\b\b\b\b\b\b\b\b\b\b\b\b\b\b\b\b\b\b\b\b\b\b\b\b\b\b\b\b\b\b\b\b\b\b\b\b\b\b\b\b\b\b\b\b\b\b\b\b\b\b\b\b\b\n",
      "Epoch 100/100\n",
      "1000/1000 [==============================] - 0s 46us/step - loss: 1.8276 - categorical_accuracy: 0.3070\b\b\b\b\b\b\b\b\b\b\b\b\b\b\b\b\b\b\b\b\b\b\b\b\b\b\b\b\b\b\b\b\b\b\b\b\b\b\b\b\b\b\b\b\b\b\b\b\b\b\b\b\b\b\b\b\b\b\b\b\b\b\b\b\b\b\b\b\b\b\b\b\b\b\b\b\b\b\b\b\b\b\b\b\b\b\b\b\b\b\b\b\b\n"
     ]
    },
    {
     "data": {
      "text/plain": [
       "<keras.callbacks.History at 0x118f10da0>"
      ]
     },
     "execution_count": 31,
     "metadata": {},
     "output_type": "execute_result"
    }
   ],
   "source": [
    "# x_train and y_train are Numpy arrays --just like in the Scikit-Learn API.\n",
    "model.fit(x_train, y_train, epochs=100, batch_size=32, verbose=1)"
   ]
  },
  {
   "cell_type": "markdown",
   "metadata": {
    "deletable": true,
    "editable": true
   },
   "source": [
    "__Вопрос__: почему модель обучается?"
   ]
  },
  {
   "cell_type": "markdown",
   "metadata": {
    "colab_type": "text",
    "deletable": true,
    "editable": true,
    "id": "7pHj4UtICvOS"
   },
   "source": [
    "Или можно запустить однократно обучение на одном конкретном батче:"
   ]
  },
  {
   "cell_type": "code",
   "execution_count": 37,
   "metadata": {
    "colab": {},
    "colab_type": "code",
    "collapsed": false,
    "deletable": true,
    "editable": true,
    "id": "e0AwjAv3CvOU"
   },
   "outputs": [
    {
     "data": {
      "text/plain": [
       "[1.4747267, 0.5]"
      ]
     },
     "execution_count": 37,
     "metadata": {},
     "output_type": "execute_result"
    }
   ],
   "source": [
    "x_batch = x_train[:10]\n",
    "y_batch = y_train[:10]\n",
    "model.train_on_batch(x_batch, y_batch)\n",
    "# возвращает скаляр - лосс на обучающем батче"
   ]
  },
  {
   "cell_type": "markdown",
   "metadata": {
    "colab_type": "text",
    "deletable": true,
    "editable": true,
    "id": "vrotuiAJCvOY"
   },
   "source": [
    "Оценим модель, это можно сделать в одну строчку."
   ]
  },
  {
   "cell_type": "markdown",
   "metadata": {
    "deletable": true,
    "editable": true
   },
   "source": [
    "__Вопрос__: угадайте какой accuracy даст модель на валидационной выборке? "
   ]
  },
  {
   "cell_type": "code",
   "execution_count": 47,
   "metadata": {
    "colab": {},
    "colab_type": "code",
    "collapsed": false,
    "deletable": true,
    "editable": true,
    "id": "x3FMqsbiCvOZ"
   },
   "outputs": [
    {
     "name": "stdout",
     "output_type": "stream",
     "text": [
      "\r",
      "100/100 [==============================] - 0s 12us/step\n"
     ]
    },
    {
     "data": {
      "text/plain": [
       "[2.5276226997375488, 0.10000000149011612]"
      ]
     },
     "execution_count": 47,
     "metadata": {},
     "output_type": "execute_result"
    }
   ],
   "source": [
    "test_size = 100\n",
    "x_test = np.random.random((test_size, 100))\n",
    "y_test = np_utils.to_categorical(np.random.randint(10, size=(test_size, 1)))\n",
    "\n",
    "loss_and_metrics = model.evaluate(x_test, y_test, batch_size=128)\n",
    "loss_and_metrics"
   ]
  },
  {
   "cell_type": "markdown",
   "metadata": {
    "colab_type": "text",
    "deletable": true,
    "editable": true,
    "id": "b0Vj4FJ-CvOe"
   },
   "source": [
    "Или можно сделать предсказание на новом наборе данных:"
   ]
  },
  {
   "cell_type": "code",
   "execution_count": 52,
   "metadata": {
    "colab": {},
    "colab_type": "code",
    "collapsed": false,
    "deletable": true,
    "editable": true,
    "id": "yNMjIEMZCvOf"
   },
   "outputs": [
    {
     "data": {
      "text/plain": [
       "array([[  2.01599270e-01,   2.13189545e-04,   2.42562874e-05,\n",
       "          8.75090045e-05,   2.04018161e-01,   1.37804914e-03,\n",
       "          4.76608537e-02,   7.82760009e-02,   1.92465028e-03,\n",
       "          4.64818031e-01],\n",
       "       [  3.67033869e-01,   3.36206295e-02,   8.63330662e-02,\n",
       "          3.34348227e-03,   2.74312906e-02,   5.29415486e-03,\n",
       "          1.68193858e-02,   4.39857483e-01,   1.96730494e-02,\n",
       "          5.93783217e-04],\n",
       "       [  2.27243990e-01,   1.30719557e-01,   1.60321385e-01,\n",
       "          4.29316722e-02,   4.51219864e-02,   5.70293404e-02,\n",
       "          8.36126953e-02,   4.08726260e-02,   1.45385861e-01,\n",
       "          6.67609498e-02],\n",
       "       [  9.33358744e-02,   4.09381762e-02,   4.28937795e-03,\n",
       "          5.90736344e-02,   4.94236261e-01,   1.08815283e-01,\n",
       "          4.57791146e-03,   4.31548199e-03,   4.33744257e-03,\n",
       "          1.86080545e-01],\n",
       "       [  2.16699556e-01,   1.75435692e-01,   6.16818629e-02,\n",
       "          5.31141832e-02,   3.42360325e-02,   5.19421920e-02,\n",
       "          1.39405116e-01,   3.93274464e-02,   2.06226110e-01,\n",
       "          2.19318364e-02],\n",
       "       [  8.76096934e-02,   7.54506961e-02,   1.43270642e-01,\n",
       "          1.25211507e-01,   8.44663456e-02,   1.07776016e-01,\n",
       "          1.23250157e-01,   7.06990212e-02,   9.92136747e-02,\n",
       "          8.30522403e-02],\n",
       "       [  2.50283122e-01,   9.22568962e-02,   7.53595829e-02,\n",
       "          4.30969633e-02,   7.92336911e-02,   7.78779462e-02,\n",
       "          1.44822434e-01,   4.45253700e-02,   8.53306055e-02,\n",
       "          1.07213423e-01],\n",
       "       [  1.40540168e-01,   7.66837001e-02,   1.67533770e-01,\n",
       "          9.46435183e-02,   7.59141222e-02,   8.04575011e-02,\n",
       "          1.32972315e-01,   5.48118465e-02,   1.07066512e-01,\n",
       "          6.93765581e-02],\n",
       "       [  1.97189823e-01,   8.15309510e-02,   1.67943507e-01,\n",
       "          7.30476007e-02,   6.47152513e-02,   6.23079017e-02,\n",
       "          1.37849897e-01,   4.39442843e-02,   1.16866484e-01,\n",
       "          5.46043813e-02],\n",
       "       [  2.75057822e-01,   9.22742933e-02,   1.80346906e-01,\n",
       "          3.43370251e-02,   6.67419806e-02,   3.13592963e-02,\n",
       "          1.21702522e-01,   1.06536716e-01,   6.78296313e-02,\n",
       "          2.38137953e-02],\n",
       "       [  3.84245545e-01,   1.85606182e-01,   4.30405587e-02,\n",
       "          2.68654810e-04,   2.03233019e-01,   6.33105263e-02,\n",
       "          2.89133750e-03,   3.36028002e-02,   8.01409408e-02,\n",
       "          3.66045209e-03],\n",
       "       [  3.97330940e-01,   2.42709503e-01,   1.86790731e-02,\n",
       "          8.49346258e-03,   1.64009482e-02,   1.06806140e-02,\n",
       "          1.05573192e-01,   8.33550096e-02,   1.14009820e-01,\n",
       "          2.76748184e-03],\n",
       "       [  1.35939151e-01,   1.16990604e-01,   1.30040690e-01,\n",
       "          5.93169741e-02,   1.15791641e-01,   1.20767556e-01,\n",
       "          9.82260630e-02,   4.52010818e-02,   1.10606506e-01,\n",
       "          6.71198294e-02],\n",
       "       [  3.01993340e-01,   7.19678169e-03,   1.02251526e-02,\n",
       "          1.49234226e-02,   1.06488198e-01,   2.07781568e-02,\n",
       "          2.53953576e-01,   7.07722008e-02,   2.58792602e-02,\n",
       "          1.87789902e-01],\n",
       "       [  2.76560575e-01,   6.07767589e-02,   1.28864452e-01,\n",
       "          3.08839120e-02,   1.19757585e-01,   1.08908802e-01,\n",
       "          7.98888430e-02,   1.27681956e-01,   3.97379845e-02,\n",
       "          2.69391350e-02],\n",
       "       [  1.79365888e-01,   8.76048058e-02,   1.67358637e-01,\n",
       "          6.96294382e-02,   7.41480738e-02,   7.10016340e-02,\n",
       "          1.22501209e-01,   4.73236144e-02,   1.22619398e-01,\n",
       "          5.84472679e-02],\n",
       "       [  4.34309728e-02,   5.27811125e-02,   1.36667237e-01,\n",
       "          1.64230943e-01,   9.88688990e-02,   1.38264760e-01,\n",
       "          9.84506831e-02,   8.52249339e-02,   6.83075860e-02,\n",
       "          1.13772884e-01],\n",
       "       [  5.06510027e-02,   1.89943297e-03,   1.71704974e-03,\n",
       "          1.45274654e-01,   1.46285474e-01,   2.06044570e-01,\n",
       "          8.58100038e-03,   7.68155698e-03,   3.55906896e-02,\n",
       "          3.96274537e-01],\n",
       "       [  1.97189823e-01,   8.15309510e-02,   1.67943507e-01,\n",
       "          7.30476007e-02,   6.47152513e-02,   6.23079017e-02,\n",
       "          1.37849897e-01,   4.39442843e-02,   1.16866484e-01,\n",
       "          5.46043813e-02],\n",
       "       [  1.99532121e-01,   3.08845252e-01,   6.76651672e-03,\n",
       "          2.06030011e-02,   6.45471457e-03,   2.59961449e-02,\n",
       "          1.09391898e-01,   2.29058322e-02,   2.95789272e-01,\n",
       "          3.71521967e-03],\n",
       "       [  2.51613021e-01,   2.50735469e-02,   1.96957886e-02,\n",
       "          5.49057461e-02,   2.23483920e-01,   6.06542304e-02,\n",
       "          7.17757791e-02,   3.05880290e-02,   2.73916330e-02,\n",
       "          2.34818175e-01],\n",
       "       [  6.63482770e-02,   6.16203547e-02,   1.50706619e-01,\n",
       "          1.40554875e-01,   9.31752846e-02,   1.18718728e-01,\n",
       "          1.12156764e-01,   7.56773651e-02,   8.18055496e-02,\n",
       "          9.92361009e-02],\n",
       "       [  9.00167003e-02,   7.69539699e-02,   1.70051172e-01,\n",
       "          1.17529206e-01,   8.72290432e-02,   9.18239877e-02,\n",
       "          1.13760442e-01,   9.14788246e-02,   9.26816389e-02,\n",
       "          6.84749484e-02],\n",
       "       [  1.97189823e-01,   8.15309510e-02,   1.67943507e-01,\n",
       "          7.30476007e-02,   6.47152513e-02,   6.23079017e-02,\n",
       "          1.37849897e-01,   4.39442843e-02,   1.16866484e-01,\n",
       "          5.46043813e-02],\n",
       "       [  1.09008260e-01,   5.80830947e-02,   1.23544544e-01,\n",
       "          1.28273368e-02,   6.85957074e-02,   1.29907941e-02,\n",
       "          5.46439700e-02,   5.39808273e-01,   1.30768912e-02,\n",
       "          7.42106466e-03],\n",
       "       [  9.05274823e-02,   6.81734458e-02,   1.59479022e-01,\n",
       "          1.22063942e-01,   8.72315988e-02,   1.03363089e-01,\n",
       "          1.21736586e-01,   6.76378235e-02,   9.23217312e-02,\n",
       "          8.74653533e-02],\n",
       "       [  6.67992458e-02,   1.42910421e-01,   8.67252201e-02,\n",
       "          3.74413244e-02,   1.93343416e-01,   2.11726502e-01,\n",
       "          4.75329794e-02,   4.44278307e-02,   9.52137411e-02,\n",
       "          7.38792717e-02],\n",
       "       [  2.85555989e-01,   4.06419709e-02,   8.79021734e-02,\n",
       "          1.39858760e-02,   1.49606809e-01,   1.30822331e-01,\n",
       "          4.49339561e-02,   2.17493162e-01,   1.54929869e-02,\n",
       "          1.35647580e-02],\n",
       "       [  1.35539323e-01,   7.60511085e-02,   1.67139888e-01,\n",
       "          9.69413742e-02,   7.69823715e-02,   8.23830068e-02,\n",
       "          1.32211566e-01,   5.59279621e-02,   1.05902411e-01,\n",
       "          7.09209740e-02],\n",
       "       [  1.73433393e-01,   1.95393294e-01,   3.15339305e-02,\n",
       "          1.11429356e-01,   8.33817050e-02,   1.05242562e-02,\n",
       "          1.27630323e-01,   8.66632443e-03,   2.39703327e-01,\n",
       "          1.83039848e-02],\n",
       "       [  3.96123901e-02,   7.72678554e-02,   3.65497395e-02,\n",
       "          8.23096186e-02,   5.16584190e-03,   5.81234135e-02,\n",
       "          4.10616964e-01,   2.50822216e-01,   3.72578166e-02,\n",
       "          2.27418472e-03],\n",
       "       [  1.54171735e-01,   7.82164484e-02,   1.68263912e-01,\n",
       "          8.87535438e-02,   7.30709434e-02,   7.55170286e-02,\n",
       "          1.34733841e-01,   5.19161150e-02,   1.09962456e-01,\n",
       "          6.53939992e-02],\n",
       "       [  1.97189823e-01,   8.15309510e-02,   1.67943507e-01,\n",
       "          7.30476007e-02,   6.47152513e-02,   6.23079017e-02,\n",
       "          1.37849897e-01,   4.39442843e-02,   1.16866484e-01,\n",
       "          5.46043813e-02],\n",
       "       [  1.11997731e-01,   2.56606817e-01,   6.71358630e-02,\n",
       "          1.77043187e-03,   1.77556887e-01,   7.74861649e-02,\n",
       "          5.65520395e-03,   2.01662350e-02,   2.62347490e-01,\n",
       "          1.92772448e-02],\n",
       "       [  5.59218563e-02,   6.03877269e-02,   7.24431202e-02,\n",
       "          2.03566462e-01,   1.54955029e-01,   1.30420402e-01,\n",
       "          5.32716326e-02,   5.44367768e-02,   4.34620343e-02,\n",
       "          1.71135008e-01],\n",
       "       [  1.97189823e-01,   8.15309510e-02,   1.67943507e-01,\n",
       "          7.30476007e-02,   6.47152513e-02,   6.23079017e-02,\n",
       "          1.37849897e-01,   4.39442843e-02,   1.16866484e-01,\n",
       "          5.46043813e-02],\n",
       "       [  2.54541915e-02,   4.25459258e-02,   1.17872365e-01,\n",
       "          1.91281229e-01,   1.02724425e-01,   1.60416722e-01,\n",
       "          8.16973969e-02,   9.50189009e-02,   5.34231886e-02,\n",
       "          1.29565552e-01],\n",
       "       [  2.23072603e-01,   3.59016776e-01,   5.52818626e-02,\n",
       "          2.89902128e-02,   1.01885200e-02,   3.39548886e-02,\n",
       "          2.27267034e-02,   7.85861686e-02,   6.29595518e-02,\n",
       "          1.25222638e-01],\n",
       "       [  1.77663296e-01,   8.43360182e-03,   1.92604233e-02,\n",
       "          1.08809886e-03,   1.56225413e-01,   1.24234192e-01,\n",
       "          5.99104818e-03,   5.04915595e-01,   8.04489711e-04,\n",
       "          1.38376816e-03],\n",
       "       [  6.91614896e-02,   5.50400354e-02,   1.40888512e-01,\n",
       "          2.56276965e-01,   5.31149730e-02,   1.02330446e-01,\n",
       "          1.20842636e-01,   9.38167572e-02,   7.44064003e-02,\n",
       "          3.41217294e-02],\n",
       "       [  2.66814947e-01,   3.91821414e-02,   7.05364197e-02,\n",
       "          4.75966260e-02,   8.98759887e-02,   4.84962165e-02,\n",
       "          1.99451670e-01,   6.05554543e-02,   7.84072801e-02,\n",
       "          9.90832299e-02],\n",
       "       [  6.06841817e-02,   5.97305708e-02,   1.47896215e-01,\n",
       "          1.45696267e-01,   9.45939124e-02,   1.22974686e-01,\n",
       "          1.09293938e-01,   7.78234676e-02,   7.88613856e-02,\n",
       "          1.02445349e-01],\n",
       "       [  3.16332668e-01,   3.12123839e-02,   1.03280053e-01,\n",
       "          1.85517177e-01,   4.41356488e-02,   3.24356295e-02,\n",
       "          7.66377524e-02,   8.28772411e-02,   1.05879135e-01,\n",
       "          2.16923058e-02],\n",
       "       [  2.29102150e-01,   7.71535560e-02,   1.60425171e-01,\n",
       "          5.75021021e-02,   8.22687894e-02,   7.77549744e-02,\n",
       "          1.20211236e-01,   6.46752790e-02,   8.57142881e-02,\n",
       "          4.51924577e-02],\n",
       "       [  1.97189823e-01,   8.15309510e-02,   1.67943507e-01,\n",
       "          7.30476007e-02,   6.47152513e-02,   6.23079017e-02,\n",
       "          1.37849897e-01,   4.39442843e-02,   1.16866484e-01,\n",
       "          5.46043813e-02],\n",
       "       [  1.12150840e-01,   4.46349643e-02,   1.39040083e-01,\n",
       "          2.27772724e-02,   1.46748070e-02,   6.21369630e-02,\n",
       "          4.12610739e-01,   1.01733506e-02,   8.78663361e-02,\n",
       "          9.39346254e-02],\n",
       "       [  1.97189823e-01,   8.15309510e-02,   1.67943507e-01,\n",
       "          7.30476007e-02,   6.47152513e-02,   6.23079017e-02,\n",
       "          1.37849897e-01,   4.39442843e-02,   1.16866484e-01,\n",
       "          5.46043813e-02],\n",
       "       [  2.16817364e-01,   1.82072702e-03,   2.28949729e-03,\n",
       "          8.50042421e-03,   1.22060485e-01,   1.82320755e-02,\n",
       "          2.83340603e-01,   8.74571204e-02,   1.04967533e-02,\n",
       "          2.48984978e-01],\n",
       "       [  2.86410242e-01,   1.36050493e-01,   1.20286278e-01,\n",
       "          2.19743624e-02,   2.58265287e-02,   9.01905522e-02,\n",
       "          3.56120691e-02,   1.65133834e-01,   3.78539078e-02,\n",
       "          8.06616917e-02],\n",
       "       [  2.76139248e-02,   4.08238061e-02,   5.50463758e-02,\n",
       "          8.56946334e-02,   1.73298717e-01,   2.21724585e-01,\n",
       "          3.41723412e-02,   1.24573067e-01,   5.88579215e-02,\n",
       "          1.78194687e-01],\n",
       "       [  2.19681010e-01,   1.00293450e-01,   1.62310913e-01,\n",
       "          4.80903052e-02,   7.32474551e-02,   6.28448129e-02,\n",
       "          1.05258033e-01,   4.02255505e-02,   1.39738783e-01,\n",
       "          4.83097546e-02],\n",
       "       [  6.26717806e-02,   3.79878841e-02,   9.97248366e-02,\n",
       "          1.62297174e-01,   6.78431839e-02,   1.45966604e-01,\n",
       "          1.33904308e-01,   9.62889865e-02,   5.88975623e-02,\n",
       "          1.34417668e-01],\n",
       "       [  8.16020668e-02,   6.60020262e-02,   1.56757101e-01,\n",
       "          1.28336623e-01,   8.93964916e-02,   1.08580634e-01,\n",
       "          1.18628517e-01,   7.04207346e-02,   8.87781084e-02,\n",
       "          9.14977640e-02],\n",
       "       [  9.12061483e-02,   8.42875019e-02,   1.56638354e-01,\n",
       "          1.40690058e-01,   7.49467909e-02,   8.34862739e-02,\n",
       "          1.17234975e-01,   7.26698786e-02,   9.66577157e-02,\n",
       "          8.21822807e-02],\n",
       "       [  3.15447710e-02,   4.96342368e-02,   1.25284404e-01,\n",
       "          1.65940955e-01,   1.08675182e-01,   1.58756509e-01,\n",
       "          8.16837326e-02,   9.23252031e-02,   6.23184480e-02,\n",
       "          1.23836562e-01],\n",
       "       [  7.43480995e-02,   6.40349537e-02,   1.54126510e-01,\n",
       "          1.33882701e-01,   9.11831185e-02,   1.13186620e-01,\n",
       "          1.15753762e-01,   7.28338733e-02,   8.56207982e-02,\n",
       "          9.50295702e-02],\n",
       "       [  1.42870396e-01,   2.75031239e-01,   6.10978752e-02,\n",
       "          1.04962073e-01,   2.29566321e-02,   2.82298718e-02,\n",
       "          1.04812324e-01,   5.64063564e-02,   1.80823818e-01,\n",
       "          2.28094365e-02],\n",
       "       [  4.13163155e-02,   5.64910322e-02,   1.25359878e-01,\n",
       "          1.57056645e-01,   1.08126871e-01,   1.55571789e-01,\n",
       "          9.55742896e-02,   8.08018818e-02,   6.47034720e-02,\n",
       "          1.14997827e-01],\n",
       "       [  1.32304952e-02,   1.00455761e-01,   7.02171177e-02,\n",
       "          1.52413882e-02,   2.25859255e-01,   2.33799472e-01,\n",
       "          9.31776036e-03,   9.85533297e-02,   1.70710772e-01,\n",
       "          6.26147091e-02],\n",
       "       [  2.21856460e-01,   4.14600316e-03,   6.95041381e-03,\n",
       "          3.39833796e-02,   1.14316590e-01,   5.09617813e-02,\n",
       "          1.65859669e-01,   6.09279461e-02,   4.98861894e-02,\n",
       "          2.91111648e-01],\n",
       "       [  1.91419736e-01,   1.98083222e-01,   1.38970613e-01,\n",
       "          4.32122387e-02,   7.66537245e-03,   3.62679772e-02,\n",
       "          4.93715294e-02,   4.12112623e-02,   1.14552565e-01,\n",
       "          1.79245502e-01],\n",
       "       [  6.87456429e-02,   6.23733886e-02,   1.51794493e-01,\n",
       "          1.38487831e-01,   9.25763994e-02,   1.17005974e-01,\n",
       "          1.13286167e-01,   7.48034641e-02,   8.29886943e-02,\n",
       "          9.79379192e-02],\n",
       "       [  2.04031408e-01,   1.50904238e-01,   6.36374131e-02,\n",
       "          9.76427644e-02,   7.90229887e-02,   2.13139504e-02,\n",
       "          1.41035870e-01,   1.66283958e-02,   1.97156429e-01,\n",
       "          2.86264811e-02],\n",
       "       [  6.73454776e-02,   6.19368032e-02,   1.51166067e-01,\n",
       "          1.39687657e-01,   9.29260254e-02,   1.18000269e-01,\n",
       "          1.12632185e-01,   7.53114894e-02,   8.23020265e-02,\n",
       "          9.86919999e-02],\n",
       "       [  2.26513706e-02,   4.48841695e-03,   3.45026627e-02,\n",
       "          5.18740475e-01,   7.42300674e-02,   3.21789309e-02,\n",
       "          1.35733709e-02,   2.01416954e-01,   2.12307349e-02,\n",
       "          7.69869611e-02],\n",
       "       [  1.93260938e-01,   1.17696919e-01,   1.22302145e-01,\n",
       "          5.69628552e-02,   9.33735147e-02,   9.75026041e-02,\n",
       "          1.29742369e-01,   3.35589200e-02,   1.01201020e-01,\n",
       "          5.43987155e-02],\n",
       "       [  1.59184948e-01,   7.20970854e-02,   6.64913803e-02,\n",
       "          1.07100822e-01,   4.09483947e-02,   1.05974980e-01,\n",
       "          1.90033749e-01,   7.84071833e-02,   1.09992601e-01,\n",
       "          6.97688609e-02],\n",
       "       [  1.97189823e-01,   8.15309510e-02,   1.67943507e-01,\n",
       "          7.30476007e-02,   6.47152513e-02,   6.23079017e-02,\n",
       "          1.37849897e-01,   4.39442843e-02,   1.16866484e-01,\n",
       "          5.46043813e-02],\n",
       "       [  1.67060375e-01,   7.94330910e-02,   1.68546051e-01,\n",
       "          8.36306810e-02,   7.04721957e-02,   7.12141767e-02,\n",
       "          1.36023581e-01,   4.93563339e-02,   1.12361394e-01,\n",
       "          6.19020462e-02],\n",
       "       [  1.43152177e-01,   1.31792411e-01,   7.90660977e-02,\n",
       "          1.31264865e-01,   9.61649269e-02,   3.64284068e-02,\n",
       "          1.41056269e-01,   2.68071033e-02,   1.69789180e-01,\n",
       "          4.44786027e-02],\n",
       "       [  2.71720618e-01,   1.07599434e-03,   8.27108277e-04,\n",
       "          3.76880914e-03,   8.70607942e-02,   5.09588793e-03,\n",
       "          2.58125097e-01,   7.57289156e-02,   6.22986397e-03,\n",
       "          2.90366858e-01],\n",
       "       [  1.97355986e-01,   8.51277784e-02,   1.62715942e-01,\n",
       "          7.13051409e-02,   6.75664023e-02,   6.56327829e-02,\n",
       "          1.37356818e-01,   4.27981243e-02,   1.15392916e-01,\n",
       "          5.47481589e-02],\n",
       "       [  5.52883409e-02,   2.10160520e-02,   5.44393286e-02,\n",
       "          1.82465449e-01,   9.61997584e-02,   1.82679802e-01,\n",
       "          7.96854869e-02,   6.24052510e-02,   1.02737553e-01,\n",
       "          1.63082972e-01],\n",
       "       [  1.97189823e-01,   8.15309510e-02,   1.67943507e-01,\n",
       "          7.30476007e-02,   6.47152513e-02,   6.23079017e-02,\n",
       "          1.37849897e-01,   4.39442843e-02,   1.16866484e-01,\n",
       "          5.46043813e-02],\n",
       "       [  1.97189823e-01,   8.15309510e-02,   1.67943507e-01,\n",
       "          7.30476007e-02,   6.47152513e-02,   6.23079017e-02,\n",
       "          1.37849897e-01,   4.39442843e-02,   1.16866484e-01,\n",
       "          5.46043813e-02],\n",
       "       [  1.46376863e-01,   7.73730502e-02,   1.67905226e-01,\n",
       "          9.20574963e-02,   7.46845677e-02,   7.82892406e-02,\n",
       "          1.33780256e-01,   5.35466559e-02,   1.08354464e-01,\n",
       "          6.76322281e-02],\n",
       "       [  2.06956893e-01,   2.91888844e-02,   2.08180726e-01,\n",
       "          6.77103177e-02,   6.32832646e-02,   9.13370997e-02,\n",
       "          7.53156841e-02,   5.13824895e-02,   1.04904674e-01,\n",
       "          1.01739980e-01],\n",
       "       [  2.85359859e-01,   4.03161906e-02,   8.72269347e-02,\n",
       "          1.37824370e-02,   1.49987474e-01,   1.31068110e-01,\n",
       "          4.44432795e-02,   2.19195232e-01,   1.52289411e-02,\n",
       "          1.33914957e-02],\n",
       "       [  1.53965324e-01,   1.15217261e-01,   1.56321049e-01,\n",
       "          4.42350805e-02,   1.04816884e-01,   9.09007266e-02,\n",
       "          7.51302838e-02,   4.99558821e-02,   1.50101051e-01,\n",
       "          5.93563505e-02],\n",
       "       [  1.58901826e-01,   5.01668930e-01,   5.45431674e-03,\n",
       "          1.74047530e-01,   9.30084735e-02,   1.79648795e-03,\n",
       "          2.08330732e-02,   6.63340371e-03,   3.02597433e-02,\n",
       "          7.39618810e-03],\n",
       "       [  1.33011252e-01,   1.21193327e-01,   9.69778150e-02,\n",
       "          3.26037146e-02,   3.52870114e-02,   6.94068745e-02,\n",
       "          2.93652445e-01,   8.53287578e-02,   9.47032347e-02,\n",
       "          3.78355384e-02],\n",
       "       [  1.80245757e-01,   4.63713668e-02,   1.22654021e-01,\n",
       "          4.08179350e-02,   1.29946873e-01,   1.43960804e-01,\n",
       "          5.18252403e-02,   2.22070143e-01,   4.08359915e-02,\n",
       "          2.12719366e-02],\n",
       "       [  1.63589016e-01,   7.91260824e-02,   1.68505773e-01,\n",
       "          8.49712864e-02,   7.11637959e-02,   7.23407194e-02,\n",
       "          1.35709405e-01,   5.00299372e-02,   1.11745611e-01,\n",
       "          6.28184006e-02],\n",
       "       [  2.16215655e-01,   1.48680642e-01,   4.15536948e-02,\n",
       "          9.46839005e-02,   8.76341015e-02,   1.54195558e-02,\n",
       "          1.51126295e-01,   1.38682956e-02,   2.03475639e-01,\n",
       "          2.73422301e-02],\n",
       "       [  1.94361210e-01,   6.64887577e-02,   1.39377221e-01,\n",
       "          8.32369253e-02,   6.94198385e-02,   7.38591105e-02,\n",
       "          1.33679628e-01,   4.49178331e-02,   1.29003242e-01,\n",
       "          6.56561479e-02],\n",
       "       [  7.37068653e-02,   6.38514012e-02,   1.53873667e-01,\n",
       "          1.34394705e-01,   9.13420543e-02,   1.13611497e-01,\n",
       "          1.15482882e-01,   7.30543882e-02,   8.53285119e-02,\n",
       "          9.53540280e-02],\n",
       "       [  3.14809054e-01,   2.56185333e-04,   3.30445232e-07,\n",
       "          7.79149414e-04,   2.46339440e-01,   1.31878987e-05,\n",
       "          3.65628004e-01,   1.53294555e-03,   3.97781562e-03,\n",
       "          6.66638166e-02],\n",
       "       [  6.71312883e-02,   1.34565383e-01,   6.87713623e-02,\n",
       "          5.15632406e-02,   4.01436836e-02,   1.10005200e-01,\n",
       "          2.60881156e-01,   1.25835672e-01,   9.52174291e-02,\n",
       "          4.58855927e-02],\n",
       "       [  2.20979825e-01,   6.72742650e-02,   1.33163676e-01,\n",
       "          6.59518912e-02,   7.30835646e-02,   5.92914410e-02,\n",
       "          1.57572895e-01,   4.95124161e-02,   1.06430419e-01,\n",
       "          6.67396113e-02],\n",
       "       [  1.03766128e-01,   9.75841060e-02,   1.55738041e-01,\n",
       "          6.72511607e-02,   1.14263520e-01,   1.14448458e-01,\n",
       "          8.02338198e-02,   6.34147376e-02,   1.25435695e-01,\n",
       "          7.78643414e-02],\n",
       "       [  2.06244662e-01,   1.13988765e-01,   1.67003244e-01,\n",
       "          6.53215870e-02,   3.47932242e-02,   5.54335788e-02,\n",
       "          1.05175532e-01,   4.54630852e-02,   1.22608580e-01,\n",
       "          8.39677751e-02],\n",
       "       [  1.43159255e-01,   2.04967633e-01,   9.99168232e-02,\n",
       "          6.29588030e-03,   1.52434990e-01,   8.53358507e-02,\n",
       "          1.64916031e-02,   2.97320057e-02,   2.30857372e-01,\n",
       "          3.08085661e-02],\n",
       "       [  3.80671918e-01,   2.35595237e-02,   9.55495983e-02,\n",
       "          1.55130178e-01,   5.87403290e-02,   1.96712017e-02,\n",
       "          5.39106689e-02,   8.15568194e-02,   9.22204852e-02,\n",
       "          3.89892496e-02],\n",
       "       [  2.16693640e-01,   7.80292228e-02,   8.96413401e-02,\n",
       "          1.00580931e-01,   1.41966850e-01,   8.87192115e-02,\n",
       "          7.49771670e-02,   3.06054391e-02,   6.77843988e-02,\n",
       "          1.11001760e-01],\n",
       "       [  1.97189823e-01,   8.15309510e-02,   1.67943507e-01,\n",
       "          7.30476007e-02,   6.47152513e-02,   6.23079017e-02,\n",
       "          1.37849897e-01,   4.39442843e-02,   1.16866484e-01,\n",
       "          5.46043813e-02],\n",
       "       [  1.71934925e-02,   3.59350890e-02,   1.04391396e-01,\n",
       "          2.09125295e-01,   1.03663929e-01,   1.74906671e-01,\n",
       "          7.04223588e-02,   1.00748867e-01,   4.41765860e-02,\n",
       "          1.39436305e-01],\n",
       "       [  1.97189823e-01,   8.15309510e-02,   1.67943507e-01,\n",
       "          7.30476007e-02,   6.47152513e-02,   6.23079017e-02,\n",
       "          1.37849897e-01,   4.39442843e-02,   1.16866484e-01,\n",
       "          5.46043813e-02],\n",
       "       [  1.97189823e-01,   8.15309510e-02,   1.67943507e-01,\n",
       "          7.30476007e-02,   6.47152513e-02,   6.23079017e-02,\n",
       "          1.37849897e-01,   4.39442843e-02,   1.16866484e-01,\n",
       "          5.46043813e-02],\n",
       "       [  1.76488370e-01,   8.01949203e-02,   1.68532982e-01,\n",
       "          8.01246166e-02,   6.86241090e-02,   6.82662129e-02,\n",
       "          1.36761919e-01,   4.75820638e-02,   1.13927692e-01,\n",
       "          5.94970100e-02],\n",
       "       [  1.97189823e-01,   8.15309510e-02,   1.67943507e-01,\n",
       "          7.30476007e-02,   6.47152513e-02,   6.23079017e-02,\n",
       "          1.37849897e-01,   4.39442843e-02,   1.16866484e-01,\n",
       "          5.46043813e-02]], dtype=float32)"
      ]
     },
     "execution_count": 52,
     "metadata": {},
     "output_type": "execute_result"
    }
   ],
   "source": [
    "classes = model.predict(x_test, batch_size=128)\n",
    "classes"
   ]
  },
  {
   "cell_type": "markdown",
   "metadata": {
    "colab_type": "text",
    "deletable": true,
    "editable": true,
    "id": "Qvwc8Y8OCvOn"
   },
   "source": [
    "## Sequential():"
   ]
  },
  {
   "cell_type": "markdown",
   "metadata": {
    "colab_type": "text",
    "deletable": true,
    "editable": true,
    "id": "bYcNE0iECvOo"
   },
   "source": [
    "Два способа использования Squential.\n",
    "Первый:"
   ]
  },
  {
   "cell_type": "code",
   "execution_count": 0,
   "metadata": {
    "colab": {},
    "colab_type": "code",
    "collapsed": true,
    "deletable": true,
    "editable": true,
    "id": "9OnmWWQ2CvOq"
   },
   "outputs": [],
   "source": [
    "from keras.models import Sequential\n",
    "from keras.layers import Dense, Activation\n",
    "\n",
    "model = Sequential([\n",
    "    Dense(32, input_shape=(784,)),\n",
    "    Activation('relu'),\n",
    "    Dense(10),\n",
    "    Activation('softmax'),\n",
    "])"
   ]
  },
  {
   "cell_type": "markdown",
   "metadata": {
    "colab_type": "text",
    "deletable": true,
    "editable": true,
    "id": "wgccUmYFCvOw"
   },
   "source": [
    "Второй, с использованием add():"
   ]
  },
  {
   "cell_type": "code",
   "execution_count": 0,
   "metadata": {
    "colab": {},
    "colab_type": "code",
    "collapsed": true,
    "deletable": true,
    "editable": true,
    "id": "hE41598aCvO0"
   },
   "outputs": [],
   "source": [
    "model = Sequential()\n",
    "model.add(Dense(32, input_dim=784))\n",
    "model.add(Activation('relu'))"
   ]
  },
  {
   "cell_type": "markdown",
   "metadata": {
    "colab_type": "text",
    "deletable": true,
    "editable": true,
    "id": "ksK4QCdKCvO4"
   },
   "source": [
    "Посмотрим внимательнее на объявление модели. \n",
    "\n",
    "Модели требуется указать размерность входных данных. Для этого в первый слой для Sequential (и только первый слой, т.к все последующие слои автоматически считают размернсоти) требуется передать эту информацию. Это можно сделать двумя способами: \n",
    "- Передать в первый слов параметр input_dim (только 1-мерная размерность данных) или input_shape (n мерная размерность). input_shape - tuple целочисленных значений, размерность батча не указывается\n",
    "- В качестве первого слоя передать в Sequential следующий слой: ```Input(shape=(...))```"
   ]
  },
  {
   "cell_type": "code",
   "execution_count": 0,
   "metadata": {
    "colab": {},
    "colab_type": "code",
    "collapsed": true,
    "deletable": true,
    "editable": true,
    "id": "5I04UGB9CvO6"
   },
   "outputs": [],
   "source": [
    "# Следующие объявления эквивалентны:\n",
    "from keras.layers import InputLayer\n",
    "\n",
    "model = Sequential()\n",
    "model.add(Dense(10, input_shape=(100,)))\n",
    "\n",
    "model = Sequential()\n",
    "model.add(Dense(10, input_dim=100))\n",
    "\n",
    "model = Sequential()\n",
    "model.add(InputLayer(input_shape=(100, )))\n",
    "model.add(Dense(10))"
   ]
  },
  {
   "cell_type": "markdown",
   "metadata": {
    "colab_type": "text",
    "deletable": true,
    "editable": true,
    "id": "zAw6dm3SCvPD"
   },
   "source": [
    "## Compilation"
   ]
  },
  {
   "cell_type": "markdown",
   "metadata": {
    "colab_type": "text",
    "deletable": true,
    "editable": true,
    "id": "H5pq-SRoCvPG"
   },
   "source": [
    "Перед обучение модели требуется сконфигурировать обучающий процесс. Для этого в метод ```model.complie()``` требуется передать три аргумента: \n",
    "- Optimizer. Это может быть как string, обозначающий один из оптимизаторов, так и instance одного из оптимизаторов\n",
    "https://keras.io/optimizers/\n",
    "\n",
    "- Loss. Функция, которую будет оптимизировать модель в ходе обучения. Это может быть как string (например, 'categorical_crossentropy' или 'mse'), так и instance класса Losses https://keras.io/losses/\n",
    "- Metrics. Список метрик, которые будет собирать модель в ходе обучения. В список можно добавлять как string (напрмиер, ```metrics=['accuracy']```), так и метрики из класса Metrics https://keras.io/metrics/. Также можно добавлять кастомные метрики"
   ]
  },
  {
   "cell_type": "markdown",
   "metadata": {
    "colab_type": "text",
    "deletable": true,
    "editable": true,
    "id": "4wkUBlhdCvPM"
   },
   "source": [
    "Все примеры можно найти ниже:"
   ]
  },
  {
   "cell_type": "code",
   "execution_count": 0,
   "metadata": {
    "colab": {},
    "colab_type": "code",
    "collapsed": true,
    "deletable": true,
    "editable": true,
    "id": "oQZxfk97CvPP"
   },
   "outputs": [],
   "source": [
    "# Многклассовая классификация\n",
    "model.compile(optimizer='rmsprop',\n",
    "              loss='categorical_crossentropy',\n",
    "              metrics=['accuracy'])\n",
    "\n",
    "# Бинарная классификация\n",
    "model.compile(optimizer='rmsprop',\n",
    "              loss='binary_crossentropy',\n",
    "              metrics=['accuracy'])\n",
    "\n",
    "# Для задачи регрессии\n",
    "model.compile(optimizer='rmsprop',\n",
    "              loss='mse')\n",
    "\n",
    "# Если хотите сделать кастомную функцию:\n",
    "import keras.backend as K\n",
    "\n",
    "def mean_pred(y_true, y_pred):\n",
    "    return K.mean(y_pred)\n",
    "\n",
    "model.compile(optimizer='rmsprop',\n",
    "              loss='binary_crossentropy',\n",
    "              metrics=['accuracy', mean_pred])"
   ]
  },
  {
   "cell_type": "markdown",
   "metadata": {
    "colab_type": "text",
    "deletable": true,
    "editable": true,
    "id": "60hGFPJdCvPV"
   },
   "source": [
    "## Training:"
   ]
  },
  {
   "cell_type": "markdown",
   "metadata": {
    "colab_type": "text",
    "deletable": true,
    "editable": true,
    "id": "4FL-3_sTCvPX"
   },
   "source": [
    "На обучение модели подаются данные для обучения: ```x_train``` и ```y_train```. Оба объекта - numpy массивы. Для обучения модели используется метод ```model.fit(...) ```\n",
    "В fit подаются следующие аргументы:\n",
    "- x: обучающая выборка\n",
    "- y: ответы для обучающей выборки\n",
    "- batch_size: размерность батча\n",
    "- epochs: число эпох\n",
    "- verbose: Integer. 0, 1, или 2. Режим оповещений в ходе обучения. 0 = тихий режим, 1 = progress bar, 2 = одна запись на одну эпоху\n",
    "\n",
    "и т.д, см подробнее: https://keras.io/models/model/"
   ]
  },
  {
   "cell_type": "code",
   "execution_count": 0,
   "metadata": {
    "colab": {},
    "colab_type": "code",
    "collapsed": true,
    "deletable": true,
    "editable": true,
    "id": "g-W-UEC2CvPj"
   },
   "outputs": [],
   "source": [
    "# Пример: Задача бинарной классификации\n",
    "\n",
    "# Как и описали выше, сначала объявляем Sequential() модель и накидываем слоев:\n",
    "model = Sequential()\n",
    "model.add(Dense(32, activation='relu', input_dim=100))\n",
    "model.add(Dense(1, activation='sigmoid')) # на выходе одно число, так как задача бинарной классификации\n",
    "\n",
    "# Теперь делаем compile()\n",
    "model.compile(optimizer='rmsprop',\n",
    "              loss='binary_crossentropy',\n",
    "              metrics=['accuracy'])\n",
    "\n",
    "# Как обычно, сгенерируем рандомно данные\n",
    "import numpy as np\n",
    "data = np.random.random((1000, 100))\n",
    "labels = np.random.randint(2, size=(1000, 1))\n",
    "\n",
    "# И, наконец, запустим обучение на данных. Данные подаются батчами по 32\n",
    "model.fit(data, labels, epochs=100, batch_size=32, verbose=1)"
   ]
  },
  {
   "cell_type": "markdown",
   "metadata": {
    "colab_type": "text",
    "deletable": true,
    "editable": true,
    "id": "xXyAXz9eCvPx"
   },
   "source": [
    "Чтобы оценить качество модели, воспользуемся методом ```model.evaluate(...)```\n",
    "Для этого метода подаются аргументы: \n",
    "- x: тествоая выборка\n",
    "- y: ответы на тестовую выборку\n",
    "- batch_size: размер батча"
   ]
  },
  {
   "cell_type": "code",
   "execution_count": 0,
   "metadata": {
    "colab": {},
    "colab_type": "code",
    "collapsed": true,
    "deletable": true,
    "editable": true,
    "id": "e_euKGVdCvPz"
   },
   "outputs": [],
   "source": [
    "data_test = np.random.random((1000, 100))\n",
    "labels_test = np.random.randint(2, size=(1000, 1))\n",
    "model.evaluate(x=data_test, y=labels_test)"
   ]
  },
  {
   "cell_type": "code",
   "execution_count": 0,
   "metadata": {
    "colab": {},
    "colab_type": "code",
    "collapsed": true,
    "deletable": true,
    "editable": true,
    "id": "o2QTnb2cCvP6"
   },
   "outputs": [],
   "source": [
    "# теперь многоклассовая задача:\n",
    "\n",
    "model = Sequential()\n",
    "model.add(Dense(32, activation='relu', input_dim=100))\n",
    "model.add(Dense(10, activation='softmax'))\n",
    "\n",
    "model.compile(optimizer='rmsprop',\n",
    "              loss='categorical_crossentropy',\n",
    "              metrics=['accuracy'])\n",
    "\n",
    "# Генерируем данные:\n",
    "data = np.random.random((1000, 100))\n",
    "labels = np.random.randint(10, size=(1000, 1))\n",
    "\n",
    "# Ответы переводим в one-hot вектора\n",
    "one_hot_labels = keras.utils.to_categorical(labels, num_classes=10)\n",
    "\n",
    "# Train the model, iterating on the data in batches of 32 samples\n",
    "model.fit(data, one_hot_labels, epochs=200, batch_size=32, verbose=1)"
   ]
  },
  {
   "cell_type": "markdown",
   "metadata": {
    "colab_type": "text",
    "deletable": true,
    "editable": true,
    "id": "EbOe5yc8CvQC"
   },
   "source": [
    "Снова оценим качество нашей модели:"
   ]
  },
  {
   "cell_type": "code",
   "execution_count": 0,
   "metadata": {
    "colab": {},
    "colab_type": "code",
    "collapsed": true,
    "deletable": true,
    "editable": true,
    "id": "8qmPfLDYCvQD"
   },
   "outputs": [],
   "source": [
    "data_test = np.random.random((1000, 100))\n",
    "labels_test = np.random.randint(10, size=(1000, 1))\n",
    "labels_test = keras.utils.to_categorical(labels_test, num_classes=10)\n",
    "model.evaluate(x=data_test, y=labels_test)"
   ]
  },
  {
   "cell_type": "markdown",
   "metadata": {
    "colab_type": "text",
    "deletable": true,
    "editable": true,
    "id": "t8v8TPyGCvQO"
   },
   "source": [
    "## Модуль Model()"
   ]
  },
  {
   "cell_type": "markdown",
   "metadata": {
    "colab_type": "text",
    "deletable": true,
    "editable": true,
    "id": "Nex1AR_ACvQQ"
   },
   "source": [
    "Это альтернативный вариант построения модели, вместо Sequential()\n",
    "Чтобы построить модель с помощью Model пользуйтесь следующим паттерном:\n",
    "```\n",
    "int = Input(...)\n",
    "x = Dense(...)(int)\n",
    "x = Dense(...)(x)\n",
    "x = Conv2D(...)(x)\n",
    "...\n",
    "x = Dense(...)(x)\n",
    "model = Model(inputs=inp, outputs=x)\n",
    "```"
   ]
  },
  {
   "cell_type": "markdown",
   "metadata": {
    "colab_type": "text",
    "deletable": true,
    "editable": true,
    "id": "xsGyDcHgCvQR"
   },
   "source": [
    "После объявления модели идут стандартные: compile и fit"
   ]
  },
  {
   "cell_type": "code",
   "execution_count": 0,
   "metadata": {
    "colab": {},
    "colab_type": "code",
    "collapsed": true,
    "deletable": true,
    "editable": true,
    "id": "W2LHKQ2lCvQS",
    "scrolled": true
   },
   "outputs": [],
   "source": [
    "# Модуль Model:\n",
    "from keras.layers import Input, Dense\n",
    "from keras.models import Model\n",
    "data = np.random.random((1000, 100))\n",
    "labels = np.random.randint(10, size=(1000, 10))\n",
    "\n",
    "inputs = Input(shape=(100,))\n",
    "\n",
    "# Теперь мы применяем последовательно\n",
    "x = Dense(64, activation='relu')(inputs)\n",
    "x = Dense(64, activation='relu')(x)\n",
    "predictions = Dense(10, activation='softmax')(x)\n",
    "\n",
    "# Теперь объединми всё вышенаписанное в модель:\n",
    "model = Model(inputs=inputs, outputs=predictions)\n",
    "\n",
    "# Далее всё стандарно - compile и fit\n",
    "model.compile(optimizer='rmsprop',\n",
    "              loss='categorical_crossentropy',\n",
    "              metrics=['accuracy'])\n",
    "model.fit(data, labels, epochs=10)"
   ]
  },
  {
   "cell_type": "markdown",
   "metadata": {
    "colab_type": "text",
    "deletable": true,
    "editable": true,
    "id": "nALOk9TdCvQX"
   },
   "source": [
    "__Основное премущество такого подхода:__ он позволяет \"склеить\" две разных модели. Или скачать существующую модель и поменять в ней некоторые слои. Пример ниже:"
   ]
  },
  {
   "cell_type": "code",
   "execution_count": 0,
   "metadata": {
    "colab": {},
    "colab_type": "code",
    "collapsed": true,
    "deletable": true,
    "editable": true,
    "id": "9YF345JaCvQY"
   },
   "outputs": [],
   "source": [
    "# С помощью Model() можно к существующей модели добавить слои, делается это так:\n",
    "from keras.applications.mobilenet import MobileNet\n",
    "model = MobileNet(weights='imagenet', include_top=True)\n",
    "# model.summary()\n",
    "\n",
    "# Для начала покажем как удалить верхний слой сети:\n",
    "model.layers.pop()\n",
    "# model.summary()\n",
    "\n",
    "x = model.layers[-1].output\n",
    "x = Dense(200, activation='relu')(x)\n",
    "x = Dense(100, activation='softmax')(x)\n",
    "\n",
    "M = Model(inputs=model.input, outputs=x)\n",
    "# M.summary()"
   ]
  },
  {
   "cell_type": "markdown",
   "metadata": {
    "colab_type": "text",
    "deletable": true,
    "editable": true,
    "id": "saaS59oYCvQb"
   },
   "source": [
    "## Ещё немного про Keras models"
   ]
  },
  {
   "cell_type": "markdown",
   "metadata": {
    "colab_type": "text",
    "deletable": true,
    "editable": true,
    "id": "zhNIQQGQCvQc"
   },
   "source": [
    "Модели Keras имеют следующий набор методов и аттрибутов:\n",
    "- ```model.layers``` - список слоёв. К каждому элементу из списка можно обратиться\n",
    "- ```model.inputs``` - тезор входных данных\n",
    "- ```input_shape``` - размерность входных данных\n",
    "- ```output_shape``` - размерность выходных данных\n",
    "- ```model.outputs``` - тензор output\n",
    "- ```model.summary()``` - печаатет информацию по вашей модели: слои, их параметры, число обучаемых параметров и т.д\n",
    "- ```model.get_layer(layer_name)``` - возвращает слой по его имени\n",
    "- ```model.get_config()``` - возвращает словарь: конфиг модели. Модель может быть из него собрана, пример будет ниже\n",
    "- ```model.get_weights() ``` - возвращает список всех вессов модели, как  numpy массивы\n",
    "- ```model.set_weights(weights)``` - устанавливает веса в модели"
   ]
  },
  {
   "cell_type": "markdown",
   "metadata": {
    "colab_type": "text",
    "deletable": true,
    "editable": true,
    "id": "WzGODcPfCvQd"
   },
   "source": [
    "Ниже показаны примеры методов и аттрибутов, описанных выше:"
   ]
  },
  {
   "cell_type": "code",
   "execution_count": 0,
   "metadata": {
    "colab": {},
    "colab_type": "code",
    "collapsed": true,
    "deletable": true,
    "editable": true,
    "id": "PTLR27HYCvQe"
   },
   "outputs": [],
   "source": [
    "model.layers"
   ]
  },
  {
   "cell_type": "code",
   "execution_count": 0,
   "metadata": {
    "colab": {},
    "colab_type": "code",
    "collapsed": true,
    "deletable": true,
    "editable": true,
    "id": "QFLrrI-CCvQi"
   },
   "outputs": [],
   "source": [
    "print(model.inputs)\n",
    "print(model.outputs)\n",
    "print(model.input_shape)\n",
    "print(model.output_shape)"
   ]
  },
  {
   "cell_type": "code",
   "execution_count": 0,
   "metadata": {
    "colab": {},
    "colab_type": "code",
    "collapsed": true,
    "deletable": true,
    "editable": true,
    "id": "rd5gV8IoCvQl"
   },
   "outputs": [],
   "source": [
    "model.summary()"
   ]
  },
  {
   "cell_type": "code",
   "execution_count": 0,
   "metadata": {
    "colab": {},
    "colab_type": "code",
    "collapsed": true,
    "deletable": true,
    "editable": true,
    "id": "mDZqp1IDCvQr"
   },
   "outputs": [],
   "source": [
    "model.get_layer(model.layers[1].name)"
   ]
  },
  {
   "cell_type": "code",
   "execution_count": 0,
   "metadata": {
    "colab": {},
    "colab_type": "code",
    "collapsed": true,
    "deletable": true,
    "editable": true,
    "id": "Uigv3ZfACvQx",
    "scrolled": true
   },
   "outputs": [],
   "source": [
    "model.get_config()"
   ]
  },
  {
   "cell_type": "code",
   "execution_count": 0,
   "metadata": {
    "colab": {},
    "colab_type": "code",
    "collapsed": true,
    "deletable": true,
    "editable": true,
    "id": "SYrrbD1DCvQ1"
   },
   "outputs": [],
   "source": [
    "config = model.get_config()\n",
    "model1 = Model.from_config(config)\n",
    "model2 = Sequential.from_config(config)"
   ]
  },
  {
   "cell_type": "code",
   "execution_count": 0,
   "metadata": {
    "colab": {},
    "colab_type": "code",
    "collapsed": true,
    "deletable": true,
    "editable": true,
    "id": "wVS4W1uxCvQ6"
   },
   "outputs": [],
   "source": [
    "model1.set_weights( model.get_weights() )"
   ]
  },
  {
   "cell_type": "markdown",
   "metadata": {
    "colab_type": "text",
    "collapsed": true,
    "deletable": true,
    "editable": true,
    "id": "LwQRgpHICvQ9"
   },
   "source": [
    "##  Keras layers"
   ]
  },
  {
   "cell_type": "markdown",
   "metadata": {
    "colab_type": "text",
    "deletable": true,
    "editable": true,
    "id": "f1vw9p75CvQ_"
   },
   "source": [
    "Все слои в Keras имеют ряд общих методов и аттрибутов:\n",
    "- ```layer.input``` - тензор входных данных\n",
    "- ```layer.output``` - тензор выходных данных\n",
    "- ```layer.input_shape``` - размерность входных данных\n",
    "- ```layer.output_shape``` - размерность выходных данных\n",
    "\n",
    "- ```layer.get_weights()``` - возвращает веса слоя\n",
    "- ``` layer.set_weights(weights)``` - устанавливает веса слоя\n",
    "- ```layer.get_config()``` - возвращает конфиг слоя"
   ]
  },
  {
   "cell_type": "markdown",
   "metadata": {
    "colab_type": "text",
    "deletable": true,
    "editable": true,
    "id": "Tyx4y3dCCvRB"
   },
   "source": [
    "Ниже показаны примеры методов и аттрибутов, описанных выше:"
   ]
  },
  {
   "cell_type": "code",
   "execution_count": 0,
   "metadata": {
    "colab": {},
    "colab_type": "code",
    "collapsed": true,
    "deletable": true,
    "editable": true,
    "id": "pjwidcJoCvRE"
   },
   "outputs": [],
   "source": [
    "layer = model.layers[1]\n",
    "print(layer.input)\n",
    "print(layer.output)\n",
    "print(layer.input_shape)\n",
    "print(layer.output_shape)"
   ]
  },
  {
   "cell_type": "code",
   "execution_count": 0,
   "metadata": {
    "colab": {},
    "colab_type": "code",
    "collapsed": true,
    "deletable": true,
    "editable": true,
    "id": "Heoyopn5CvRL",
    "scrolled": true
   },
   "outputs": [],
   "source": [
    "layer.get_weights()"
   ]
  },
  {
   "cell_type": "code",
   "execution_count": 0,
   "metadata": {
    "colab": {},
    "colab_type": "code",
    "collapsed": true,
    "deletable": true,
    "editable": true,
    "id": "Auq-gpNrCvRO"
   },
   "outputs": [],
   "source": [
    "config = layer.get_config()\n",
    "reconstructed_layer = Dense.from_config(config)"
   ]
  },
  {
   "cell_type": "markdown",
   "metadata": {
    "colab_type": "text",
    "deletable": true,
    "editable": true,
    "id": "5lexmlyACvRS"
   },
   "source": [
    "### Далее поговорим про каждый тип слоя отдельно:"
   ]
  },
  {
   "cell_type": "markdown",
   "metadata": {
    "colab_type": "text",
    "deletable": true,
    "editable": true,
    "id": "7tEHoz_bCvRS"
   },
   "source": [
    "### Dense:"
   ]
  },
  {
   "cell_type": "markdown",
   "metadata": {
    "colab_type": "text",
    "deletable": true,
    "editable": true,
    "id": "Rw1cL5XTCvRT"
   },
   "source": [
    "Ниже представлены две картинки. На одной как обычно рисуют нейронные сети с линейными слоями, на второй - как реализовывать линейные слои через умножение матриц. Такая реализация позволяет эффективно подавать элементы батчами (т.е в одном этапе обучения участвуют сразу несколько элементов)"
   ]
  },
  {
   "cell_type": "markdown",
   "metadata": {
    "colab_type": "text",
    "deletable": true,
    "editable": true,
    "id": "G79WrvsYCvRU"
   },
   "source": [
    "На данной картинке обучающая выборка состоит из 3 элементов, каждый из которых имеет одну фичу:"
   ]
  },
  {
   "cell_type": "markdown",
   "metadata": {
    "colab_type": "text",
    "deletable": true,
    "editable": true,
    "id": "g9GJYp0XCvRV"
   },
   "source": [
    "<img src=\"https://ml-cheatsheet.readthedocs.io/en/latest/_images/nn_with_matrices_displayed.png\" alt=\"Drawing\" style=\"width: 700px;\"/>"
   ]
  },
  {
   "cell_type": "code",
   "execution_count": 0,
   "metadata": {
    "colab": {},
    "colab_type": "code",
    "collapsed": true,
    "deletable": true,
    "editable": true,
    "id": "kuWQXL26CvRW"
   },
   "outputs": [],
   "source": [
    "# Пример\n",
    "model = Sequential()\n",
    "model.add(Dense(32, input_shape=(16,)))\n",
    "# Модель принимает на вход данные размерностью (*, 16), где * - размер батча\n",
    "# На выходе модель выдает матрицу размерностью (*, 32), где * - размер батча"
   ]
  },
  {
   "cell_type": "markdown",
   "metadata": {
    "colab_type": "text",
    "deletable": true,
    "editable": true,
    "id": "5BblhC6BCvRZ"
   },
   "source": [
    "Также слой Dense имеет полезный параметр ```activation```, отвечающий за функцию активации. Она применяется поэлементно сразу после Dense слоя "
   ]
  },
  {
   "cell_type": "markdown",
   "metadata": {
    "colab_type": "text",
    "deletable": true,
    "editable": true,
    "id": "cGKDT5B9CvRn"
   },
   "source": [
    "### Dropout"
   ]
  },
  {
   "cell_type": "markdown",
   "metadata": {
    "colab_type": "text",
    "deletable": true,
    "editable": true,
    "id": "flCOZPGqCvRo"
   },
   "source": [
    "<img src=\"https://mlblr.com/images/dropout.gif\" alt=\"Drawing\" style=\"width: 600px;\"/>"
   ]
  },
  {
   "cell_type": "code",
   "execution_count": 0,
   "metadata": {
    "colab": {},
    "colab_type": "code",
    "collapsed": true,
    "deletable": true,
    "editable": true,
    "id": "mHigowf6CvRq"
   },
   "outputs": [],
   "source": [
    "from keras.layers import Dropout\n",
    "model.add(Dropout(rate=0.2))\n",
    "# rate - вероятность, с короторой выключается каждый из нейронов при обучении "
   ]
  },
  {
   "cell_type": "markdown",
   "metadata": {
    "colab_type": "text",
    "deletable": true,
    "editable": true,
    "id": "rm2kyecwCvRu"
   },
   "source": [
    "### Flatten:"
   ]
  },
  {
   "cell_type": "markdown",
   "metadata": {
    "colab_type": "text",
    "deletable": true,
    "editable": true,
    "id": "7VmBw6xgCvRv"
   },
   "source": [
    "Разворачивает весь тензор в одномерный вектор. \n",
    "Например, матрица размера ```(n, m)``` превратится в вектор размера ``` n*m```"
   ]
  },
  {
   "cell_type": "code",
   "execution_count": 0,
   "metadata": {
    "colab": {},
    "colab_type": "code",
    "collapsed": true,
    "deletable": true,
    "editable": true,
    "id": "2MEdtFGaCvRx"
   },
   "outputs": [],
   "source": [
    "from keras.layers import Flatten\n",
    "model = Sequential()\n",
    "model.add(Flatten())"
   ]
  },
  {
   "cell_type": "markdown",
   "metadata": {
    "colab_type": "text",
    "deletable": true,
    "editable": true,
    "id": "WhY8HvNsCvR0"
   },
   "source": [
    "### InputLayer"
   ]
  },
  {
   "cell_type": "markdown",
   "metadata": {
    "colab_type": "text",
    "deletable": true,
    "editable": true,
    "id": "pwZPfedCCvR1"
   },
   "source": [
    "Может пригодиться ровно один раз, для передачи информации нейронной сети о размерности входных данных"
   ]
  },
  {
   "cell_type": "code",
   "execution_count": 0,
   "metadata": {
    "colab": {},
    "colab_type": "code",
    "collapsed": true,
    "deletable": true,
    "editable": true,
    "id": "LY4OtOfDCvR1"
   },
   "outputs": [],
   "source": [
    "from keras.layers import InputLayer\n",
    "model = Sequential()\n",
    "model.add(InputLayer(input_shape=(1,)))\n",
    "model.add(Dense(100))\n",
    "model.summary()"
   ]
  },
  {
   "cell_type": "markdown",
   "metadata": {
    "colab_type": "text",
    "deletable": true,
    "editable": true,
    "id": "Lw3NZJceCvR6"
   },
   "source": [
    "### Reshape"
   ]
  },
  {
   "cell_type": "markdown",
   "metadata": {
    "colab_type": "text",
    "deletable": true,
    "editable": true,
    "id": "dDUfdVtACvR7"
   },
   "source": [
    "Позволяет поменять размерность тензора. \n",
    "\n",
    "Например:\n",
    "\n",
    "$(n, m) \\rightarrow (m, n)$\n",
    "\n",
    "$(n, m, k) \\rightarrow (k, m, n)$\n",
    "\n",
    "$(n, m, k) \\rightarrow (n, m \\cdot k)$"
   ]
  },
  {
   "cell_type": "code",
   "execution_count": 0,
   "metadata": {
    "colab": {},
    "colab_type": "code",
    "collapsed": true,
    "deletable": true,
    "editable": true,
    "id": "r0681t7SCvR8"
   },
   "outputs": [],
   "source": [
    "model = Sequential()\n",
    "model.add(Dense(40, input_shape=(32, 28)))\n",
    "model.summary()"
   ]
  },
  {
   "cell_type": "code",
   "execution_count": 0,
   "metadata": {
    "colab": {},
    "colab_type": "code",
    "collapsed": true,
    "deletable": true,
    "editable": true,
    "id": "OCd68oz4CvR_"
   },
   "outputs": [],
   "source": [
    "from keras.layers import Reshape\n",
    "# Примеры:\n",
    "model.add(Reshape((8, 160)))\n",
    "# теперь: model.output_shape == (None, 8, 160)\n",
    "\n",
    "# также вы можете попросить Keras за вас посчитать оставшуюся размерность, просто подав -1\n",
    "model.add(Reshape((-1, 4, 4)))\n",
    "# теперт: model.output_shape == (None, 80, 4, 4)"
   ]
  },
  {
   "cell_type": "code",
   "execution_count": 0,
   "metadata": {
    "colab": {},
    "colab_type": "code",
    "collapsed": true,
    "deletable": true,
    "editable": true,
    "id": "GBAPl4zfCvSC"
   },
   "outputs": [],
   "source": [
    "model.summary()"
   ]
  },
  {
   "cell_type": "markdown",
   "metadata": {
    "colab_type": "text",
    "deletable": true,
    "editable": true,
    "id": "SNYu-3_ZCvSG"
   },
   "source": [
    "### Conv2D"
   ]
  },
  {
   "cell_type": "markdown",
   "metadata": {
    "colab_type": "text",
    "collapsed": true,
    "deletable": true,
    "editable": true,
    "id": "yz-6yyiNCvSI"
   },
   "source": [
    "<img src=\"https://www.cntk.ai/jup/cntk103d_conv2d_final.gif\" alt=\"Drawing\" style=\"width: 400px;\"/>"
   ]
  },
  {
   "cell_type": "markdown",
   "metadata": {
    "colab_type": "text",
    "deletable": true,
    "editable": true,
    "id": "PQ-X_58CCvSJ"
   },
   "source": [
    "<img src=\"https://i.stack.imgur.com/FjvuN.gif\" alt=\"Drawing\" style=\"width: 400px;\"/>"
   ]
  },
  {
   "cell_type": "markdown",
   "metadata": {
    "colab_type": "text",
    "deletable": true,
    "editable": true,
    "id": "3DfMRAHUCvSK"
   },
   "source": [
    "Сonv2D - свертка, предназначенная только для тензоров размерности 3. Обычно размерность обозначают ```(a, b, num_channels)```. ```num_channels``` - канальность изображения. \n",
    "Kernel (окно) свертки имеет размерность ```(m, k, num_channels)```, где ```num_channels``` - число каналов (третья размерность) входного тензора. Она обязательно совпадает с ```num_channels``` входного изображения. \n"
   ]
  },
  {
   "cell_type": "markdown",
   "metadata": {
    "colab_type": "text",
    "deletable": true,
    "editable": true,
    "id": "xK-SYV_VCvSL"
   },
   "source": [
    "Слой Conv2D в Keras имеет следующие параметры: \n",
    "- ```filters:int``` - число фильтров. Иными словами, сколько разных Kernel мы применим к нашей картинке. Каждый Kernel имеет размерность ```(m, k, num_channels)```, у каждого ```m*k*num_channels``` параметров обучаются\n",
    "\n",
    "- ```kernel_size:int or tuple/list of 2 int``` - tuple из двух int. В наших обозначениях это (m, k)\n",
    "\n",
    "- ```activation:str``` - функция активации, которая применяется сразу после применения слоя Conv2D\n",
    "- ```strides: int or tuple/list of 2 int``` - отвечает за stride по вектрикали и горизонтали\n",
    "- ```padding:str``` - принимает значение либо 'valid', либо 'same',  разница показана на каритнке: \n",
    "<img src=\"https://pp.userapi.com/c849532/v849532680/135e57/Eijj-dicj7o.jpg\" alt=\"Drawing\" style=\"width: 500px;\"/>"
   ]
  },
  {
   "cell_type": "markdown",
   "metadata": {
    "colab_type": "text",
    "deletable": true,
    "editable": true,
    "id": "IvlF4vNhCvSM"
   },
   "source": [
    "#### Немного про размерности:\n",
    "Предположим, что мы добавили слой Conv2D с дефолтными параметрами. Мы установили только ```Conv2D(filters=num_filters, kernel_size=(k, k))```. Тогда если входная размерность ```(a,b,num_channels)```, то наш слой выдаст тензор размерностью ```(a-k+1, b-k+1, num_filters)``` \n",
    "\n",
    "Число обучаемых параметров при этом: ```k*k*num_channels*num_filters + num_filters```\n",
    "\n",
    "В последней формуле второе слагаемое означает bias, который применяется для каждого фильтра отдельно"
   ]
  },
  {
   "cell_type": "code",
   "execution_count": 0,
   "metadata": {
    "colab": {},
    "colab_type": "code",
    "collapsed": true,
    "deletable": true,
    "editable": true,
    "id": "eqx4PtgXCvSN"
   },
   "outputs": [],
   "source": [
    "from keras.layers import Conv2D\n",
    "model = Sequential()\n",
    "# В Conv2D можно подавать параметр input_shape, если это первый слой\n",
    "model.add(Conv2D(20, kernel_size=(3, 3), activation='relu', input_shape=(32, 28, 3)))\n",
    "\n",
    "# Запись выше эквивалентна следующей записи:\n",
    "model = Sequential()\n",
    "model.add(InputLayer(input_shape=(32, 28, 3)))\n",
    "model.add(Conv2D(1, kernel_size=(3, 3), activation='relu'))\n",
    "model.summary()"
   ]
  },
  {
   "cell_type": "markdown",
   "metadata": {
    "colab_type": "text",
    "deletable": true,
    "editable": true,
    "id": "TY9EF9OqCvSR"
   },
   "source": [
    "### MaxPooling2D"
   ]
  },
  {
   "cell_type": "markdown",
   "metadata": {
    "colab_type": "text",
    "deletable": true,
    "editable": true,
    "id": "rZAfVA3PCvSS"
   },
   "source": [
    "<img src=\"https://developers.google.com/machine-learning/practica/image-classification/images/maxpool_animation.gif\" alt=\"Drawing\" style=\"width: 500px;\"/>"
   ]
  },
  {
   "cell_type": "markdown",
   "metadata": {
    "colab_type": "text",
    "deletable": true,
    "editable": true,
    "id": "GmoDYvszCvST"
   },
   "source": [
    "Параметры MaxPool2D:\n",
    "- ```pool_size:int or tuple/list of 2 int``` - tuple из двух int. Размерность окна, в котором выбирается максимальный элемент. На гифке выше pool_size=(2,2)\n",
    "- ```strides: int or tuple/list of 2 int``` - отвечает за stride по вектрикали и горизонтали\n",
    "- ```padding:str``` - принимает значение либо 'valid', либо 'same',  разница показана в блоке с Conv2D"
   ]
  },
  {
   "cell_type": "code",
   "execution_count": 0,
   "metadata": {
    "colab": {},
    "colab_type": "code",
    "collapsed": true,
    "deletable": true,
    "editable": true,
    "id": "wUXC09VeCvSU"
   },
   "outputs": [],
   "source": [
    "# Пример:\n",
    "from keras.layers import MaxPool2D\n",
    "model = Sequential()\n",
    "model.add(InputLayer(input_shape=(32, 28, 3)))\n",
    "model.add(MaxPool2D())\n",
    "model.summary()"
   ]
  },
  {
   "cell_type": "markdown",
   "metadata": {
    "colab_type": "text",
    "deletable": true,
    "editable": true,
    "id": "XD4UHbFMCvSa"
   },
   "source": [
    "Слой MaxPool2D не имеет обучающих параметров"
   ]
  },
  {
   "cell_type": "markdown",
   "metadata": {
    "colab_type": "text",
    "deletable": true,
    "editable": true,
    "id": "9DBLHs7pCvSb"
   },
   "source": [
    "### AveragePooling2D"
   ]
  },
  {
   "cell_type": "markdown",
   "metadata": {
    "colab_type": "text",
    "deletable": true,
    "editable": true,
    "id": "Jr8IXKxOCvSc"
   },
   "source": [
    "AveragePooling2D - аналогичный с MaxPool2D слой, только в окне выбирается не максимальный элемент, а среднее из всех элементов. Ниже приведен пример сравнения двух подходов:"
   ]
  },
  {
   "cell_type": "markdown",
   "metadata": {
    "colab_type": "text",
    "deletable": true,
    "editable": true,
    "id": "_eau5yYjCvSd"
   },
   "source": [
    "<img src=\"https://qph.fs.quoracdn.net/main-qimg-cf2833a40f946faf04163bc28517959c\" alt=\"Drawing\" style=\"width: 500px;\"/>"
   ]
  },
  {
   "cell_type": "markdown",
   "metadata": {
    "colab_type": "text",
    "collapsed": true,
    "deletable": true,
    "editable": true,
    "id": "8Skss0veCvSe"
   },
   "source": [
    "AveragePooling2D имеет те же аргументы, что и MaxPool2D. Он также не имеет обучающих параметров"
   ]
  },
  {
   "cell_type": "markdown",
   "metadata": {
    "colab_type": "text",
    "deletable": true,
    "editable": true,
    "id": "LUXvksVZCvSg"
   },
   "source": [
    "### Activations:"
   ]
  },
  {
   "cell_type": "markdown",
   "metadata": {
    "colab_type": "text",
    "deletable": true,
    "editable": true,
    "id": "Q7MoSfK1CvSh"
   },
   "source": [
    "Наиболее популярные функции активации:\n",
    "\n",
    "<img src=\"https://cdn-images-1.medium.com/max/1200/1*ZafDv3VUm60Eh10OeJu1vw.png\" alt=\"Drawing\" style=\"width: 500px;\"/>\n",
    "\n",
    "Более подробно про функции активации в Keras:\n",
    "https://keras.io/activations/"
   ]
  },
  {
   "cell_type": "code",
   "execution_count": 0,
   "metadata": {
    "colab": {},
    "colab_type": "code",
    "collapsed": true,
    "deletable": true,
    "editable": true,
    "id": "drndzCbuCvSj"
   },
   "outputs": [],
   "source": [
    "# Два способа добавить активацию:\n",
    "from keras.layers import ReLU\n",
    "\n",
    "# Первый\n",
    "model = Sequential()\n",
    "model.add(Conv2D(32, (3, 3), activation='relu' ,input_shape=(32, 28, 3)))\n",
    "\n",
    "# Второй\n",
    "model = Sequential()\n",
    "model.add(Conv2D(32, (3, 3),input_shape=(32, 28, 3)))\n",
    "model.add(ReLU())"
   ]
  },
  {
   "cell_type": "code",
   "execution_count": 0,
   "metadata": {
    "colab": {},
    "colab_type": "code",
    "collapsed": true,
    "deletable": true,
    "editable": true,
    "id": "DloGcP-sCvSm"
   },
   "outputs": [],
   "source": [
    "# Другие возможные функции активации:\n",
    "keras.layers.ReLU()\n",
    "keras.layers.LeakyReLU()\n",
    "keras.layers.ELU()\n",
    "keras.layers.Softmax()"
   ]
  },
  {
   "cell_type": "markdown",
   "metadata": {
    "colab_type": "text",
    "deletable": true,
    "editable": true,
    "id": "HK-2pRD5CvSo"
   },
   "source": [
    "### BatchNorm"
   ]
  },
  {
   "cell_type": "markdown",
   "metadata": {
    "colab_type": "text",
    "deletable": true,
    "editable": true,
    "id": "I4u2ZZaZCvSp"
   },
   "source": [
    "Обычно вставляется между Dense слоем и функцией активации. \n",
    "Для каждого нейрона $h_i$ выполняется нормировка по формуле: \n",
    "$$ \\large{ h_i = \\gamma_i \\frac{h_i-\\mu_i}{\\sqrt{\\sigma^2_i}}+ \\beta_i }$$\n",
    "Где: \n",
    "- $\\gamma_i, \\beta_i$ - тренируемые параметры\n",
    "- $\\mu_i, \\sigma^2_i$ - среднее и оценочная дисперсия батча. При предсказании на тестовой выборке $\\mu_i, \\sigma^2_i$ считаются как скользящее среднее по train выборке"
   ]
  },
  {
   "cell_type": "code",
   "execution_count": 0,
   "metadata": {
    "colab": {},
    "colab_type": "code",
    "collapsed": true,
    "deletable": true,
    "editable": true,
    "id": "dbMz_NDuCvSr"
   },
   "outputs": [],
   "source": [
    "from keras.layers import BatchNormalization\n",
    "model = Sequential()\n",
    "model.add(Dense(5, input_dim=100))\n",
    "model.add(BatchNormalization())\n",
    "model.summary()"
   ]
  },
  {
   "cell_type": "markdown",
   "metadata": {
    "colab_type": "text",
    "deletable": true,
    "editable": true,
    "id": "dWh4BLr1CvSw"
   },
   "source": [
    "## Callbacks:"
   ]
  },
  {
   "cell_type": "markdown",
   "metadata": {
    "colab_type": "text",
    "deletable": true,
    "editable": true,
    "id": "uWGe9sJECvS1"
   },
   "source": [
    "Callback - это набор функций, которые должны применяться на определенных этапах обучения. Вы можете использовать Callbacks, чтобы получить представление о модели во время обучения. Вы можете передать список Callbacks методу .fit ()"
   ]
  },
  {
   "cell_type": "markdown",
   "metadata": {
    "colab_type": "text",
    "deletable": true,
    "editable": true,
    "id": "XJEwn_roCvS3"
   },
   "source": [
    "Callback имеет следующие методы: ```on_train_begin(), on_train_end(), on_epoch_begin(), on_epoch_end(), on_batch_begin(), on_batch_end()```, каждый из которых автоматически вызывается в соответсвующий момент времени. Например, метод ```on_epoch_end()``` вызывается в момент, когда прошла одна эпоха. Метод ```on_batch_end()``` вызывается в момент, когда через сеть прошел один батч."
   ]
  },
  {
   "cell_type": "markdown",
   "metadata": {
    "colab_type": "text",
    "deletable": true,
    "editable": true,
    "id": "h7_5tIP7CvS4"
   },
   "source": [
    "Как использовать Callbacks? Надо просто передать список коллбеков в метод fit.\n",
    "Пример: ```model.fit(x, y, callbacks=[early_stopping])```"
   ]
  },
  {
   "cell_type": "code",
   "execution_count": 0,
   "metadata": {
    "colab": {},
    "colab_type": "code",
    "collapsed": true,
    "deletable": true,
    "editable": true,
    "id": "ugm6CPBxCvS5"
   },
   "outputs": [],
   "source": [
    "# ниже приведен пример кастомного Коллбека. Единственное, что он делает - в конце эпохи записывает в переменную losses метрику \n",
    "# При этом в каждый из методов автоматически прокидывается словарь метрик logs. Например, logs={'loss': 2.5, 'acc': 0.87}\n",
    "# Ниже - шаблон для кастомного коллбека, можете использовать его для создания своего коллбека\n",
    "class My_Callback(keras.callbacks.Callback):\n",
    "    def on_train_begin(self, logs={}):\n",
    "        return\n",
    " \n",
    "    def on_train_end(self, logs={}):\n",
    "        return\n",
    " \n",
    "    def on_epoch_begin(self, logs={}):\n",
    "        return\n",
    " \n",
    "    def on_epoch_end(self, epoch, logs={}):\n",
    "        return\n",
    " \n",
    "    def on_batch_begin(self, batch, logs={}):\n",
    "        return\n",
    " \n",
    "    def on_batch_end(self, batch, logs={}):\n",
    "        self.losses.append(logs.get('loss'))\n",
    "        return"
   ]
  },
  {
   "cell_type": "markdown",
   "metadata": {
    "colab_type": "text",
    "deletable": true,
    "editable": true,
    "id": "_ycjQ8CXCvTB"
   },
   "source": [
    "В Keras уже есть несколько реализованных коллбеков:"
   ]
  },
  {
   "cell_type": "code",
   "execution_count": 0,
   "metadata": {
    "colab": {},
    "colab_type": "code",
    "collapsed": true,
    "deletable": true,
    "editable": true,
    "id": "7uZremveCvTD"
   },
   "outputs": [],
   "source": [
    "# Сохраняет модель в конце каждой эпохи\n",
    "keras.callbacks.ModelCheckpoint(filepath='', monitor='val_loss', verbose=0, save_best_only=False, save_weights_only=False, mode='auto', period=1)"
   ]
  },
  {
   "cell_type": "code",
   "execution_count": 0,
   "metadata": {
    "colab": {},
    "colab_type": "code",
    "collapsed": true,
    "deletable": true,
    "editable": true,
    "id": "K8d19Y1ACvTJ"
   },
   "outputs": [],
   "source": [
    "# Останавливает обучение по какому либо критерию. Например, loss не уменьшается две эпохи подряд\n",
    "keras.callbacks.EarlyStopping(monitor='val_loss', patience=2)"
   ]
  },
  {
   "cell_type": "code",
   "execution_count": 0,
   "metadata": {
    "colab": {},
    "colab_type": "code",
    "collapsed": true,
    "deletable": true,
    "editable": true,
    "id": "J68KNm3DCvTQ"
   },
   "outputs": [],
   "source": [
    "# пишет в директорию log_dir все логи в формате, который читает TensorBoard\n",
    "keras.callbacks.TensorBoard(log_dir='./logs', histogram_freq=0, batch_size=32, write_graph=True, write_grads=False, write_images=False, embeddings_freq=0, embeddings_layer_names=None, embeddings_metadata=None, embeddings_data=None, update_freq='epoch')"
   ]
  },
  {
   "cell_type": "code",
   "execution_count": 0,
   "metadata": {
    "colab": {},
    "colab_type": "code",
    "collapsed": true,
    "deletable": true,
    "editable": true,
    "id": "xjszCSl-CvTU"
   },
   "outputs": [],
   "source": [
    "# Скоращает learning rate, когда loss не уменьшается несколько эпох подряд:\n",
    "keras.callbacks.ReduceLROnPlateau(monitor='val_loss', factor=0.1, patience=10, verbose=0, mode='auto', min_delta=0.0001, cooldown=0, min_lr=0)"
   ]
  },
  {
   "cell_type": "markdown",
   "metadata": {
    "colab_type": "text",
    "deletable": true,
    "editable": true,
    "id": "eV86ZptsCvTY"
   },
   "source": [
    "Вы можете написать свой собственный коллбек, который будет отправлять метрики обучения в телеграмм/на почту после каждой эпохи/батча"
   ]
  },
  {
   "cell_type": "markdown",
   "metadata": {
    "colab_type": "text",
    "deletable": true,
    "editable": true,
    "id": "UEm38jpQCvTZ"
   },
   "source": [
    "## Image Preprocessing"
   ]
  },
  {
   "cell_type": "markdown",
   "metadata": {
    "colab_type": "text",
    "deletable": true,
    "editable": true,
    "id": "WKZEotvfCvTa"
   },
   "source": [
    "Для аугментации изображений можно использовать ImageDataGenerator"
   ]
  },
  {
   "cell_type": "code",
   "execution_count": 0,
   "metadata": {
    "colab": {},
    "colab_type": "code",
    "collapsed": true,
    "deletable": true,
    "editable": true,
    "id": "ArUQ5XbcCvTb"
   },
   "outputs": [],
   "source": [
    "# Объявляем объект из класса ImageDataGenerator.\n",
    "datagen = ImageDataGenerator(\n",
    "    featurewise_center=True,\n",
    "    featurewise_std_normalization=True,\n",
    "    rotation_range=20,\n",
    "    width_shift_range=0.2,\n",
    "    height_shift_range=0.2,\n",
    "    horizontal_flip=True)\n",
    "\n",
    "# фитим его на данные\n",
    "datagen.fit(x_train)\n",
    "\n",
    "# делаем fit модели с аугментацией данных\n",
    "model.fit_generator(datagen.flow(x_train, y_train, batch_size=16),\n",
    "                    steps_per_epoch=len(x_train) / 32, epochs=5)\n",
    "\n",
    "# или можно то же самое в цикле:\n",
    "for e in range(5):\n",
    "    print('Epoch', e)\n",
    "    batches = 0\n",
    "    for x_batch, y_batch in datagen.flow(x_train, y_train, batch_size=16):\n",
    "        model.fit(x_batch, y_batch)\n",
    "        batches += 1\n",
    "        if batches >= len(x_train) / 32:\n",
    "            break"
   ]
  },
  {
   "cell_type": "markdown",
   "metadata": {
    "colab_type": "text",
    "deletable": true,
    "editable": true,
    "id": "tsjMnYFTCvTg"
   },
   "source": [
    "## Losses:"
   ]
  },
  {
   "cell_type": "markdown",
   "metadata": {
    "colab_type": "text",
    "deletable": true,
    "editable": true,
    "id": "5nLHxHRPEiAu"
   },
   "source": [
    "Различные функции потерь, которые будет оптимизировать модель\n",
    "https://keras.io/losses/"
   ]
  },
  {
   "cell_type": "code",
   "execution_count": 0,
   "metadata": {
    "colab": {},
    "colab_type": "code",
    "collapsed": true,
    "deletable": true,
    "editable": true,
    "id": "kTQ4EHDFsudE"
   },
   "outputs": [],
   "source": []
  },
  {
   "cell_type": "code",
   "execution_count": 0,
   "metadata": {
    "colab": {},
    "colab_type": "code",
    "collapsed": true,
    "deletable": true,
    "editable": true,
    "id": "jpLvpUNzCvTg"
   },
   "outputs": [],
   "source": [
    "from keras import losses\n",
    "\n",
    "# Функция потерь передается в модель на этапе компилирования. Следующие две записи эквивалентны:\n",
    "model.compile(loss='mean_squared_error', optimizer='sgd')\n",
    "model.compile(loss=losses.mean_squared_error, optimizer='sgd')\n",
    "\n",
    "# Для задачи регрессии наиболее популярные функции:\n",
    "keras.losses.mean_squared_error(y_true, y_pred)\n",
    "keras.losses.mean_absolute_error(y_true, y_pred)\n",
    "keras.losses.mean_absolute_percentage_error(y_true, y_pred)\n",
    "keras.losses.logcosh(y_true, y_pred)\n",
    "\n",
    "# Для задачи многоклассовой классификации:\n",
    "keras.losses.categorical_crossentropy(y_true, y_pred)\n",
    "# Для задачи бинарной классификации:\n",
    "keras.losses.binary_crossentropy(y_true, y_pred)"
   ]
  },
  {
   "cell_type": "markdown",
   "metadata": {
    "colab_type": "text",
    "deletable": true,
    "editable": true,
    "id": "exMDKiA0CvTl"
   },
   "source": [
    "## Metrics:"
   ]
  },
  {
   "cell_type": "markdown",
   "metadata": {
    "colab_type": "text",
    "deletable": true,
    "editable": true,
    "id": "fqHq0ykEEol9"
   },
   "source": [
    "Метрика отличается от loss function тем, что результаты метрик никак не используются в ходе обучения. Лосс - функция, которую модель оптимизирует. Метрики - показатели перфоманса модели для человека. В то же время любую из loss функций можно использовать как метрику\n",
    "https://keras.io/metrics/"
   ]
  },
  {
   "cell_type": "markdown",
   "metadata": {
    "colab_type": "text",
    "deletable": true,
    "editable": true,
    "id": "ArHpxBGuFLlD"
   },
   "source": [
    "Метрики, как и лосс функция, подаются на жтапе компилирования модели через аргумент metrics:"
   ]
  },
  {
   "cell_type": "code",
   "execution_count": 0,
   "metadata": {
    "colab": {},
    "colab_type": "code",
    "collapsed": true,
    "deletable": true,
    "editable": true,
    "id": "e1HaGZtbCvTn"
   },
   "outputs": [],
   "source": [
    "model.compile(loss='mean_squared_error',\n",
    "              optimizer='sgd',\n",
    "              metrics=['mae', 'acc'])\n",
    "# Другой вариант:\n",
    "from keras import metrics\n",
    "\n",
    "model.compile(loss='mean_squared_error',\n",
    "              optimizer='sgd',\n",
    "              metrics=[metrics.mae, metrics.categorical_accuracy])\n",
    "\n",
    "\n",
    "# Или для задачи многоклассовой классификации:\n",
    "model.compile(loss='categorical_crossentropy',\n",
    "              optimizer='sgd',\n",
    "              metrics=['acc'])\n"
   ]
  },
  {
   "cell_type": "markdown",
   "metadata": {
    "colab_type": "text",
    "deletable": true,
    "editable": true,
    "id": "zfHCbfq1FX20"
   },
   "source": [
    "Также можно сделать кастомную метрику. Делать её придется при помощи backend Кераса. Пример:"
   ]
  },
  {
   "cell_type": "code",
   "execution_count": 0,
   "metadata": {
    "colab": {},
    "colab_type": "code",
    "collapsed": true,
    "deletable": true,
    "editable": true,
    "id": "kOa_eiFcCvTp"
   },
   "outputs": [],
   "source": [
    "\n",
    "# Custom metrics:\n",
    "import keras.backend as K\n",
    "\n",
    "def mean_pred(y_true, y_pred):\n",
    "    return K.mean(y_pred)\n",
    "\n",
    "model.compile(optimizer='rmsprop',\n",
    "              loss='binary_crossentropy',\n",
    "              metrics=['acc', mean_pred])"
   ]
  },
  {
   "cell_type": "markdown",
   "metadata": {
    "colab_type": "text",
    "deletable": true,
    "editable": true,
    "id": "Vm1-VMF_CvTt"
   },
   "source": [
    "## Optimizers:"
   ]
  },
  {
   "cell_type": "markdown",
   "metadata": {
    "colab_type": "text",
    "deletable": true,
    "editable": true,
    "id": "dAvy2da2GdBZ"
   },
   "source": [
    "https://keras.io/optimizers/"
   ]
  },
  {
   "cell_type": "code",
   "execution_count": 0,
   "metadata": {
    "colab": {},
    "colab_type": "code",
    "collapsed": true,
    "deletable": true,
    "editable": true,
    "id": "SFpIllUyCvTt"
   },
   "outputs": [],
   "source": [
    "# Как обычно, можно передать через строковую переменную:\n",
    "model.compile(loss='mean_squared_error', optimizer='sgd')\n",
    "\n",
    "# а можно и через инстанс класса:\n",
    "from keras import optimizers\n",
    "model.compile(loss='mean_squared_error', optimizer=keras.optimizers.SGD(lr=0.01, momentum=0.0, decay=0.0, nesterov=False))\n",
    "\n",
    "# Другие популярные оптимизаторы:\n",
    "keras.optimizers.SGD(lr=0.01, momentum=0.0, decay=0.0, nesterov=False)\n",
    "keras.optimizers.RMSprop(lr=0.001, rho=0.9, epsilon=None, decay=0.0)\n",
    "keras.optimizers.Adagrad(lr=0.01, epsilon=None, decay=0.0)\n",
    "keras.optimizers.Adadelta(lr=1.0, rho=0.95, epsilon=None, decay=0.0)\n",
    "keras.optimizers.Adam(lr=0.001, beta_1=0.9, beta_2=0.999, epsilon=None, decay=0.0, amsgrad=False)\n"
   ]
  },
  {
   "cell_type": "markdown",
   "metadata": {
    "colab_type": "text",
    "deletable": true,
    "editable": true,
    "id": "7K15cxLiCvTx"
   },
   "source": [
    "## Visualization:"
   ]
  },
  {
   "cell_type": "markdown",
   "metadata": {
    "colab_type": "text",
    "deletable": true,
    "editable": true,
    "id": "XFpqvEhvG2Pf"
   },
   "source": [
    "```model.fit()``` автоматически сохраняет историю обучения, которую можно визуализировать следующим образом:"
   ]
  },
  {
   "cell_type": "code",
   "execution_count": 0,
   "metadata": {
    "colab": {},
    "colab_type": "code",
    "collapsed": true,
    "deletable": true,
    "editable": true,
    "id": "-8g-nO2fCvT0"
   },
   "outputs": [],
   "source": [
    "import matplotlib.pyplot as plt\n",
    "\n",
    "\n",
    "model = Sequential()\n",
    "model.add(InputLayer(input_shape=(100, )))\n",
    "#model.add(Flatten())\n",
    "model.add(Dense(10, activation='softmax'))\n",
    "\n",
    "model.compile(loss='categorical_crossentropy', optimizer='sgd', metrics=['acc'])\n",
    "\n",
    "history = model.fit(x_train, y_train, validation_split=0.25, epochs=50, batch_size=16, verbose=1)\n",
    "\n",
    "# Plot training & validation accuracy values\n",
    "plt.plot(history.history['acc'])\n",
    "plt.plot(history.history['val_acc'])\n",
    "plt.title('Model accuracy')\n",
    "plt.ylabel('Accuracy')\n",
    "plt.xlabel('Epoch')\n",
    "plt.legend(['Train', 'Test'], loc='upper left')\n",
    "plt.show()\n",
    "\n",
    "# Plot training & validation loss values\n",
    "plt.plot(history.history['loss'])\n",
    "plt.plot(history.history['val_loss'])\n",
    "plt.title('Model loss')\n",
    "plt.ylabel('Loss')\n",
    "plt.xlabel('Epoch')\n",
    "plt.legend(['Train', 'Test'], loc='upper left')\n",
    "plt.show()"
   ]
  },
  {
   "cell_type": "markdown",
   "metadata": {
    "colab_type": "text",
    "deletable": true,
    "editable": true,
    "id": "No6cHD6aHAO1"
   },
   "source": [
    "Либо можно воспользоваться Tensorboard, передав коллбек keras.callbacks.TensorBoard() в fit()"
   ]
  },
  {
   "cell_type": "markdown",
   "metadata": {
    "colab_type": "text",
    "collapsed": true,
    "deletable": true,
    "editable": true,
    "id": "ygM1ZR8vCvT6"
   },
   "source": [
    "## Некоторые вопросы из FAQ:"
   ]
  },
  {
   "cell_type": "markdown",
   "metadata": {
    "colab_type": "text",
    "deletable": true,
    "editable": true,
    "id": "H4s0j2iVCvT6"
   },
   "source": [
    "1. Как можно импортировать обученные модели в Keras?\n",
    "\n",
    "\n"
   ]
  },
  {
   "cell_type": "code",
   "execution_count": 0,
   "metadata": {
    "colab": {},
    "colab_type": "code",
    "collapsed": true,
    "deletable": true,
    "editable": true,
    "id": "A3XzQsI5CvT7"
   },
   "outputs": [],
   "source": [
    "from keras.applications.xception import Xception\n",
    "from keras.applications.vgg16 import VGG16\n",
    "from keras.applications.vgg19 import VGG19\n",
    "from keras.applications.resnet50 import ResNet50\n",
    "from keras.applications.inception_v3 import InceptionV3\n",
    "from keras.applications.inception_resnet_v2 import InceptionResNetV2\n",
    "from keras.applications.mobilenet import MobileNet\n",
    "from keras.applications.densenet import DenseNet121\n",
    "from keras.applications.densenet import DenseNet169\n",
    "from keras.applications.densenet import DenseNet201\n",
    "from keras.applications.nasnet import NASNetLarge\n",
    "from keras.applications.nasnet import NASNetMobile\n",
    "from keras.applications.mobilenet_v2 import MobileNetV2\n",
    "\n",
    "model = VGG16(weights='imagenet', include_top=True)"
   ]
  },
  {
   "cell_type": "markdown",
   "metadata": {
    "colab_type": "text",
    "deletable": true,
    "editable": true,
    "id": "lGA3uxqmCvUA"
   },
   "source": [
    "2. Как заморозить обучение некоторых слоев в нейронной сети?"
   ]
  },
  {
   "cell_type": "code",
   "execution_count": 0,
   "metadata": {
    "colab": {},
    "colab_type": "code",
    "collapsed": true,
    "deletable": true,
    "editable": true,
    "id": "gNChP8ctCvUA"
   },
   "outputs": [],
   "source": [
    "# у каждого слоя есть параметр trainable, по умолчанию он true\n",
    "for layer in model.layers[:1]:\n",
    "  layer.trainable = False"
   ]
  },
  {
   "cell_type": "markdown",
   "metadata": {
    "colab_type": "text",
    "deletable": true,
    "editable": true,
    "id": "18nRMXe_CvUC"
   },
   "source": [
    "3. Как мне удалить слой из модели Sequential?"
   ]
  },
  {
   "cell_type": "code",
   "execution_count": 0,
   "metadata": {
    "colab": {},
    "colab_type": "code",
    "collapsed": true,
    "deletable": true,
    "editable": true,
    "id": "3v-kUBlECvUC"
   },
   "outputs": [],
   "source": [
    "model = Sequential()\n",
    "model.add(Dense(32, activation='relu', input_dim=784))\n",
    "model.add(Dense(32, activation='relu'))\n",
    "\n",
    "print(len(model.layers))  # \"2\"\n",
    "\n",
    "model.pop()\n",
    "print(len(model.layers))  # \"1\""
   ]
  },
  {
   "cell_type": "code",
   "execution_count": 0,
   "metadata": {
    "colab": {},
    "colab_type": "code",
    "collapsed": true,
    "deletable": true,
    "editable": true,
    "id": "8AzqVsXc2QWY"
   },
   "outputs": [],
   "source": [
    "model.summary()\n"
   ]
  },
  {
   "cell_type": "code",
   "execution_count": 0,
   "metadata": {
    "colab": {},
    "colab_type": "code",
    "collapsed": true,
    "deletable": true,
    "editable": true,
    "id": "nkleGWDb4DFt"
   },
   "outputs": [],
   "source": [
    "model.input_shape"
   ]
  },
  {
   "cell_type": "markdown",
   "metadata": {
    "colab_type": "text",
    "deletable": true,
    "editable": true,
    "id": "BbZY07kICvUE"
   },
   "source": [
    "4. Как мне получить output некоторого слоя нейронной сети?"
   ]
  },
  {
   "cell_type": "code",
   "execution_count": 0,
   "metadata": {
    "colab": {},
    "colab_type": "code",
    "collapsed": true,
    "deletable": true,
    "editable": true,
    "id": "dCqnaLsOCvUG"
   },
   "outputs": [],
   "source": [
    "from keras.models import Model\n",
    "\n",
    "#model = ...  # объявите модель\n",
    "\n",
    "# random data:\n",
    "data = np.random.randint(low=1, high=10, size=(100, model.input_shape[1]))\n",
    "\n",
    "layer_name = model.layers[0].name\n",
    "intermediate_layer_model = Model(inputs=model.input,\n",
    "                                 outputs=model.get_layer(layer_name).output)\n",
    "intermediate_output = intermediate_layer_model.predict(data)"
   ]
  },
  {
   "cell_type": "markdown",
   "metadata": {
    "colab_type": "text",
    "deletable": true,
    "editable": true,
    "id": "aeGE79JICvUI"
   },
   "source": [
    "5. Как мне обучать модель, если данные не помещаются в оперативную память?\n"
   ]
  },
  {
   "cell_type": "markdown",
   "metadata": {
    "colab_type": "text",
    "deletable": true,
    "editable": true,
    "id": "eW0LVBV-CvUJ"
   },
   "source": [
    "Можно использовать метод model.train_on_batch(x, y), итерируясь по батчам. Метод model.test_on_batch(x, y) позволит итерируясь по тестовым данным получить оценку качества модели\n"
   ]
  },
  {
   "cell_type": "markdown",
   "metadata": {
    "colab_type": "text",
    "deletable": true,
    "editable": true,
    "id": "sXIkTRSkIQn2"
   },
   "source": [
    "Либо можно использовать метод fit_generator(), в который передается генератор данных:"
   ]
  },
  {
   "cell_type": "code",
   "execution_count": 0,
   "metadata": {
    "colab": {},
    "colab_type": "code",
    "collapsed": true,
    "deletable": true,
    "editable": true,
    "id": "7NvYD6uzCvUK"
   },
   "outputs": [],
   "source": [
    "model.fit_generator(data_generator, steps_per_epoch, epochs)"
   ]
  },
  {
   "cell_type": "markdown",
   "metadata": {
    "colab_type": "text",
    "deletable": true,
    "editable": true,
    "id": "DBw_3o6ICvUY"
   },
   "source": [
    "6. Как сохранять модель из Кераса?"
   ]
  },
  {
   "cell_type": "code",
   "execution_count": 0,
   "metadata": {
    "colab": {},
    "colab_type": "code",
    "collapsed": true,
    "deletable": true,
    "editable": true,
    "id": "7tN_yeAeCvUY"
   },
   "outputs": [],
   "source": [
    "model.save(filepath) # architecture, weights, loss, the state of the optimizer, allowing to resume training exactly where you left off.\n",
    "keras.models.load_model(filepath)"
   ]
  },
  {
   "cell_type": "markdown",
   "metadata": {
    "colab_type": "text",
    "deletable": true,
    "editable": true,
    "id": "P1G2YhIiIhU8"
   },
   "source": [
    "7. Как мне запустить обучение модели на GPU? Ответ: Keras это сделает за вас автоматически\n",
    "Чтобы узнать список используемых GPU и првоерить видит ли их Keras:"
   ]
  },
  {
   "cell_type": "code",
   "execution_count": 0,
   "metadata": {
    "colab": {},
    "colab_type": "code",
    "collapsed": true,
    "deletable": true,
    "editable": true,
    "id": "NhJDBGk4I7MD"
   },
   "outputs": [],
   "source": [
    "from keras import backend as K\n",
    "K.tensorflow_backend._get_available_gpus()"
   ]
  },
  {
   "cell_type": "markdown",
   "metadata": {
    "colab_type": "text",
    "deletable": true,
    "editable": true,
    "id": "eVtz5oZHCvUa"
   },
   "source": [
    "8. Как запустить обучение модели на нескольких GPU?"
   ]
  },
  {
   "cell_type": "code",
   "execution_count": 0,
   "metadata": {
    "colab": {},
    "colab_type": "code",
    "collapsed": true,
    "deletable": true,
    "editable": true,
    "id": "wiQ9e2eGCvUa"
   },
   "outputs": [],
   "source": [
    "\n",
    "from keras.utils import multi_gpu_model\n",
    "\n",
    "# Replicates `model` on 8 GPUs.\n",
    "# This assumes that your machine has 8 available GPUs.\n",
    "parallel_model = multi_gpu_model(model, gpus=8)\n",
    "parallel_model.compile(loss='categorical_crossentropy',\n",
    "                       optimizer='rmsprop')\n",
    "\n",
    "# This `fit` call will be distributed on 8 GPUs.\n",
    "# Since the batch size is 256, each GPU will process 32 samples.\n",
    "parallel_model.fit(x, y, epochs=20, batch_size=256)"
   ]
  },
  {
   "cell_type": "code",
   "execution_count": null,
   "metadata": {
    "collapsed": true,
    "deletable": true,
    "editable": true
   },
   "outputs": [],
   "source": []
  },
  {
   "cell_type": "code",
   "execution_count": null,
   "metadata": {
    "collapsed": true,
    "deletable": true,
    "editable": true
   },
   "outputs": [],
   "source": []
  },
  {
   "cell_type": "code",
   "execution_count": null,
   "metadata": {
    "collapsed": true,
    "deletable": true,
    "editable": true
   },
   "outputs": [],
   "source": []
  },
  {
   "cell_type": "code",
   "execution_count": 34,
   "metadata": {
    "collapsed": false,
    "deletable": true,
    "editable": true
   },
   "outputs": [],
   "source": [
    "import tensorflow as tf\n",
    "import numpy as np\n",
    "import matplotlib.pyplot as plt\n",
    "(x_train, y_train), (x_test, y_test) = tf.keras.datasets.fashion_mnist.load_data()"
   ]
  },
  {
   "cell_type": "code",
   "execution_count": 35,
   "metadata": {
    "collapsed": false
   },
   "outputs": [
    {
     "name": "stdout",
     "output_type": "stream",
     "text": [
      "x_train shape: (60000, 28, 28) y_train shape: (60000,)\n",
      "60000 train set\n",
      "10000 test set\n"
     ]
    }
   ],
   "source": [
    "# Print training set shape - note there are 60,000 training data of image size of 28x28, 60,000 train labels)\n",
    "print(\"x_train shape:\", x_train.shape, \"y_train shape:\", y_train.shape)\n",
    "\n",
    "# Print the number of training and test datasets\n",
    "print(x_train.shape[0], 'train set')\n",
    "print(x_test.shape[0], 'test set')\n",
    "\n",
    "# Define the text labels\n",
    "fashion_mnist_labels = [\"T-shirt/top\",  # index 0\n",
    "                        \"Trouser\",      # index 1\n",
    "                        \"Pullover\",     # index 2 \n",
    "                        \"Dress\",        # index 3 \n",
    "                        \"Coat\",         # index 4\n",
    "                        \"Sandal\",       # index 5\n",
    "                        \"Shirt\",        # index 6 \n",
    "                        \"Sneaker\",      # index 7 \n",
    "                        \"Bag\",          # index 8 \n",
    "                        \"Ankle boot\"]   # index 9\n"
   ]
  },
  {
   "cell_type": "code",
   "execution_count": 36,
   "metadata": {
    "collapsed": false
   },
   "outputs": [
    {
     "name": "stdout",
     "output_type": "stream",
     "text": [
      "y = 5 Sandal\n"
     ]
    },
    {
     "data": {
      "text/plain": [
       "<matplotlib.image.AxesImage at 0x124fcddd8>"
      ]
     },
     "execution_count": 36,
     "metadata": {},
     "output_type": "execute_result"
    },
    {
     "data": {
      "image/png": "[encoded data removed]",
      "text/plain": [
       "<matplotlib.figure.Figure at 0x124f260f0>"
      ]
     },
     "metadata": {},
     "output_type": "display_data"
    }
   ],
   "source": [
    "# Image index, you can pick any number between 0 and 59,999\n",
    "img_index = 12\n",
    "# y_train contains the lables, ranging from 0 to 9\n",
    "label_index = y_train[img_index]\n",
    "# Print the label, for example 2 Pullover\n",
    "print (\"y = \" + str(label_index) + \" \" +(fashion_mnist_labels[label_index]))\n",
    "# # Show one of the images from the training dataset\n",
    "plt.imshow(x_train[img_index])"
   ]
  },
  {
   "cell_type": "code",
   "execution_count": 37,
   "metadata": {
    "collapsed": false,
    "deletable": true,
    "editable": true
   },
   "outputs": [],
   "source": [
    "y_train = keras.utils.to_categorical(y_train)\n",
    "y_test = keras.utils.to_categorical(y_test)"
   ]
  },
  {
   "cell_type": "code",
   "execution_count": 56,
   "metadata": {
    "collapsed": false,
    "deletable": true,
    "editable": true
   },
   "outputs": [],
   "source": [
    "model = Sequential()\n",
    "model.add(InputLayer((28, 28)))\n",
    "model.add(Reshape((28, 28, -1)))\n",
    "model.add(Conv2D(16, (3,3), activation='relu'))\n",
    "model.add(MaxPool2D())\n",
    "\n",
    "model.add(Conv2D(32, (3,3), activation='relu'))\n",
    "model.add(MaxPool2D())\n",
    "\n",
    "model.add(Conv2D(32, (3,3), activation='relu'))\n",
    "model.add(MaxPool2D())\n",
    "\n",
    "model.add(Flatten())\n",
    "model.add(Dense(256, activation='relu'))\n",
    "model.add(Dense(10, activation='softmax'))"
   ]
  },
  {
   "cell_type": "code",
   "execution_count": 57,
   "metadata": {
    "collapsed": false,
    "deletable": true,
    "editable": true
   },
   "outputs": [],
   "source": [
    "model.compile(optimizer='adam', loss='categorical_crossentropy', metrics=[keras.metrics.categorical_accuracy])"
   ]
  },
  {
   "cell_type": "code",
   "execution_count": 59,
   "metadata": {
    "collapsed": false,
    "deletable": true,
    "editable": true
   },
   "outputs": [
    {
     "data": {
      "application/vnd.jupyter.widget-view+json": {
       "model_id": "a09e5b43600948bea369089fb9908f28",
       "version_major": 2,
       "version_minor": 0
      },
      "text/html": [
       "<p>Failed to display Jupyter Widget of type <code>HBox</code>.</p>\n",
       "<p>\n",
       "  If you're reading this message in the Jupyter Notebook or JupyterLab Notebook, it may mean\n",
       "  that the widgets JavaScript is still loading. If this message persists, it\n",
       "  likely means that the widgets JavaScript library is either not installed or\n",
       "  not enabled. See the <a href=\"https://ipywidgets.readthedocs.io/en/stable/user_install.html\">Jupyter\n",
       "  Widgets Documentation</a> for setup instructions.\n",
       "</p>\n",
       "<p>\n",
       "  If you're reading this message in another frontend (for example, a static\n",
       "  rendering on GitHub or <a href=\"https://nbviewer.jupyter.org/\">NBViewer</a>),\n",
       "  it may mean that your frontend doesn't currently support widgets.\n",
       "</p>\n"
      ],
      "text/plain": [
       "HBox(children=(IntProgress(value=0, description='Training', max=5), HTML(value='')))"
      ]
     },
     "metadata": {},
     "output_type": "display_data"
    },
    {
     "data": {
      "application/vnd.jupyter.widget-view+json": {
       "model_id": "5d9d75a31a4c4a129b27338af321561d",
       "version_major": 2,
       "version_minor": 0
      },
      "text/html": [
       "<p>Failed to display Jupyter Widget of type <code>HBox</code>.</p>\n",
       "<p>\n",
       "  If you're reading this message in the Jupyter Notebook or JupyterLab Notebook, it may mean\n",
       "  that the widgets JavaScript is still loading. If this message persists, it\n",
       "  likely means that the widgets JavaScript library is either not installed or\n",
       "  not enabled. See the <a href=\"https://ipywidgets.readthedocs.io/en/stable/user_install.html\">Jupyter\n",
       "  Widgets Documentation</a> for setup instructions.\n",
       "</p>\n",
       "<p>\n",
       "  If you're reading this message in another frontend (for example, a static\n",
       "  rendering on GitHub or <a href=\"https://nbviewer.jupyter.org/\">NBViewer</a>),\n",
       "  it may mean that your frontend doesn't currently support widgets.\n",
       "</p>\n"
      ],
      "text/plain": [
       "HBox(children=(IntProgress(value=0, description='Epoch 0', max=54000), HTML(value='')))"
      ]
     },
     "metadata": {},
     "output_type": "display_data"
    },
    {
     "data": {
      "application/vnd.jupyter.widget-view+json": {
       "model_id": "f94b96a78a27413791cfedee73da48a2",
       "version_major": 2,
       "version_minor": 0
      },
      "text/html": [
       "<p>Failed to display Jupyter Widget of type <code>HBox</code>.</p>\n",
       "<p>\n",
       "  If you're reading this message in the Jupyter Notebook or JupyterLab Notebook, it may mean\n",
       "  that the widgets JavaScript is still loading. If this message persists, it\n",
       "  likely means that the widgets JavaScript library is either not installed or\n",
       "  not enabled. See the <a href=\"https://ipywidgets.readthedocs.io/en/stable/user_install.html\">Jupyter\n",
       "  Widgets Documentation</a> for setup instructions.\n",
       "</p>\n",
       "<p>\n",
       "  If you're reading this message in another frontend (for example, a static\n",
       "  rendering on GitHub or <a href=\"https://nbviewer.jupyter.org/\">NBViewer</a>),\n",
       "  it may mean that your frontend doesn't currently support widgets.\n",
       "</p>\n"
      ],
      "text/plain": [
       "HBox(children=(IntProgress(value=0, description='Epoch 1', max=54000), HTML(value='')))"
      ]
     },
     "metadata": {},
     "output_type": "display_data"
    },
    {
     "data": {
      "application/vnd.jupyter.widget-view+json": {
       "model_id": "c945948629f64f19ae0e64ad9d6882ec",
       "version_major": 2,
       "version_minor": 0
      },
      "text/html": [
       "<p>Failed to display Jupyter Widget of type <code>HBox</code>.</p>\n",
       "<p>\n",
       "  If you're reading this message in the Jupyter Notebook or JupyterLab Notebook, it may mean\n",
       "  that the widgets JavaScript is still loading. If this message persists, it\n",
       "  likely means that the widgets JavaScript library is either not installed or\n",
       "  not enabled. See the <a href=\"https://ipywidgets.readthedocs.io/en/stable/user_install.html\">Jupyter\n",
       "  Widgets Documentation</a> for setup instructions.\n",
       "</p>\n",
       "<p>\n",
       "  If you're reading this message in another frontend (for example, a static\n",
       "  rendering on GitHub or <a href=\"https://nbviewer.jupyter.org/\">NBViewer</a>),\n",
       "  it may mean that your frontend doesn't currently support widgets.\n",
       "</p>\n"
      ],
      "text/plain": [
       "HBox(children=(IntProgress(value=0, description='Epoch 2', max=54000), HTML(value='')))"
      ]
     },
     "metadata": {},
     "output_type": "display_data"
    },
    {
     "data": {
      "application/vnd.jupyter.widget-view+json": {
       "model_id": "710ffb1cd0dc44b89c36a5c9b8767a15",
       "version_major": 2,
       "version_minor": 0
      },
      "text/html": [
       "<p>Failed to display Jupyter Widget of type <code>HBox</code>.</p>\n",
       "<p>\n",
       "  If you're reading this message in the Jupyter Notebook or JupyterLab Notebook, it may mean\n",
       "  that the widgets JavaScript is still loading. If this message persists, it\n",
       "  likely means that the widgets JavaScript library is either not installed or\n",
       "  not enabled. See the <a href=\"https://ipywidgets.readthedocs.io/en/stable/user_install.html\">Jupyter\n",
       "  Widgets Documentation</a> for setup instructions.\n",
       "</p>\n",
       "<p>\n",
       "  If you're reading this message in another frontend (for example, a static\n",
       "  rendering on GitHub or <a href=\"https://nbviewer.jupyter.org/\">NBViewer</a>),\n",
       "  it may mean that your frontend doesn't currently support widgets.\n",
       "</p>\n"
      ],
      "text/plain": [
       "HBox(children=(IntProgress(value=0, description='Epoch 3', max=54000), HTML(value='')))"
      ]
     },
     "metadata": {},
     "output_type": "display_data"
    },
    {
     "data": {
      "application/vnd.jupyter.widget-view+json": {
       "model_id": "e03a9b9a1dc44471a3567e139f95d62c",
       "version_major": 2,
       "version_minor": 0
      },
      "text/html": [
       "<p>Failed to display Jupyter Widget of type <code>HBox</code>.</p>\n",
       "<p>\n",
       "  If you're reading this message in the Jupyter Notebook or JupyterLab Notebook, it may mean\n",
       "  that the widgets JavaScript is still loading. If this message persists, it\n",
       "  likely means that the widgets JavaScript library is either not installed or\n",
       "  not enabled. See the <a href=\"https://ipywidgets.readthedocs.io/en/stable/user_install.html\">Jupyter\n",
       "  Widgets Documentation</a> for setup instructions.\n",
       "</p>\n",
       "<p>\n",
       "  If you're reading this message in another frontend (for example, a static\n",
       "  rendering on GitHub or <a href=\"https://nbviewer.jupyter.org/\">NBViewer</a>),\n",
       "  it may mean that your frontend doesn't currently support widgets.\n",
       "</p>\n"
      ],
      "text/plain": [
       "HBox(children=(IntProgress(value=0, description='Epoch 4', max=54000), HTML(value='')))"
      ]
     },
     "metadata": {},
     "output_type": "display_data"
    },
    {
     "data": {
      "text/plain": [
       "<keras.callbacks.History at 0x11c242ba8>"
      ]
     },
     "execution_count": 59,
     "metadata": {},
     "output_type": "execute_result"
    }
   ],
   "source": [
    "model.fit(x=x_train, y=y_train, epochs=5, batch_size=100, verbose=0,\n",
    "          validation_split=0.1, callbacks=[TQDMNotebookCallback(leave_inner=True)])"
   ]
  },
  {
   "cell_type": "code",
   "execution_count": 41,
   "metadata": {
    "collapsed": true,
    "deletable": true,
    "editable": true
   },
   "outputs": [],
   "source": [
    "from keras_tqdm import TQDMNotebookCallback\n",
    "from keras.layers import InputLayer, Conv2D, MaxPool2D, Flatten, Dense, Reshape"
   ]
  },
  {
   "cell_type": "code",
   "execution_count": 60,
   "metadata": {
    "collapsed": false
   },
   "outputs": [
    {
     "name": "stdout",
     "output_type": "stream",
     "text": [
      "10000/10000 [==============================] - 3s 281us/step\b\b\b\b\b\b\b\b\b\b\b\b\b\b\b\b\b\b\b\b\b\b\b\b\b\b\b\b\b\b\b\b\b\b\b\b\b\b\b\b\b\b\b\b\b\b\b\b\b\b\b\b\b\b\b\b\b\b\b\b\b\b\b\b\b\b\b\b\b\b\b\b\b\b\b\b\b\b\b\b\b\b\b\b\b\b\b\b\b\b\b\b\b\b\b\b\b\b\b\b\b\b\b\b\b\b\b\b\b\b\b\b\b\b\b\b\b\b\b\b\b\b\b\b\b\b\b\b\b\b\b\b\b\b\b\b\b\b\b\b\b\b\b\b\b\b\b\b\b\b\b\b\b\b\b\b\b\b\b\b\b\b\b\b\b\b\b\b\b\b\b\b\b\b\b\b\b\b\b\b\b\b\b\b\b\b\b\b\b\b\b\b\b\b\b\b\b\b\b\b\b\b\b\b\b\b\b\b\b\b\b\b\b\b\b\b\b\b\b\b\b\b\b\b\b\b\b\b\b\b\b\b\b\b\b\b\b\b\b\b\b\b\b\b\b\b\b\b\b\b\b\b\b\b\b\b\b\b\b\b\b\b\b\b\b\b\b\b\b\b\b\b\b\b\b\b\b\b\b\b\b\b\b\b\b\b\b\b\b\b\b\b\b\b\b\b\b\b\b\b\b\b\b\b\b\b\b\b\b\b\b\b\b\b\b\b\b\b\b\b\b\b\b\b\b\b\b\b\b\b\b\b\b\b\b\b\b\b\b\b\b\b\b\b\b\b\b\b\b\b\b\b\b\b\b\b\b\b\b\b\b\b\b\b\b\b\b\b\b\b\b\b\b\b\b\b\b\b\b\b\b\b\b\b\b\b\b\b\b\b\b\b\b\b\b\b\b\b\b\b\b\b\b\b\b\b\b\b\b\b\b\b\b\b\b\b\b\b\b\b\b\b\b\b\b\b\b\b\b\b\b\b\b\b\b\b\b\b\b\b\b\b\b\b\b\b\b\b\b\b\b\b\b\b\b\b\b\b\b\b\b\b\b\b\b\b\b\b\b\b\b\b\b\b\b\b\b\b\b\b\b\b\b\b\b\b\b\b\b\b\b\b\b\b\b\b\b\b\b\b\b\b\b\b\b\b\b\b\b\b\b\b\b\b\b\b\b\b\b\b\b\b\b\b\b\b\b\b\b\b\b\b\b\b\b\b\b\b\b\b\b\b\b\b\b\b\b\b\b\b\b\b\b\b\b\b\b\b\b\b\b\b\b\b\b\b\b\b\b\b\b\b\b\b\b\b\b\b\b\b\b\b\b\b\b\b\b\b\b\b\b\b\b\b\b\b\b\b\b\b\b\b\b\b\b\b\b\b\b\b\b\b\b\b\b\b\b\b\b\b\b\b\b\b\b\b\b\b\b\b\b\b\b\b\b\b\b\b\b\b\b\b\b\b\b\b\b\b\b\b\b\b\b\b\b\b\b\b\b\b\b\b\b\b\b\b\b\b\b\b\b\b\b\b\b\b\b\b\b\b\b\b\b\b\b\b\b\b\b\b\b\b\b\b\b\b\b\b\b\b\b\b\b\b\b\b\b\b\b\b\b\b\b\b\b\b\b\b\b\b\b\b\b\b\b\b\b\b\b\b\b\b\b\b\b\b\b\b\b\b\b\b\b\b\b\b\b\b\b\b\b\b\b\b\b\b\b\b\b\b\b\b\b\b\b\b\b\b\b\b\b\b\b\b\b\b\b\b\b\b\b\b\b\b\b\b\b\b\b\b\b\b\b\b\b\b\b\b\b\b\b\b\b\b\b\b\b\b\b\b\b\b\b\b\b\b\b\b\b\b\b\b\b\b\b\b\b\b\b\b\b\b\b\b\b\b\b\b\b\b\b\b\b\b\b\b\b\b\b\b\b\b\b\b\b\b\b\b\b\b\b\b\b\b\b\b\b\b\b\b\b\b\b\b\b\b\b\b\b\b\b\b\b\b\b\b\b\b\b\b\b\b\b\b\b\b\b\b\b\b\b\b\b\b\b\b\b\b\b\b\b\b\b\b\b\b\b\b\b\b\b\b\b\b\b\b\b\b\b\b\b\b\b\b\b\b\b\b\b\b\b\b\b\b\b\b\b\b\b\b\b\b\b\b\b\b\b\b\b\b\b\b\b\b\b\b\b\b\b\b\b\b\b\b\b\b\b\b\b\b\b\b\b\b\b\b\b\b\b\b\b\b\b\b\b\b\b\b\b\b\b\b\b\b\b\b\b\b\b\b\b\b\b\b\b\b\b\b\b\b\b\b\b\b\b\b\b\b\b\b\b\b\b\b\b\b\b\b\b\b\b\b\b\b\b\b\b\b\b\b\b\b\b\b\b\b\b\b\b\b\b\b\b\b\b\b\b\b\b\b\b\b\b\b\b\b\b\b\b\b\b\b\b\b\b\b\b\b\b\b\b\b\b\b\b\b\b\b\b\b\b\b\b\b\b\b\b\b\b\b\b\b\b\b\b\b\b\b\b\b\b\b\b\b\b\b\b\b\b\b\b\b\b\b\b\b\b\b\b\b\b\b\b\b\b\b\b\b\b\b\b\b\b\b\b\b\b\b\b\b\b\b\b\b\b\b\b\b\b\b\b\b\b\b\b\b\b\b\b\b\b\b\b\b\b\b\b\b\b\b\b\b\b\b\b\b\b\b\b\b\b\b\b\b\b\b\b\b\b\b\b\b\b\b\b\b\b\b\b\b\b\b\b\b\b\b\b\b\b\b\b\b\b\b\b\b\b\b\b\b\b\b\b\b\b\b\b\b\b\b\b\b\b\b\b\b\b\b\b\b\b\b\b\b\b\b\b\b\b\b\b\b\b\b\b\b\b\b\b\b\b\b\b\b\b\b\b\b\b\b\b\b\b\b\b\b\b\b\b\b\b\b\b\b\b\b\b\b\b\b\b\b\b\b\b\b\b\b\b\b\b\b\b\b\b\b\b\b\b\b\b\b\b\b\b\b\b\b\b\b\b\b\b\b\b\b\b\b\b\b\b\b\b\b\b\b\b\b\b\b\b\b\b\b\b\b\b\b\b\b\b\b\b\b\b\b\b\b\b\b\b\b\b\b\b\b\b\b\b\b\b\b\b\b\b\b\b\b\b\b\b\b\b\b\b\b\b\b\b\b\b\b\b\b\b\b\b\b\b\b\b\b\b\b\b\b\b\b\b\b\b\b\b\b\b\b\b\b\b\b\b\b\b\b\b\b\b\b\b\b\b\b\b\b\b\b\b\b\b\b\b\b\b\b\b\b\b\b\b\b\b\b\b\b\b\b\b\b\b\b\b\b\b\b\b\b\b\b\b\b\b\b\b\b\b\b\b\b\b\b\b\b\b\b\b\b\b\b\b\b\b\b\b\b\b\b\b\b\b\b\b\b\b\b\b\b\b\b\b\b\b\b\b\b\b\b\b\b\b\b\b\b\b\b\b\b\b\b\b\b\b\b\b\b\b\b\b\b\b\b\b\b\b\b\b\b\b\b\b\b\b\b\b\b\b\b\b\b\b\b\b\b\b\b\b\b\b\b\b\b\b\b\b\b\b\b\b\b\b\b\b\b\b\b\b\b\b\b\b\b\b\b\b\b\b\b\b\b\b\b\b\b\b\b\b\b\b\b\b\b\b\b\b\b\b\b\b\b\b\b\b\b\b\b\b\b\b\b\b\b\b\b\b\b\b\b\b\b\b\b\b\b\b\b\b\b\b\b\b\b\b\b\b\b\b\b\b\b\b\b\b\b\b\b\b\b\b\b\b\b\b\b\b\b\b\b\b\b\b\b\b\b\b\b\b\b\b\b\b\b\b\b\b\b\b\b\b\b\b\b\b\b\b\b\b\b\b\b\b\b\b\b\b\b\b\b\b\b\b\b\b\b\b\b\b\b\b\b\b\b\b\b\b\b\b\b\b\b\b\b\b\b\b\b\b\b\b\b\b\b\b\b\b\b\b\b\b\b\b\b\b\b\b\b\b\b\b\b\b\b\b\b\b\b\b\b\b\b\b\b\b\b\b\b\b\b\b\b\b\b\b\b\b\b\b\b\b\b\b\b\b\b\b\b\b\b\b\b\b\b\b\b\b\b\b\b\b\b\b\b\b\b\b\b\b\b\b\b\b\b\b\b\b\b\b\b\b\b\b\b\b\b\b\b\b\b\b\b\b\b\b\b\b\b\b\b\b\b\b\b\b\b\b\b\b\b\b\b\b\b\b\b\b\b\b\b\b\b\b\b\b\b\b\b\b\b\b\b\b\b\b\b\b\b\b\b\b\b\b\b\b\b\b\b\b\b\b\b\b\b\b\b\b\b\b\b\b\b\b\b\b\b\b\b\b\b\b\b\b\b\b\b\b\b\b\b\b\b\b\b\b\b\b\b\b\b\b\b\b\b\b\b\b\b\b\b\b\b\b\b\b\b\b\b\b\b\b\b\b\b\b\b\b\b\b\b\b\b\b\b\b\b\b\b\b\b\b\b\b\b\b\b\b\b\b\b\b\b\b\b\b\b\b\b\b\b\b\b\b\b\b\b\b\b\b\b\b\b\b\b\b\b\b\b\b\b\b\b\b\b\b\b\b\b\b\b\b\b\b\b\b\b\b\b\b\b\b\b\b\b\b\b\b\b\b\b\b\b\b\b\b\b\b\b\b\b\b\b\b\b\b\b\b\b\b\b\b\b\b\b\b\b\b\b\b\b\b\b\b\b\b\b\b\b\b\b\b\b\b\b\b\b\b\b\b\b\b\b\b\b\b\b\b\b\b\b\b\b\b\b\b\b\b\b\b\b\b\b\b\b\b\b\b\b\b\b\b\b\b\b\b\b\b\b\b\b\b\b\b\b\b\b\b\b\b\b\b\b\b\b\b\b\b\b\b\b\b\b\b\b\b\b\b\b\b\b\b\b\b\b\b\b\b\b\b\b\b\b\b\b\b\b\b\b\b\b\b\b\b\b\b\b\b\b\b\b\b\b\b\b\b\b\b\b\b\b\b\b\b\b\b\b\b\b\b\b\b\b\b\b\b\b\b\b\b\b\b\b\b\b\b\b\b\b\b\b\b\b\b\b\b\b\b\b\b\b\b\b\b\b\b\b\b\b\b\b\b\b\b\b\b\b\b\b\b\b\b\b\b\b\b\b\b\b\b\b\b\b\b\b\b\b\b\b\b\b\b\b\b\b\b\b\b\b\b\b\b\b\b\b\b\b\b\b\b\b\b\b\b\b\b\b\b\b\b\b\b\b\b\b\b\b\b\b\b\b\b\b\b\b\b\b\b\b\b\b\b\b\b\b\b\b\b\b\b\b\b\b\b\b\b\b\b\b\b\b\b\b\b\b\b\b\b\b\b\b\b\b\b\b\b\b\b\b\b\b\b\b\b\b\b\b\b\b\b\b\b\b\b\b\b\b\b\b\b\b\b\b\b\b\b\b\b\b\b\b\b\b\b\b\b\b\b\b\b\b\b\b\b\b\b\b\b\b\b\b\b\b\b\b\b\b\b\b\b\b\b\b\b\b\b\b\b\b\b\b\b\b\b\b\b\b\b\b\b\b\b\b\b\b\b\b\b\b\b\b\b\b\b\b\b\b\b\b\b\b\b\b\b\b\b\b\b\b\b\b\b\b\b\b\b\b\b\b\b\b\b\b\b\b\b\b\b\b\b\b\b\b\b\b\b\b\b\b\b\b\b\b\b\b\b\b\b\b\b\b\b\b\b\b\b\b\b\b\b\b\b\b\b\b\b\b\b\b\b\b\b\b\b\b\b\b\b\b\b\b\b\b\b\b\b\b\b\b\b\b\b\b\b\b\b\b\b\b\b\b\b\b\b\b\b\b\b\b\b\b\b\b\b\b\b\b\b\b\b\b\b\b\b\b\b\b\b\b\b\b\b\b\b\b\b\b\b\b\b\b\b\b\b\b\b\b\b\b\b\b\b\b\b\b\b\b\b\b\b\b\b\b\b\b\b\b\b\b\b\b\b\b\b\b\b\b\b\b\b\b\b\b\b\b\b\b\b\b\b\b\b\b\b\b\b\b\b\b\b\b\b\b\b\b\b\b\b\b\b\b\b\b\b\b\b\b\b\b\b\b\b\b\b\b\b\b\b\b\b\b\b\b\b\b\b\b\b\b\b\b\b\b\b\b\b\b\b\b\b\b\b\b\b\b\b\b\b\b\b\b\b\b\b\b\b\b\b\b\b\b\b\b\b\b\b\b\b\b\b\b\b\b\b\b\b\b\b\b\b\b\b\b\b\b\b\b\n"
     ]
    },
    {
     "data": {
      "text/plain": [
       "[0.3868662884712219, 0.86509999999999998]"
      ]
     },
     "execution_count": 60,
     "metadata": {},
     "output_type": "execute_result"
    }
   ],
   "source": [
    "model.evaluate(x=x_test, y=y_test)"
   ]
  },
  {
   "cell_type": "code",
   "execution_count": 61,
   "metadata": {
    "collapsed": false
   },
   "outputs": [
    {
     "data": {
      "image/png": "[encoded data removed]",
      "text/plain": [
       "<matplotlib.figure.Figure at 0x11d05d940>"
      ]
     },
     "metadata": {},
     "output_type": "display_data"
    }
   ],
   "source": [
    "y_hat = model.predict(x_test)\n",
    "\n",
    "# Plot a random sample of 10 test images, their predicted labels and ground truth\n",
    "figure = plt.figure(figsize=(20, 8))\n",
    "for i, index in enumerate(np.random.choice(x_test.shape[0], size=15, replace=False)):\n",
    "    ax = figure.add_subplot(3, 5, i + 1, xticks=[], yticks=[])\n",
    "    # Display each image\n",
    "    ax.imshow(np.squeeze(x_test[index]))\n",
    "    predict_index = np.argmax(y_hat[index])\n",
    "    true_index = np.argmax(y_test[index])\n",
    "    # Set the title for each image\n",
    "    ax.set_title(\"{} ({})\".format(fashion_mnist_labels[predict_index], \n",
    "                                  fashion_mnist_labels[true_index]),\n",
    "                                  color=(\"green\" if predict_index == true_index else \"red\"))"
   ]
  },
  {
   "cell_type": "code",
   "execution_count": null,
   "metadata": {
    "collapsed": true
   },
   "outputs": [],
   "source": []
  }
 ],
 "metadata": {
  "colab": {
   "collapsed_sections": [
    "ETqBLxmTCvNZ",
    "Qvwc8Y8OCvOn",
    "zAw6dm3SCvPD",
    "60hGFPJdCvPV",
    "t8v8TPyGCvQO",
    "saaS59oYCvQb",
    "cGKDT5B9CvRn",
    "rm2kyecwCvRu",
    "WhY8HvNsCvR0",
    "Lw3NZJceCvR6",
    "SNYu-3_ZCvSG",
    "IvlF4vNhCvSM",
    "TY9EF9OqCvSR",
    "9DBLHs7pCvSb",
    "LUXvksVZCvSg",
    "HK-2pRD5CvSo",
    "dWh4BLr1CvSw",
    "UEm38jpQCvTZ",
    "tsjMnYFTCvTg",
    "exMDKiA0CvTl",
    "Vm1-VMF_CvTt",
    "7K15cxLiCvTx",
    "ygM1ZR8vCvT6"
   ],
   "name": "Tutorial_Keras.ipynb",
   "provenance": [],
   "version": "0.3.2"
  },
  "kernelspec": {
   "display_name": "Python 3",
   "language": "python",
   "name": "python3"
  },
  "language_info": {
   "codemirror_mode": {
    "name": "ipython",
    "version": 3
   },
   "file_extension": ".py",
   "mimetype": "text/x-python",
   "name": "python",
   "nbconvert_exporter": "python",
   "pygments_lexer": "ipython3",
   "version": "3.6.4"
  }
 },
 "nbformat": 4,
 "nbformat_minor": 0
}
