{
 "cells": [
  {
   "cell_type": "code",
   "execution_count": 1,
   "metadata": {},
   "outputs": [],
   "source": [
    "import os\n",
    "import pandas as pd\n",
    "from pandas import ExcelWriter\n",
    "from engine.tools.make_consolidation_df import consolidation_df_for_predictions_with_all_metrics\n"
   ]
  },
  {
   "cell_type": "code",
   "execution_count": 2,
   "metadata": {},
   "outputs": [],
   "source": [
    "\n",
    "args = {'barcode': 'TEMP_CODE', 'model': 'mobilenet_1.00_224_1.h5'}\n",
    "\n",
    "\"\"\" Set paths for project, model to be used, input data, train data and output data\"\"\"\n",
    "#!!!barcode = '_' + args.barcode\n",
    "barcode = args['barcode']\n",
    "\n",
    "PROJECT_PATH = os.getcwd()\n",
    "OUTPUT_PATH = os.path.join(PROJECT_PATH, 'resource', barcode, 'results')\n",
    "SUPPORT_FILES_PATH = os.path.join(PROJECT_PATH, 'resource', barcode, 'support_files')\n",
    "\n",
    "# Create classes_in_set.xlsx file:\n",
    "DATA_PATH = os.path.join(PROJECT_PATH, 'data', barcode, 'train')\n",
    "list_of_dirs = [name for name in os.listdir(DATA_PATH) if not os.path.isfile(name)]\n",
    "df = pd.DataFrame({'class_name_in_training_set': list_of_dirs})\n",
    "result_path = os.path.join(PROJECT_PATH, 'resource', barcode, 'support_files')\n",
    "writer = ExcelWriter(os.path.join(result_path, 'classes_in_set.xlsx'))\n",
    "df.to_excel(writer, 'Sheet1', index=False)\n",
    "writer.save()\n",
    "\n",
    "\"\"\" Calculate metrocs \"\"\"\n",
    "TRAIN_SOURCE = False\n",
    "consolidation_df_for_predictions_with_all_metrics(args['model'], OUTPUT_PATH, SUPPORT_FILES_PATH, TRAIN_SOURCE)\n",
    "\n"
   ]
  },
  {
   "cell_type": "code",
   "execution_count": null,
   "metadata": {},
   "outputs": [],
   "source": []
  }
 ],
 "metadata": {
  "kernelspec": {
   "display_name": "Python 3",
   "language": "python",
   "name": "python3"
  },
  "language_info": {
   "codemirror_mode": {
    "name": "ipython",
    "version": 3
   },
   "file_extension": ".py",
   "mimetype": "text/x-python",
   "name": "python",
   "nbconvert_exporter": "python",
   "pygments_lexer": "ipython3",
   "version": "3.6.8"
  }
 },
 "nbformat": 4,
 "nbformat_minor": 2
}
