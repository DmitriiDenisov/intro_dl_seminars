{
  "nbformat": 4,
  "nbformat_minor": 0,
  "metadata": {
    "colab": {
      "name": "Fashion_MNIST.ipynb",
      "version": "0.3.2",
      "provenance": []
    },
    "kernelspec": {
      "name": "python3",
      "display_name": "Python 3"
    },
    "accelerator": "GPU"
  },
  "cells": [
    {
      "metadata": {
        "deletable": true,
        "editable": true,
        "id": "7_Co-0pkiNuN",
        "colab_type": "text"
      },
      "cell_type": "markdown",
      "source": [
        "## В этом ноутбуке:\n",
        "1. Работаем с датасетом Fashion Mnist\n",
        "2. Сделаем и обучим модель, которая будет классифицировать объекты из этого датасета. Всего классов 10\n",
        "3. Посмотрим на более сложную модель, но дающую лучший результат на валидационной выборке\n",
        "4. Посмотрим что такое Callbacks\n",
        "5. Сделаем для нашей модели из п.2 Callback-tqdm, Callback для Keras, Callback для сохранения модели и напишем свой произвольный Callback"
      ]
    },
    {
      "metadata": {
        "deletable": true,
        "editable": true,
        "id": "ZHCLfbOKiNut",
        "colab_type": "code",
        "colab": {}
      },
      "cell_type": "code",
      "source": [
        "# Необходимые импорты\n",
        "from keras import Sequential\n",
        "import keras\n",
        "from keras.layers import Conv2D, MaxPool2D, Dense, Flatten, Reshape, InputLayer, Dropout\n",
        "import tensorflow as tf\n",
        "import numpy as np\n",
        "import matplotlib.pyplot as plt"
      ],
      "execution_count": 0,
      "outputs": []
    },
    {
      "metadata": {
        "deletable": true,
        "editable": true,
        "id": "V3ldPQ3YiNvY",
        "colab_type": "text"
      },
      "cell_type": "markdown",
      "source": [
        "Датасет встроен в Keras, так что его можно легко скачать:"
      ]
    },
    {
      "metadata": {
        "deletable": true,
        "editable": true,
        "id": "EYZmNoBSiNvc",
        "colab_type": "code",
        "colab": {}
      },
      "cell_type": "code",
      "source": [
        "(x_train, y_train), (x_test, y_test) = tf.keras.datasets.fashion_mnist.load_data()"
      ],
      "execution_count": 0,
      "outputs": []
    },
    {
      "metadata": {
        "deletable": true,
        "editable": true,
        "id": "DX-fa820iNvs",
        "colab_type": "text"
      },
      "cell_type": "markdown",
      "source": [
        "В датасете всего 10 классов, перечислим их в списке fashion_mnist_labels:"
      ]
    },
    {
      "metadata": {
        "deletable": true,
        "editable": true,
        "id": "e5emKtHEiNvu",
        "colab_type": "code",
        "colab": {}
      },
      "cell_type": "code",
      "source": [
        "# Define the text labels\n",
        "fashion_mnist_labels = [\"T-shirt/top\",  # index 0\n",
        "                        \"Trouser\",      # index 1\n",
        "                        \"Pullover\",     # index 2 \n",
        "                        \"Dress\",        # index 3 \n",
        "                        \"Coat\",         # index 4\n",
        "                        \"Sandal\",       # index 5\n",
        "                        \"Shirt\",        # index 6 \n",
        "                        \"Sneaker\",      # index 7 \n",
        "                        \"Bag\",          # index 8 \n",
        "                        \"Ankle boot\"]   # index 9\n"
      ],
      "execution_count": 0,
      "outputs": []
    },
    {
      "metadata": {
        "deletable": true,
        "editable": true,
        "id": "prDeQbRGiNv2",
        "colab_type": "text"
      },
      "cell_type": "markdown",
      "source": [
        "Также посмотрим на изображения:"
      ]
    },
    {
      "metadata": {
        "deletable": true,
        "editable": true,
        "id": "EvJMsZoHiNv6",
        "colab_type": "code",
        "colab": {}
      },
      "cell_type": "code",
      "source": [
        "# Печатаем случайно выбранные 15 изображений:\n",
        "figure = plt.figure(figsize=(20, 8))\n",
        "for i, index in enumerate(np.random.choice(x_test.shape[0], size=15, replace=False)):\n",
        "    ax = figure.add_subplot(3, 5, i + 1, xticks=[], yticks=[])\n",
        "    ax.imshow(np.squeeze(x_test[index]))\n",
        "    true_index = y_test[index]\n",
        "    ax.set_title(\"{}\".format(fashion_mnist_labels[true_index]))"
      ],
      "execution_count": 0,
      "outputs": []
    },
    {
      "metadata": {
        "deletable": true,
        "editable": true,
        "id": "fMNoyEWCiNwC",
        "colab_type": "text"
      },
      "cell_type": "markdown",
      "source": [
        "Посмотрим каково число объектов в выборках:"
      ]
    },
    {
      "metadata": {
        "deletable": true,
        "editable": true,
        "id": "ruTBIVIriNwD",
        "colab_type": "code",
        "colab": {}
      },
      "cell_type": "code",
      "source": [
        "print(\"x_train shape:\", x_train.shape, \"y_train shape:\", y_train.shape)\n",
        "\n",
        "# Число объектов в обучающей/тестовой выборках:\n",
        "print(x_train.shape[0], 'train set')\n",
        "print(x_test.shape[0], 'test set')"
      ],
      "execution_count": 0,
      "outputs": []
    },
    {
      "metadata": {
        "deletable": true,
        "editable": true,
        "id": "06wfLYjuiNwM",
        "colab_type": "text"
      },
      "cell_type": "markdown",
      "source": [
        "Посмотрим как выглядит y_train/y_test"
      ]
    },
    {
      "metadata": {
        "deletable": true,
        "editable": true,
        "id": "xFfxoi-UiNwO",
        "colab_type": "code",
        "colab": {}
      },
      "cell_type": "code",
      "source": [
        "y_train"
      ],
      "execution_count": 0,
      "outputs": []
    },
    {
      "metadata": {
        "deletable": true,
        "editable": true,
        "id": "vjWN82adiNwZ",
        "colab_type": "code",
        "colab": {}
      },
      "cell_type": "code",
      "source": [
        "y_test"
      ],
      "execution_count": 0,
      "outputs": []
    },
    {
      "metadata": {
        "deletable": true,
        "editable": true,
        "id": "IqrvAwn2iNwg",
        "colab_type": "text"
      },
      "cell_type": "markdown",
      "source": [
        "__Вопрос__: Задача классификации, значит что необходимо сделать с y_train/y_test?"
      ]
    },
    {
      "metadata": {
        "deletable": true,
        "editable": true,
        "id": "oGEc39C_iNwi",
        "colab_type": "code",
        "colab": {}
      },
      "cell_type": "code",
      "source": [
        "# <Your code>"
      ],
      "execution_count": 0,
      "outputs": []
    },
    {
      "metadata": {
        "deletable": true,
        "editable": true,
        "id": "yDpEq1BtiNws",
        "colab_type": "text"
      },
      "cell_type": "markdown",
      "source": [
        "Теперь объявим модель. Можете использовать любые слои и всё, что мы узнали за прошедшую неделю"
      ]
    },
    {
      "metadata": {
        "deletable": true,
        "editable": true,
        "id": "bVkbtxRbiNwt",
        "colab_type": "text"
      },
      "cell_type": "markdown",
      "source": [
        "Модель должна достичь примерно 0.83 accuracy на валидачионной выборке"
      ]
    },
    {
      "metadata": {
        "deletable": true,
        "editable": true,
        "id": "RqCPSZQiiNwv",
        "colab_type": "code",
        "colab": {}
      },
      "cell_type": "code",
      "source": [
        "# <Your code>"
      ],
      "execution_count": 0,
      "outputs": []
    },
    {
      "metadata": {
        "deletable": true,
        "editable": true,
        "id": "5_QAYWDQiNw8",
        "colab_type": "code",
        "colab": {}
      },
      "cell_type": "code",
      "source": [
        "# Скомпилировать модель:\n",
        "# <Your code>"
      ],
      "execution_count": 0,
      "outputs": []
    },
    {
      "metadata": {
        "deletable": true,
        "editable": true,
        "id": "PSzu-NuXiNxB",
        "colab_type": "code",
        "colab": {}
      },
      "cell_type": "code",
      "source": [
        "# Сделать fit. 10% выборки отвести под валидационную\n",
        "# <Your code>"
      ],
      "execution_count": 0,
      "outputs": []
    },
    {
      "metadata": {
        "deletable": true,
        "editable": true,
        "id": "gFKvzKuNiNxG",
        "colab_type": "code",
        "colab": {}
      },
      "cell_type": "code",
      "source": [
        "# Оценить качество модели на тестовом наборе:\n",
        "# <Your code>"
      ],
      "execution_count": 0,
      "outputs": []
    },
    {
      "metadata": {
        "id": "1jl4TFMiiNxM",
        "colab_type": "code",
        "colab": {}
      },
      "cell_type": "code",
      "source": [
        "#ДЛЯ fashion mint:\n",
        "\n",
        "model = Sequential()\n",
        "model.add(InputLayer((28, 28)))\n",
        "model.add(Reshape((28, 28, -1)))\n",
        "model.add(Conv2D(16, (3,3), activation='relu'))\n",
        "model.add(MaxPool2D())\n",
        "\n",
        "model.add(Conv2D(32, (3,3), activation='relu'))\n",
        "model.add(MaxPool2D())\n",
        "\n",
        "model.add(Conv2D(32, (3,3), activation='relu'))\n",
        "model.add(MaxPool2D())\n",
        "\n",
        "model.add(Flatten())\n",
        "model.add(Dense(256, activation='relu'))\n",
        "model.add(Dense(10, activation='softmax'))\n",
        "\n",
        "\n",
        "\n",
        "y_train = keras.utils.to_categorical(y_train)\n",
        "y_test = keras.utils.to_categorical(y_test)\n",
        "\n",
        "model.compile(optimizer='adam', loss='categorical_crossentropy', metrics=[keras.metrics.categorical_accuracy])\n",
        "\n",
        "model.fit(x=x_train, y=y_train, epochs=3, batch_size=100, verbose=2,\n",
        "          validation_split=0.1)\n",
        "\n",
        "model.evaluate(x=x_test, y=y_test)"
      ],
      "execution_count": 0,
      "outputs": []
    },
    {
      "metadata": {
        "deletable": true,
        "editable": true,
        "id": "jYq-XCjViNxT",
        "colab_type": "text"
      },
      "cell_type": "markdown",
      "source": [
        "Теперь сделаем небольшую визуализацию того, как работает модель:"
      ]
    },
    {
      "metadata": {
        "deletable": true,
        "editable": true,
        "id": "_lXQj51viNxa",
        "colab_type": "code",
        "colab": {}
      },
      "cell_type": "code",
      "source": [
        "y_hat = model.predict(x_test)\n",
        "\n",
        "# Plot a random sample of 10 test images, their predicted labels and ground truth\n",
        "figure = plt.figure(figsize=(20, 8))\n",
        "for i, index in enumerate(np.random.choice(x_test.shape[0], size=15, replace=False)):\n",
        "    ax = figure.add_subplot(3, 5, i + 1, xticks=[], yticks=[])\n",
        "    # Display each image\n",
        "    ax.imshow(np.squeeze(x_test[index]))\n",
        "    predict_index = np.argmax(y_hat[index])\n",
        "    true_index = np.argmax(y_test[index])\n",
        "    # Set the title for each image\n",
        "    ax.set_title(\"{} ({})\".format(fashion_mnist_labels[predict_index], \n",
        "                                  fashion_mnist_labels[true_index]),\n",
        "                                  color=(\"green\" if predict_index == true_index else \"red\"))"
      ],
      "execution_count": 0,
      "outputs": []
    },
    {
      "metadata": {
        "deletable": true,
        "editable": true,
        "id": "8NhBEOagiNxg",
        "colab_type": "text"
      },
      "cell_type": "markdown",
      "source": [
        "Посмотрим теперь только на неверно предсказанные объекты:"
      ]
    },
    {
      "metadata": {
        "deletable": true,
        "editable": true,
        "id": "gKD4K2zFiNxi",
        "colab_type": "code",
        "colab": {}
      },
      "cell_type": "code",
      "source": [
        "y_hat_argmax = np.argmax(y_hat, axis=1)\n",
        "y_test_argmax = np.argmax(y_test, axis=1)\n",
        "choose_wrong = ~(y_hat_argmax == y_test_argmax)\n",
        "y_hat_wrong = y_hat[choose_wrong]\n",
        "y_test_wrong = y_test[choose_wrong]\n",
        "x_test_wrong = x_test[choose_wrong]"
      ],
      "execution_count": 0,
      "outputs": []
    },
    {
      "metadata": {
        "deletable": true,
        "editable": true,
        "id": "_iz3xttXiNx4",
        "colab_type": "code",
        "colab": {}
      },
      "cell_type": "code",
      "source": [
        "# Plot a random sample of 10 test images, their predicted labels and ground truth\n",
        "figure = plt.figure(figsize=(20, 8))\n",
        "for i, index in enumerate(np.random.choice(y_hat_wrong.shape[0], size=15, replace=False)):\n",
        "    ax = figure.add_subplot(3, 5, i + 1, xticks=[], yticks=[])\n",
        "    # Display each image\n",
        "    ax.imshow(np.squeeze(x_test_wrong[index]))\n",
        "    predict_index = np.argmax(y_hat_wrong[index])\n",
        "    true_index = np.argmax(y_test_wrong[index])\n",
        "    # Set the title for each image\n",
        "    ax.set_title(\"{} ({})\".format(fashion_mnist_labels[predict_index], \n",
        "                                  fashion_mnist_labels[true_index]),\n",
        "                                  color=(\"green\" if predict_index == true_index else \"red\"))"
      ],
      "execution_count": 0,
      "outputs": []
    },
    {
      "metadata": {
        "deletable": true,
        "editable": true,
        "id": "PFWbj4zWiNx-",
        "colab_type": "text"
      },
      "cell_type": "markdown",
      "source": [
        "Наконец, соберем метрики по каждому отдельному классу. Для этого есть метод classification_report в sklearn:"
      ]
    },
    {
      "metadata": {
        "deletable": true,
        "editable": true,
        "id": "hPV0Gs6yiNyA",
        "colab_type": "code",
        "colab": {}
      },
      "cell_type": "code",
      "source": [
        "from sklearn.metrics import classification_report\n",
        "y_test_arg = np.argmax(y_test, axis=1)\n",
        "y_hat_arg = np.argmax(y_hat, axis=1)\n",
        "\n",
        "print(classification_report(y_test_arg, y_hat_arg, target_names=fashion_mnist_labels))"
      ],
      "execution_count": 0,
      "outputs": []
    },
    {
      "metadata": {
        "deletable": true,
        "editable": true,
        "id": "7du3ge4QiNyE",
        "colab_type": "code",
        "colab": {}
      },
      "cell_type": "code",
      "source": [
        "# Другая модель:"
      ],
      "execution_count": 0,
      "outputs": []
    },
    {
      "metadata": {
        "deletable": true,
        "editable": true,
        "id": "jwiC38oFiNyK",
        "colab_type": "code",
        "colab": {}
      },
      "cell_type": "code",
      "source": [
        "from keras.layers import Activation, BatchNormalization, MaxPooling2D\n",
        "from keras.optimizers import SGD\n",
        "chanDim = -1\n",
        "classes = 10\n",
        "INIT_LR = 1e-2\n",
        "\n",
        "model = Sequential()\n",
        "model.add(InputLayer((28, 28)))\n",
        "model.add(Reshape((28, 28, -1)))\n",
        "\n",
        "# first CONV => RELU => CONV => RELU => POOL layer set\n",
        "model.add(Conv2D(32, (3, 3), padding=\"same\"))\n",
        "model.add(Activation(\"relu\"))\n",
        "model.add(BatchNormalization(axis=chanDim))\n",
        "model.add(Conv2D(32, (3, 3), padding=\"same\"))\n",
        "model.add(Activation(\"relu\"))\n",
        "model.add(BatchNormalization(axis=chanDim))\n",
        "model.add(MaxPooling2D(pool_size=(2, 2)))\n",
        "model.add(Dropout(0.25))\n",
        "\n",
        "# second CONV => RELU => CONV => RELU => POOL layer set\n",
        "model.add(Conv2D(64, (3, 3), padding=\"same\"))\n",
        "model.add(Activation(\"relu\"))\n",
        "model.add(BatchNormalization(axis=chanDim))\n",
        "model.add(Conv2D(64, (3, 3), padding=\"same\"))\n",
        "model.add(Activation(\"relu\"))\n",
        "model.add(BatchNormalization(axis=chanDim))\n",
        "model.add(MaxPooling2D(pool_size=(2, 2)))\n",
        "model.add(Dropout(0.25))\n",
        "\n",
        "# first (and only) set of FC => RELU layers\n",
        "model.add(Flatten())\n",
        "model.add(Dense(512))\n",
        "model.add(Activation(\"relu\"))\n",
        "model.add(BatchNormalization())\n",
        "model.add(Dropout(0.5))\n",
        "\n",
        "# softmax classifier\n",
        "model.add(Dense(classes))\n",
        "model.add(Activation(\"softmax\"))\n",
        "\n",
        "# return the constructed network architecture"
      ],
      "execution_count": 0,
      "outputs": []
    },
    {
      "metadata": {
        "deletable": true,
        "editable": true,
        "id": "EL1tSVqIiNyY",
        "colab_type": "code",
        "colab": {}
      },
      "cell_type": "code",
      "source": [
        "#opt = SGD(lr=INIT_LR, momentum=0.9, decay=INIT_LR / 30)\n",
        "model.compile(loss=\"categorical_crossentropy\", optimizer='adam', metrics=[\"accuracy\"])"
      ],
      "execution_count": 0,
      "outputs": []
    },
    {
      "metadata": {
        "id": "QmzUNvWmjPru",
        "colab_type": "code",
        "colab": {}
      },
      "cell_type": "code",
      "source": [
        "!pip install keras-tqdm"
      ],
      "execution_count": 0,
      "outputs": []
    },
    {
      "metadata": {
        "deletable": true,
        "editable": true,
        "id": "x5dvLdMGiNyc",
        "colab_type": "code",
        "colab": {}
      },
      "cell_type": "code",
      "source": [
        "from keras_tqdm import TQDMNotebookCallback \n",
        "\n",
        "model.fit(x=x_train, y=y_train, epochs=30, batch_size=32, verbose=0,\n",
        "          validation_split=0.1, callbacks=[TQDMNotebookCallback(leave_inner=True)])"
      ],
      "execution_count": 0,
      "outputs": []
    },
    {
      "metadata": {
        "deletable": true,
        "editable": true,
        "id": "0EtexGYfiNyj",
        "colab_type": "text"
      },
      "cell_type": "markdown",
      "source": [
        "Как видно, модель примерно на 5-ой эпохе достигает качества 0.92. А к 10-ой эпохе ~0.93"
      ]
    },
    {
      "metadata": {
        "deletable": true,
        "editable": true,
        "id": "pgN3USkCiNyk",
        "colab_type": "text"
      },
      "cell_type": "markdown",
      "source": [
        "__Вопрос:__ Почему на некоторых эпохах accuracy < val_accuracy ?"
      ]
    },
    {
      "metadata": {
        "id": "oIzSqm2NiNyo",
        "colab_type": "text"
      },
      "cell_type": "markdown",
      "source": [
        "## Кастомные метрики:"
      ]
    },
    {
      "metadata": {
        "deletable": true,
        "editable": true,
        "id": "OKCvJ1TTiNyq",
        "colab_type": "code",
        "colab": {}
      },
      "cell_type": "code",
      "source": [
        "import keras.backend as K\n",
        "\n",
        "def precision(y_true, y_pred):\n",
        "    \"\"\"Precision metric.\n",
        "     Only computes a batch-wise average of precision.\n",
        "     Computes the precision, a metric for multi-label classification of\n",
        "    how many selected items are relevant.\n",
        "    \"\"\"\n",
        "    true_positives = K.sum(K.round(K.clip(y_true * y_pred, 0, 1)))\n",
        "    predicted_positives = K.sum(K.round(K.clip(y_pred, 0, 1)))\n",
        "    precision = true_positives / (predicted_positives + K.epsilon())\n",
        "    return precision\n",
        "\n",
        "def recall(y_true, y_pred):\n",
        "    \"\"\"Recall metric.\n",
        "     Only computes a batch-wise average of recall.\n",
        "     Computes the recall, a metric for multi-label classification of\n",
        "    how many relevant items are selected.\n",
        "    \"\"\"\n",
        "    true_positives = K.sum(K.round(K.clip(y_true * y_pred, 0, 1)))\n",
        "    possible_positives = K.sum(K.round(K.clip(y_true, 0, 1)))\n",
        "    recall = true_positives / (possible_positives + K.epsilon())\n",
        "    return recall\n",
        "\n",
        "\n",
        "model.compile(optimizer='adam',\n",
        "                  loss='categorical_crossentropy',\n",
        "                  metrics=['accuracy', precision, recall])"
      ],
      "execution_count": 0,
      "outputs": []
    },
    {
      "metadata": {
        "id": "iT_oFksviNy0",
        "colab_type": "code",
        "colab": {}
      },
      "cell_type": "code",
      "source": [
        "from keras_tqdm import TQDMNotebookCallback\n",
        "\n",
        "model.fit(x=x_train, y=y_train, epochs=30, batch_size=32, verbose=0,\n",
        "          validation_split=0.1, callbacks=[TQDMNotebookCallback(leave_inner=True)])"
      ],
      "execution_count": 0,
      "outputs": []
    },
    {
      "metadata": {
        "id": "V0HIy1yeiNy6",
        "colab_type": "text"
      },
      "cell_type": "markdown",
      "source": [
        "## CallBacks:"
      ]
    },
    {
      "metadata": {
        "id": "KlgEa-34iNy8",
        "colab_type": "text"
      },
      "cell_type": "markdown",
      "source": [
        "__Коллбеки__: это класс, имеющий набор методов on_train_begin, on_train_end, on_epoch_begin, on_epoch_end, on_batch_begin, on_batch_end, которые позволяют выполнять какой-либо код в конце эпохи, в начале эпохи, в конце батча, в начале батча, в конце обучения, в начале обучения\n",
        "\n",
        "Примеры применения: \n",
        " - Сохранение метрик качества в процессе обучения для онлайн визуализации\n",
        " - Отправление в телегреамм/почту метрик качества\n",
        " - Сохранение модели в конце каждой эпохи (можно даже после каждого батча)\n",
        "\n",
        "Примеры реализованных в Керасе коллбеков:\n",
        "\n",
        " - EarlyStopping - делает раннюю остановку процесса обучения по некоторому критерию (например, лосс не падает n эпох)\n",
        "\n",
        " - ModelCheckpoint - сохраняет модель после каждой эпохи\n",
        "\n",
        " - RemoteMonitor - отправляет логи на сервер\n",
        "\n",
        " - TensorBoard - сохраняет логи в папки для последующей визуализации в TensorBoard"
      ]
    },
    {
      "metadata": {
        "id": "XyheKBw6iNy9",
        "colab_type": "code",
        "colab": {}
      },
      "cell_type": "code",
      "source": [
        "from keras.callbacks import ModelCheckpoint, TensorBoard, ReduceLROnPlateau, EarlyStopping\n",
        "\n",
        "\"\"\" Callbacks \"\"\"\n",
        "checkpointer = ModelCheckpoint('..\\models\\weights.{epoch:02d}-val_loss{val_loss:.2f}.hdf5', monitor='val_loss', verbose=0, save_best_only=True, mode='min', period=1)\n",
        "\n",
        "\"\"\" Enable logging for Tensorboard \"\"\"\n",
        "\n",
        "# Скоращает learning rate, когда loss не уменьшается несколько эпох подряд:\n",
        "reduce = ReduceLROnPlateau(monitor='val_loss', factor=0.1, patience=3, verbose=0, mode='auto', min_delta=0.0001, min_lr=0)\n",
        "\n",
        "# Останавливает обучение по какому либо критерию. Например, loss не уменьшается 3 эпохи подряд\n",
        "early_stop = EarlyStopping(monitor='val_loss', patience=3)\n",
        "\n",
        "tqdm = TQDMNotebookCallback(leave_inner=True)\n",
        "\n",
        "\n",
        "model.fit(x=x_train, y=y_train, epochs=30, batch_size=32, verbose=0,\n",
        "          validation_split=0.1, callbacks=[checkpointer, reduce, early_stop, tqdm])"
      ],
      "execution_count": 0,
      "outputs": []
    },
    {
      "metadata": {
        "id": "sQyn9HFRiNzF",
        "colab_type": "text"
      },
      "cell_type": "markdown",
      "source": [
        "Шаблон для своего коллбека:"
      ]
    },
    {
      "metadata": {
        "id": "e8ket6_giNzI",
        "colab_type": "code",
        "colab": {}
      },
      "cell_type": "code",
      "source": [
        "class My_Callback(keras.callbacks.Callback):\n",
        "    def on_train_begin(self, logs={}):\n",
        "        return\n",
        " \n",
        "    def on_train_end(self, logs={}):\n",
        "        return\n",
        " \n",
        "    def on_epoch_begin(self, logs={}):\n",
        "        return\n",
        " \n",
        "    def on_epoch_end(self, epoch, logs={}):\n",
        "        return\n",
        " \n",
        "    def on_batch_begin(self, batch, logs={}):\n",
        "        return\n",
        " \n",
        "    def on_batch_end(self, batch, logs={}):\n",
        "        self.losses.append(logs.get('loss'))\n",
        "        return"
      ],
      "execution_count": 0,
      "outputs": []
    },
    {
      "metadata": {
        "id": "GKWWzTW3iNzM",
        "colab_type": "text"
      },
      "cell_type": "markdown",
      "source": [
        "### Чуть подробнее остановимся на Callback'е TensorBoard:"
      ]
    },
    {
      "metadata": {
        "id": "-WCWhzFWiNzN",
        "colab_type": "code",
        "colab": {}
      },
      "cell_type": "code",
      "source": [
        "from tensorboardcolab import TensorBoardColab, TensorBoardColabCallback\n",
        "tbc=TensorBoardColab() # генерирует URL\n",
        "# В fit же передайте объект TensorBoardColabCallback(tbc)"
      ],
      "execution_count": 0,
      "outputs": []
    },
    {
      "metadata": {
        "id": "cw6-2kjRiNzT",
        "colab_type": "code",
        "colab": {}
      },
      "cell_type": "code",
      "source": [
        "model.fit(x=x_train, y=y_train, epochs=30, batch_size=32, verbose=0,\n",
        "          validation_split=0.1, callbacks=[TensorBoardColabCallback(tbc), tqdm])"
      ],
      "execution_count": 0,
      "outputs": []
    },
    {
      "metadata": {
        "id": "CFGy3hhuiNzj",
        "colab_type": "text"
      },
      "cell_type": "markdown",
      "source": [
        "Если не открывается URL, то нужно включить VPN. Например, через opera vpn или установить на Chrome расширение (например, Browsec https://chrome.google.com/webstore/detail/browsec-vpn-free-and-unli/omghfjlpggmjjaagoclmmobgdodcjboh)"
      ]
    },
    {
      "metadata": {
        "id": "sqLg-qP2iNzr",
        "colab_type": "code",
        "colab": {}
      },
      "cell_type": "code",
      "source": [
        ""
      ],
      "execution_count": 0,
      "outputs": []
    }
  ]
}