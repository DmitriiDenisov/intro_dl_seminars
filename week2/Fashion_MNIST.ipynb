{
  "nbformat": 4,
  "nbformat_minor": 0,
  "metadata": {
    "colab": {
      "name": "Fashion_MNIST.ipynb",
      "version": "0.3.2",
      "provenance": []
    },
    "kernelspec": {
      "display_name": "Python 3",
      "language": "python",
      "name": "python3"
    },
    "accelerator": "GPU"
  },
  "cells": [
    {
      "metadata": {
        "colab_type": "text",
        "deletable": true,
        "editable": true,
        "id": "7_Co-0pkiNuN"
      },
      "cell_type": "markdown",
      "source": [
        "## В этом ноутбуке:\n",
        "1. Работаем с датасетом Fashion Mnist\n",
        "2. Сделаем и обучим модель, которая будет классифицировать объекты из этого датасета. Всего классов 10\n",
        "3. Посмотрим на более сложную модель, но дающую лучший результат на валидационной выборке"
      ]
    },
    {
      "metadata": {
        "colab_type": "code",
        "deletable": true,
        "editable": true,
        "id": "ZHCLfbOKiNut",
        "colab": {}
      },
      "cell_type": "code",
      "source": [
        "# Необходимые импорты\n",
        "from keras import Sequential\n",
        "import keras\n",
        "from keras.layers import Conv2D, MaxPool2D, Dense, Flatten, Reshape, InputLayer, Dropout\n",
        "import tensorflow as tf\n",
        "import numpy as np\n",
        "import matplotlib.pyplot as plt"
      ],
      "execution_count": 0,
      "outputs": []
    },
    {
      "metadata": {
        "colab_type": "text",
        "deletable": true,
        "editable": true,
        "id": "V3ldPQ3YiNvY"
      },
      "cell_type": "markdown",
      "source": [
        "Датасет встроен в Keras, так что его можно легко скачать:"
      ]
    },
    {
      "metadata": {
        "colab_type": "code",
        "deletable": true,
        "editable": true,
        "id": "EYZmNoBSiNvc",
        "colab": {}
      },
      "cell_type": "code",
      "source": [
        "(x_train, y_train), (x_test, y_test) = tf.keras.datasets.fashion_mnist.load_data()"
      ],
      "execution_count": 0,
      "outputs": []
    },
    {
      "metadata": {
        "colab_type": "text",
        "deletable": true,
        "editable": true,
        "id": "DX-fa820iNvs"
      },
      "cell_type": "markdown",
      "source": [
        "В датасете всего 10 классов, перечислим их в списке fashion_mnist_labels:"
      ]
    },
    {
      "metadata": {
        "colab_type": "code",
        "deletable": true,
        "editable": true,
        "id": "e5emKtHEiNvu",
        "colab": {}
      },
      "cell_type": "code",
      "source": [
        "# Define the text labels\n",
        "fashion_mnist_labels = [\"T-shirt/top\",  # index 0\n",
        "                        \"Trouser\",      # index 1\n",
        "                        \"Pullover\",     # index 2 \n",
        "                        \"Dress\",        # index 3 \n",
        "                        \"Coat\",         # index 4\n",
        "                        \"Sandal\",       # index 5\n",
        "                        \"Shirt\",        # index 6 \n",
        "                        \"Sneaker\",      # index 7 \n",
        "                        \"Bag\",          # index 8 \n",
        "                        \"Ankle boot\"]   # index 9\n"
      ],
      "execution_count": 0,
      "outputs": []
    },
    {
      "metadata": {
        "colab_type": "text",
        "deletable": true,
        "editable": true,
        "id": "prDeQbRGiNv2"
      },
      "cell_type": "markdown",
      "source": [
        "Также посмотрим на изображения:"
      ]
    },
    {
      "metadata": {
        "colab_type": "code",
        "deletable": true,
        "editable": true,
        "id": "EvJMsZoHiNv6",
        "colab": {}
      },
      "cell_type": "code",
      "source": [
        "# Печатаем случайно выбранные 15 изображений:\n",
        "figure = plt.figure(figsize=(20, 8))\n",
        "for i, index in enumerate(np.random.choice(x_test.shape[0], size=15, replace=False)):\n",
        "    ax = figure.add_subplot(3, 5, i + 1, xticks=[], yticks=[])\n",
        "    ax.imshow(np.squeeze(x_test[index]))\n",
        "    true_index = y_test[index]\n",
        "    ax.set_title(\"{}\".format(fashion_mnist_labels[true_index]))"
      ],
      "execution_count": 0,
      "outputs": []
    },
    {
      "metadata": {
        "colab_type": "text",
        "deletable": true,
        "editable": true,
        "id": "fMNoyEWCiNwC"
      },
      "cell_type": "markdown",
      "source": [
        "Посмотрим каково число объектов в выборках:"
      ]
    },
    {
      "metadata": {
        "colab_type": "code",
        "deletable": true,
        "editable": true,
        "id": "ruTBIVIriNwD",
        "colab": {}
      },
      "cell_type": "code",
      "source": [
        "print(\"x_train shape:\", x_train.shape, \"y_train shape:\", y_train.shape)\n",
        "\n",
        "# Число объектов в обучающей/тестовой выборках:\n",
        "print(x_train.shape[0], 'train set')\n",
        "print(x_test.shape[0], 'test set')"
      ],
      "execution_count": 0,
      "outputs": []
    },
    {
      "metadata": {
        "colab_type": "text",
        "deletable": true,
        "editable": true,
        "id": "06wfLYjuiNwM"
      },
      "cell_type": "markdown",
      "source": [
        "Посмотрим как выглядит y_train/y_test"
      ]
    },
    {
      "metadata": {
        "colab_type": "code",
        "deletable": true,
        "editable": true,
        "id": "xFfxoi-UiNwO",
        "colab": {}
      },
      "cell_type": "code",
      "source": [
        "y_train"
      ],
      "execution_count": 0,
      "outputs": []
    },
    {
      "metadata": {
        "colab_type": "code",
        "deletable": true,
        "editable": true,
        "id": "vjWN82adiNwZ",
        "colab": {}
      },
      "cell_type": "code",
      "source": [
        "y_test"
      ],
      "execution_count": 0,
      "outputs": []
    },
    {
      "metadata": {
        "colab_type": "text",
        "deletable": true,
        "editable": true,
        "id": "IqrvAwn2iNwg"
      },
      "cell_type": "markdown",
      "source": [
        "__Вопрос__: Задача классификации, значит что необходимо сделать с y_train/y_test?"
      ]
    },
    {
      "metadata": {
        "colab_type": "code",
        "deletable": true,
        "editable": true,
        "id": "oGEc39C_iNwi",
        "colab": {}
      },
      "cell_type": "code",
      "source": [
        "# <Your code>"
      ],
      "execution_count": 0,
      "outputs": []
    },
    {
      "metadata": {
        "colab_type": "text",
        "deletable": true,
        "editable": true,
        "id": "yDpEq1BtiNws"
      },
      "cell_type": "markdown",
      "source": [
        "Теперь объявим модель. Можете использовать любые слои и всё, что мы узнали за прошедшую неделю"
      ]
    },
    {
      "metadata": {
        "colab_type": "text",
        "deletable": true,
        "editable": true,
        "id": "bVkbtxRbiNwt"
      },
      "cell_type": "markdown",
      "source": [
        "Модель должна достичь примерно 0.83 accuracy на валидачионной выборке"
      ]
    },
    {
      "metadata": {
        "colab_type": "code",
        "deletable": true,
        "editable": true,
        "id": "RqCPSZQiiNwv",
        "colab": {}
      },
      "cell_type": "code",
      "source": [
        "# <Your code>"
      ],
      "execution_count": 0,
      "outputs": []
    },
    {
      "metadata": {
        "colab_type": "code",
        "deletable": true,
        "editable": true,
        "id": "5_QAYWDQiNw8",
        "colab": {}
      },
      "cell_type": "code",
      "source": [
        "# Скомпилировать модель:\n",
        "# <Your code>"
      ],
      "execution_count": 0,
      "outputs": []
    },
    {
      "metadata": {
        "colab_type": "code",
        "deletable": true,
        "editable": true,
        "id": "PSzu-NuXiNxB",
        "colab": {}
      },
      "cell_type": "code",
      "source": [
        "# Сделать fit. 10% выборки отвести под валидационную\n",
        "# <Your code>"
      ],
      "execution_count": 0,
      "outputs": []
    },
    {
      "metadata": {
        "colab_type": "code",
        "deletable": true,
        "editable": true,
        "id": "gFKvzKuNiNxG",
        "colab": {}
      },
      "cell_type": "code",
      "source": [
        "# Оценить качество модели на тестовом наборе:\n",
        "# <Your code>"
      ],
      "execution_count": 0,
      "outputs": []
    },
    {
      "metadata": {
        "colab_type": "text",
        "deletable": true,
        "editable": true,
        "id": "jYq-XCjViNxT"
      },
      "cell_type": "markdown",
      "source": [
        "Теперь сделаем небольшую визуализацию того, как работает модель:"
      ]
    },
    {
      "metadata": {
        "colab_type": "code",
        "deletable": true,
        "editable": true,
        "id": "_lXQj51viNxa",
        "colab": {}
      },
      "cell_type": "code",
      "source": [
        "y_hat = model.predict(x_test)\n",
        "\n",
        "# Plot a random sample of 10 test images, their predicted labels and ground truth\n",
        "figure = plt.figure(figsize=(20, 8))\n",
        "for i, index in enumerate(np.random.choice(x_test.shape[0], size=15, replace=False)):\n",
        "    ax = figure.add_subplot(3, 5, i + 1, xticks=[], yticks=[])\n",
        "    # Display each image\n",
        "    ax.imshow(np.squeeze(x_test[index]))\n",
        "    predict_index = np.argmax(y_hat[index])\n",
        "    true_index = np.argmax(y_test[index])\n",
        "    # Set the title for each image\n",
        "    ax.set_title(\"{} ({})\".format(fashion_mnist_labels[predict_index], \n",
        "                                  fashion_mnist_labels[true_index]),\n",
        "                                  color=(\"green\" if predict_index == true_index else \"red\"))"
      ],
      "execution_count": 0,
      "outputs": []
    },
    {
      "metadata": {
        "colab_type": "text",
        "deletable": true,
        "editable": true,
        "id": "8NhBEOagiNxg"
      },
      "cell_type": "markdown",
      "source": [
        "Посмотрим теперь только на неверно предсказанные объекты:"
      ]
    },
    {
      "metadata": {
        "colab_type": "code",
        "deletable": true,
        "editable": true,
        "id": "gKD4K2zFiNxi",
        "colab": {}
      },
      "cell_type": "code",
      "source": [
        "y_hat_argmax = np.argmax(y_hat, axis=1)\n",
        "y_test_argmax = np.argmax(y_test, axis=1)\n",
        "choose_wrong = ~(y_hat_argmax == y_test_argmax)\n",
        "y_hat_wrong = y_hat[choose_wrong]\n",
        "y_test_wrong = y_test[choose_wrong]\n",
        "x_test_wrong = x_test[choose_wrong]"
      ],
      "execution_count": 0,
      "outputs": []
    },
    {
      "metadata": {
        "colab_type": "code",
        "deletable": true,
        "editable": true,
        "id": "_iz3xttXiNx4",
        "colab": {}
      },
      "cell_type": "code",
      "source": [
        "# Plot a random sample of 10 test images, their predicted labels and ground truth\n",
        "figure = plt.figure(figsize=(20, 8))\n",
        "for i, index in enumerate(np.random.choice(y_hat_wrong.shape[0], size=15, replace=False)):\n",
        "    ax = figure.add_subplot(3, 5, i + 1, xticks=[], yticks=[])\n",
        "    # Display each image\n",
        "    ax.imshow(np.squeeze(x_test_wrong[index]))\n",
        "    predict_index = np.argmax(y_hat_wrong[index])\n",
        "    true_index = np.argmax(y_test_wrong[index])\n",
        "    # Set the title for each image\n",
        "    ax.set_title(\"{} ({})\".format(fashion_mnist_labels[predict_index], \n",
        "                                  fashion_mnist_labels[true_index]),\n",
        "                                  color=(\"green\" if predict_index == true_index else \"red\"))"
      ],
      "execution_count": 0,
      "outputs": []
    },
    {
      "metadata": {
        "colab_type": "text",
        "deletable": true,
        "editable": true,
        "id": "PFWbj4zWiNx-"
      },
      "cell_type": "markdown",
      "source": [
        "Наконец, соберем метрики по каждому отдельному классу. Для этого есть метод classification_report в sklearn:"
      ]
    },
    {
      "metadata": {
        "colab_type": "code",
        "deletable": true,
        "editable": true,
        "id": "hPV0Gs6yiNyA",
        "colab": {}
      },
      "cell_type": "code",
      "source": [
        "from sklearn.metrics import classification_report\n",
        "y_test_arg = np.argmax(y_test, axis=1)\n",
        "y_hat_arg = np.argmax(y_hat, axis=1)\n",
        "\n",
        "print(classification_report(y_test_arg, y_hat_arg, target_names=fashion_mnist_labels))"
      ],
      "execution_count": 0,
      "outputs": []
    },
    {
      "metadata": {
        "colab_type": "code",
        "deletable": true,
        "editable": true,
        "id": "7du3ge4QiNyE",
        "colab": {}
      },
      "cell_type": "code",
      "source": [
        "# Другая модель, которая работает несколько лучше:"
      ],
      "execution_count": 0,
      "outputs": []
    },
    {
      "metadata": {
        "colab_type": "code",
        "deletable": true,
        "editable": true,
        "id": "jwiC38oFiNyK",
        "colab": {}
      },
      "cell_type": "code",
      "source": [
        "from keras.layers import Activation, BatchNormalization, MaxPooling2D\n",
        "from keras.optimizers import SGD\n",
        "chanDim = -1\n",
        "classes = 10\n",
        "INIT_LR = 1e-2\n",
        "\n",
        "model = Sequential()\n",
        "model.add(InputLayer((28, 28)))\n",
        "model.add(Reshape((28, 28, -1)))\n",
        "\n",
        "# first CONV => RELU => CONV => RELU => POOL layer set\n",
        "model.add(Conv2D(32, (3, 3), padding=\"same\"))\n",
        "model.add(Activation(\"relu\"))\n",
        "model.add(BatchNormalization(axis=chanDim))\n",
        "model.add(Conv2D(32, (3, 3), padding=\"same\"))\n",
        "model.add(Activation(\"relu\"))\n",
        "model.add(BatchNormalization(axis=chanDim))\n",
        "model.add(MaxPooling2D(pool_size=(2, 2)))\n",
        "model.add(Dropout(0.25))\n",
        "\n",
        "# second CONV => RELU => CONV => RELU => POOL layer set\n",
        "model.add(Conv2D(64, (3, 3), padding=\"same\"))\n",
        "model.add(Activation(\"relu\"))\n",
        "model.add(BatchNormalization(axis=chanDim))\n",
        "model.add(Conv2D(64, (3, 3), padding=\"same\"))\n",
        "model.add(Activation(\"relu\"))\n",
        "model.add(BatchNormalization(axis=chanDim))\n",
        "model.add(MaxPooling2D(pool_size=(2, 2)))\n",
        "model.add(Dropout(0.25))\n",
        "\n",
        "# first (and only) set of FC => RELU layers\n",
        "model.add(Flatten())\n",
        "model.add(Dense(512))\n",
        "model.add(Activation(\"relu\"))\n",
        "model.add(BatchNormalization())\n",
        "model.add(Dropout(0.5))\n",
        "\n",
        "# softmax classifier\n",
        "model.add(Dense(classes))\n",
        "model.add(Activation(\"softmax\"))\n",
        "\n",
        "# return the constructed network architecture"
      ],
      "execution_count": 0,
      "outputs": []
    },
    {
      "metadata": {
        "colab_type": "code",
        "deletable": true,
        "editable": true,
        "id": "EL1tSVqIiNyY",
        "colab": {}
      },
      "cell_type": "code",
      "source": [
        "#opt = SGD(lr=INIT_LR, momentum=0.9, decay=INIT_LR / 30)\n",
        "model.compile(loss=\"categorical_crossentropy\", optimizer='adam', metrics=[\"accuracy\"])"
      ],
      "execution_count": 0,
      "outputs": []
    },
    {
      "metadata": {
        "colab_type": "code",
        "deletable": true,
        "editable": true,
        "id": "QmzUNvWmjPru",
        "colab": {}
      },
      "cell_type": "code",
      "source": [
        "!pip install keras-tqdm"
      ],
      "execution_count": 0,
      "outputs": []
    },
    {
      "metadata": {
        "colab_type": "code",
        "deletable": true,
        "editable": true,
        "id": "x5dvLdMGiNyc",
        "colab": {}
      },
      "cell_type": "code",
      "source": [
        "from keras_tqdm import TQDMNotebookCallback \n",
        "\n",
        "model.fit(x=x_train, y=y_train, epochs=30, batch_size=32, verbose=0,\n",
        "          validation_split=0.1, callbacks=[TQDMNotebookCallback(leave_inner=True)])"
      ],
      "execution_count": 0,
      "outputs": []
    },
    {
      "metadata": {
        "colab_type": "text",
        "deletable": true,
        "editable": true,
        "id": "0EtexGYfiNyj"
      },
      "cell_type": "markdown",
      "source": [
        "Как видно, модель примерно на 5-ой эпохе достигает качества 0.92. А к 10-ой эпохе ~0.93"
      ]
    },
    {
      "metadata": {
        "colab_type": "text",
        "deletable": true,
        "editable": true,
        "id": "pgN3USkCiNyk"
      },
      "cell_type": "markdown",
      "source": [
        "__Вопрос:__ Почему на некоторых эпохах accuracy < val_accuracy ?"
      ]
    }
  ]
}