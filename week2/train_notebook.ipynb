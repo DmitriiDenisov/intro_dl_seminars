{
 "cells": [
  {
   "cell_type": "markdown",
   "metadata": {
    "colab_type": "text",
    "deletable": true,
    "editable": true,
    "id": "DarZnvmuOiac"
   },
   "source": [
    "## Распознавание карт лояльности на Keras"
   ]
  },
  {
   "cell_type": "markdown",
   "metadata": {
    "colab_type": "text",
    "deletable": true,
    "editable": true,
    "id": "TOXRs0OQOiae"
   },
   "source": [
    "В данном ноутбуке мы разберём пример практической задачи по распазнованию бренда карты лояльности по её фотографии."
   ]
  },
  {
   "cell_type": "code",
   "execution_count": null,
   "metadata": {
    "colab": {},
    "colab_type": "code",
    "collapsed": true,
    "deletable": true,
    "editable": true,
    "id": "_1S2xR6EOiag"
   },
   "outputs": [],
   "source": [
    "from numpy.random import choice\n",
    "import os\n",
    "import glob\n",
    "import matplotlib.pyplot as plt\n",
    "import matplotlib.image as mpimg\n",
    "%matplotlib inline"
   ]
  },
  {
   "cell_type": "code",
   "execution_count": null,
   "metadata": {
    "colab": {},
    "colab_type": "code",
    "collapsed": true,
    "deletable": true,
    "editable": true,
    "id": "DEz8Fek1Oial"
   },
   "outputs": [],
   "source": [
    "PROJECT_PATH = os.getcwd()\n",
    "PATH_TRAIN = os.path.join(PROJECT_PATH, 'data', 'TEMP_CODE', 'train')"
   ]
  },
  {
   "cell_type": "code",
   "execution_count": null,
   "metadata": {
    "colab": {},
    "colab_type": "code",
    "collapsed": true,
    "deletable": true,
    "editable": true,
    "id": "bzHV3tq8Oiap"
   },
   "outputs": [],
   "source": [
    "all_files = []\n",
    "for root, dirs, files in os.walk(PATH_TRAIN):\n",
    "    for f in files:\n",
    "        all_files.append( os.path.abspath(os.path.join(root, f)).replace(\"\\\\\",\"/\"))"
   ]
  },
  {
   "cell_type": "markdown",
   "metadata": {
    "colab_type": "text",
    "deletable": true,
    "editable": true,
    "id": "LvfzGRQaOias"
   },
   "source": [
    "Ниже приведён пример данных, на которых мы будем обучаться:"
   ]
  },
  {
   "cell_type": "code",
   "execution_count": null,
   "metadata": {
    "colab": {
     "base_uri": "https://localhost:8080/",
     "height": 483
    },
    "colab_type": "code",
    "collapsed": false,
    "deletable": true,
    "editable": true,
    "id": "GLVVr38JOiau",
    "outputId": "74ac2e20-3ce3-4b02-c0b3-2ced6dde4ed6"
   },
   "outputs": [],
   "source": [
    "SIZE = 20 # число случайно выбранных карточек из обучающего датасета\n",
    "selected = choice(all_files, size=SIZE)\n",
    "\n",
    "images = []\n",
    "for img_path in selected:\n",
    "    #print(img_path)\n",
    "    images.append(mpimg.imread(img_path))\n",
    "#print(images)\n",
    "\n",
    "plt.figure(figsize=(20,10))\n",
    "columns = 5\n",
    "for i, image_ in enumerate(images):\n",
    "    plt.subplot(len(images) / columns + 1, columns, i + 1)\n",
    "    plt.imshow(image_)"
   ]
  },
  {
   "cell_type": "markdown",
   "metadata": {
    "colab_type": "text",
    "deletable": true,
    "editable": true,
    "id": "TVMn7KHVOia1"
   },
   "source": [
    "Всего в выборке 18 классов, в каждом примерно по 200 фотографий, итого примерно 3600 фотографий в обучающей выборке. В валидационной выборке те же 18 классов, для ккаждого примерно по 30 фотографий, итого 540 фотографий в валидационной выборке"
   ]
  },
  {
   "cell_type": "code",
   "execution_count": null,
   "metadata": {
    "colab": {
     "base_uri": "https://localhost:8080/",
     "height": 35
    },
    "colab_type": "code",
    "collapsed": false,
    "deletable": true,
    "editable": true,
    "id": "78Dw-fO3Oia3",
    "outputId": "7794161f-a8ef-42fa-c6e0-b170be05670e"
   },
   "outputs": [],
   "source": [
    "import os\n",
    "import sys\n",
    "import keras\n",
    "#from keras.applications import vgg16, resnet50, mobilenet\n",
    "#from keras.applications.densenet import DenseNet121\n",
    "#from keras.applications.nasnet import NASNetMobile\n",
    "from keras.models import Sequential\n",
    "from keras.preprocessing import image\n",
    "from keras.layers.core import Activation, Reshape, Dense, Flatten\n",
    "from keras.layers import Conv2D, MaxPool2D\n",
    "from keras.models import Model\n",
    "from keras import optimizers\n",
    "from keras.callbacks import ModelCheckpoint\n",
    "#from keras.layers import DepthwiseConv2D\n",
    "#from keras.applications.mobilenet import relu6\n",
    "from keras.utils.generic_utils import CustomObjectScope\n",
    "from PIL import ImageFile\n",
    "ImageFile.LOAD_TRUNCATED_IMAGES = True\n",
    "PROJECT_PATH = os.getcwd()\n",
    "sys.path.append(PROJECT_PATH)\n",
    "\n",
    "from engine.logger import TFLogger\n",
    "from engine.tools.filesystem_functions import count_folders, get_barcode_class\n",
    "from engine.tools.add_metrics import precision, recall"
   ]
  },
  {
   "cell_type": "markdown",
   "metadata": {
    "colab_type": "text",
    "deletable": true,
    "editable": true,
    "id": "Vcdag8VOOia9"
   },
   "source": [
    "### Объявления:"
   ]
  },
  {
   "cell_type": "markdown",
   "metadata": {
    "colab_type": "text",
    "deletable": true,
    "editable": true,
    "id": "zMforP2KOia_"
   },
   "source": [
    "Вспомогательные объявления, например, число классов, размер батча, путь к данным и т.д."
   ]
  },
  {
   "cell_type": "code",
   "execution_count": null,
   "metadata": {
    "colab": {},
    "colab_type": "code",
    "collapsed": true,
    "deletable": true,
    "editable": true,
    "id": "KHwCu-vEOibA"
   },
   "outputs": [],
   "source": [
    "args = {'batch_size': 16, 'data_path': os.path.join(PROJECT_PATH, 'data', 'TEMP_CODE'), \n",
    "        'previous_model': ''}\n",
    "\n",
    "\"\"\" Define barcode class and underlying classes number from file structure \"\"\"\n",
    "NUM_CLASSES = count_folders(os.path.join(args['data_path'], 'train'))\n",
    "BARCODE = get_barcode_class(args['data_path'])\n",
    "SUPPORT_FILES_PATH = os.path.join(PROJECT_PATH, 'resource', BARCODE, 'support_files')\n",
    "\"\"\" Define data path and output path  \"\"\"\n",
    "DATA_PATH = args['data_path']\n",
    "\n",
    "\"\"\" Check if previously trained model is used \"\"\"\n",
    "if args['previous_model'] == '':\n",
    "    TRAIN_FROM_ZERO = True\n",
    "else:\n",
    "    TRAIN_FROM_ZERO = False"
   ]
  },
  {
   "cell_type": "markdown",
   "metadata": {
    "colab_type": "text",
    "deletable": true,
    "editable": true,
    "id": "unGueFLpOibF"
   },
   "source": [
    "### Модель:"
   ]
  },
  {
   "cell_type": "markdown",
   "metadata": {
    "colab_type": "text",
    "deletable": true,
    "editable": true,
    "id": "CUAR8dVFOibG"
   },
   "source": [
    "Ниже следует блок с объявлением модели. Вы можете: \n",
    "\n",
    "1) Собрать кастомную сеть\n",
    "\n",
    "2) Загрузить существующую сеть. Например, для импорта VGG16: ```from keras.applications import vgg16```, затем ```model = vgg16.VGG16(weights='imagenet')```. У модели можно зафиксировать веса первых n слоёв и обучать все оставшиеся\n",
    "\n",
    "3) Загрузить модель из папки models и дообучить её. При первом запуске папка models пустая, в неё будут автоматически сохраняться модели при обучении в конце каждой эпохи"
   ]
  },
  {
   "cell_type": "code",
   "execution_count": null,
   "metadata": {
    "colab": {
     "base_uri": "https://localhost:8080/",
     "height": 451
    },
    "colab_type": "code",
    "collapsed": false,
    "deletable": true,
    "editable": true,
    "id": "I3o6d61eOibH",
    "outputId": "0920b1da-7082-445a-bf8e-e2ffac99bc99"
   },
   "outputs": [],
   "source": [
    "if TRAIN_FROM_ZERO:\n",
    "    \n",
    "    ###\n",
    "    # <YOUR CODE GOES HERE>\n",
    "    # В случае, если вы захотите загружать существующую модель из Кераса, то для того, чтобы поменять последние слои\n",
    "    # вам понадобятся следующие команды:\n",
    "    #model.layers.pop()\n",
    "    #model.layers[-1].output\n",
    "    #Model(input=model.inputs, output=x)\n",
    "    \n",
    "    model_name = model.name\n",
    "else:\n",
    "    #with CustomObjectScope({'relu6': keras.layers.ReLU(6.), 'DepthwiseConv2D': DepthwiseConv2D}):\n",
    "    path = os.path.join(PROJECT_PATH, 'models', BARCODE, args['previous_model'] + '.h5')\n",
    "    model = keras.models.load_model(path, custom_objects={'precision': precision, 'recall': recall})\n",
    "    model_name = model.name\n",
    "        \n",
    "TRAINABLE_LAYERS = True\n",
    "for layer in model.layers: \n",
    "    layer.trainable = TRAIN_FROM_ZERO\n",
    "model.summary()"
   ]
  },
  {
   "cell_type": "code",
   "execution_count": null,
   "metadata": {
    "colab": {},
    "colab_type": "code",
    "collapsed": false,
    "deletable": true,
    "editable": true,
    "id": "zt7Rw7AfOibO"
   },
   "outputs": [],
   "source": [
    "OUTPUT_PATH = os.path.join(PROJECT_PATH, 'models', BARCODE)\n",
    "#os.makedirs(OUTPUT_PATH)"
   ]
  },
  {
   "cell_type": "markdown",
   "metadata": {
    "colab_type": "text",
    "deletable": true,
    "editable": true,
    "id": "_Eg-b8K3OibT"
   },
   "source": [
    "### Объявления генераторов данных:"
   ]
  },
  {
   "cell_type": "markdown",
   "metadata": {
    "colab_type": "text",
    "deletable": true,
    "editable": true,
    "id": "yerJBUsUOibV"
   },
   "source": [
    "Ниже объявим генераторы данных.\n",
    "В Керасе реализован класс ImageDataGenerator, который определяет конфигурацию для подготовленных к обучению изображений, а также отвечает за аугментацию данных.\n",
    "Аугументация данных происходит на лету во время обучения раз в эпоху, поэтому данные почти никогда не будут повторяться - это хорошо. И точка переобучения будет дальше - можно тренировать больше эпох.\n",
    "\n",
    "Краткий туторила по генераторам данных из Keras: \n",
    "https://gist.github.com/fchollet/0830affa1f7f19fd47b06d4cf89ed44d\n",
    "\n",
    "Параметры объекта ```keras.preprocessing.image.ImageDataGenerator```: https://keras.io/preprocessing/image/"
   ]
  },
  {
   "cell_type": "code",
   "execution_count": null,
   "metadata": {
    "colab": {
     "base_uri": "https://localhost:8080/",
     "height": 52
    },
    "colab_type": "code",
    "collapsed": false,
    "deletable": true,
    "editable": true,
    "id": "wwjv7nSCOibX",
    "outputId": "ea9286f4-4ca2-4c2f-856f-6643aa49758a"
   },
   "outputs": [],
   "source": [
    "\"\"\" Data generators initialization: for train and validation sets \"\"\"\n",
    "train_datagen = image.ImageDataGenerator(\n",
    "    rescale=1. / 255,\n",
    "    shear_range=0.2,\n",
    "    zoom_range=0.2,\n",
    "    horizontal_flip=True,\n",
    "    rotation_range=False,\n",
    "    zca_whitening=False)\n",
    "train_generator = train_datagen.flow_from_directory(\n",
    "    directory=os.path.join(args['data_path'], 'train'),\n",
    "    target_size=(224, 224),\n",
    "    color_mode=\"rgb\",\n",
    "    batch_size=args['batch_size'],\n",
    "    class_mode=\"categorical\",\n",
    "    shuffle=True,\n",
    "    seed=42\n",
    ")\n",
    "\n",
    "valid_datagen = image.ImageDataGenerator(\n",
    "    rescale=1. / 255,\n",
    "    shear_range=0.2,\n",
    "    zoom_range=0.2,\n",
    "    horizontal_flip=True,\n",
    "    rotation_range=0,\n",
    "    zca_whitening=False)\n",
    "\n",
    "valid_generator = valid_datagen.flow_from_directory(\n",
    "    directory=os.path.join(args['data_path'], 'val'),\n",
    "    target_size=(224, 224),\n",
    "    color_mode=\"rgb\",\n",
    "    batch_size=args['batch_size'],\n",
    "    class_mode=\"categorical\",\n",
    "    shuffle=True,\n",
    "    seed=42\n",
    ")"
   ]
  },
  {
   "cell_type": "markdown",
   "metadata": {
    "colab_type": "text",
    "deletable": true,
    "editable": true,
    "id": "XCTToPtmOibd"
   },
   "source": [
    "### Объявления оптимизатора, а также коллбеков:"
   ]
  },
  {
   "cell_type": "markdown",
   "metadata": {
    "colab_type": "text",
    "deletable": true,
    "editable": true,
    "id": "xUaj69wsOibf"
   },
   "source": [
    "В следующем блоке мы объявим оптимизаторы и коллбеки"
   ]
  },
  {
   "cell_type": "markdown",
   "metadata": {
    "colab_type": "text",
    "deletable": true,
    "editable": true,
    "id": "T4exttwYOibg"
   },
   "source": [
    "__Оптимизаторы__ отвечают за скорость сходимости процесса обучения. В Керасе имплементированы такие оптимихаторы, как SGD, RMSprop, Adagrad, Adadelta и т.д.\n",
    "Чтобы воспользоваться тем или иным оптимизатором, достаточно его объявить, например, вот так: ```sgd = optimizers.SGD(lr=0.05, decay=1e-6, momentum=0.9, nesterov=True)```\n",
    "Список всех оптимизаторов, реализованных в Керасе: https://keras.io/optimizers/"
   ]
  },
  {
   "cell_type": "markdown",
   "metadata": {
    "colab_type": "text",
    "deletable": true,
    "editable": true,
    "id": "45bRs8t4Oibh"
   },
   "source": [
    "__Коллбеки__: это класс, имеющий набор методов on_train_begin, on_train_end, on_epoch_begin, on_epoch_end, on_batch_begin, on_batch_end, которые позволяют выполнять какой-либо код в конце эпохи, в начале эпохи, в конце батча, в начале батча, в конце обучения, в начале обучения\n",
    "\n",
    "Примеры применения: \n",
    " - Сохранение метрик качества в процессе обучения для онлайн визуализации\n",
    " - Отправление в телегреамм/почту метрик качества\n",
    " - Сохранение модели в конце каждой эпохи (можно даже после каждого батча)\n",
    "\n",
    "Примеры реализованных в Керасе коллбеков:\n",
    "\n",
    " - EarlyStopping - делает раннюю остановку процесса обучения по некоторому критерию (например, лосс не падает n эпох)\n",
    "\n",
    " - ModelCheckpoint - сохраняет модель после каждой эпохи\n",
    "\n",
    " - RemoteMonitor - отправляет логи на сервер\n",
    "\n",
    " - TensorBoard - сохраняет логи в папки для последующей визуализации в TensorBoard"
   ]
  },
  {
   "cell_type": "code",
   "execution_count": null,
   "metadata": {
    "colab": {},
    "colab_type": "code",
    "collapsed": true,
    "deletable": true,
    "editable": true,
    "id": "YEUiEpMBOibj"
   },
   "outputs": [],
   "source": [
    "\"\"\" Set train parameters for choosen model \"\"\"\n",
    "# Можете расккоментировать другие оптимизаторы:\n",
    "#sgd = optimizers.SGD(lr=0.05, decay=1e-6, momentum=0.9, nesterov=True)\n",
    "optimizer = optimizers.Adadelta(lr=1.0, rho=0.95, epsilon=None, decay=0.0)\n",
    "#optimize = optimizers.Adadelta(lr=1.0, rho=0.95, epsilon=None, decay=0.0)\n",
    "\n",
    "model.compile(optimizer=optimizer,\n",
    "                  loss='categorical_crossentropy',\n",
    "                  metrics=['accuracy', precision, recall])\n",
    "\n",
    "STEP_SIZE_TRAIN = (train_generator.n // train_generator.batch_size)\n",
    "STEP_SIZE_VALID = (valid_generator.n // valid_generator.batch_size)\n",
    "\n",
    "\"\"\" Callbacks \"\"\"\n",
    "checkpointer = ModelCheckpoint(os.path.join(OUTPUT_PATH, 'weights.{epoch:02d}-val_loss{val_loss:.2f}.hdf5'), monitor='val_loss', verbose=0, save_best_only=False,\n",
    "                               save_weights_only=False, mode='auto', period=1)\n",
    "\n",
    "\"\"\" Enable logging for Tensorboard \"\"\"\n",
    "tf_logger = TFLogger(PROJECT_PATH, model_name + '.h5', args['batch_size'], STEP_SIZE_TRAIN, STEP_SIZE_VALID,\n",
    "                      TRAINABLE_LAYERS, BARCODE, log_every=1, VERBOSE=0,  histogram_freq=0, write_graph=True,\n",
    "                       write_grads=False, write_images=False, embeddings_freq=0, embeddings_layer_names=None,\n",
    "                       embeddings_metadata=None, embeddings_data=None)"
   ]
  },
  {
   "cell_type": "markdown",
   "metadata": {
    "colab_type": "text",
    "deletable": true,
    "editable": true,
    "id": "hi6t0YF8Oibn"
   },
   "source": [
    "### Обучение модели:"
   ]
  },
  {
   "cell_type": "markdown",
   "metadata": {
    "colab_type": "text",
    "deletable": true,
    "editable": true,
    "id": "ceeu0Z-8Oibp"
   },
   "source": [
    "В модель передаём: генератор данных (он сам автоматически генерирует X и y), валидационную выборку (тоже посредством генератора), число эпох, коллбеки и verbose"
   ]
  },
  {
   "cell_type": "code",
   "execution_count": null,
   "metadata": {
    "colab": {
     "base_uri": "https://localhost:8080/",
     "height": 1191
    },
    "colab_type": "code",
    "collapsed": false,
    "deletable": true,
    "editable": true,
    "id": "oqtgE3H6Oibq",
    "outputId": "d11334e9-8807-489f-8cf3-73d13faa4899"
   },
   "outputs": [],
   "source": [
    "\"\"\" Training \"\"\"\n",
    "history = model.fit_generator(generator=train_generator,\n",
    "                                  steps_per_epoch=STEP_SIZE_TRAIN,\n",
    "                                  validation_data=valid_generator,\n",
    "                                  #validation_steps=STEP_SIZE_VALID,\n",
    "                                  epochs=4,\n",
    "                                  callbacks=[checkpointer, tf_logger],\n",
    "                                  verbose=1\n",
    "                                  )"
   ]
  },
  {
   "cell_type": "code",
   "execution_count": null,
   "metadata": {
    "collapsed": true
   },
   "outputs": [],
   "source": []
  }
 ],
 "metadata": {
  "accelerator": "GPU",
  "colab": {
   "collapsed_sections": [],
   "name": "train_notebook (2).ipynb",
   "provenance": [],
   "toc_visible": true,
   "version": "0.3.2"
  },
  "kernelspec": {
   "display_name": "Python 3",
   "language": "python",
   "name": "python3"
  },
  "language_info": {
   "codemirror_mode": {
    "name": "ipython",
    "version": 3
   },
   "file_extension": ".py",
   "mimetype": "text/x-python",
   "name": "python",
   "nbconvert_exporter": "python",
   "pygments_lexer": "ipython3",
   "version": "3.6.4"
  }
 },
 "nbformat": 4,
 "nbformat_minor": 0
}
