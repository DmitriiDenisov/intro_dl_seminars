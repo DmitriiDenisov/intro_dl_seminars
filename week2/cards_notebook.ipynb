{
 "cells": [
  {
   "cell_type": "markdown",
   "metadata": {
    "colab_type": "text",
    "deletable": true,
    "editable": true,
    "id": "DarZnvmuOiac"
   },
   "source": [
    "## Распознавание карт лояльности на Keras"
   ]
  },
  {
   "cell_type": "markdown",
   "metadata": {
    "colab_type": "text",
    "deletable": true,
    "editable": true,
    "id": "W6eewEO7TXUR"
   },
   "source": [
    "1. Работаем с датасетом карт лояльности. Задача: по фотографии классифицировать к какому бренду относится карточка. Всего 18 классов. \n",
    "2. Объявим и обучим модель, классифицирующую карточки\n",
    "3. Посмотрим как объявлять и использовать кастомные метрики \n",
    "4. Посмотрим что такое Callbacks\n",
    "5. Сделаем для нашей модели Callback-tqdm, Callback для сохранения модели и Callback для Tensorboard\n",
    "6. Чуть подробнее поговорим про Tensorboard"
   ]
  },
  {
   "cell_type": "code",
   "execution_count": 0,
   "metadata": {
    "colab": {},
    "colab_type": "code",
    "collapsed": true,
    "deletable": true,
    "editable": true,
    "id": "7zyay1nHL93c"
   },
   "outputs": [],
   "source": [
    "# Сначала сделаем загрузку данных:\n",
    "! shred -u setup_google_colab.py\n",
    "! wget https://raw.githubusercontent.com/DmitriiDenisov/intro_dl_seminars/master/setup_colab.py -O setup_google_colab.py\n",
    "from setup_google_colab import setup_week2\n",
    "setup_week2()"
   ]
  },
  {
   "cell_type": "markdown",
   "metadata": {
    "colab_type": "text",
    "deletable": true,
    "editable": true,
    "id": "QPLbjx8WL94v"
   },
   "source": [
    " В этом ноутбуке будем работать с датасетом карт лояльности. \n",
    " Задача: по фотографии карточки определить к какому бренду она относится"
   ]
  },
  {
   "cell_type": "markdown",
   "metadata": {
    "colab_type": "text",
    "deletable": true,
    "editable": true,
    "id": "TOXRs0OQOiae"
   },
   "source": [
    "В данном ноутбуке мы разберём пример практической задачи по распазнованию бренда карты лояльности по её фотографии."
   ]
  },
  {
   "cell_type": "code",
   "execution_count": 0,
   "metadata": {
    "colab": {},
    "colab_type": "code",
    "collapsed": true,
    "deletable": true,
    "editable": true,
    "id": "_1S2xR6EOiag"
   },
   "outputs": [],
   "source": [
    "from numpy.random import choice\n",
    "import os\n",
    "import glob\n",
    "import matplotlib.pyplot as plt\n",
    "import matplotlib.image as mpimg\n",
    "%matplotlib inline"
   ]
  },
  {
   "cell_type": "code",
   "execution_count": 0,
   "metadata": {
    "colab": {},
    "colab_type": "code",
    "collapsed": true,
    "deletable": true,
    "editable": true,
    "id": "DEz8Fek1Oial"
   },
   "outputs": [],
   "source": [
    "PROJECT_PATH = os.getcwd()\n",
    "PATH_TRAIN = os.path.join(PROJECT_PATH, 'data', 'TEMP_CODE', 'train')"
   ]
  },
  {
   "cell_type": "code",
   "execution_count": 0,
   "metadata": {
    "colab": {},
    "colab_type": "code",
    "collapsed": true,
    "deletable": true,
    "editable": true,
    "id": "bzHV3tq8Oiap"
   },
   "outputs": [],
   "source": [
    "all_files = []\n",
    "for root, dirs, files in os.walk(PATH_TRAIN):\n",
    "    for f in files:\n",
    "        all_files.append( os.path.abspath(os.path.join(root, f)).replace(\"\\\\\",\"/\"))"
   ]
  },
  {
   "cell_type": "markdown",
   "metadata": {
    "colab_type": "text",
    "deletable": true,
    "editable": true,
    "id": "LvfzGRQaOias"
   },
   "source": [
    "Ниже приведён пример данных, на которых мы будем обучаться:"
   ]
  },
  {
   "cell_type": "code",
   "execution_count": 0,
   "metadata": {
    "colab": {},
    "colab_type": "code",
    "collapsed": true,
    "deletable": true,
    "editable": true,
    "id": "GLVVr38JOiau"
   },
   "outputs": [],
   "source": [
    "SIZE = 20 # число случайно выбранных карточек из обучающего датасета\n",
    "selected = choice(all_files, size=SIZE)\n",
    "\n",
    "images = []\n",
    "for img_path in selected:\n",
    "    #print(img_path)\n",
    "    images.append(mpimg.imread(img_path))\n",
    "#print(images)\n",
    "\n",
    "plt.figure(figsize=(20,10))\n",
    "columns = 5\n",
    "for i, image_ in enumerate(images):\n",
    "    plt.subplot(len(images) / columns + 1, columns, i + 1)\n",
    "    plt.imshow(image_)"
   ]
  },
  {
   "cell_type": "markdown",
   "metadata": {
    "colab_type": "text",
    "deletable": true,
    "editable": true,
    "id": "TVMn7KHVOia1"
   },
   "source": [
    "Всего в выборке 18 классов, в каждом примерно по 200 фотографий, итого примерно 3600 фотографий в обучающей выборке. В валидационной выборке те же 18 классов, для ккаждого примерно по 30 фотографий, итого 540 фотографий в валидационной выборке"
   ]
  },
  {
   "cell_type": "code",
   "execution_count": 0,
   "metadata": {
    "colab": {},
    "colab_type": "code",
    "collapsed": true,
    "deletable": true,
    "editable": true,
    "id": "78Dw-fO3Oia3"
   },
   "outputs": [],
   "source": [
    "import os\n",
    "import sys\n",
    "import keras\n",
    "from keras.models import Sequential\n",
    "from keras.preprocessing import image\n",
    "from keras.layers.core import Activation, Reshape, Dense, Flatten\n",
    "from keras.layers import Conv2D, MaxPool2D\n",
    "from keras.models import Model\n",
    "from keras import optimizers\n",
    "from keras.callbacks import ModelCheckpoint\n",
    "#from keras.layers import DepthwiseConv2D\n",
    "#from keras.applications.mobilenet import relu6\n",
    "from keras.utils.generic_utils import CustomObjectScope\n",
    "from PIL import ImageFile\n",
    "ImageFile.LOAD_TRUNCATED_IMAGES = True\n",
    "PROJECT_PATH = os.getcwd()\n",
    "sys.path.append(PROJECT_PATH)\n",
    "\n",
    "def count_folders(path):\n",
    "    return len(glob.glob(os.path.join(path,'*')))\n",
    "\n",
    "def get_barcode_class(path):\n",
    "    return os.path.basename(path)"
   ]
  },
  {
   "cell_type": "markdown",
   "metadata": {
    "colab_type": "text",
    "deletable": true,
    "editable": true,
    "id": "Vcdag8VOOia9"
   },
   "source": [
    "### Объявления:"
   ]
  },
  {
   "cell_type": "markdown",
   "metadata": {
    "colab_type": "text",
    "deletable": true,
    "editable": true,
    "id": "zMforP2KOia_"
   },
   "source": [
    "Вспомогательные объявления, например, число классов, размер батча, путь к данным и т.д."
   ]
  },
  {
   "cell_type": "code",
   "execution_count": 0,
   "metadata": {
    "colab": {},
    "colab_type": "code",
    "collapsed": true,
    "deletable": true,
    "editable": true,
    "id": "KHwCu-vEOibA"
   },
   "outputs": [],
   "source": [
    "args = {'batch_size': 16, 'data_path': os.path.join(PROJECT_PATH, 'data', 'TEMP_CODE'), \n",
    "        'previous_model': ''}\n",
    "\n",
    "\"\"\" Define barcode class and underlying classes number from file structure \"\"\"\n",
    "NUM_CLASSES = count_folders(os.path.join(args['data_path'], 'train'))\n",
    "BARCODE = get_barcode_class(args['data_path'])\n",
    "SUPPORT_FILES_PATH = os.path.join(PROJECT_PATH, 'resource', BARCODE, 'support_files')\n",
    "\"\"\" Define data path and output path  \"\"\"\n",
    "DATA_PATH = args['data_path']\n",
    "\n",
    "\"\"\" Check if previously trained model is used \"\"\"\n",
    "if args['previous_model'] == '':\n",
    "    TRAIN_FROM_ZERO = True\n",
    "else:\n",
    "    TRAIN_FROM_ZERO = False"
   ]
  },
  {
   "cell_type": "markdown",
   "metadata": {
    "colab_type": "text",
    "deletable": true,
    "editable": true,
    "id": "unGueFLpOibF"
   },
   "source": [
    "### Модель:"
   ]
  },
  {
   "cell_type": "markdown",
   "metadata": {
    "colab_type": "text",
    "deletable": true,
    "editable": true,
    "id": "CUAR8dVFOibG"
   },
   "source": [
    "Ниже следует блок с объявлением модели. Вы можете: \n",
    "\n",
    "1) Собрать кастомную сеть\n",
    "\n",
    "2) Загрузить существующую сеть. Например, для импорта VGG16: ```from keras.applications import vgg16```, затем ```model = vgg16.VGG16(weights='imagenet')```. У модели можно зафиксировать веса первых n слоёв и обучать все оставшиеся\n",
    "\n",
    "3) Загрузить модель из папки models и дообучить её. При первом запуске папка models пустая, в неё будут автоматически сохраняться модели при обучении в конце каждой эпохи"
   ]
  },
  {
   "cell_type": "code",
   "execution_count": 0,
   "metadata": {
    "colab": {},
    "colab_type": "code",
    "collapsed": true,
    "deletable": true,
    "editable": true,
    "id": "xcLHI0QSUZ9o"
   },
   "outputs": [],
   "source": [
    "images[0].shape"
   ]
  },
  {
   "cell_type": "code",
   "execution_count": 0,
   "metadata": {
    "colab": {},
    "colab_type": "code",
    "collapsed": true,
    "deletable": true,
    "editable": true,
    "id": "I3o6d61eOibH"
   },
   "outputs": [],
   "source": [
    "###\n",
    "# <YOUR CODE GOES HERE>\n",
    "# Здесь объявите свою модель\n",
    "# В случае, если вы захотите загружать существующую модель из Кераса, то для того, чтобы поменять последние слои\n",
    "# вам понадобятся следующие команды:\n",
    "#model.layers.pop()\n",
    "#model.layers[-1].output\n",
    "#Model(input=model.inputs, output=x)\n",
    "\n",
    "model = Sequential()\n",
    "model.add(InputLayer((93, 145, 3)))\n",
    "# model.add(Reshape((28, 28, -1)))\n",
    "model.add(Conv2D(16, (3,3), activation='relu'))\n",
    "model.add(MaxPool2D())\n",
    "\n",
    "model.add(Conv2D(32, (3,3), activation='relu'))\n",
    "model.add(MaxPool2D())\n",
    "\n",
    "model.add(Conv2D(32, (3,3), activation='relu'))\n",
    "model.add(MaxPool2D())\n",
    "\n",
    "model.add(Flatten())\n",
    "model.add(Dense(256, activation='relu'))\n",
    "model.add(Dense(18, activation='softmax'))\n",
    "\n",
    "\n",
    "model_name = model.name\n",
    "\n",
    "TRAINABLE_LAYERS = True\n",
    "for layer in model.layers: \n",
    "    layer.trainable = TRAIN_FROM_ZERO\n",
    "model.summary()"
   ]
  },
  {
   "cell_type": "code",
   "execution_count": 0,
   "metadata": {
    "colab": {},
    "colab_type": "code",
    "collapsed": true,
    "deletable": true,
    "editable": true,
    "id": "zt7Rw7AfOibO"
   },
   "outputs": [],
   "source": [
    "OUTPUT_PATH = os.path.join(PROJECT_PATH, 'models')\n",
    "os.makedirs(OUTPUT_PATH)"
   ]
  },
  {
   "cell_type": "markdown",
   "metadata": {
    "colab_type": "text",
    "deletable": true,
    "editable": true,
    "id": "_Eg-b8K3OibT"
   },
   "source": [
    "### Объявления генераторов данных:"
   ]
  },
  {
   "cell_type": "markdown",
   "metadata": {
    "colab_type": "text",
    "deletable": true,
    "editable": true,
    "id": "yerJBUsUOibV"
   },
   "source": [
    "Ниже объявим генераторы данных.\n",
    "В Керасе реализован класс ImageDataGenerator, который определяет конфигурацию для подготовленных к обучению изображений, а также отвечает за аугментацию данных.\n",
    "Аугументация данных происходит на лету во время обучения раз в эпоху, поэтому данные почти никогда не будут повторяться - это хорошо. И точка переобучения будет дальше - можно тренировать больше эпох.\n",
    "\n",
    "Краткий туторила по генераторам данных из Keras: \n",
    "https://gist.github.com/fchollet/0830affa1f7f19fd47b06d4cf89ed44d\n",
    "\n",
    "Параметры объекта ```keras.preprocessing.image.ImageDataGenerator```: https://keras.io/preprocessing/image/"
   ]
  },
  {
   "cell_type": "code",
   "execution_count": 0,
   "metadata": {
    "colab": {},
    "colab_type": "code",
    "collapsed": true,
    "deletable": true,
    "editable": true,
    "id": "wwjv7nSCOibX"
   },
   "outputs": [],
   "source": [
    "\"\"\" Data generators initialization: for train and validation sets \"\"\"\n",
    "train_datagen = image.ImageDataGenerator(\n",
    "    rescale=1. / 255,\n",
    "    shear_range=0.2,\n",
    "    zoom_range=0.2,\n",
    "    horizontal_flip=True,\n",
    "    rotation_range=False,\n",
    "    zca_whitening=False)\n",
    "train_generator = train_datagen.flow_from_directory(\n",
    "    directory=os.path.join(args['data_path'], 'train'),\n",
    "    target_size=(93, 145),\n",
    "    color_mode=\"rgb\",\n",
    "    batch_size=args['batch_size'],\n",
    "    class_mode=\"categorical\",\n",
    "    shuffle=True,\n",
    "    seed=42\n",
    ")\n",
    "\n",
    "valid_datagen = image.ImageDataGenerator(\n",
    "    rescale=1. / 255,\n",
    "    shear_range=0.2,\n",
    "    zoom_range=0.2,\n",
    "    horizontal_flip=True,\n",
    "    rotation_range=0,\n",
    "    zca_whitening=False)\n",
    "\n",
    "valid_generator = valid_datagen.flow_from_directory(\n",
    "    directory=os.path.join(args['data_path'], 'val'),\n",
    "    target_size=(93, 145),\n",
    "    color_mode=\"rgb\",\n",
    "    batch_size=args['batch_size'],\n",
    "    class_mode=\"categorical\",\n",
    "    shuffle=True,\n",
    "    seed=42\n",
    ")"
   ]
  },
  {
   "cell_type": "markdown",
   "metadata": {
    "colab_type": "text",
    "deletable": true,
    "editable": true,
    "id": "5J4BPPLTL99p"
   },
   "source": [
    "Делаем compile и запускаем обучение:"
   ]
  },
  {
   "cell_type": "code",
   "execution_count": 0,
   "metadata": {
    "colab": {},
    "colab_type": "code",
    "collapsed": true,
    "deletable": true,
    "editable": true,
    "id": "YEUiEpMBOibj"
   },
   "outputs": [],
   "source": [
    "\"\"\" Set train parameters for choosen model \"\"\"\n",
    "# Можете расккоментировать другие оптимизаторы:\n",
    "#sgd = optimizers.SGD(lr=0.05, decay=1e-6, momentum=0.9, nesterov=True)\n",
    "optimizer = optimizers.Adadelta(lr=1.0, rho=0.95, epsilon=None, decay=0.0)\n",
    "#optimize = optimizers.Adadelta(lr=1.0, rho=0.95, epsilon=None, decay=0.0)\n",
    "\n",
    "model.compile(optimizer=optimizer,\n",
    "                  loss='categorical_crossentropy',\n",
    "                  metrics=['accuracy'])\n",
    "\n",
    "STEP_SIZE_TRAIN = (train_generator.n // train_generator.batch_size)\n",
    "STEP_SIZE_VALID = (valid_generator.n // valid_generator.batch_size)"
   ]
  },
  {
   "cell_type": "markdown",
   "metadata": {
    "colab_type": "text",
    "deletable": true,
    "editable": true,
    "id": "hi6t0YF8Oibn"
   },
   "source": [
    "### Обучение модели:"
   ]
  },
  {
   "cell_type": "markdown",
   "metadata": {
    "colab_type": "text",
    "deletable": true,
    "editable": true,
    "id": "ceeu0Z-8Oibp"
   },
   "source": [
    "В модель передаём: генератор данных (он сам автоматически генерирует X и y), валидационную выборку (тоже посредством генератора), число эпох, коллбеки и verbose"
   ]
  },
  {
   "cell_type": "code",
   "execution_count": 0,
   "metadata": {
    "colab": {},
    "colab_type": "code",
    "collapsed": true,
    "deletable": true,
    "editable": true,
    "id": "kyIyKTSEL9-J"
   },
   "outputs": [],
   "source": [
    "\"\"\" Training \"\"\"\n",
    "history = model.fit_generator(generator=train_generator,\n",
    "                                  steps_per_epoch=STEP_SIZE_TRAIN,\n",
    "                                  validation_data=valid_generator,\n",
    "                                  validation_steps=STEP_SIZE_VALID,\n",
    "                                  epochs=1,\n",
    "                                  verbose=1\n",
    "                                  )"
   ]
  },
  {
   "cell_type": "markdown",
   "metadata": {
    "colab_type": "text",
    "deletable": true,
    "editable": true,
    "id": "ORvc7nzOVbkc"
   },
   "source": [
    "__Вопрос__: почему последняя итерация в эпохе идет с небольшой задержкой?"
   ]
  },
  {
   "cell_type": "markdown",
   "metadata": {
    "colab_type": "text",
    "deletable": true,
    "editable": true,
    "id": "DWEcxcYoTXYQ"
   },
   "source": [
    "## Кастомные метрики:"
   ]
  },
  {
   "cell_type": "code",
   "execution_count": 0,
   "metadata": {
    "colab": {},
    "colab_type": "code",
    "collapsed": true,
    "deletable": true,
    "editable": true,
    "id": "ThWDxcbjTXYS"
   },
   "outputs": [],
   "source": [
    "import keras.backend as K\n",
    "\n",
    "def precision(y_true, y_pred):\n",
    "    \"\"\"Precision metric.\n",
    "     Only computes a batch-wise average of precision.\n",
    "     Computes the precision, a metric for multi-label classification of\n",
    "    how many selected items are relevant.\n",
    "    \"\"\"\n",
    "    true_positives = K.sum(K.round(K.clip(y_true * y_pred, 0, 1)))\n",
    "    predicted_positives = K.sum(K.round(K.clip(y_pred, 0, 1)))\n",
    "    precision = true_positives / (predicted_positives + K.epsilon())\n",
    "    return precision\n",
    "\n",
    "def recall(y_true, y_pred):\n",
    "    \"\"\"Recall metric.\n",
    "     Only computes a batch-wise average of recall.\n",
    "     Computes the recall, a metric for multi-label classification of\n",
    "    how many relevant items are selected.\n",
    "    \"\"\"\n",
    "    true_positives = K.sum(K.round(K.clip(y_true * y_pred, 0, 1)))\n",
    "    possible_positives = K.sum(K.round(K.clip(y_true, 0, 1)))\n",
    "    recall = true_positives / (possible_positives + K.epsilon())\n",
    "    return recall\n",
    "\n",
    "\n",
    "model.compile(optimizer='adam',\n",
    "                  loss='categorical_crossentropy',\n",
    "                  metrics=['accuracy', precision, recall])"
   ]
  },
  {
   "cell_type": "code",
   "execution_count": 0,
   "metadata": {
    "colab": {},
    "colab_type": "code",
    "collapsed": true,
    "deletable": true,
    "editable": true,
    "id": "H_qnXTZXTXY_"
   },
   "outputs": [],
   "source": [
    "from keras_tqdm import TQDMNotebookCallback\n",
    "\n",
    "history = model.fit_generator(generator=train_generator,\n",
    "                                  steps_per_epoch=STEP_SIZE_TRAIN,\n",
    "                                  validation_data=valid_generator,\n",
    "                                  validation_steps=STEP_SIZE_VALID,\n",
    "                                  epochs=1,\n",
    "                                  verbose=2,\n",
    "                                  callbacks=[TQDMNotebookCallback(leave_inner=True)]\n",
    "                                  )"
   ]
  },
  {
   "cell_type": "markdown",
   "metadata": {
    "colab_type": "text",
    "deletable": true,
    "editable": true,
    "id": "NTfEwjvZTXam"
   },
   "source": [
    "## CallBacks:"
   ]
  },
  {
   "cell_type": "markdown",
   "metadata": {
    "colab_type": "text",
    "deletable": true,
    "editable": true,
    "id": "Ij1YVq2TTXaq"
   },
   "source": [
    "__Коллбеки__: это класс, имеющий набор методов on_train_begin, on_train_end, on_epoch_begin, on_epoch_end, on_batch_begin, on_batch_end, которые позволяют выполнять какой-либо код в конце эпохи, в начале эпохи, в конце батча, в начале батча, в конце обучения, в начале обучения\n",
    "\n",
    "Примеры применения: \n",
    " - Сохранение метрик качества в процессе обучения для онлайн визуализации\n",
    " - Отправление в телегреамм/почту метрик качества\n",
    " - Сохранение модели в конце каждой эпохи (можно даже после каждого батча)\n",
    "\n",
    "Примеры реализованных в Керасе коллбеков:\n",
    "\n",
    " - EarlyStopping - делает раннюю остановку процесса обучения по некоторому критерию (например, лосс не падает n эпох)\n",
    "\n",
    " - ModelCheckpoint - сохраняет модель после каждой эпохи\n",
    "\n",
    " - RemoteMonitor - отправляет логи на сервер\n",
    "\n",
    " - TensorBoard - сохраняет логи в папки для последующей визуализации в TensorBoard"
   ]
  },
  {
   "cell_type": "code",
   "execution_count": 0,
   "metadata": {
    "colab": {},
    "colab_type": "code",
    "collapsed": true,
    "deletable": true,
    "editable": true,
    "id": "wXOXUfeFTXat"
   },
   "outputs": [],
   "source": [
    "from keras.callbacks import ModelCheckpoint, TensorBoard, ReduceLROnPlateau, EarlyStopping\n",
    "\n",
    "\"\"\" Callbacks \"\"\"\n",
    "checkpointer = ModelCheckpoint('models/weights.{epoch:02d}-val_loss{val_loss:.2f}.hdf5', monitor='val_loss', verbose=1, save_best_only=True, mode='min', period=1)\n",
    "\n",
    "\"\"\" Enable logging for Tensorboard \"\"\"\n",
    "\n",
    "# Скоращает learning rate, когда loss не уменьшается несколько эпох подряд:\n",
    "reduce = ReduceLROnPlateau(monitor='val_loss', factor=0.1, patience=3, verbose=1, mode='auto', min_delta=0.0001, min_lr=0)\n",
    "\n",
    "# Останавливает обучение по какому либо критерию. Например, loss не уменьшается 3 эпохи подряд\n",
    "early_stop = EarlyStopping(monitor='val_loss', patience=3)\n",
    "\n",
    "tqdm = TQDMNotebookCallback(leave_inner=True)\n",
    "\n",
    "\n",
    "model.fit_generator(generator=train_generator,\n",
    "                                  steps_per_epoch=STEP_SIZE_TRAIN,\n",
    "                                  validation_data=valid_generator,\n",
    "                                  validation_steps=STEP_SIZE_VALID,\n",
    "                                  epochs=1,\n",
    "                                  verbose=2,\n",
    "                                  callbacks=[checkpointer, reduce, early_stop, tqdm]\n",
    "                                  )"
   ]
  },
  {
   "cell_type": "markdown",
   "metadata": {
    "colab_type": "text",
    "deletable": true,
    "editable": true,
    "id": "GZN9wnl6TXbS"
   },
   "source": [
    "Шаблон для своего коллбека:"
   ]
  },
  {
   "cell_type": "code",
   "execution_count": 0,
   "metadata": {
    "colab": {},
    "colab_type": "code",
    "collapsed": true,
    "deletable": true,
    "editable": true,
    "id": "WxUcxqB-TXbV"
   },
   "outputs": [],
   "source": [
    "class My_Callback(keras.callbacks.Callback):\n",
    "    def on_train_begin(self, logs={}):\n",
    "        return\n",
    " \n",
    "    def on_train_end(self, logs={}):\n",
    "        return\n",
    " \n",
    "    def on_epoch_begin(self, logs={}):\n",
    "        return\n",
    " \n",
    "    def on_epoch_end(self, epoch, logs={}):\n",
    "        return\n",
    " \n",
    "    def on_batch_begin(self, batch, logs={}):\n",
    "        return\n",
    " \n",
    "    def on_batch_end(self, batch, logs={}):\n",
    "        self.losses.append(logs.get('loss'))\n",
    "        return"
   ]
  },
  {
   "cell_type": "markdown",
   "metadata": {
    "colab_type": "text",
    "deletable": true,
    "editable": true,
    "id": "-xdn_LiaTXb1"
   },
   "source": [
    "### Чуть подробнее остановимся на Callback'е TensorBoard:"
   ]
  },
  {
   "cell_type": "code",
   "execution_count": 0,
   "metadata": {
    "colab": {},
    "colab_type": "code",
    "collapsed": true,
    "deletable": true,
    "editable": true,
    "id": "XUTdJsQ1TXca"
   },
   "outputs": [],
   "source": [
    "from tensorboardcolab import TensorBoardColab, TensorBoardColabCallback\n",
    "tbc=TensorBoardColab() # генерирует URL\n",
    "# В fit же передайте объект TensorBoardColabCallback(tbc)"
   ]
  },
  {
   "cell_type": "code",
   "execution_count": 0,
   "metadata": {
    "colab": {},
    "colab_type": "code",
    "collapsed": true,
    "deletable": true,
    "editable": true,
    "id": "5RzXtGUGTXeh"
   },
   "outputs": [],
   "source": [
    "model.fit_generator(generator=train_generator,\n",
    "                                  steps_per_epoch=STEP_SIZE_TRAIN,\n",
    "                                  validation_data=valid_generator,\n",
    "                                  validation_steps=STEP_SIZE_VALID,\n",
    "                                  epochs=5,\n",
    "                                  verbose=2,\n",
    "                                  callbacks=[TensorBoardColabCallback(tbc), tqdm]\n",
    "                                  )"
   ]
  },
  {
   "cell_type": "markdown",
   "metadata": {
    "colab_type": "text",
    "deletable": true,
    "editable": true,
    "id": "H4z_CAoyTXet"
   },
   "source": [
    "Если не открывается URL, то нужно включить VPN. Например, через opera vpn или установить на Chrome расширение (например, Browsec https://chrome.google.com/webstore/detail/browsec-vpn-free-and-unli/omghfjlpggmjjaagoclmmobgdodcjboh)"
   ]
  },
  {
   "cell_type": "code",
   "execution_count": 0,
   "metadata": {
    "colab": {},
    "colab_type": "code",
    "collapsed": true,
    "deletable": true,
    "editable": true,
    "id": "1pzqUU7ZTXev"
   },
   "outputs": [],
   "source": []
  }
 ],
 "metadata": {
  "accelerator": "GPU",
  "colab": {
   "collapsed_sections": [],
   "name": "train_notebook (2).ipynb",
   "provenance": [],
   "toc_visible": true,
   "version": "0.3.2"
  },
  "kernelspec": {
   "display_name": "Python 3",
   "language": "python",
   "name": "python3"
  },
  "language_info": {
   "codemirror_mode": {
    "name": "ipython",
    "version": 3
   },
   "file_extension": ".py",
   "mimetype": "text/x-python",
   "name": "python",
   "nbconvert_exporter": "python",
   "pygments_lexer": "ipython3",
   "version": "3.6.4"
  }
 },
 "nbformat": 4,
 "nbformat_minor": 0
}
